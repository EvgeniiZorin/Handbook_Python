{
 "cells": [
  {
   "cell_type": "markdown",
   "id": "a1848122",
   "metadata": {
    "tags": []
   },
   "source": [
    "# PYTHON BASICS\n",
    "\n",
    "A handbook with the most basic functionalities of Python. \n",
    "> Author: Evgenii Zorin   \n",
    "\n",
    "<hr style=\"margin-bottom: 40px;\">"
   ]
  },
  {
   "cell_type": "markdown",
   "id": "f0e898d0",
   "metadata": {},
   "source": [
    "# Overview\n",
    "\n",
    "My favourite IDE for Python is **Visual Studio Code**. Below are some of the main commands:\n",
    "\n",
    "| Command | Action |\n",
    "| :----------- | :------------------------------------------------------------ |\n",
    "| `ctrl + P` | Cmd palette. |\n",
    "| `ctrl + G` | go to line X. |\n",
    "| `ctrl + L` | Highlight line |\n",
    "| `ctrl + /` | Change line's code into comment |\n",
    "| ```ctrl + shift + ` ``` | New terminal |\n",
    "| `ctrl + shift + P`, then *Convert indentation to tabs* | Convert indentation to tabs in a selected code chunk |\n",
    "\n",
    "In python, there are methods associated with each data type object. Additionally, there are some unique types of commands:\n",
    "\n",
    "| Type of command | Description | Example | \n",
    "| - | - | - |\n",
    "| **Magic commands** | Built into IPython kernel, which allow some special functionality. | `%%time`: prints the wall time for the entire cell in IPython. |\n",
    "| **Special (magic, dunder) methods** | Surrounded by double underscores. | `__str__`, `__init__` |\n",
    "\n",
    "To get more information about a module/command, you can type the following:\n",
    "\n",
    "\n",
    "`os.remove??`"
   ]
  },
  {
   "cell_type": "markdown",
   "id": "df851668",
   "metadata": {},
   "source": [
    "# Variables\n",
    "\n",
    "Variable assignment: you can assign different data types to the variables.  \n",
    "```py\n",
    "a = 6 # Integer\n",
    "a = 1.5 # Float\n",
    "a = 'text' # String\n",
    "a = [1,2,3] # List\n",
    "```\n",
    "\n",
    "Conditional variable setting\n",
    "```py\n",
    "a = 5\n",
    "value = 'five' if a == 5 else 'not five'\n",
    "```\n"
   ]
  },
  {
   "cell_type": "markdown",
   "id": "98ea50f1",
   "metadata": {},
   "source": [
    "# Simple data types\n",
    "\n",
    "\n",
    "These are:\n",
    "- String \n",
    "- Integer\n",
    "- Float\n",
    "- Boolean\n",
    "\n",
    "**Typecasting** - converting one variable type into another, e.g. int --> str"
   ]
  },
  {
   "cell_type": "code",
   "execution_count": 3,
   "id": "71442c4f",
   "metadata": {},
   "outputs": [
    {
     "data": {
      "text/plain": [
       "2"
      ]
     },
     "execution_count": 3,
     "metadata": {},
     "output_type": "execute_result"
    }
   ],
   "source": [
    "mystr = 'abcde'\n",
    "\n",
    "mystr.find('c')"
   ]
  },
  {
   "attachments": {},
   "cell_type": "markdown",
   "id": "8e384ff2",
   "metadata": {},
   "source": [
    "## String\n",
    "\n",
    "**String methods**:\n",
    "\n",
    "```py\n",
    "\n",
    "print('#' *10) # Print repeated string\n",
    "len() # Returns length of a string\n",
    "mystr += '101' # add string at the end of mystr\n",
    "input_str = input_str.replace(' ', '') # Remove all whitespaces from a string\n",
    "mystr.find('o') # returns the index of the first occurrence of a given character\n",
    "mystr.count('o') # Counts all occurrences of a character\n",
    "strip() # Removes whitespace from start/end\n",
    "mystr.lower() # Returns the str in lower case\n",
    "mystr.islower() # String is in lower case? \n",
    "mystr.isalpha() # Are all characters alphabetic? \n",
    "mystr.isdigit()\n",
    "mystr.isalnum()\n",
    "mystr.startswith('1') # Starts with character? (-> bool)\n",
    "mystr.endswith('.jpg') # Ends with a substring? (-> bool)\n",
    "mystr.splitlines() # splits string into list of elements by newline\n",
    "mystr.split(';') # Split str into list of strings based on delimiter\n",
    "'-'.join(mystr) # Join each character in 'mystr' with '-'\n",
    "\n",
    "# Slicing strings\n",
    "mystr[-2]\n",
    "mystr[::-1] # The reverse of a string\n",
    "\n",
    "# Sort characters\n",
    "sorted(mystr) # Return list of sorted characters -> ['0', '1', 'a', 'b']\n",
    "''.join(sorted(mystr), reverse=True) # Sort characters in string in descending order -> 'ba10'\n",
    "''.join(sorted(''.join(set(mystr)))) # Return string with sorted unique characters\n",
    "\n",
    "# Remove whitespaces\n",
    "mystr.strip() # Remove whitespaces on the L and R\n",
    "mystr.lstrip() # Remove left whitespaces\n",
    "mystr.rstrip(\n",
    "\t' ' # Remove trailing whitespaces and \\n (by default); here, removes only whitespace (passed parameter)\n",
    ") # Remove trailing whitespaces (including \"\\n\")\n",
    "\n",
    "# Replace\n",
    "mystr = mystr.replace('xyz', 'abc', 1) # Replace substrings 'xyz' with 'abc' - exactly one time, not more\n",
    "mystr = mystr.replace('one', '1').replace('two', '2') # Replace two substrings\n",
    "# Replace substrings of one or more spaces with nothing\n",
    "import re\n",
    "re.sub(' +', '', mystr)\n",
    "```\n",
    "\n",
    "\n"
   ]
  },
  {
   "cell_type": "code",
   "execution_count": 1,
   "id": "c0a8a04f",
   "metadata": {},
   "outputs": [
    {
     "name": "stdout",
     "output_type": "stream",
     "text": [
      "65\n"
     ]
    },
    {
     "data": {
      "text/plain": [
       "'a'"
      ]
     },
     "execution_count": 1,
     "metadata": {},
     "output_type": "execute_result"
    }
   ],
   "source": [
    "# Print ASCII code for a character\n",
    "# Letter -> ASCII\n",
    "ord('A') # -> 65\n",
    "\n",
    "# ASCII -> Letter\n",
    "chr(65) # capital \"A\"\n",
    "chr(97) # lowercase \"a\""
   ]
  },
  {
   "cell_type": "code",
   "execution_count": 4,
   "id": "03b205bf",
   "metadata": {},
   "outputs": [
    {
     "name": "stdout",
     "output_type": "stream",
     "text": [
      "The variable is 3.141593\n",
      "The variable is 3.142\n",
      "These are 3.14159265 and 5\n",
      "This is 3.14\n",
      "F-string is 5\n",
      "F-string is 3.14\n",
      "another: 3.1416\n",
      "1_000_000\n"
     ]
    }
   ],
   "source": [
    "# Formatting strings\n",
    "\n",
    "num1 = 3.14159265\n",
    "num2 = 5\n",
    "\n",
    "## %\n",
    "print(\"The variable is %f\" % num1)\n",
    "print(\"The variable is %.3f\" % num1)\n",
    "\n",
    "## Placeholders - .format() method\n",
    "print(\"These are {} and {}\".format(num1, num2))\n",
    "print(\"This is {:.2f}\".format(num1))\n",
    "\n",
    "## f-strings\n",
    "print(f\"F-string is {num2}\")\n",
    "print(f\"F-string is {num1:.03}\")\n",
    "print(f\"another: {num1:.4f}\")\n",
    "\n",
    "a = 1000000\n",
    "print(f\"{a:_}\")"
   ]
  },
  {
   "cell_type": "code",
   "execution_count": 968,
   "id": "0e06a31a",
   "metadata": {},
   "outputs": [
    {
     "name": "stdout",
     "output_type": "stream",
     "text": [
      "0.20758059999980105\n",
      "0.006516399999782152\n"
     ]
    }
   ],
   "source": [
    "from timeit import default_timer as timer\n",
    "#from list to string:\n",
    "my_list = ['a'] * 1000000\n",
    "\n",
    "# bad\n",
    "start = timer()\n",
    "my_string = ''\n",
    "for i in my_list:\n",
    "\tmy_string += i\n",
    "stop = timer()\n",
    "print(stop-start)\n",
    "\n",
    "# good\n",
    "start = timer()\n",
    "my_string = ''.join(my_list)\n",
    "stop = timer()\n",
    "print(stop - start)\n"
   ]
  },
  {
   "cell_type": "code",
   "execution_count": 4,
   "id": "33906f98",
   "metadata": {},
   "outputs": [
    {
     "name": "stdout",
     "output_type": "stream",
     "text": [
      "harvard.co.uk\n"
     ]
    }
   ],
   "source": [
    "a = \"  Python  Practice  \"\n",
    "b = \"John Doe: john.doe@harvard.co.uk is my email\"\n",
    "\n",
    "\n",
    "# Print a subsection with specified start and end\n",
    "pos1 = b.find('@') # Find the first occurrence of '@'\n",
    "pos2 = b.find(' ', pos1) # Find the first occurrence of ' ' after having encountered an '@'\n",
    "print( b[pos1+1 : pos2] )"
   ]
  },
  {
   "cell_type": "code",
   "execution_count": 5,
   "id": "1df381be",
   "metadata": {},
   "outputs": [
    {
     "data": {
      "text/plain": [
       "4"
      ]
     },
     "execution_count": 5,
     "metadata": {},
     "output_type": "execute_result"
    }
   ],
   "source": [
    "a = 'abcdef'\n",
    "a.find('bcd') + 3"
   ]
  },
  {
   "cell_type": "code",
   "execution_count": 970,
   "id": "e7061359",
   "metadata": {},
   "outputs": [
    {
     "name": "stdout",
     "output_type": "stream",
     "text": [
      "[1, 2, 3, 24, 25, 26]\n",
      "[1, 2, 3, 24, 25, 26]\n"
     ]
    }
   ],
   "source": [
    "# Substitute letter with numbers: a -> 1, b -> 2, ... y -> 25, z -> 26\n",
    "\n",
    "list1 = []\n",
    "for i in 'abcxyz':\n",
    "\tlist1.append( ord(i) -96 )\n",
    "print(list1)\n",
    "\n",
    "# List comprehensions\n",
    "print( [ord(i) -96 for i in 'abcxyz'] )"
   ]
  },
  {
   "cell_type": "markdown",
   "id": "964da5e3",
   "metadata": {},
   "source": [
    "## Int\n",
    "\n"
   ]
  },
  {
   "cell_type": "code",
   "execution_count": 23,
   "id": "7b766f2f",
   "metadata": {},
   "outputs": [
    {
     "data": {
      "text/plain": [
       "9"
      ]
     },
     "execution_count": 23,
     "metadata": {},
     "output_type": "execute_result"
    }
   ],
   "source": [
    "# Floor (down) rounding\n",
    "int(9.1)\n",
    "int(9.9)"
   ]
  },
  {
   "cell_type": "code",
   "execution_count": 6,
   "id": "f31ac86a",
   "metadata": {},
   "outputs": [
    {
     "data": {
      "text/plain": [
       "10"
      ]
     },
     "execution_count": 6,
     "metadata": {},
     "output_type": "execute_result"
    }
   ],
   "source": [
    "x = 10\n",
    "\n",
    "abs(x) # gives the module of a number\n",
    "\n",
    "# if a number is positive\n",
    "x % 10 # Returns the last digit\n",
    "x % 100 # Returns the last two digits"
   ]
  },
  {
   "cell_type": "code",
   "execution_count": 21,
   "id": "d6e1048e",
   "metadata": {},
   "outputs": [],
   "source": [
    "# Represent an int in binary \n",
    "# in the format '0bX', where X - desired number in binary\n",
    "\n",
    "bin(1)\n",
    "bin(1).split('0b')[1]\n",
    "bin(10).split('0b')[1]\n",
    "bin(10)[2:]\n",
    "\n",
    "# Convert binary back to decimal\n",
    "int('101', 2)\n",
    "int(bin(3), 2)\n",
    "\n",
    "# Add two binary numbers\n",
    "bin( int('101', 2) + int('10', 2) ).split('0b')[1]\n",
    "\n",
    "# Get a string of a decimal number in binary 32-bit\n",
    "'{:032b}'.format(5)\n",
    "\n",
    "# Right shift operator - bitwise operator which shifts the binary sequence to right side by a specified position\n",
    "n = 100 # 1100100 in binary\n",
    "n >> 1 # 110010 \n",
    "n = n >> 2 # 11001\n",
    "\n"
   ]
  },
  {
   "cell_type": "code",
   "execution_count": 1,
   "id": "75efd354",
   "metadata": {},
   "outputs": [
    {
     "data": {
      "text/plain": [
       "'00000000000000000000000000000101'"
      ]
     },
     "execution_count": 1,
     "metadata": {},
     "output_type": "execute_result"
    }
   ],
   "source": [
    "'{:032b}'.format(5)"
   ]
  },
  {
   "cell_type": "code",
   "execution_count": 27,
   "id": "a8faea92",
   "metadata": {},
   "outputs": [
    {
     "data": {
      "text/plain": [
       "int"
      ]
     },
     "execution_count": 27,
     "metadata": {},
     "output_type": "execute_result"
    }
   ],
   "source": [
    "type(10 // 4)"
   ]
  },
  {
   "cell_type": "code",
   "execution_count": 1,
   "id": "a8790e15",
   "metadata": {},
   "outputs": [
    {
     "data": {
      "text/plain": [
       "15"
      ]
     },
     "execution_count": 1,
     "metadata": {},
     "output_type": "execute_result"
    }
   ],
   "source": [
    "# Get the max of the two values\n",
    "\n",
    "a = max(5, 10, 15)\n",
    "a"
   ]
  },
  {
   "cell_type": "code",
   "execution_count": 2,
   "id": "06d111f0",
   "metadata": {},
   "outputs": [
    {
     "data": {
      "text/plain": [
       "20"
      ]
     },
     "execution_count": 2,
     "metadata": {},
     "output_type": "execute_result"
    }
   ],
   "source": [
    "int('1' + '4') + int('0' + '6')"
   ]
  },
  {
   "cell_type": "code",
   "execution_count": 2,
   "id": "795d82c2",
   "metadata": {},
   "outputs": [
    {
     "name": "stdout",
     "output_type": "stream",
     "text": [
      "2000000\n"
     ]
    }
   ],
   "source": [
    "# formatting\n",
    "\n",
    "a = 1_000_000\n",
    "print(a*2)"
   ]
  },
  {
   "cell_type": "markdown",
   "id": "3df4b10e",
   "metadata": {},
   "source": [
    "## Float\n",
    "\n",
    "```py\n",
    "a = 3.1415\n",
    "\n",
    "round(a) # Convert to int\n",
    "round(a, 0) # Convert to float but with 0 at the end\n",
    "round(a, 1) # float with 1 number after decimal\n",
    "round(a, 2) # float with 2 number after decimal\n",
    "a % 1 # Get number after decimal point\n",
    "\n",
    "import math\n",
    "math.ceil(a) # Round up\n",
    "math.floor(a) # Round down \n",
    "\n",
    "```"
   ]
  },
  {
   "cell_type": "code",
   "execution_count": 7,
   "id": "cdc12697",
   "metadata": {},
   "outputs": [
    {
     "data": {
      "text/plain": [
       "True"
      ]
     },
     "execution_count": 7,
     "metadata": {},
     "output_type": "execute_result"
    }
   ],
   "source": [
    "float(\"inf\")\n",
    "float(\"-inf\")"
   ]
  },
  {
   "cell_type": "code",
   "execution_count": 972,
   "id": "f2e42884",
   "metadata": {},
   "outputs": [
    {
     "name": "stdout",
     "output_type": "stream",
     "text": [
      "12/5\n"
     ]
    }
   ],
   "source": [
    "from fractions import Fraction\n",
    "\n",
    "print( Fraction(36, 15) )"
   ]
  },
  {
   "cell_type": "markdown",
   "id": "f246fe6d",
   "metadata": {},
   "source": [
    "# Compound data types <a class=\"anchor\" id=\"Compound-data-types\"></a>\n",
    "\n",
    "**Slicing** is supported by sequential data types (lists, strings, tuples, ranges): `[START:STOP:STEP]`\n",
    "\n",
    "*Tilda* is used to notate index from the other end: `listname[~i]`"
   ]
  },
  {
   "cell_type": "markdown",
   "id": "813119ac",
   "metadata": {},
   "source": [
    "## Lists \n",
    "\n",
    "- `[square brackets]`\n",
    "- Mutable\n",
    "- Composed of elements with different values\n",
    "- Ordered - index is the position of an element in a list, starting at 0\n",
    "\n",
    "**List methods**    \n",
    "```py\n",
    "listname[5] = 'new' # update element at position 5\n",
    "listname[1:3] # list slicing    \n",
    "mylist[::-1] # reverse a list\n",
    "[range(20)] # turns range into list   \n",
    "max(listname) # prints max value of list \n",
    "min(listname)\n",
    "sum(listname)\n",
    "# Working with strings:\n",
    "max(list1, key=len) # Print longest string\n",
    "min(list1, key=len) # Print shortest string\n",
    "\n",
    "':'.join(listname) # joins list elements into a string, placing ':' in between each element\n",
    "\n",
    "listname.pop() # removes the last value in the list\n",
    "listname.pop(1) # removes value at index 1 in the list\n",
    "listname.remove(5) # removes the first instance of 5 in listname\n",
    "listname.append(12) # adds 12 as element to the end of the list\n",
    "listname.extend([7, 8, 9, 10]) # Append another list\n",
    "listname.insert(0, \"element\") # inserts a string at position 0\n",
    "listname.reverse() # reverse a list in-place\n",
    "\n",
    "string.sorted() # converts chars of string into list elements and then sorts them; \n",
    "listname.count(2) # counts occurrence of 2 in a list   \n",
    "mylist = [None] *8 # create a list with 8 empty values   \n",
    "mylist = ['a'] *6 #   \n",
    "''.join(mylist) # convert a list into a string    \n",
    "listname[0] += \"1\" # adds string character at the end of the list's item   \n",
    "list() # create empty list    \n",
    "listname.clear() # removes all elements from a list   \n",
    "mylist.sort() # sort list items IN-PLACE\n",
    "sorted(mylist) # creates a new sorted list    \n",
    "\n",
    "list(listname) #\n",
    "listname[:] #\n",
    "[item for item in listname]\n",
    "\n",
    "listname.index('itemname')\n",
    "\n",
    "mylist = list(dict.fromkeys(mylist)) # Remove duplicates from a list\n",
    "```\n"
   ]
  },
  {
   "cell_type": "code",
   "execution_count": 3,
   "id": "baff44a2",
   "metadata": {},
   "outputs": [
    {
     "name": "stdout",
     "output_type": "stream",
     "text": [
      "[5, 8, 11, 14]\n"
     ]
    }
   ],
   "source": [
    "# Generate a regularly-spaced list\n",
    "\n",
    "a = list( range(5, 15, 3) )\n",
    "print(a)"
   ]
  },
  {
   "cell_type": "code",
   "execution_count": 1,
   "id": "47739c8e",
   "metadata": {},
   "outputs": [
    {
     "data": {
      "text/plain": [
       "[4, 2, 4, 3, 4, 2, 3, 4, 5, 5]"
      ]
     },
     "execution_count": 1,
     "metadata": {},
     "output_type": "execute_result"
    }
   ],
   "source": [
    "# Generate a list with random integers\n",
    "import random\n",
    "\n",
    "[ random.random() for i in range(0, 10) ]\n",
    "[ random.randint(1,5) for i in range(0,10) ]"
   ]
  },
  {
   "cell_type": "code",
   "execution_count": 2,
   "id": "ea733d97",
   "metadata": {},
   "outputs": [
    {
     "data": {
      "text/plain": [
       "['A', 'A', 'A', 'B', 'B', 'B']"
      ]
     },
     "execution_count": 2,
     "metadata": {},
     "output_type": "execute_result"
    }
   ],
   "source": [
    "['A' for i in range(3)] + ['B' for i in range(3)]"
   ]
  },
  {
   "cell_type": "code",
   "execution_count": 13,
   "id": "dd1407b0",
   "metadata": {},
   "outputs": [
    {
     "data": {
      "text/plain": [
       "5"
      ]
     },
     "execution_count": 13,
     "metadata": {},
     "output_type": "execute_result"
    }
   ],
   "source": [
    "# Bisect_right \n",
    "# Method that takes input of sorted array and a value, \n",
    "# and returns the right-most index that the value has to be inserted in to maintain the sorted order\n",
    "\n",
    "import bisect\n",
    "\n",
    "x = bisect.bisect_right([1, 2, 3, 4, 5, 6, 7, 8, 9, 10], 5.5)\n",
    "x"
   ]
  },
  {
   "cell_type": "code",
   "execution_count": 7,
   "id": "555a9f5c",
   "metadata": {},
   "outputs": [
    {
     "name": "stdout",
     "output_type": "stream",
     "text": [
      "<function sorted_nicely.<locals>.<lambda> at 0x000001FFEC860160>\n"
     ]
    },
    {
     "data": {
      "text/plain": [
       "['4 sheets', '12 sheets', '48 sheets', 'booklet']"
      ]
     },
     "execution_count": 7,
     "metadata": {},
     "output_type": "execute_result"
    }
   ],
   "source": [
    "# Sort a list alphanumerically\n",
    "# I currently don't get how this works, but it does\n",
    "\n",
    "import re \n",
    "\n",
    "def sorted_nicely( l ): \n",
    "\t\"\"\" Sort the given iterable in the way that humans expect.\"\"\" \n",
    "\tconvert = lambda i: int(i) if i.isdigit() else i \n",
    "\talphanum_key = lambda key: [ convert(c) for c in re.split('([0-9]+)', key) ] \n",
    "\tprint(alphanum_key)\n",
    "\treturn sorted(l, key = alphanum_key)\n",
    "\n",
    "sorted_nicely( ['booklet', '4 sheets', '48 sheets', '12 sheets'] )"
   ]
  },
  {
   "cell_type": "code",
   "execution_count": 1,
   "id": "8867bc25",
   "metadata": {},
   "outputs": [
    {
     "data": {
      "text/plain": [
       "[0, 'a']"
      ]
     },
     "execution_count": 1,
     "metadata": {},
     "output_type": "execute_result"
    }
   ],
   "source": [
    "# Slide a nested list\n",
    "\n",
    "a = [[0,1,2], ['a','b','c']]\n",
    "[i[0] for i in a]"
   ]
  },
  {
   "cell_type": "markdown",
   "id": "bcc84f58",
   "metadata": {},
   "source": [
    "### Shallow vs deep copy"
   ]
  },
  {
   "cell_type": "code",
   "execution_count": 12,
   "id": "f08fd9a1",
   "metadata": {},
   "outputs": [
    {
     "name": "stdout",
     "output_type": "stream",
     "text": [
      "Shallow copy | 1D list\n",
      "[1, 2, 3, 4, 'a'] 2145370672576\n",
      "[1, 2, 3, 4, 'b'] 2145370676928\n",
      "Shallow copy | nested list\n",
      "[[0, 1, 2], [3, 4, 5], [6, 7, 'b']] 2145370751872\n",
      "[[0, 1, 2], [3, 4, 5], [6, 7, 'b']] 2145370677376\n",
      "Deep copy | nested list\n",
      "[[0, 1, 2], [3, 4, 5], [6, 7, 'a']] 2145370675968\n",
      "[[0, 1, 2], [3, 4, 5], [6, 7, 'b']] 2145370671552\n"
     ]
    }
   ],
   "source": [
    "import copy\n",
    "\n",
    "# ----------------------------------------\n",
    "# --- SHALLOW COPY -----------------------\n",
    "# ----------------------------------------\n",
    "# Copy is in a separate memory location, however, nested lists (2 dimensions) are still linked\n",
    "\n",
    "# 1D lists - separate\n",
    "print('Shallow copy | 1D list')\n",
    "a = [1, 2, 3, 4, 5]\n",
    "b = a.copy() # or b = copy.copy(a)\n",
    "\n",
    "a[-1], b[-1] = 'a', 'b'\n",
    "print(a, id(a))\n",
    "print(b, id(b))\n",
    "\n",
    "# -------------------------------------\n",
    "# Nested list - still linked\n",
    "print('Shallow copy | nested list')\n",
    "\n",
    "a = [[0, 1, 2], [3, 4, 5], [6, 7, 8]]\n",
    "b = a.copy() # of b = copy.copy(a)\n",
    "\n",
    "a[2][2], b[2][2] = 'a', 'b'\n",
    "print(a, id(a))\n",
    "print(b, id(b))\n",
    "\n",
    "# ----------------------------------------\n",
    "# --- DEEP COPY --------------------------\n",
    "# ----------------------------------------\n",
    "# Creates a completely separate list\n",
    "# No changes to list a will be transferred to list b, even in nested lists\n",
    "\n",
    "# Nested list\n",
    "print('Deep copy | nested list')\n",
    "\n",
    "a = [[0, 1, 2], [3, 4, 5], [6, 7, 8]]\n",
    "b = copy.deepcopy(a)\n",
    "\n",
    "a[2][2], b[2][2] = 'a', 'b'\n",
    "print(a, id(a))\n",
    "print(b, id(b))"
   ]
  },
  {
   "cell_type": "markdown",
   "id": "54c2fc15",
   "metadata": {},
   "source": [
    "## Tuples\n",
    "\n",
    "- `(parentheses or round brackets)`\n",
    "- Immutable; hence, tuples are used to store information that shouldn't be modified \n",
    "- We can group related pieces of data in a tuple\n",
    "- Tuples are created faster and weigh fewer bytes than lists\n",
    "\n",
    "```py\n",
    "tuple1 = () # Create an empty tuple\n",
    "tuple1 = (\"element\",) # creating a tuple with only one element\n",
    "movies = [(\"Vertigo\", 1958), (\"Parasite\", 2019)]; print(movies[1]) # prints Vertigo and 1958\n",
    "```"
   ]
  },
  {
   "cell_type": "markdown",
   "id": "49406e38",
   "metadata": {},
   "source": [
    "## Dictionaries\n",
    "\n",
    "- `{key:value}` - braces / curly brackets\n",
    "- Used to associate a meaning to each value in a collection of values\n",
    "- Keys in a dictionary are unique, and each key is associated with exactly one value\n",
    "- Unordered, mutable\n",
    "- A special form of dictionary is `Counter` from the `collections` module\n",
    "\n",
    "```py\n",
    "\"\"\" Create a dictionary \"\"\"\n",
    "dict1 = {} \n",
    "dict1 = dict() \n",
    "# Make an isolated copy of a dictionary\n",
    "mydict.copy() \n",
    "dictname = {'A':'string', 'B':2, 'C':3, 'D':4}\n",
    "# Create a dictionary from two lists\n",
    "dict(zip(list1, list2)) \n",
    "\n",
    "\"\"\" Alter a dictionary \"\"\"\n",
    "dictname['B'] = 22 \n",
    "# Update multiple keys\n",
    "dictname.update({'A':11, 'B':22}) \n",
    "# Update existing keys with values (and create non-existing keys) with values from mydict2\n",
    "dictname.update(mydict2) \n",
    "# Add value to a dictionary; if it doesn't exist, assign it a value\n",
    "dictname['a'] = 1 + dictname.get('a', 0)\n",
    "# Delete key:value pair\n",
    "del dictname['C'] \n",
    "# Remove item from dictionary and return it\n",
    "dictname.pop('D') \n",
    "# Removes and returns the dictionary's last item\n",
    "dictname.popitem() \n",
    "# Remove all items from a dictionary\n",
    "dictname.clear() \n",
    "\n",
    "\"\"\" View / access a dictionary \"\"\"\n",
    "# Access value by its key\n",
    "dictname['B'] \n",
    "# Returns value if key exists\n",
    "dictname.get('A') \n",
    "dictname.get('A', 'Not found')\n",
    "# Check if key exists in dictionary\n",
    "'C' in dictname \n",
    "# Return a view object of a dictionary's keys\n",
    "dictname.keys() \n",
    "# Return a view object of a dictionary's values\n",
    "dictname.values() \n",
    "# Go through all keys, printing values\n",
    "for item in dictname: \n",
    "\tprint(dictname[item]) \n",
    "# Print values all in one line\n",
    "print(' '.join([str(value) for key, value in dictname.items()])) \n",
    "# Returns a view object with a list of dictionary's (key, value) tuple pair\n",
    "dictname.items() \n",
    "# Return a list of tuples\n",
    "list(dictname.items()) \n",
    "# Print keys and values\n",
    "for key, value in dictname.items(): \n",
    "\tprint(key, value) \n",
    "# Get key with the largest value\n",
    "dictname = { 'A':5, 'B':10, 'C':2 }\n",
    "max(dictname, key=dictname.get)\n",
    "```"
   ]
  },
  {
   "cell_type": "code",
   "execution_count": 973,
   "id": "9b4193bd",
   "metadata": {},
   "outputs": [
    {
     "name": "stdout",
     "output_type": "stream",
     "text": [
      "UK, London\n",
      "France, Paris\n",
      "Germany, Berlin\n",
      "{'UK': 'Londonelement', 'France': 'Paris', 'Germany': 'Berlin'}\n",
      "dict_keys(['UK', 'France', 'Germany'])\n"
     ]
    }
   ],
   "source": [
    "dictname = {'UK':'London', 'France':'Paris', 'Germany':'Berlin'}\n",
    "x = {'accipiter':'hawk', 'as per':'rough', 'auris':'ear'}\n",
    "\n",
    "# print keys and values of dictionary:\n",
    "for key, value in dictname.items():\n",
    "    print(f\"{key}, {value}\")\n",
    "\n",
    "# append dictionary's values within each key\n",
    "dictname['UK'] = dictname['UK'] + 'element'\n",
    "\n",
    "print(dictname)\n",
    "\n",
    "print(dictname.keys())"
   ]
  },
  {
   "cell_type": "code",
   "execution_count": 974,
   "id": "724dfa39",
   "metadata": {},
   "outputs": [
    {
     "name": "stdout",
     "output_type": "stream",
     "text": [
      "{'name': {'last_name': 'Zorin', 'first_name': 'Evgenii', 'middle_name': 'Maksimovich'}, 'address': ['Selskohozyaystvennaya street', 'house 38', 'block 2', 'apt. 180'], 'phone': '+79385234486'}\n",
      "dict_keys(['name', 'address', 'phone'])\n",
      "dict_values([{'last_name': 'Zorin', 'first_name': 'Evgenii', 'middle_name': 'Maksimovich'}, ['Selskohozyaystvennaya street', 'house 38', 'block 2', 'apt. 180'], '+79385234486'])\n",
      "Evgenii\n",
      "+79385234486\n"
     ]
    }
   ],
   "source": [
    "trial_dict = {\"name\": {\"last_name\": \"Zorin\", \"first_name\": \"Evgenii\", \"middle_name\": \"Maksimovich\"}, \n",
    "              \"address\": [\"Selskohozyaystvennaya street\", \"house 38\", \"block 2\", \"apt. 180\"], \n",
    "              \"phone\": \"+79385234486\"}\n",
    "print(trial_dict)\n",
    "print(trial_dict.keys())\n",
    "print(trial_dict.values())\n",
    "print(trial_dict[\"name\"][\"first_name\"] + \"\\n\" + trial_dict[\"phone\"])"
   ]
  },
  {
   "cell_type": "code",
   "execution_count": 975,
   "id": "4cb07d08",
   "metadata": {},
   "outputs": [
    {
     "name": "stdout",
     "output_type": "stream",
     "text": [
      "{'>line1': '1.asdg1.badgsga', '>line2': '2.asdga2.gbagagag'}\n"
     ]
    }
   ],
   "source": [
    "FASTAFile = ['>line1', '1.asdg', '1.badgsga', '>line2', '2.asdga', '2.gbagagag']\n",
    "FASTADict = {}\n",
    "FASTALabel = \"\"\n",
    "\n",
    "for line in FASTAFile:\n",
    "    if '>' in line:\n",
    "        FASTALabel = line\n",
    "        FASTADict[FASTALabel] = \"\"\n",
    "    else:\n",
    "        FASTADict[FASTALabel] += line\n",
    "        \n",
    "print(FASTADict)"
   ]
  },
  {
   "cell_type": "code",
   "execution_count": 976,
   "id": "c60427bf",
   "metadata": {},
   "outputs": [
    {
     "data": {
      "text/plain": [
       "{0: ['a', 'b', 'c'], 1: ['a', 'b', 'c'], 2: ['a', 'b', 'c']}"
      ]
     },
     "execution_count": 976,
     "metadata": {},
     "output_type": "execute_result"
    }
   ],
   "source": [
    "dict = {}\n",
    "\n",
    "for i in [0, 1, 2]:\n",
    "\tdict[i] = []\n",
    "\tfor j in ['a', 'b', 'c']:\n",
    "\t\tdict[i].append(j)\n",
    "\n",
    "dict"
   ]
  },
  {
   "cell_type": "code",
   "execution_count": 1,
   "id": "fd354919",
   "metadata": {},
   "outputs": [
    {
     "data": {
      "text/plain": [
       "{'b': 1, 'c': 2, 'a': 5}"
      ]
     },
     "execution_count": 1,
     "metadata": {},
     "output_type": "execute_result"
    }
   ],
   "source": [
    "# Sort the dictionary based on value\n",
    "dict1 = {\n",
    "\t'a':5, \n",
    "\t'b':1, \n",
    "\t'c':2\n",
    "}\n",
    "dict1 = dict(sorted(dict1.items(), key=lambda item: item[1]))\n",
    "dict1"
   ]
  },
  {
   "cell_type": "markdown",
   "id": "02e43594",
   "metadata": {},
   "source": [
    "## DefaultDict\n",
    "\n",
    "It is a subclass of a dictionary, which never raises a KeyError. "
   ]
  },
  {
   "cell_type": "code",
   "execution_count": 2,
   "id": "e14c840c",
   "metadata": {},
   "outputs": [
    {
     "data": {
      "text/plain": [
       "'Not present'"
      ]
     },
     "execution_count": 2,
     "metadata": {},
     "output_type": "execute_result"
    }
   ],
   "source": [
    "from collections import defaultdict\n",
    "\n",
    "dict1 = defaultdict(lambda: \"Not present\")\n",
    "\n",
    "dict1['a'] = 10\n",
    "dict1['b'] = 20\n",
    "dict1['c']"
   ]
  },
  {
   "cell_type": "markdown",
   "id": "b463e311",
   "metadata": {},
   "source": [
    "## Sets \n",
    "\n",
    "- `{curly braces}` \n",
    "- Collections of values like lists which do not allow for any duplicate values; a version of 'list' data type with all unique values\n",
    "- Unordered - don't have indices\n",
    "\n",
    "<img src=\"example_datasets/Media/Sets.jpg\" width=\"300\">\n",
    "\n",
    "- Set union: combine both sets; \n",
    "- Set intersection: items that are in both sets; \n",
    "- Set difference: subtract the items in one set from the items in the other set. \n",
    "\n",
    "```py\n",
    "set1 = set() # Create an empty set\n",
    "set1 = set(['a', 'b', 'c'])\n",
    "\n",
    "set1.add('B8') # Add a new value\n",
    "'elem' in set1 # Check if a set contains an element\n",
    "set1.union(set2) # Join two sets\n",
    "set1.intersection(set2) # Create a set of elements that are present in both sets\n",
    "set1.difference(set2) # Get a set of elements that are present in set1 but not in set2\n",
    "set1.add('Jack') # Add an item to a set\n",
    "set1.issubset(set2)\n",
    "set1.issuperset(set2) # Set1 is a superset of set2 if all values of subset are contained within the superset\n",
    "set1.discard('H') # Remove an item by its value\n",
    "set1.pop() # Pop the last item in the set\n",
    "```"
   ]
  },
  {
   "cell_type": "code",
   "execution_count": 35,
   "id": "5fd2d2c2",
   "metadata": {},
   "outputs": [
    {
     "data": {
      "text/plain": [
       "True"
      ]
     },
     "execution_count": 35,
     "metadata": {},
     "output_type": "execute_result"
    }
   ],
   "source": [
    "set(\"C\".lower()).issubset( set('tcag') )"
   ]
  },
  {
   "cell_type": "code",
   "execution_count": 977,
   "id": "0ffe6b3c",
   "metadata": {},
   "outputs": [
    {
     "name": "stdout",
     "output_type": "stream",
     "text": [
      "True\n"
     ]
    }
   ],
   "source": [
    "# Print False if two sets have at least one item in common\n",
    "set1 = set('abcd')\n",
    "set2 = set('efd')\n",
    "\n",
    "if len( set1.intersection(set2) ) == 0:\n",
    "\tprint(False)\n",
    "else:\n",
    "\tprint(True)"
   ]
  },
  {
   "cell_type": "code",
   "execution_count": 10,
   "id": "f5565768",
   "metadata": {},
   "outputs": [
    {
     "data": {
      "text/plain": [
       "'a'"
      ]
     },
     "execution_count": 10,
     "metadata": {},
     "output_type": "execute_result"
    }
   ],
   "source": [
    "s = \"a\" \n",
    "t = \"aa\"\n",
    "\n",
    "c = t.replace(s, '', 1)\n",
    "c"
   ]
  },
  {
   "cell_type": "markdown",
   "id": "3d46fe12",
   "metadata": {},
   "source": [
    "## Arrays\n",
    "\n",
    "- `([ ])`\n",
    "- Allow calculations over entire arrays\n",
    "- See Numpy\n"
   ]
  },
  {
   "cell_type": "markdown",
   "id": "f1f5e81c",
   "metadata": {},
   "source": [
    "# Operators\n",
    "\n",
    "There are many different types of operators:\n",
    "- Arithmetic operators\n",
    "- Boolean operators: `and`, `or`\n",
    "- Operators such as `in`, `is`, `not`\n",
    "- Binary operators"
   ]
  },
  {
   "cell_type": "markdown",
   "id": "14401cb1",
   "metadata": {},
   "source": [
    "## Arithmetic operators\n",
    "\n",
    "\n",
    "| Operator | Name | Meaning | Example |\n",
    "| - | - | - | - |\n",
    "| `+` | Addition | adds two operands | `a += 2` |\n",
    "| `-` | Subtraction | subtracts two operands | `a -= 2` |\n",
    "| `*` | Multiplication | multiplies two operands | `a *= 2` |\n",
    "| `/` | Division (float) | divides the first operand by the second (returns float) | `a /= 2` |\n",
    "| `//` | Floor division | divides the first operand by the second (returns int - how many times can i divide without a residual) | `8 // 3` (returns 2) |\n",
    "| `%` | Modulus | returns the remainder when the first operand is divided by the second | `10 % 3` (returns 1) | |\n",
    "| `**` | Power / exponentiation | returns a number raised to the power of the second number | `a**2` |\n",
    "\n",
    "_**Important notes!!!**_\n",
    "\n",
    "Sometimes Python operands behave abnormally, as in not in the way you would expect. The most famous examples are `%` and `//`. \n",
    "\n",
    "```py\n",
    "11 % 10 # outputs 1 - OK\n",
    "1 % 10 # outputs 1 - OK\n",
    "-1 % 10 # outputs -9??? I would expect -1\n",
    "# Instead of this operand, one could use the math.fmod function:\n",
    "import math\n",
    "math.fmod(-1, 10) # outputs -1.0, as expected\n",
    "\n",
    "\n",
    "1 // 10 # outputs 0 - OK\n",
    "25 // 10 # outputs 2 - OK\n",
    "```\n",
    "\n",
    "Some examples:\n",
    "\n",
    "```py\n",
    "# Get the last digit of a number\n",
    "15 % 10 # not ideal, as doesn't work as expected with the negative numbers\n",
    "import math; math.fmod(15, 10) # PREFERABLE\n",
    "```"
   ]
  },
  {
   "cell_type": "markdown",
   "id": "d4b099aa",
   "metadata": {},
   "source": [
    "## Binary operators\n",
    "\n",
    "| Operator | Function | Syntax |\n",
    "| --- | --- | --- |\n",
    "| `^` | Bitwise XOR: outputs 1 when of the two operands under comparison, one is $1$ and the other is $0$ | `x ^ y` |\n",
    "| `>>` | Bitwise right shift | `x >> 1` |\n",
    "| `<<` | Bitwise left shift | `x << 1` |\n"
   ]
  },
  {
   "cell_type": "code",
   "execution_count": 28,
   "id": "4efa28d4",
   "metadata": {},
   "outputs": [
    {
     "data": {
      "text/plain": [
       "'0b101000'"
      ]
     },
     "execution_count": 28,
     "metadata": {},
     "output_type": "execute_result"
    }
   ],
   "source": [
    "a = 10 # 1010 in binary \n",
    "a >> 1 # 10 becomes 5 in decimal: 1010 -> 101\n",
    "a >> 2 # 10 becomes 2 in decimal: 1010 -> 10\n",
    "\n",
    "a << 2 # 10 becomes 40 in decimal: 101000\n"
   ]
  },
  {
   "cell_type": "code",
   "execution_count": 21,
   "id": "14cd77ff",
   "metadata": {},
   "outputs": [
    {
     "name": "stdout",
     "output_type": "stream",
     "text": [
      "0b101\n",
      "0b111\n",
      "0b10\n"
     ]
    }
   ],
   "source": [
    "a = 5; print(bin(a))\n",
    "b = 7; print(bin(b))\n",
    "a ^ b; print(bin(a^b))"
   ]
  },
  {
   "cell_type": "markdown",
   "id": "8606da13",
   "metadata": {},
   "source": [
    "# Python comprehensions <a class=\"anchor\" id=\"Python-comprehensions\"></a>\n",
    "\n",
    "Comprehensions are used for lists, dictionaries, and sets. \n",
    "It is a quick and easy alternative to maps, filters, and for loops. Can replace lots of nested for loops. "
   ]
  },
  {
   "cell_type": "markdown",
   "id": "86217670",
   "metadata": {},
   "source": [
    "## List comprehensions\n",
    "\n",
    "Syntax:    \n",
    "```py \n",
    "a = [expression for value in collection]\n",
    "```\n",
    "\n",
    "Examples: \n",
    "```py\n",
    "# Create a list of numbers in a range\n",
    "[i for i in range(11)]\n",
    "# Create a list of items for each char in string\n",
    "[i for i in 'string']\n",
    "# Duplicate letters in a string\n",
    "[i*2 for i in 'string'] # list\n",
    "''.join([i*2 for i in 'string']) # string\n",
    "# Create a list of 4 random items\n",
    "import random\n",
    "[random.randint(-10, 10) for i in range(4)]\n",
    "###########################################\n",
    "\n",
    "list1 = [-3, -2, -1, 0, 1, 2, 3, 4, 5, 6]\n",
    "# Copy list \n",
    "[i for i in list1]\n",
    "# Multiply each item by 2\n",
    "[i*2 for i in list1]\n",
    "# Remove all minus signs\n",
    "[abs(i) for i in list1]\n",
    "# Copy only even elements of a list\n",
    "[i for i in nums if i%2 == 0]\n",
    "# Check if numbers are odd or even\n",
    "['even' if i%2 == 0 else 'odd' for i in list1]\n",
    "\n",
    "# Boolean array (True, False)\n",
    "[ ( i%2 != 0 and i > 5 ) for i in range(0, 10) ]\n",
    "# Boolean array (binary - 0, 1)\n",
    "[ int( i%2 != 0 and i > 5 ) for i in range(0, 10) ]\n",
    "\n",
    "```"
   ]
  },
  {
   "cell_type": "code",
   "execution_count": 978,
   "id": "b4ee7990",
   "metadata": {},
   "outputs": [
    {
     "name": "stdout",
     "output_type": "stream",
     "text": [
      "[('A', 1), ('A', 2), ('B', 1), ('B', 2), ('C', 1), ('C', 2)]\n",
      "[(0, 4), (0, 5), (1, 4), (1, 5)]\n",
      "['a0', 'a1', 'a2', 'a3', 'b0', 'b1', 'b2', 'b3', 'c0', 'c1', 'c2', 'c3', 'd0', 'd1', 'd2', 'd3']\n",
      "[[6, 7, 8], [6, 7, 8], [6, 7, 8]]\n",
      "7500\n",
      "[0, 4, 16, 36, 64]\n",
      "[0, 'even', 4, 'even', 16, 'even', 36, 'even', 64, 'even']\n",
      "['adsfadfs', 'asdd']\n",
      "[0, 6]\n"
     ]
    },
    {
     "data": {
      "text/plain": [
       "['a 1 A', 'b 2 B', 'c 3 C']"
      ]
     },
     "execution_count": 978,
     "metadata": {},
     "output_type": "execute_result"
    }
   ],
   "source": [
    "# NESTED LIST COMPREHENSIONS / combining lists\n",
    "\n",
    "# Create a list of duplexes, where each duplex is a combination of 'ABCD' and a number (1-4) for each letter \n",
    "print( [(letter, num) for letter in 'ABC' for num in range(1, 3)] )\n",
    "\n",
    "## Create a list of duplexes\n",
    "print( [(i, j) for i in range(0, 2) for j in range(4, 6)] )\n",
    "\n",
    "## Combine two strings\n",
    "print( [(f\"{i}{j}\") for i in 'abcd' for j in '0123'] )\n",
    "\n",
    "## Matrix represented as list of lists\n",
    "print( [[col for col in range(6, 9)] for row in range(3)] )\n",
    "\n",
    "## Print sum of odd numbers from 100-200\n",
    "print( sum( [i for i in range(100, 201) if i %2 != 0] ) )\n",
    "\n",
    "## Place conditions on the iterable: print squared even numbers 0-9 \n",
    "print( [i**2 for i in range(10) if i %2 == 0] )\n",
    "\n",
    "## If even number, square, else write 'even'\n",
    "print( [i**2 if i %2 == 0 else 'even' for i in range(10)] )\n",
    "\n",
    "## Replace '\\n' with '' in each string item in a list\n",
    "print( [i.replace('\\n', '') for i in ['adsf\\nadfs', 'asd\\nd']] )\n",
    "\n",
    "## Two conditions\n",
    "print( [i for i in range(0, 9) if i %2 == 0 and i %3 == 0] )\n",
    "\n",
    "# Find common elements\n",
    "[i for i in ['a', 'b', 'c'] if i in ['c', 'd']]\n",
    "\n",
    "# Combine elements with the same index\n",
    "[f'{i} {j} {k}' for i, j, k in zip(['a', 'b', 'c'], ['1', '2', '3'], ['A', 'B', 'C'])]"
   ]
  },
  {
   "cell_type": "code",
   "execution_count": 979,
   "id": "cf35e1e9",
   "metadata": {},
   "outputs": [
    {
     "data": {
      "text/plain": [
       "[1, 12, 12]"
      ]
     },
     "execution_count": 979,
     "metadata": {},
     "output_type": "execute_result"
    }
   ],
   "source": [
    "# Filtering with IF statement\n",
    "\n",
    "scores = [-12, 17, -30, 29, -19, 35]\n",
    "\n",
    "# Only get values that are 10 < x < 20\n",
    "[i for i in scores if 10 < i < 20] \n",
    "# Label numbers are positive and negative\n",
    "['negative' if i < 0 else 'positive' for i in scores]\n",
    "\n",
    "values = ['1', '12', '12', 'abcd', '12ab']\n",
    "[int(i) for i in values if i.isdigit()]"
   ]
  },
  {
   "cell_type": "markdown",
   "id": "e0728fb2",
   "metadata": {},
   "source": [
    "## Dictionary comprehensions\n",
    "\n",
    "```py\n",
    "names = ['Bruce', 'Clark', 'Barry']\n",
    "surnames = ['Wayne', 'Kent', 'Allen']\n",
    "\n",
    "# Create dictionary out of lists\n",
    "{i: j for i, j in zip(names, surnames)}\n",
    "# Exclude some names\n",
    "{i: j for i, j in zip(names, surnames) if name not in ['Jack', 'John']}\n",
    "#############################################################################\n",
    "\n",
    "word = 'recEde'\n",
    "# Count unique characters (case-sensitive)\n",
    "{i: word.count(i) for i in set(word)}\n",
    "# Count unique characters (case-insensitive, all change to lowercase)\n",
    "{i: word.lower().count(i) for i in set(word.lower())}\n",
    "##############################################################################\n",
    "# number: odd or even\n",
    "{i:'even' if i%2 == 0 else 'odd' for i in [0, 1, 2, 3, 4, 5]}\n",
    "```"
   ]
  },
  {
   "cell_type": "code",
   "execution_count": 980,
   "id": "a0932c08",
   "metadata": {},
   "outputs": [
    {
     "name": "stdout",
     "output_type": "stream",
     "text": [
      "{'x': 1, 'o': 2}\n"
     ]
    },
    {
     "data": {
      "text/plain": [
       "False"
      ]
     },
     "execution_count": 980,
     "metadata": {},
     "output_type": "execute_result"
    }
   ],
   "source": [
    "dict1 = {}\n",
    "\n",
    "def xo(s):\n",
    "\tdict1 = {i: s.lower().count(i) for i in set(s.lower())}\n",
    "\tif 'x' not in dict1:\n",
    "\t\tdict1['x'] = 0\n",
    "\tif 'o' not in dict1:\n",
    "\t\tdict1['o'] = 0\n",
    "\tprint(dict1)\n",
    "\t#\n",
    "\tif dict1['o'] == dict1['x']:\n",
    "\t\treturn True\n",
    "\telif dict1['o'] != dict1['x']:\n",
    "\t\treturn False\n",
    "\n",
    "xo('xoO')"
   ]
  },
  {
   "cell_type": "markdown",
   "id": "685c77dd",
   "metadata": {},
   "source": [
    "## Set comprehensions"
   ]
  },
  {
   "cell_type": "code",
   "execution_count": 981,
   "id": "b03b898e",
   "metadata": {},
   "outputs": [
    {
     "name": "stdout",
     "output_type": "stream",
     "text": [
      "{1, 2, 3, 4, 5}\n",
      "{1, 2, 3, 4, 5}\n",
      "{'f', 's', 'd', 'a'}\n"
     ]
    }
   ],
   "source": [
    "# Set comprehensions\n",
    "\n",
    "#compehension-free solution - for loop\n",
    "nums = [1, 1, 1, 2, 3, 4, 5, 5, 5, 1, 1, 1]\n",
    "set1 = set()\n",
    "for n in nums:\n",
    "    set1.add(n)\n",
    "print(set1)\n",
    "\n",
    "# set comprehension\n",
    "print( {n for n in nums} )\n",
    "print( {n for n in 'aasdfasdf'} )"
   ]
  },
  {
   "cell_type": "markdown",
   "id": "7beb3a18",
   "metadata": {},
   "source": [
    "## Generators\n",
    "\n",
    "Like list comprehensions, but without storing the generated data in memory. \n",
    "- Use 'yield' instead of 'return'\n",
    "- Can iterate with '.items()'\n",
    "- Syntax is same as list comprehension but uses parentheses instead of square brackets\n"
   ]
  },
  {
   "cell_type": "code",
   "execution_count": 982,
   "id": "cb161e3d",
   "metadata": {},
   "outputs": [
    {
     "name": "stdout",
     "output_type": "stream",
     "text": [
      "<generator object gen_func at 0x0000021E0AE5FAC0>\n",
      "1\n",
      "4\n",
      "9\n",
      "16\n",
      "25\n",
      "1\n",
      "4\n",
      "9\n",
      "16\n",
      "25\n"
     ]
    }
   ],
   "source": [
    "# generator expressions\n",
    "# similar to list comprehension\n",
    "\n",
    "nums = [1, 2, 3, 4, 5]\n",
    "\n",
    "def gen_func(nums):\n",
    "    for n in nums:\n",
    "        yield n**2\n",
    "my_gen = gen_func(nums)\n",
    "print(my_gen)\n",
    "for i in my_gen:\n",
    "    print(i)\n",
    "\n",
    "# generator expression\n",
    "## syntax similar to list comprehensions but brackets --> parentheses\n",
    "my_gen = (n**2 for n in nums)\n",
    "for i in my_gen:\n",
    "    print(i)"
   ]
  },
  {
   "cell_type": "markdown",
   "id": "2c693cf3",
   "metadata": {},
   "source": [
    "# Math in Python"
   ]
  },
  {
   "cell_type": "code",
   "execution_count": 10,
   "id": "b0748e88",
   "metadata": {},
   "outputs": [
    {
     "data": {
      "text/plain": [
       "-inf"
      ]
     },
     "execution_count": 10,
     "metadata": {},
     "output_type": "execute_result"
    }
   ],
   "source": [
    "# MOST BASIC\n",
    "\n",
    "5 % 2  # print residual from division\n",
    "11 // 3 # round down (floor) the result of division\n",
    "\n",
    "import math\n",
    "math.prod([2, 5, -1]) # Return the product of a list\n",
    "math.factorial(10) # Return factorial of a number: 10! = 10*9*8*...*3*2*1\n",
    "math.lcm(3, 10, 20) # Returns lowest common multiple of the numbers; in this case, it's 60\n",
    "math.sqrt(25) # Returns square root of 25 -> 5.0\n",
    "\n",
    "a = 5\n",
    "a = max(a, 10)\n",
    "\n",
    "# Get infinity\n",
    "float(\"inf\")\n",
    "float(\"-inf\")"
   ]
  },
  {
   "cell_type": "code",
   "execution_count": 4,
   "id": "d8332d14",
   "metadata": {},
   "outputs": [
    {
     "data": {
      "text/plain": [
       "2"
      ]
     },
     "execution_count": 4,
     "metadata": {},
     "output_type": "execute_result"
    }
   ],
   "source": [
    "52 % 10"
   ]
  },
  {
   "cell_type": "code",
   "execution_count": 13,
   "id": "80aecaf4",
   "metadata": {},
   "outputs": [
    {
     "name": "stdout",
     "output_type": "stream",
     "text": [
      "6.907755278982137\n",
      "3.0\n",
      "3.0\n"
     ]
    }
   ],
   "source": [
    "# LOGARITHM, PI\n",
    "\n",
    "import math\n",
    "\n",
    "a = 1000\n",
    "\n",
    "# Print pi number\n",
    "math.pi \n",
    "\n",
    "# natural log (base 'e')\n",
    "print( math.log(a) )\n",
    "# simple log\n",
    "print( math.log10(a) )\n",
    "# log base 3 of 27\n",
    "print( math.log(27, 3) )\n",
    "\n"
   ]
  },
  {
   "cell_type": "code",
   "execution_count": 986,
   "id": "c242c341",
   "metadata": {},
   "outputs": [
    {
     "name": "stdout",
     "output_type": "stream",
     "text": [
      "[('a', 'A'), ('a', 'B'), ('b', 'A'), ('b', 'B')]\n",
      "['aA', 'aB', 'bA', 'bB']\n"
     ]
    }
   ],
   "source": [
    "# COMBINATIONS, PERMUTATIONS, CUMULATIVE\n",
    "\n",
    "import itertools; from itertools import product, permutations, combinations, accumulate\n",
    "\n",
    "a = [1, 2, 3]\n",
    "b = [4, 5]\n",
    "\n",
    "# All possible combinations btw the two lists\n",
    "list(product(a, b)) # [(1,4), (1,5), (2,4), (2,5), (3,4), (3,5)] \n",
    "list(product(a, b, repeat=2))\n",
    "# All possible combinations between all items in a list\n",
    "c = ['a', 'b', 'c']\n",
    "[i for i in product(*(c))]\n",
    "\n",
    "# Permutations - care about the order\n",
    "list(permutations(a)) # [ (1,2,3), (1,3,2), (2,1,3), (2,3,1), (3,1,2), (3,2,1) ]\n",
    "# Combinations - don't care about the order\n",
    "list(combinations(a, 2)) # [ (1,2), (1,3), (2,3) ]\n",
    "\n",
    "list(accumulate(a)) # Increase each item in a list cumulatively\n",
    "list(accumulate(a, func=max)) # Only change next item if it's a max\n",
    "\n",
    "\n",
    "import itertools\n",
    "\n",
    "dict1 = {\n",
    "\t1: ['a', 'b'], \n",
    "\t2: ['A', 'B']\n",
    "}\n",
    "\n",
    "\n",
    "print( [ i for i in itertools.product(*(dict1.values())) ] )\n",
    "print( [ ''.join(i) for i in itertools.product(*(dict1.values())) ] )"
   ]
  },
  {
   "cell_type": "code",
   "execution_count": 1,
   "id": "506a124b",
   "metadata": {},
   "outputs": [
    {
     "name": "stdout",
     "output_type": "stream",
     "text": [
      "[[1, 4, 7], [2, 5, 8], [3, 6, 9]]\n"
     ]
    },
    {
     "data": {
      "text/plain": [
       "[[1, 1, 1, 1, 1, 1, 1],\n",
       " [1, '?', '?', '?', '?', '?', '?'],\n",
       " [1, '?', '?', '?', '?', '?', '?'],\n",
       " [1, '?', '?', '?', '?', '?', '?'],\n",
       " [1, '?', '?', '?', '?', '?', '?'],\n",
       " [1, '?', '?', '?', '?', '?', '?'],\n",
       " [1, '?', '?', '?', '?', '?', '?']]"
      ]
     },
     "execution_count": 1,
     "metadata": {},
     "output_type": "execute_result"
    }
   ],
   "source": [
    "# MATRICES\n",
    "\n",
    "matrix = [[1,2,3],[4,5,6],[7,8,9]]\n",
    "\n",
    "len(matrix) # How many rows does a matrix have?\n",
    "len(matrix[0]) # How many columns does a matrix have? \n",
    "\n",
    "# In-place transpose a (N x N) matrix\n",
    "for row in range(0, len(matrix)):\n",
    "\tfor column in range(row, len(matrix[0])):\n",
    "\t\tmatrix[row][column], matrix[column][row] = matrix[column][row], matrix[row][column]\n",
    "print(matrix)\n",
    "\n",
    "# Transpose any-sized matrix into matrix_T\n",
    "matrix_T = []\n",
    "for j in range(0, len(matrix[0])): # Iterate in column\n",
    "\tnewRow = []\n",
    "\tfor i in range(0, len(matrix)): # Iterate in row\n",
    "\t\tnewRow.append(matrix[i][j]) # Fill in the new row, appending to it vaules from same column, iterating row\n",
    "\tmatrix_T.append(newRow)\n",
    "\n",
    "\n",
    "matrix.reverse() # Flip the matrix head-to-toe\n",
    "matrix[0].reverse() # Reverse only the first row of a matrix\n",
    "\n",
    "\n",
    "\n",
    "m = 7\n",
    "n = 7\n",
    "grid = [ [1 for y in range(n)] if x == 0 else [1 if y == 0 else '?' for y in range(n)] for x in range(m) ]\n",
    "grid\n"
   ]
  },
  {
   "cell_type": "code",
   "execution_count": 2,
   "id": "d3b2573a",
   "metadata": {},
   "outputs": [
    {
     "name": "stdout",
     "output_type": "stream",
     "text": [
      "3.141592653589793\n",
      "4.0\n",
      "17\n",
      "16\n",
      "1.0\n",
      "\n",
      "2.5\n"
     ]
    }
   ],
   "source": [
    "import math, statistics\n",
    "# from statistics import mean # if we only need one functionality from a module\n",
    "# if we use \"from\" keyword to import a certain functionality, we no longer need to use the module's name\n",
    "# in our code when using functionality\n",
    "# import statistics as stats # modifies the name of the module we import = aliasing\n",
    "\n",
    "print(math.pi)\n",
    "print(math.sqrt(16))\n",
    "print(math.ceil(16.4))\n",
    "print(math.floor(16.8))\n",
    "print(math.sin(math.pi/2))\n",
    "print()\n",
    "\n",
    "\n",
    "scores = [1, 2, 3, 4]\n",
    "print(statistics.mean(scores))\n"
   ]
  },
  {
   "attachments": {},
   "cell_type": "markdown",
   "id": "49fc5257",
   "metadata": {},
   "source": [
    "# Regular Expressions\n",
    "\n",
    "Regular expressions. \n",
    "\n",
    "| Special character | Meaning |\n",
    "| --- | --- |\n",
    "| `\\` | Escape the following one special character |\n",
    "| `.` | Any character except a newline |\n",
    "| `\\s` | Matches whitespace |\n",
    "| `\\S` | Matches any non-whitespace character |\n",
    "| `^` | Matches the start of a string |\n",
    "| `$` | Matches the end of a string |\n",
    "| `*` | Match 0 or more repetitions of preceding regexp |\n",
    "| `+` | Match 1 or more repetitions of preceding regexp |\n",
    "| `?` | Match 0 or 1 repetitions of preceding regexp |\n",
    "| `{m}` | Match exactly `m` copies of the preceding regexp |\n",
    "| `{m,n}` | Match from `m` to `n` repetitions of the preceding regexp |\n",
    "| `[]` | Indicates a set of characters, e.g. `[amk]`, `[a-zA-Z0-9]` | \n",
    "| `()` | These tell where to start and stop what string to extract |\n",
    "\n"
   ]
  },
  {
   "cell_type": "code",
   "execution_count": 17,
   "id": "7acede5b",
   "metadata": {},
   "outputs": [
    {
     "data": {
      "text/plain": [
       "['45', '69']"
      ]
     },
     "execution_count": 17,
     "metadata": {},
     "output_type": "execute_result"
    }
   ],
   "source": [
    "import re\n",
    "\n",
    "a = \"ABC45 abc69\"\n",
    "\n",
    "re.findall('[a-z]+([0-9]+)', a, re.IGNORECASE)\n"
   ]
  },
  {
   "cell_type": "code",
   "execution_count": 2,
   "id": "e32f1481",
   "metadata": {},
   "outputs": [
    {
     "name": "stdout",
     "output_type": "stream",
     "text": [
      "<re.Match object; span=(20, 23), match=' I '>\n",
      " I \n",
      "['2 ', '194 ', '426']\n",
      "['2', '500', '219']\n"
     ]
    }
   ],
   "source": [
    "import re\n",
    "\n",
    "# Print start and end of the searched query\n",
    "a = \"I really like Shrek! I also love the other two movies.\"\n",
    "b = re.search(\"\\sI\\s\", a)\n",
    "print(b)\n",
    "print(a[20:23])\n",
    "\n",
    "# Print a list of found queries\n",
    "a = \"My 2 (two) favourite 5numbers are 194 and 426\"\n",
    "b = re.findall( '[^a-zA-Z]([0-9]+[^a-zA-Z])' , a)\n",
    "print(b)\n",
    "\n",
    "a = \"I 2 love rock 500 and roll 219 times\"\n",
    "\n",
    "b = re.findall( '[0-9]+' , a )\n",
    "print(b)"
   ]
  },
  {
   "cell_type": "code",
   "execution_count": 8,
   "id": "0c20010e",
   "metadata": {},
   "outputs": [
    {
     "data": {
      "text/plain": [
       "['[1]', '[2]', '[3]', '[10]']"
      ]
     },
     "execution_count": 8,
     "metadata": {},
     "output_type": "execute_result"
    }
   ],
   "source": [
    "import re\n",
    "a = '395[1] film[2] movies [3] another one[10]'\n",
    "re.findall( '\\[[0-9]*\\]', a )"
   ]
  },
  {
   "cell_type": "code",
   "execution_count": 10,
   "metadata": {},
   "outputs": [
    {
     "name": "stdout",
     "output_type": "stream",
     "text": [
      "['Name: John; Surname: Doe; Age: 27; Email: john.doe@harvard.co.uk; Date: 04.04.2000; Salary:']\n",
      "['Name:']\n",
      "['john.doe@harvard.co.uk;']\n",
      "['john.doe@harvard.co.uk']\n",
      "['harvard.co.uk;']\n",
      "['harvard.co.uk']\n",
      "['$10.00']\n"
     ]
    }
   ],
   "source": [
    "a = \"Name: John; Surname: Doe; Age: 27; Email: john.doe@harvard.co.uk; Date: 04.04.2000; Salary: $10.00; \"\n",
    "\n",
    "# Greedy: finds the longest string match\n",
    "print(  re.findall('^N.+:', a) )\n",
    "# Non-greedy matching: prints the first encountered match\n",
    "print( re.findall('^N.+?:', a) )\n",
    "\n",
    "# Extract email\n",
    "print( re.findall('\\S+@\\S+', a) ) # ver1\n",
    "print( re.findall('\\S+@[a-zA-Z.]+', a) ) # ver2 - better\n",
    "# Extract email domain\n",
    "print( re.findall('Email.+@([^ ]*)', a) ) # ver1\n",
    "print( re.findall('Email.+@([a-zA-Z.]+)', a) ) # ver2\n",
    "\n",
    "# Extract pay (dollars)\n",
    "print( re.findall('\\$[0-9.]+', a) )"
   ]
  },
  {
   "cell_type": "code",
   "execution_count": 25,
   "id": "9d357434",
   "metadata": {},
   "outputs": [
    {
     "data": {
      "text/plain": [
       "'i was i were now i am not '"
      ]
     },
     "execution_count": 25,
     "metadata": {},
     "output_type": "execute_result"
    }
   ],
   "source": [
    "import re\n",
    "\n",
    "a = \"'i was,, i were. now i: am not ?\"\n",
    "\n",
    "a = re.sub( '[,.?:\\']', '', a )\n",
    "a\n"
   ]
  },
  {
   "cell_type": "code",
   "execution_count": 34,
   "id": "8855ec6b",
   "metadata": {},
   "outputs": [
    {
     "name": "stdout",
     "output_type": "stream",
     "text": [
      "Original: <title>Title</title><head>Header</head>\n",
      "Greedy replacement: <!>\n",
      "Non-greedy replacement: <!>Title<!><!>Header<!>\n"
     ]
    }
   ],
   "source": [
    "import re\n",
    "\n",
    "a = \"<title>Title</title><head>Header</head>\"\n",
    "print(f\"Original: {a}\")\n",
    "\n",
    "# Greedy\n",
    "a1 = re.sub( '<.*>', '<!>', a )\n",
    "print(f\"Greedy replacement: {a1}\")\n",
    "\n",
    "a1 = re.sub( '<.*?>', '<!>', a )\n",
    "print(f\"Non-greedy replacement: {a1}\")\n"
   ]
  },
  {
   "cell_type": "code",
   "execution_count": 17,
   "id": "676bd7fd",
   "metadata": {},
   "outputs": [
    {
     "name": "stdout",
     "output_type": "stream",
     "text": [
      "Some stories:\n",
      "Story 1.;\n",
      "Story 2.;\n",
      "Story 3.;\n",
      "Story 4.;\n",
      "\n"
     ]
    }
   ],
   "source": [
    "a = \"Some stories:\\nStory 1.[1]\\nStory 2.[2]\\nStory 3.[33]\\nStory 4.[13325]\\n\"\n",
    "\n",
    "import re\n",
    "\n",
    "a = re.sub('\\[[0-9]+\\]', ';', a)\n",
    "\n",
    "print(a)"
   ]
  },
  {
   "cell_type": "markdown",
   "id": "f1c4a6a1",
   "metadata": {},
   "source": [
    "# File handling\n",
    "\n",
    "Open a web browser link:\n",
    "```py\n",
    "import webbrowser\n",
    "#import hashlib\n",
    "\n",
    "webbrowser.open(\"https://www.youtube.com/\")\n",
    "```\n",
    "---\n",
    "\n",
    "**File handling**\n",
    "\n",
    "Working with file programmatically using python. \n",
    "\n",
    "The `open` function accepts a 'mode' argument to specify how we can interact with the file\n",
    "```py\n",
    "open('filename.txt', mode='r')\n",
    "```\n",
    "\n",
    "Modes of opening a file ('mode' argument): \n",
    "1. Read mode - 'r': read the content of the file\n",
    "2. Append mode - 'a': add content to the end of the file\n",
    "3. Write mode - 'w': clears the content of the file and writes content to the file\n",
    "4. Create mode - 'x': create the file and return error if that file already exists. \n",
    "\n",
    "Read methods:    \n",
    "- ```f.read(n)``` reads and returns a string of 'n' characters, or the entire file as a single string (including newlines) if 'n' is not provided;    \n",
    "- ```f.readline(n)``` - iterator. Returns the next line of the file with all text up to and including the newline character. Will read up to 'n' bytes or a newline, whichever comes first; \n",
    "- ```f.readlines(n)``` - returns a list of strings, each representing a single line of the file including newline symbols. \n",
    "\n",
    "**Example 1**\n",
    "```py\n",
    "filehandle = open('filename.txt')\n",
    "content = filehandle.read()\n",
    "print(content)\n",
    "filehandle.close()\n",
    "```\n",
    "\n",
    "**Example 2**   \n",
    "Close file automatically using 'with' statement:\n",
    "```py\n",
    "with open('justpractice.txt', 'r') as f:\n",
    "\toutput = f.readlines()\n",
    "\tfor line in output:\n",
    "\t\tprint(line.split(\"\\n\")[0]) \n",
    "\n",
    "```\n",
    "\n",
    "Skip the first line, print all subsequent lines with `readlines()`\n",
    "```py\n",
    "with open('justpractice.txt', 'r') as f:\n",
    "\tf.readline()\n",
    "\tfor line in f:\n",
    "\t\tprint(line.split(\"\\n\")[0])\n",
    "\n",
    "```\n",
    "\n",
    "Write heading to the output file\n",
    "```py\n",
    "with open('input.txt', 'r') as input, open('filepath.txt', 'w') as output: \n",
    "\tinput1 = input.readlines()\n",
    "\toutput.write(\"Mutations\" + '\\t' + \"Correlation\" + '\\t' + \"P-value\" + '\\n')\n",
    "\tfor i in input1:\n",
    "\t\toutput.write(i)\n",
    "\tprint('something', file=output)\n",
    "\n",
    "# read file, omitting newlines (\\n)\n",
    "with open('rosalind_gc.txt', 'r') as input:\n",
    "    lines = [line.strip() for line in input.readlines()]\n",
    "\n",
    "# Use module csv\n",
    "# outputs content on each line placed before delimiter ';'\n",
    "import csv\n",
    "with open('input.csv', 'r') as input, open('output.csv', 'w') as output:\n",
    "\tcsv_reader = csv.reader(input, delimiter=';')\n",
    "\tnext(csv_reader) # skips reading header in input.txt\n",
    "\tfor line in csv_reader:\n",
    "\t\toutput.write(line[0] + \"\\n\")\n",
    "\n",
    "with open('input.csv', 'r') as input, open('output.csv', 'w') as output:\n",
    "    csv_reader = csv.reader(input, delimiter=',')\n",
    "    csv_writer = csv.writer(output)\n",
    "    for line in csv_reader:\n",
    "        csv_writer.writerow(line)\n",
    "\n",
    "```"
   ]
  },
  {
   "cell_type": "code",
   "execution_count": 12,
   "id": "449ca07e",
   "metadata": {},
   "outputs": [
    {
     "name": "stdout",
     "output_type": "stream",
     "text": [
      "{'information': 'a json file about people and their habits', 'author': 'unknown', 'people': [{'full name': 'John Doe', 'age': 15, 'favourite book': 'Harry Potter', 'pet': 'Cat'}, {'full name': 'Jane Dane', 'age': 21, 'favourite drinks': ['rootbeer', 'red wine', 'vodka']}]}\n",
      "information\n",
      "author\n",
      "people\n",
      "John Doe\n",
      "Jane Dane\n"
     ]
    }
   ],
   "source": [
    "# JSON from simple file\n",
    "import json\n",
    "\n",
    "with open('example_datasets/basic.json', 'r') as f:\n",
    "\tdata = json.load(f)\n",
    "\n",
    "print(data)\n",
    "\n",
    "for i in data:\n",
    "\tprint(i)\n",
    "\n",
    "for i in data['people']:\n",
    "\tprint(i['full name'])"
   ]
  },
  {
   "cell_type": "code",
   "execution_count": 8,
   "id": "91c45bf1",
   "metadata": {},
   "outputs": [
    {
     "name": "stdout",
     "output_type": "stream",
     "text": [
      "-- Not reply.\n",
      "message 1 from John\n",
      "-- Not reply.\n",
      "message 2 from John\n",
      "-- Reply!\n",
      "reply to my msg \"message 1\"\n",
      "-- Not reply.\n",
      "message 1 from Rey\n",
      "-- Reply!\n",
      "reply to John's msg \"message 2\"\n",
      "-- Reply!\n",
      "hi!\n",
      "-- Not reply.\n",
      "hello @johndoe92\n",
      "-- Not reply.\n",
      "How are you?\n",
      "-- Not reply.\n",
      "I'm fine @ReySky , how are you?\n",
      "-- Not reply.\n",
      "check out this video: https://www.youtube.com/watch?v=5K0DyMpxpUk\n",
      "-- Not reply.\n",
      "check out this song: https://open.spotify.com it's really good, don't you think @ReySky ?\n",
      "-- Not reply.\n",
      "original message, but with edited info added later\n"
     ]
    }
   ],
   "source": [
    "# JSON from data from telegram\n",
    "import json\n",
    "\n",
    "with open('example_datasets/toy_dataset_190123.json', 'r', encoding='utf-8') as f:\n",
    "\tdata = json.load(f)\n",
    "\n",
    "for i in data['messages']:\n",
    "\t# print(i)\n",
    "\tif i['type'] == 'message':\n",
    "\t\t# Date\n",
    "\t\tdate = i['date']\n",
    "\t\t# Is reply?\n",
    "\t\tif 'reply_to_message_id' in i:\n",
    "\t\t\tprint('-- Reply!')\n",
    "\t\telse:\n",
    "\t\t\tprint('-- Not reply.')\n",
    "\t\t### Check if text within text_entities is composite\n",
    "\t\t###### There's just one message, no pings, no links, no nothing\n",
    "\t\tif len(i['text_entities']) == 1:\n",
    "\t\t\tmessage = i['text_entities'][0]['text']\n",
    "\t\t###### There's ping or/and link\n",
    "\t\telse:\n",
    "\t\t\tblock = ''\n",
    "\t\t\t###### Iterate through each 'text' item within 'text_entities', check it's type (whether it's ping or link), add text to 'block' variable\n",
    "\t\t\tfor j in i['text_entities']:\n",
    "\t\t\t\tblock += j['text']\n",
    "\t\t\tmessage = ''.join(block)\n",
    "\t\tprint(message)\n",
    "\n"
   ]
  },
  {
   "cell_type": "markdown",
   "id": "d5c3bd6c",
   "metadata": {
    "tags": []
   },
   "source": [
    "# Loops and conditional statements"
   ]
  },
  {
   "cell_type": "code",
   "execution_count": 987,
   "id": "658e1d62",
   "metadata": {},
   "outputs": [
    {
     "name": "stdout",
     "output_type": "stream",
     "text": [
      "***\n",
      "***\n",
      "***\n",
      "\n",
      "Downloading file 0 out of 3\n",
      "Downloading file 1 out of 3\n",
      "Downloading file 2 out of 3\n",
      "\n"
     ]
    }
   ],
   "source": [
    "# \"While\" loop\n",
    "def display_stars(rows):\n",
    "    counter = 0\n",
    "    while counter < rows:\n",
    "        print(\"***\")\n",
    "        counter += 1\n",
    "display_stars(3)\n",
    "print()\n",
    "\n",
    "# \"For\" loop \n",
    "## We can reuse a loop with a range that we desire, simply by passing a parameter \"total_files\" between the parentheses of range()\n",
    "## Loop ranges tell us how many times a loop runs\n",
    "def display_progress(total_files):\n",
    "    for i in range(total_files):\n",
    "        print (f\"Downloading file {i} out of {total_files}\")\n",
    "display_progress(3)\n",
    "print()\n",
    "\n"
   ]
  },
  {
   "cell_type": "code",
   "execution_count": 988,
   "id": "562036c8",
   "metadata": {},
   "outputs": [
    {
     "name": "stdout",
     "output_type": "stream",
     "text": [
      "found an 's'!\n",
      "done!\n"
     ]
    }
   ],
   "source": [
    "a = \"password\"\n",
    "\n",
    "for i in a:\n",
    "\tif i != \"s\":\n",
    "\t\tcontinue # continue statement ends the cycle's current iteration and starts the next one \n",
    "\telif i == \"s\":\n",
    "\t\tprint(\"found an 's'!\")\n",
    "\t\tbreak # exits the loop\n",
    "print('done!')"
   ]
  },
  {
   "cell_type": "code",
   "execution_count": 989,
   "id": "0b5da9f6",
   "metadata": {},
   "outputs": [],
   "source": [
    "# Definite loop\n",
    "\n",
    "# in this case, :\n",
    "# i - iteration variable\n",
    "\n",
    "for i in [0, 1, 2, 3]:\n",
    "\tcontinue"
   ]
  },
  {
   "cell_type": "markdown",
   "id": "f75d1ae0",
   "metadata": {},
   "source": [
    "## Statements\n",
    "\n",
    "There are some important statements for controlling the loop:\n",
    "\n",
    "| Statement | Meaning |\n",
    "| - | - |\n",
    "| `continue` | Returns the current iteration to the beginning, IOW, skips the current iteration. |\n",
    "| `break` | Stops / gets out of the loop and moves forward. |\n",
    "| `pass` | A null statement, could be used as a placeholder for future code. |\n"
   ]
  },
  {
   "cell_type": "code",
   "execution_count": 6,
   "id": "36a9ad0f",
   "metadata": {},
   "outputs": [
    {
     "name": "stdout",
     "output_type": "stream",
     "text": [
      "1\n",
      "2\n",
      "3\n",
      "5\n"
     ]
    }
   ],
   "source": [
    "# The \"continue\" statement\n",
    "# We skip number 2\n",
    "for i in [1,2,3,4,5]:\n",
    "\tif i == 4:\n",
    "\t\tcontinue\n",
    "\tprint(i)"
   ]
  },
  {
   "cell_type": "code",
   "execution_count": 7,
   "id": "1ae28521",
   "metadata": {},
   "outputs": [
    {
     "name": "stdout",
     "output_type": "stream",
     "text": [
      "1\n",
      "2\n",
      "3\n"
     ]
    }
   ],
   "source": [
    "# The \"break\" statement\n",
    "# Gets the iterator out of the loop\n",
    "for i in [1,2,3,4,5]:\n",
    "\tif i == 4:\n",
    "\t\tbreak\n",
    "\tprint(i)"
   ]
  },
  {
   "cell_type": "code",
   "execution_count": 9,
   "id": "4c1897b2",
   "metadata": {},
   "outputs": [
    {
     "name": "stdout",
     "output_type": "stream",
     "text": [
      "1\n",
      "2\n",
      "3\n",
      "4\n",
      "5\n"
     ]
    }
   ],
   "source": [
    "# The \"null\" statement\n",
    "# Null statement\n",
    "for i in [1,2,3,4,5]:\n",
    "\tif i == 4:\n",
    "\t\tpass\n",
    "\tprint(i)"
   ]
  },
  {
   "cell_type": "markdown",
   "id": "2e344f8d",
   "metadata": {},
   "source": [
    "## Zip, enumerate\n",
    "\n",
    "**Zip**\n",
    "\n",
    "Takes iterables and returns a zip object that is an iterator of tuples. \n",
    "\n",
    "```py\n",
    "list1 = 'SDSPAGE'\n",
    "list2 = 'jacuzzi'\n",
    "\n",
    "for i in zip(list1, list2):\n",
    "\tprint(i) # ('S', 'j')\n",
    "\n",
    "```\n",
    "\n",
    "Zip only zips together the same elements from the same index; therefore, if one list is longer than the other, the longer list gets cut off. \n",
    "\n",
    "If you want to include the overlapping end of the longer list, you can use `itertools.zip_longest()`:\n",
    "```py\n",
    "import itertools\n",
    "z = list( itertools.zip_longest('String1', 'Str2', fillvalue='') )\n",
    "```\n",
    "\n",
    "---\n",
    "\n",
    "**Enumerate** \n",
    "\n",
    "Produces sequence of tuples, each an index-value pair. Returns enumerate object.   \n",
    "\n",
    "```py\n",
    "for index, value in enumerate('SDSPAGE'):\n",
    "\tprint(value)\n",
    "```\n"
   ]
  },
  {
   "cell_type": "markdown",
   "id": "a4cd9f15",
   "metadata": {
    "tags": []
   },
   "source": [
    "# Functions\n",
    "\n",
    "Functions are needed to keep your code DRY = not repeat the same code over and over again.    \n",
    "def function_name(argument1, argument2)"
   ]
  },
  {
   "cell_type": "markdown",
   "id": "4cc5e0c4",
   "metadata": {},
   "source": [
    "## Define new function\n",
    "\n",
    "```def function_name(a: str, b, c) -> int:```    \n",
    "In this case, int, line:str are all function annotations.    \n",
    "Call function annotations with function_name.__annotations__"
   ]
  },
  {
   "cell_type": "code",
   "execution_count": 993,
   "id": "1e4ffc1d",
   "metadata": {},
   "outputs": [
    {
     "name": "stdout",
     "output_type": "stream",
     "text": [
      "\n",
      "\tExplain a little what this function does.\n",
      "\t\n",
      "\tParameters: \n",
      "\t---------- \n",
      "\t\tteam \n",
      "\t\t\tpositional argument of display_players function      \n",
      "\t\tnumber \n",
      "\t\t\tkeyword (default) argument. Can only be at the end of a function. \n",
      "\t\t\torder doesn't matter. \n",
      "\t\t\t\n",
      "\tReturns:\n",
      "\t--------\n",
      "\t\tsomething...\n",
      "\t\n",
      "Player 1: Kim\n",
      "Player 2: Lee\n",
      "Player 3: Chan\n",
      "('Math', 'Art')\n",
      "{'name': 'John', 'age': 22}\n",
      "1 2\n",
      "()\n",
      "1 2\n",
      "(3, 4)\n",
      "1 2\n",
      "(3, 4)\n",
      "five 5\n",
      "0 1 2\n",
      "1 2 3\n"
     ]
    },
    {
     "data": {
      "text/plain": [
       "3"
      ]
     },
     "execution_count": 993,
     "metadata": {},
     "output_type": "execute_result"
    }
   ],
   "source": [
    "# the function 'display_players' is well-documented with docstring, \n",
    "# which provides explanation about arguments\n",
    "# Parameters (what is declared in the function, e.g. team, number) vs \n",
    "# Arguments (what is passed through when calling the function, e.g. display_players([\"Kim\", \"Lee\"], 2) )\n",
    "\n",
    "\n",
    "def display_players(team , number=1):\n",
    "    \"\"\"\n",
    "\tExplain a little what this function does.\n",
    "\t\n",
    "\tParameters: \n",
    "\t---------- \n",
    "\t\tteam \n",
    "\t\t\tpositional argument of display_players function      \n",
    "\t\tnumber \n",
    "\t\t\tkeyword (default) argument. Can only be at the end of a function. \n",
    "\t\t\torder doesn't matter. \n",
    "\t\t\t\n",
    "\tReturns:\n",
    "\t--------\n",
    "\t\tsomething...\n",
    "\t\"\"\"\n",
    "    for name in team:\n",
    "        print(f\"Player {number}: {name}\")\n",
    "        number += 1\n",
    "\n",
    "print(display_players.__doc__) # print docstring\n",
    "display_players( [\"Kim\", \"Lee\", \"Chan\"] )\n",
    "\n",
    "\n",
    "# positional arguments (*args), keyword arguments (**kwargs)\n",
    "def student_info(*args, **kwargs):\n",
    "    print(args)\n",
    "    print(kwargs)\n",
    "\n",
    "student_info('Math', 'Art', name = 'John', age=22)\n",
    "\n",
    "def foo(a, b, *args, **kwargs): # arguments (positional), keyword arguments\n",
    "\tprint(a, b)\n",
    "\t# for arg in args:\n",
    "\t# \tprint(arg)\n",
    "\tprint(args)\n",
    "\tfor key in kwargs:\n",
    "\t\t# print(f\"{key}, {kwargs[key]}\")\n",
    "\t\tprint(key, kwargs[key])\n",
    "\n",
    "foo(1, 2)\n",
    "foo(1, 2, 3, 4)\n",
    "foo(1, 2, 3, 4, five=5)\n",
    "\n",
    "\n",
    "# unpacking dictionary or list into function arguments\n",
    "# length of container must match number of arguments\n",
    "\n",
    "def foo(a, b, c):\n",
    "\tprint(a, b, c)\n",
    "\n",
    "my_list = (0, 1, 2)\n",
    "foo(*my_list)\n",
    "\n",
    "my_dict = {'a':1, 'b':2, 'c':3}\n",
    "foo(**my_dict)\n",
    "\n",
    "def foo():\n",
    "\tglobal number # change global variable from a function\n",
    "\tnumber = 3\n",
    "\treturn number\n",
    "\n",
    "number = 0\n",
    "foo()"
   ]
  },
  {
   "cell_type": "code",
   "execution_count": 994,
   "id": "e693b06f",
   "metadata": {},
   "outputs": [
    {
     "name": "stdout",
     "output_type": "stream",
     "text": [
      "Next up: Hey Jude\n",
      "Next up: Helter Skelter\n",
      "Next up: Something\n"
     ]
    },
    {
     "data": {
      "text/plain": [
       "{'playlist': list, 'return': str}"
      ]
     },
     "execution_count": 994,
     "metadata": {},
     "output_type": "execute_result"
    }
   ],
   "source": [
    "def show_next_track(playlist: list) -> str:\n",
    "    for track in playlist:\n",
    "        print(f\"Next up: {track}\")\n",
    "show_next_track( [\"Hey Jude\", \"Helter Skelter\", \"Something\"] )\n",
    "\n",
    "\n",
    "show_next_track.__annotations__"
   ]
  },
  {
   "cell_type": "code",
   "execution_count": 995,
   "id": "7f895186",
   "metadata": {},
   "outputs": [
    {
     "name": "stdout",
     "output_type": "stream",
     "text": [
      "Start\n",
      "15\n",
      "End\n",
      "15\n"
     ]
    }
   ],
   "source": [
    "# Decorators - a function that takes another function as an argument, \n",
    "# extends behaviour of this function without explicitly modifying it\n",
    "# There are function and class decorators\n",
    "\n",
    "def start_end_decorator(func):\n",
    "\tdef wrapper():\n",
    "\t\tprint('Start')\n",
    "\t\tfunc()\n",
    "\t\tprint('End')\n",
    "\treturn wrapper\n",
    "\n",
    "@start_end_decorator\n",
    "def print_name():\n",
    "\tprint('Alex')\n",
    "\n",
    "# print_name()\n",
    "\n",
    "\n",
    "\n",
    "def start_end_decorator(func):\n",
    "\tdef wrapper(*args, **kwargs):\n",
    "\t\tprint('Start')\n",
    "\t\tfunc(*args, **kwargs)\n",
    "\t\tprint(func(*args, **kwargs))\n",
    "\t\tprint('End')\n",
    "\t\treturn func(*args, **kwargs)\n",
    "\t\t\n",
    "\treturn wrapper\n",
    "\n",
    "@start_end_decorator\n",
    "def add5(x):\n",
    "\treturn x + 5\n",
    "\n",
    "print( add5(10) )"
   ]
  },
  {
   "cell_type": "code",
   "execution_count": 996,
   "id": "6e2abed9",
   "metadata": {},
   "outputs": [
    {
     "data": {
      "text/plain": [
       "False"
      ]
     },
     "execution_count": 996,
     "metadata": {},
     "output_type": "execute_result"
    }
   ],
   "source": [
    "def function1(n):\n",
    "\treturn True if n == 5 else False\n",
    "\n",
    "function1(4)"
   ]
  },
  {
   "cell_type": "markdown",
   "id": "fbb6bd14",
   "metadata": {},
   "source": [
    "## Lambda     \n",
    "- A simple one-line function; \n",
    "- Doesn't use def or return keywords - these are implicit. \n",
    "\n",
    " \n",
    "\n",
    "**Map function**   \n",
    "- Apply same function to each element of a sequence/list, return the modified list    \n",
    "\n",
    "```listname = [4, 3, 2, 1]```   \n",
    "```print( list(map(lambda x:x**2, listname)) )```   \n",
    "\n",
    "*list comprehension solution*:   \n",
    "```print( [x**2 for x in listname] )```    \n",
    "\n",
    "**Filter function**       \n",
    "- Filters items out of a sequence, returns filtered list   \n",
    "\n",
    "```listname = [4, 3, 2, 1]```    \n",
    "```print( list(filter(lambda x: x>2, listname)) )```   \n",
    "\n",
    "*or list comprehension solution:*     \n",
    "```print( [x for x in listname if x>2] )```    \n",
    "\n",
    "reduce    \n",
    "applies same operation to items of a sequence   \n"
   ]
  },
  {
   "cell_type": "code",
   "execution_count": 997,
   "id": "2cf66cd0",
   "metadata": {},
   "outputs": [
    {
     "name": "stdout",
     "output_type": "stream",
     "text": [
      "12\n",
      "8\n",
      "[2, 4, 6, 8, 10]\n"
     ]
    }
   ],
   "source": [
    "add10 = lambda x: x + 10\n",
    "mult = lambda x,y: x*y\n",
    "\n",
    "print( add10(2) )\n",
    "\n",
    "# print the biggest number of the couple\n",
    "mx = lambda x, y: x if x > y else y   \n",
    "print(mx(8, 5))  \n",
    "\n",
    "\n",
    "# analogue to list comprehension\n",
    "a = [1, 2, 3, 4, 5]\n",
    "print( list(map(lambda x: x*2, a)) )\n",
    "\n"
   ]
  },
  {
   "cell_type": "markdown",
   "id": "15da8aa4",
   "metadata": {},
   "source": [
    "# Exception Handling\n",
    "\n",
    "SyntaxError: brackets, etc   \n",
    "TypeError: int vs str   \n",
    "ModuleNotFoundError   \n",
    "NameError: variables not defined   \n",
    "FileNotFoundError   \n",
    "ValueError: error of index removal where it doesn't exist   \n",
    "IndexError: index out of range   \n",
    "KeyError: in dictionaries   "
   ]
  },
  {
   "cell_type": "code",
   "execution_count": 1,
   "id": "75ed700f",
   "metadata": {},
   "outputs": [
    {
     "name": "stdout",
     "output_type": "stream",
     "text": [
      "variable is not a number\n"
     ]
    }
   ],
   "source": [
    "a = \"string\"\n",
    "try:\n",
    "\tb = int(a)\n",
    "except:\n",
    "\tb = \"variable is not a number\"\n",
    "print(b)"
   ]
  },
  {
   "cell_type": "code",
   "execution_count": 999,
   "id": "04f385a8",
   "metadata": {},
   "outputs": [
    {
     "name": "stdout",
     "output_type": "stream",
     "text": [
      "Done!\n"
     ]
    }
   ],
   "source": [
    "a = 8\n",
    "try:\n",
    "\tb = int(a)\n",
    "except:\n",
    "\tb = \"wrong\"\n",
    "\n",
    "if b != \"wrong\":\n",
    "\tprint('Done!')\n",
    "else:\n",
    "\tprint('Wrong')"
   ]
  },
  {
   "cell_type": "code",
   "execution_count": 5,
   "id": "771a2255",
   "metadata": {},
   "outputs": [
    {
     "name": "stdout",
     "output_type": "stream",
     "text": [
      "all is good\n",
      "End of exception search\n"
     ]
    },
    {
     "ename": "Exception",
     "evalue": "wrong value bro",
     "output_type": "error",
     "traceback": [
      "\u001b[1;31m---------------------------------------------------------------------------\u001b[0m",
      "\u001b[1;31mException\u001b[0m                                 Traceback (most recent call last)",
      "\u001b[1;32mc:\\Users\\evgen\\Desktop\\Python-handbook\\PYTHON BASICS 1 (vzem).ipynb Cell 91\u001b[0m in \u001b[0;36m<cell line: 20>\u001b[1;34m()\u001b[0m\n\u001b[0;32m     <a href='vscode-notebook-cell:/c%3A/Users/evgen/Desktop/Python-handbook/PYTHON%20BASICS%201%20%28vzem%29.ipynb#Y154sZmlsZQ%3D%3D?line=18'>19</a>\u001b[0m var \u001b[39m=\u001b[39m \u001b[39m\"\u001b[39m\u001b[39mNO\u001b[39m\u001b[39m\"\u001b[39m\n\u001b[0;32m     <a href='vscode-notebook-cell:/c%3A/Users/evgen/Desktop/Python-handbook/PYTHON%20BASICS%201%20%28vzem%29.ipynb#Y154sZmlsZQ%3D%3D?line=19'>20</a>\u001b[0m \u001b[39mif\u001b[39;00m var \u001b[39m!=\u001b[39m \u001b[39m\"\u001b[39m\u001b[39mYES\u001b[39m\u001b[39m\"\u001b[39m:\n\u001b[0;32m     <a href='vscode-notebook-cell:/c%3A/Users/evgen/Desktop/Python-handbook/PYTHON%20BASICS%201%20%28vzem%29.ipynb#Y154sZmlsZQ%3D%3D?line=20'>21</a>\u001b[0m     \u001b[39m#raise TypeError(\"test explanation\")\u001b[39;00m\n\u001b[1;32m---> <a href='vscode-notebook-cell:/c%3A/Users/evgen/Desktop/Python-handbook/PYTHON%20BASICS%201%20%28vzem%29.ipynb#Y154sZmlsZQ%3D%3D?line=21'>22</a>\u001b[0m     \u001b[39mraise\u001b[39;00m \u001b[39mException\u001b[39;00m(\u001b[39m'\u001b[39m\u001b[39mwrong value bro\u001b[39m\u001b[39m'\u001b[39m)\n\u001b[0;32m     <a href='vscode-notebook-cell:/c%3A/Users/evgen/Desktop/Python-handbook/PYTHON%20BASICS%201%20%28vzem%29.ipynb#Y154sZmlsZQ%3D%3D?line=23'>24</a>\u001b[0m \u001b[39m# Raise a custom error (define our own error)\u001b[39;00m\n\u001b[0;32m     <a href='vscode-notebook-cell:/c%3A/Users/evgen/Desktop/Python-handbook/PYTHON%20BASICS%201%20%28vzem%29.ipynb#Y154sZmlsZQ%3D%3D?line=24'>25</a>\u001b[0m typing \u001b[39m=\u001b[39m \u001b[39m\"\u001b[39m\u001b[39mYES\u001b[39m\u001b[39m\"\u001b[39m\n",
      "\u001b[1;31mException\u001b[0m: wrong value bro"
     ]
    }
   ],
   "source": [
    "# Handling exceptions\n",
    "try:\n",
    "    a = 5 / 1\n",
    "    b = a + 10\n",
    "except ZeroDivisionError:\n",
    "    print(\"Found ZeroDivisionError\")\n",
    "except (NameError, ValueError, TypeError):\n",
    "    print(\"Found some errors!\")\n",
    "except TypeError as e:\n",
    "    print(e)\n",
    "else: \n",
    "    print('all is good')\n",
    "finally: # Runs always, if error exists or not\n",
    "    print(\"End of exception search\")\n",
    "\n",
    "\n",
    "\n",
    "# Raise an error if condition met\n",
    "var = \"NO\"\n",
    "if var != \"YES\":\n",
    "    #raise TypeError(\"test explanation\")\n",
    "    raise Exception('wrong value bro')\n",
    "\n",
    "# Raise a custom error (define our own error)\n",
    "typing = \"YES\"\n",
    "class ValueTooHighError(Exception):\n",
    "    pass\n",
    "\n",
    "class ValueTooSmallError(Exception):\n",
    "    def __init__(self, message, value):\n",
    "        self.message = message\n",
    "        self.value = value\n",
    "x = 101\n",
    "if x > 100:\n",
    "    raise ValueTooHighError('value is too high')\n",
    "\n",
    "\n",
    "assert (x >= 0), 'x is not positive'"
   ]
  },
  {
   "cell_type": "code",
   "execution_count": 7,
   "id": "429e1eaf",
   "metadata": {},
   "outputs": [
    {
     "ename": "AssertionError",
     "evalue": "Variable -1 is not greater than zero",
     "output_type": "error",
     "traceback": [
      "\u001b[1;31m---------------------------------------------------------------------------\u001b[0m",
      "\u001b[1;31mAssertionError\u001b[0m                            Traceback (most recent call last)",
      "\u001b[1;32mc:\\Users\\evgen\\Desktop\\Python-handbook\\PYTHON BASICS 1 (vzem).ipynb Cell 92\u001b[0m in \u001b[0;36m<cell line: 3>\u001b[1;34m()\u001b[0m\n\u001b[0;32m      <a href='vscode-notebook-cell:/c%3A/Users/evgen/Desktop/Python-handbook/PYTHON%20BASICS%201%20%28vzem%29.ipynb#Y155sZmlsZQ%3D%3D?line=0'>1</a>\u001b[0m x \u001b[39m=\u001b[39m \u001b[39m-\u001b[39m\u001b[39m1\u001b[39m\n\u001b[1;32m----> <a href='vscode-notebook-cell:/c%3A/Users/evgen/Desktop/Python-handbook/PYTHON%20BASICS%201%20%28vzem%29.ipynb#Y155sZmlsZQ%3D%3D?line=2'>3</a>\u001b[0m \u001b[39massert\u001b[39;00m x \u001b[39m>\u001b[39m \u001b[39m0\u001b[39m, \u001b[39mf\u001b[39m\u001b[39m\"\u001b[39m\u001b[39mVariable \u001b[39m\u001b[39m{\u001b[39;00mx\u001b[39m}\u001b[39;00m\u001b[39m is not greater than zero\u001b[39m\u001b[39m\"\u001b[39m\n",
      "\u001b[1;31mAssertionError\u001b[0m: Variable -1 is not greater than zero"
     ]
    }
   ],
   "source": [
    "x = -1\n",
    "\n",
    "assert x > 0, f\"Variable {x} is not greater than zero\""
   ]
  },
  {
   "cell_type": "code",
   "execution_count": null,
   "id": "fc27535f",
   "metadata": {},
   "outputs": [],
   "source": [
    "# Exit the function prematurely upon meeting a condition\n",
    "def function(level):\n",
    "\ttry: \n",
    "\t\tlevel = int(level)\n",
    "\texcept:\n",
    "\t\tprint(\"Please enter a number or 'exit'\")\n",
    "\t\treturn None\n",
    "\tprint('continue')"
   ]
  },
  {
   "cell_type": "markdown",
   "id": "9a5d19e7",
   "metadata": {
    "jp-MarkdownHeadingCollapsed": true,
    "tags": []
   },
   "source": [
    "# OOP\n",
    "Object-oriented programming   \n",
    "\n",
    "**Class** - blueprint code from which Objects can be created;    \n",
    "**Object** - When memory is allocated to the data entity (created from blueprint class) , that data entity or reference to it is called Object;     \n",
    "**Instance** - unique realization of an Object; Object with individual data for an Instance; \n",
    "\n",
    "Variables:\n",
    "- Instance variables: unique for each instance;\n",
    "- Class variables: shared among all instances of a class;\n",
    "\n",
    "Attributes:\n",
    "- Class attribute: you can access these from instance levels\n",
    "\n",
    "\n",
    "Methods are functions defined within a class. For classmethod and staticmethod, we use decorator (`@`).\n",
    "- **Regular methods**: automatically pass instance as the first argument (self)    \n",
    "- **Class methods** (`@classmethod`): automatically pass class as first argument (cls)    \n",
    "- **Static methods** (`@staticmethod`): don't pass anything automatically; they behave like regular functions. They are static because we don't access instance or class anywhere in the function.\n",
    "- **Constructor method**: method that is called when an object is created. In python, it is ```def __init__(self):```\n",
    "\n",
    "Inheritance:    \n",
    "Subclass of class inherits methods from its parent class. \n",
    "\n",
    "\n",
    "it's similar to a variable being an instance of class \"str\", e.g. random_str = str(\"4\")\n",
    "\n",
    "\n",
    "```py\n",
    "# Check methods associated with a class\n",
    "dir(list())\n",
    "dir(str())\n",
    "```"
   ]
  },
  {
   "cell_type": "markdown",
   "id": "2c2b01d5",
   "metadata": {},
   "source": [
    "## Ex1"
   ]
  },
  {
   "cell_type": "code",
   "execution_count": 1003,
   "id": "425051f0",
   "metadata": {},
   "outputs": [
    {
     "name": "stdout",
     "output_type": "stream",
     "text": [
      "An instance created: John Doe 15000\n",
      "An instance created: Jack Jones 20000.0\n",
      "53040\n",
      "{'_first': 'John', 'last': 'Doe', 'pay': 53040, 'email': 'John.Doe@harvard.com'}\n"
     ]
    }
   ],
   "source": [
    "class Employee: # Parent class (see Inheritance section)\n",
    "\traise_amount = 1.04 # class variable\n",
    "\tdef __init__(self, first, last, pay=50000): # Constructor method\n",
    "\t\t\"\"\"Method with multiple parameters (first, last, pay).\n",
    "\t\tRuns validation to check if the received arguments are within the expected boundaries\"\"\"\n",
    "\t\tassert pay >= 0, f\"{pay} is less than zero - incorrect!\"\n",
    "\t\tprint(f\"An instance created: {first} {last} {pay}\")\n",
    "\t\t# Attributes within the class (instance variables):\n",
    "\t\tself._first = first\n",
    "\t\tself.last = last\n",
    "\t\tself.pay = pay\n",
    "\t\tself.email = first + '.' + last + '@harvard.com'\n",
    "\t@property # property decorator - read-only attribute\n",
    "\tdef first(self):\n",
    "\t\treturn self.first\n",
    "\tdef fullname(self):\n",
    "\t\treturn f'{self.first} {self.last}'\n",
    "\tdef apply_raise(self): # this methods increases 'pay' by 'raise_amount'\n",
    "\t\tself.pay = int(self.pay * self.raise_amount)\n",
    "\t@classmethod # class method\n",
    "\tdef set_raise_amt(cls, amount):\n",
    "\t\tcls.raise_amt = amount\n",
    "\t@classmethod\n",
    "\tdef from_string(cls, emp_str):\n",
    "\t\tfirst, last, pay = emp_str.split('-')\n",
    "\t\t# cls(first, last, float(pay))\n",
    "\t\treturn cls(first, last, float(pay))\n",
    "\t@staticmethod\n",
    "\tdef is_workday(day):\n",
    "\t\t# IF saturday/sunday\n",
    "\t\tif day.weekday() == 5 or day.weekday() == 6:\n",
    "\t\t\treturn False\n",
    "\t\treturn True\n",
    "\n",
    "# Unique instances (objects) of the Employee class\n",
    "emp_1 = Employee('John', 'Doe', 15000)\n",
    "emp_3 = Employee.from_string('Jack-Jones-20000')\n",
    "\n",
    "# Assign attribute to instance 'emp_1' of class Employee\n",
    "emp_1.pay = 51000\n",
    "emp_1.apply_raise()\n",
    "print(emp_1.pay)\n",
    "\n",
    "# Print all attributes connected to 'emp_1'\n",
    "print(emp_1.__dict__)\n",
    "\n",
    "# Change raise amount for one instance of the class\n",
    "emp_1.raise_amount = 1.09\n",
    "# Change raise amount for the whole class\n",
    "Employee.raise_amount = 1.05\n",
    "Employee.set_raise_amt(1.05) #ver2\n",
    "\n"
   ]
  },
  {
   "cell_type": "code",
   "execution_count": 1004,
   "id": "080aeab3",
   "metadata": {},
   "outputs": [
    {
     "name": "stdout",
     "output_type": "stream",
     "text": [
      "An instance created: Corey Schafer 50000\n",
      "An instance created: Test Employee 60000\n",
      "An instance created: Jack Wills 90000\n",
      "1.1\n",
      "True\n"
     ]
    }
   ],
   "source": [
    "###########################################\n",
    "###   Inheritance   #######################\n",
    "###########################################\n",
    "\n",
    "\n",
    "class Developer(Employee): # Developer is subclass (child class) of parent class Employee\n",
    "    raise_amt = 1.10\n",
    "    def __init__(self, first, last, pay, prog_lang): # Call to super function to have access to all attributes/methods of parent function\n",
    "        super().__init__(first, last, pay) \n",
    "        self.prog_lang = prog_lang\n",
    "\n",
    "\n",
    "class Manager(Employee):\n",
    "    def __init__(self, first, last, pay, employees = None):\n",
    "        super().__init__(first, last, pay)\n",
    "        if employees is None: self.employees = []\n",
    "        else: self.employees = employees\n",
    "    def add_emp(self, emp):\n",
    "        if emp not in self.employees:\n",
    "            self.employees.append(emp)\n",
    "    def remove_emp(self, emp):\n",
    "        if emp in self.employees:\n",
    "            self.employees.remove(emp)\n",
    "\n",
    "dev_1 = Developer('Corey', 'Schafer', 50000, 'Python')\n",
    "dev_2 = Developer('Test', 'Employee', 60000, 'Java')\n",
    "mgr_1 = Manager('Jack', 'Wills', 90000, [dev_1])\n",
    "\n",
    "print( Developer.raise_amt )\n",
    "\n",
    "mgr_1.add_emp(dev_2)\n",
    "\n",
    "print(isinstance(mgr_1, Manager))\n"
   ]
  },
  {
   "cell_type": "code",
   "execution_count": 1005,
   "id": "856c1363",
   "metadata": {},
   "outputs": [
    {
     "name": "stdout",
     "output_type": "stream",
     "text": [
      "Loading the fuel\n",
      "Combusting the fuel\n",
      "Loading the fuel\n",
      "Combusting the fuel\n",
      "process done!\n"
     ]
    }
   ],
   "source": [
    "\"\"\"\n",
    "Abstraction - process of obscuring the real method implementation by only showing method signature. \n",
    "It is important so that other people can use a class without knowing how it works\n",
    "\"\"\"\n",
    "\n",
    "class Engine:\n",
    "\tdef load(self):\n",
    "\t\tprint('Loading the fuel')\n",
    "\tdef combust(self):\n",
    "\t\tprint('Combusting the fuel')\n",
    "\tdef process(self):\n",
    "\t\tfor i in range(0, 2):\n",
    "\t\t\tself.load()\n",
    "\t\t\tself.combust()\n",
    "\t\tprint('process done!')\n",
    "\n",
    "Engine().process()\n"
   ]
  },
  {
   "cell_type": "code",
   "execution_count": 1006,
   "id": "b2f7dee1",
   "metadata": {},
   "outputs": [
    {
     "name": "stdout",
     "output_type": "stream",
     "text": [
      "Hello, I am animal\n",
      "Hello, i am a Human!\n"
     ]
    }
   ],
   "source": [
    "\"\"\"\n",
    "Polymorphism:\n",
    "when functions of a subclass work differently than those of their parent class. \n",
    "\"\"\"\n",
    "\n",
    "class Animal:\n",
    "\tdef greet(self):\n",
    "\t\tprint(\"Hello, I am animal\")\n",
    "\n",
    "class Human(Animal):\n",
    "\tdef greet(self):\n",
    "\t\tprint(\"Hello, i am a Human!\")\n",
    "\n",
    "Animal().greet()\n",
    "Human().greet()"
   ]
  },
  {
   "cell_type": "markdown",
   "id": "1dffca26",
   "metadata": {},
   "source": [
    "## Ex2"
   ]
  },
  {
   "cell_type": "code",
   "execution_count": 1007,
   "id": "902874b9",
   "metadata": {},
   "outputs": [
    {
     "name": "stdout",
     "output_type": "stream",
     "text": [
      "Area of rectangle: 2000 cm^2\n",
      "Cost of rectangular field: 4000000 USD\n",
      "Rectangle: length = 100, width = 20, unit_cost = 2000 USD\n"
     ]
    },
    {
     "data": {
      "text/plain": [
       "5"
      ]
     },
     "execution_count": 1007,
     "metadata": {},
     "output_type": "execute_result"
    }
   ],
   "source": [
    "# Examples of OOP code:\n",
    "\n",
    "\n",
    "# Find out the cost of rectangular field with width (b=120), length (l=160), when it costs 2000 rubles per 1 square unit. \n",
    "class Rectangle:\n",
    "    def __init__(self, length, width, unit_cost=0):\n",
    "        self.length = length\n",
    "        self.width = width\n",
    "        self.unit_cost = unit_cost\n",
    "    def __str__(self):\n",
    "        \"\"\"String function\"\"\"\n",
    "        return f\"Rectangle: length = {self.length}, width = {self.width}, unit_cost = {self.unit_cost} USD\"\n",
    "    def change_length(self, length):\n",
    "        self.length = length\n",
    "    def change_width(self, width):\n",
    "        self.width = width\n",
    "    def get_perimeter(self):\n",
    "        return 2* (self.length + self.width)\n",
    "    def get_area(self):\n",
    "        return self.length * self.width\n",
    "    def get_diagonal(self):\n",
    "        return (self.length**2 + self.width**2)**0.5\n",
    "    def calculate_cost(self):\n",
    "        area = self.get_area()\n",
    "        return area* self.unit_cost\n",
    "    def print_rectangle(self):\n",
    "        if self.length > 50 or self.width > 50:\n",
    "            return \"Too big for picture.\"\n",
    "        else:\n",
    "            var=''\n",
    "            for i in range(self.length):\n",
    "                var += '*' * self.width\n",
    "                var += '\\n'\n",
    "            return var\n",
    "    def get_amount_inside(self, shape):\n",
    "        n = 0\n",
    "        if self.length < shape.length or self.width < shape.width:\n",
    "            return 0\n",
    "        else:\n",
    "            n = int(self.width / shape.width)\n",
    "            n = n * int(self.length / shape.length)\n",
    "            return n\n",
    "\n",
    "class Square(Rectangle):\n",
    "    def __init__(self, side, unit_cost=0):\n",
    "        self.length = side\n",
    "        self.width = side\n",
    "        self.unit_cost = unit_cost\n",
    "    def __str__(self):\n",
    "        return f\"Square: side = {self.width}\"\n",
    "\n",
    "rect1 = Rectangle(100, 20, 2000)\n",
    "print(f\"Area of rectangle: {rect1.get_area()} cm^2\")\n",
    "print(f\"Cost of rectangular field: {rect1.calculate_cost()} USD\")\n",
    "print(rect1)\n",
    "\n",
    "rect2 = Square(20, 20)\n",
    "\n",
    "rect1.get_amount_inside(rect2)"
   ]
  },
  {
   "cell_type": "markdown",
   "id": "0e944ec8",
   "metadata": {},
   "source": [
    "## Ex4 (custom colours)"
   ]
  },
  {
   "cell_type": "code",
   "execution_count": 1008,
   "id": "4bbb8330",
   "metadata": {},
   "outputs": [
    {
     "name": "stdout",
     "output_type": "stream",
     "text": [
      "\u001b[1;95mSample text 1\u001b[0m\n"
     ]
    }
   ],
   "source": [
    "class colour():\n",
    "\t# Regular-intensity colours\n",
    "\tblack = '\\033[30m'\n",
    "\tred = '\\033[31m'\n",
    "\tgreen = '\\033[32m'\n",
    "\tyellow = '\\033[33m'\n",
    "\tblue = '\\033[34m'\n",
    "\tmagenta = '\\033[35m'\n",
    "\tcyan = '\\033[36m'\n",
    "\twhite = '\\033[37m'\n",
    "\tunderline = '\\033[4m'\n",
    "\treset = '\\033[0m'\n",
    "\t# High-intensity colours\n",
    "\tbi_black = '\\033[1;90m'\n",
    "\tbi_red = '\\033[1;91m'\n",
    "\tbi_green = '\\033[1;92m'\n",
    "\tbi_yellow = '\\033[1;93m'\n",
    "\tbi_blue = '\\033[1;94m'\n",
    "\tbi_purple = '\\033[1;95m'\n",
    "\tbi_cyan = '\\033[1;96m'\n",
    "\tbi_white = '\\033[1;97m'\n",
    "\treset = '\\033[0m'\n",
    "\n",
    "print(f\"{colour.bi_purple}Sample text 1{colour.reset}\")\n"
   ]
  },
  {
   "cell_type": "markdown",
   "id": "51d979cf",
   "metadata": {},
   "source": [
    "## Ex5"
   ]
  },
  {
   "cell_type": "code",
   "execution_count": 1009,
   "id": "2175b3c8",
   "metadata": {},
   "outputs": [
    {
     "name": "stdout",
     "output_type": "stream",
     "text": [
      "Instance created!\n",
      "500\n"
     ]
    }
   ],
   "source": [
    "class Item:\n",
    "\t# rule that to instantiate an instance within this class, you must pass some parameters:\n",
    "\t# iow, also called 'constructor'\n",
    "\tdef __init__(self): # executed automatically when we create an instance\n",
    "\t\tprint('Instance created!')\n",
    "\tdef calculate_total_price(self, x, y): # This is method - a function defined inside of a class\n",
    "\t\treturn x*y\n",
    "\n",
    "item1 = Item()\n",
    "# Assign attributes to instance 'item1' of class 'Item'\n",
    "item1.name = \"Phone\"\n",
    "item1.price = 100\n",
    "item1.quantity = 5\n",
    "print( item1.calculate_total_price(item1.price, item1.quantity) )\n"
   ]
  },
  {
   "cell_type": "code",
   "execution_count": 1010,
   "id": "7fb36f06",
   "metadata": {},
   "outputs": [
    {
     "name": "stdout",
     "output_type": "stream",
     "text": [
      "An instance created: Phone!\n",
      "Phone 100 5\n",
      "500\n",
      "{'__module__': '__main__', 'pay_rate': 0.8, 'all': [Item('Phone', 100, 5)], '__init__': <function Item.__init__ at 0x0000021E0C545160>, 'calculate_total_price': <function Item.calculate_total_price at 0x0000021E0C545C10>, 'apply_discount': <function Item.apply_discount at 0x0000021E16C975E0>, 'instantiate_from_csv': <classmethod object at 0x0000021E16C620D0>, 'is_integer': <staticmethod object at 0x0000021E16C62A90>, '__repr__': <function Item.__repr__ at 0x0000021E16C97310>, '__dict__': <attribute '__dict__' of 'Item' objects>, '__weakref__': <attribute '__weakref__' of 'Item' objects>, '__doc__': None}\n",
      "{'name': 'Phone', 'price': 100, 'quantity': 5}\n",
      "An instance created: Phone!\n",
      "An instance created: Laptop!\n",
      "An instance created: Cable!\n",
      "An instance created: Mouse!\n",
      "An instance created: Keyboard!\n",
      "False\n"
     ]
    }
   ],
   "source": [
    "import csv\n",
    "\n",
    "class Item:\n",
    "\t# class attribute:\n",
    "\tpay_rate = 0.8 # The pay rate after 20% discount\n",
    "\tall = []\n",
    "\tdef __init__(self, name: str, price: float, quantity=0):\n",
    "\t\t# run validations to the received arguments\n",
    "\t\tassert type(name) == str, f\"Name {name} is not a string!\"\n",
    "\t\tassert price >= 0, f\"Price {price} is not greater than zero!\"\n",
    "\t\tassert quantity >= 0, f\"Quantity {quantity} is not greater than zero!\"\n",
    "\t\tprint(f'An instance created: {name}!')\n",
    "\t\t# dynamically assign an attribute to the instance:\n",
    "\t\t# dynamic attribute assignment\n",
    "\t\t# Assign to self object\n",
    "\t\t# instance attributes = name, price, quantity\n",
    "\t\tself.name = name\n",
    "\t\tself.price = price\n",
    "\t\tself.quantity = quantity\n",
    "\t\t# Actions to execute\n",
    "\t\tItem.all.append(self)\n",
    "\tdef calculate_total_price(self):\n",
    "\t\treturn self.price * self.quantity\n",
    "\tdef apply_discount(self):\n",
    "\t\tself.price = self.price * self.pay_rate # if we write Item.pay_rate, then it takes the value from Class level and we can't change it from Instance level\n",
    "\t#\n",
    "\t@classmethod # decorator - changes behaviour of following method to class method\n",
    "\tdef instantiate_from_csv(cls): # class method - can only be accessed from Class level\n",
    "\t\twith open('example_datasets/items.csv', 'r') as f:\n",
    "\t\t\treader = csv.DictReader(f)\n",
    "\t\t\titems = list(reader)\n",
    "\t\tfor item in items:\n",
    "\t\t\tItem(\n",
    "\t\t\t\tname=item.get('name'), \n",
    "\t\t\t\tprice=float(item.get('price')), \n",
    "\t\t\t\tquantity=int(item.get('quantity'))\n",
    "\t\t\t)\n",
    "\t#\n",
    "\t@staticmethod\n",
    "\tdef is_integer(num):\n",
    "\t\t# We will count out the floats that are point zero\n",
    "\t\t# For i.e. 5.0, 10.0\n",
    "\t\tif isinstance(num, float):\n",
    "\t\t\t# Count out the floats that are point zero\n",
    "\t\t\treturn num.is_integer()\n",
    "\t\telif isinstance(num, int):\n",
    "\t\t\treturn True\n",
    "\t\telse:\n",
    "\t\t\treturn False\n",
    "\t#\n",
    "\tdef __repr__(self):\n",
    "\t\treturn f\"Item('{self.name}', {self.price}, {self.quantity})\"\n",
    "item1 = Item('Phone', 100, 5)\n",
    "print(item1.name, item1.price, item1.quantity)\n",
    "print(item1.calculate_total_price())\n",
    "print(Item.__dict__) # print all attribute for Class level\n",
    "print(item1.__dict__) # print all attributes for Instance level\n",
    "\n",
    "Item.instantiate_from_csv()\n",
    "print(Item.is_integer(7.5))"
   ]
  },
  {
   "cell_type": "code",
   "execution_count": 1011,
   "id": "6eb56851",
   "metadata": {},
   "outputs": [
    {
     "name": "stdout",
     "output_type": "stream",
     "text": [
      "80.0\n",
      "An instance created: Laptop!\n",
      "700.0\n",
      "[Item('Phone', 80.0, 5), Item('Phone', 100.0, 1), Item('Laptop', 1000.0, 3), Item('Cable', 10.0, 5), Item('Mouse', 50.0, 5), Item('Keyboard', 75.0, 5), Item('Laptop', 700.0, 3)]\n",
      "Phone\n",
      "Phone\n",
      "Laptop\n",
      "Cable\n",
      "Mouse\n",
      "Keyboard\n",
      "Laptop\n"
     ]
    }
   ],
   "source": [
    "item1.has_numpad = False\n",
    "\n",
    "item1.apply_discount()\n",
    "print(item1.price)\n",
    "\n",
    "item2 = Item('Laptop', 1000, 3)\n",
    "item2.pay_rate = 0.7 # change pay_rate at instance level\n",
    "item2.apply_discount()\n",
    "print(item2.price)\n",
    "\n",
    "print(Item.all)\n",
    "for instance in Item.all:\n",
    "\tprint(instance.name)"
   ]
  },
  {
   "cell_type": "code",
   "execution_count": 1012,
   "id": "52def2ef",
   "metadata": {},
   "outputs": [
    {
     "name": "stdout",
     "output_type": "stream",
     "text": [
      "An instance created: jscPhonev10!\n",
      "2500\n",
      "[Item('Phone', 80.0, 5), Item('Phone', 100.0, 1), Item('Laptop', 1000.0, 3), Item('Cable', 10.0, 5), Item('Mouse', 50.0, 5), Item('Keyboard', 75.0, 5), Item('Laptop', 700.0, 3), Item('jscPhonev10', 500, 5)]\n",
      "[Item('jscPhonev10', 500, 5)]\n"
     ]
    }
   ],
   "source": [
    "# inheritance from Parent class\n",
    "class Phone(Item):\n",
    "\tall = []\n",
    "\t\"\"\"child class\"\"\"\n",
    "\tdef __init__(self, name: str, price: float, quantity=0, broken_phones=0):\n",
    "\t\t# call to super function to have access to all attributes / methods\n",
    "\t\tsuper().__init__(\n",
    "\t\t\tname, price, quantity\n",
    "\t\t)\n",
    "\t\t# run validations to the received arguments\n",
    "\t\tassert broken_phones >=0, f\"Broken phones {broken_phones} is not greater than or equal to 0!\"\n",
    "\t\t# Assign to self object\n",
    "\t\tself.name = name\n",
    "\t\tself.price = price\n",
    "\t\tself.quantity = quantity\n",
    "\t\tself.broken_phones = broken_phones\n",
    "\t\t# actions to execute\n",
    "\t\tPhone.all.append(self)\n",
    "\n",
    "phone1 = Phone(\"jscPhonev10\", 500, 5, 1)\n",
    "print( phone1.calculate_total_price() )\n",
    "\n",
    "print(Item.all)\n",
    "print(Phone.all)"
   ]
  },
  {
   "cell_type": "code",
   "execution_count": 1013,
   "id": "6ee5be0a",
   "metadata": {},
   "outputs": [],
   "source": [
    "# when to use class methods and static methods? \n",
    "\n",
    "class Item:\n",
    "\t@staticmethod\n",
    "\tdef is_integer(num):\n",
    "\t\t\"\"\"\n",
    "\t\tThis should do something that has a relationship with the class, \n",
    "\t\tbut not something that must be unique per instance!\n",
    "\t\t\"\"\"\n",
    "\t\tpass\n",
    "\t@classmethod\n",
    "\tdef instantiate_from_something(cls):\n",
    "\t\t\"\"\"\n",
    "\t\tClass method should also do something that has a relationship\n",
    "\t\twith the class, but usually, those are used to \n",
    "\t\tmanipulate different structures of data to instantiate objects, \n",
    "\t\tlike we have done with CSV\n",
    "\t\t\"\"\"\n",
    "\t\tpass\n",
    "\n",
    "item1 = Item()\n",
    "# you can call static and class methods from Instance level,\n",
    "# however, it's better to do so from Class method\n",
    "Item.is_integer(5)\n",
    "Item.instantiate_from_something()"
   ]
  },
  {
   "cell_type": "markdown",
   "id": "f260ab70",
   "metadata": {},
   "source": [
    "# Libraries\n",
    "\n",
    "```py\n",
    "# Print all functions associated with a particular module\n",
    "dir(numpy)\n",
    "# Same but a more detailed overview\n",
    "help(numpy)\n",
    "\n",
    "# check a version of the package\n",
    "numpy.__version__\n",
    "```\n",
    "\n",
    "Libraries are managed with **Pip**:\n",
    "\n",
    "```powershell\n",
    "# Packages can be installed with Pip, with different commands (if one doesn't work, use the other):\n",
    "pip3 install <library>\n",
    "pip install <library>\n",
    "python -m pip install <library>\n",
    "python3 -m pip install <library>\n",
    "python -m pip3 install <library>\n",
    "\n",
    "# Install a specific version of a package\n",
    "pip install <library>==<version>\n",
    "pip install playsound==1.2.2\n",
    "\n",
    "# Uninstall a package\n",
    "pip uninstall <library>\n",
    "\n",
    "# Check the installed version of a package\n",
    "pip show <package>\n",
    "\n",
    "# Show all installed packaged\n",
    "## In human-readable format\n",
    "pip list\n",
    "## For generating 'requirements.txt' file\n",
    "pip freeze\n",
    "pip freeze > requirements.txt # for creating the requirements file\n",
    "\n",
    "# Install all modules from the requirements.txt file\n",
    "pip install -r requirements.txt\n",
    "```\n",
    "\n",
    "Import function from another .py file:   \n",
    "```from pythonfilename import find_index```   \n",
    "```import pythonfilename as mm```   \n",
    "```from pythonfilename import find_index as fi```  \n",
    "\n",
    "Usually contain lots of classes   \n",
    "```from math import sqrt```   \n",
    "```from math import sqrt as my_sqrt```   \n",
    "```import numpy as np```   \n",
    "```from random import *``` import everything from the module   \n"
   ]
  },
  {
   "cell_type": "code",
   "execution_count": 1014,
   "id": "5e509628",
   "metadata": {},
   "outputs": [
    {
     "name": "stdout",
     "output_type": "stream",
     "text": [
      "['BPF', 'LOG4', 'NV_MAGICCONST', 'RECIP_BPF', 'Random', 'SG_MAGICCONST', 'SystemRandom', 'TWOPI', '_Sequence', '_Set', '__all__', '__builtins__', '__cached__', '__doc__', '__file__', '__loader__', '__name__', '__package__', '__spec__', '_accumulate', '_acos', '_bisect', '_ceil', '_cos', '_e', '_exp', '_floor', '_inst', '_log', '_os', '_pi', '_random', '_repeat', '_sha512', '_sin', '_sqrt', '_test', '_test_generator', '_urandom', '_warn', 'betavariate', 'choice', 'choices', 'expovariate', 'gammavariate', 'gauss', 'getrandbits', 'getstate', 'lognormvariate', 'normalvariate', 'paretovariate', 'randbytes', 'randint', 'random', 'randrange', 'sample', 'seed', 'setstate', 'shuffle', 'triangular', 'uniform', 'vonmisesvariate', 'weibullvariate']\n"
     ]
    }
   ],
   "source": [
    "# show all methods and attributes associated with a module \n",
    "import random\n",
    "print(dir(random))"
   ]
  },
  {
   "cell_type": "markdown",
   "id": "7809a533",
   "metadata": {},
   "source": [
    "## Time"
   ]
  },
  {
   "cell_type": "code",
   "execution_count": 1,
   "id": "d260216c",
   "metadata": {},
   "outputs": [
    {
     "name": "stdout",
     "output_type": "stream",
     "text": [
      "Printed immediately.\n",
      "Printed after 2.4 seconds.\n"
     ]
    }
   ],
   "source": [
    "import time\n",
    "\n",
    "print(\"Printed immediately.\")\n",
    "time.sleep(2.4)\n",
    "print(\"Printed after 2.4 seconds.\")"
   ]
  },
  {
   "cell_type": "markdown",
   "id": "0864c2c0",
   "metadata": {},
   "source": [
    "## Random"
   ]
  },
  {
   "cell_type": "code",
   "execution_count": 6,
   "id": "73f5c204",
   "metadata": {},
   "outputs": [
    {
     "name": "stdout",
     "output_type": "stream",
     "text": [
      "B\n",
      "['C', 'B', 'A']\n",
      "['A', 'C', 'B']\n",
      "TATGTAGGTGACGTATGGTGTCCATCTAAGCTACACTTGATTGCATTGGT\n"
     ]
    }
   ],
   "source": [
    "import random\n",
    "\n",
    "a = ['A', 'B', 'C', 'D']\n",
    "\n",
    "# pick 1 random item from a list\n",
    "print( random.choice(a) )\n",
    "\n",
    "# pick k random items from a list\n",
    "print( random.choices(a, k=3) )\n",
    "\n",
    "# random sample, without repeats\n",
    "print( random.sample(a, k=3) )\n",
    "\n",
    "# create a random string from characters specified in a list\n",
    "DNA_Nucleotides = ['G', 'C', 'A', 'T']\n",
    "randDNAStr = ''.join([random.choice(DNA_Nucleotides) for nuc in range(50)])\n",
    "print(randDNAStr)"
   ]
  },
  {
   "cell_type": "code",
   "execution_count": 1019,
   "id": "739c740a",
   "metadata": {},
   "outputs": [
    {
     "name": "stdout",
     "output_type": "stream",
     "text": [
      "0.9678389625902728\n",
      "2.122952790363834\n",
      "3\n",
      "1\n",
      "-0.06370751824321007\n"
     ]
    }
   ],
   "source": [
    "import random\n",
    "\n",
    "# print random float in range 0-1\n",
    "print( random.random() )\n",
    "\n",
    "# print random float in specific range\n",
    "print( random.uniform(1, 5) )\n",
    "\n",
    "# print random int in specific range\n",
    "print( random.randint(1, 5) )\n",
    "\n",
    "# print random int in specific range, excluding top boundary value\n",
    "print( random.randrange(1, 5) )\n",
    "\n",
    "# pick a random number from normal distribution with mu = 0 (mean), sigma = 0.2 (SD)\n",
    "print( random.normalvariate(0, 0.2) )\n",
    "\n"
   ]
  },
  {
   "cell_type": "code",
   "execution_count": 1,
   "id": "d1aace1c",
   "metadata": {},
   "outputs": [
    {
     "data": {
      "text/plain": [
       "[0.9564729753700943,\n",
       " 0.5655361445168318,\n",
       " 0.4968599765189482,\n",
       " 0.4380866599822968,\n",
       " 0.5695472815897058,\n",
       " 0.02326826892891176,\n",
       " 0.8916127013215458,\n",
       " 0.3511560418867674,\n",
       " 0.9412944810473659,\n",
       " 0.27755419104579315]"
      ]
     },
     "execution_count": 1,
     "metadata": {},
     "output_type": "execute_result"
    }
   ],
   "source": [
    "# Generate N random numbers\n",
    "import random \n",
    "\n",
    "[ random.random() for i in range(0, 10) ]"
   ]
  },
  {
   "cell_type": "code",
   "execution_count": 1020,
   "id": "e16589a8",
   "metadata": {},
   "outputs": [
    {
     "name": "stdout",
     "output_type": "stream",
     "text": [
      "0.23796462709189137\n",
      "0.23796462709189137\n",
      "0.34809532384514186\n"
     ]
    }
   ],
   "source": [
    "import random\n",
    "\n",
    "# random module's numbers are reproducible by option \"seed\"\n",
    "# for true randomness, use 'secrets' module\n",
    "\n",
    "# generate a random number which you can access later in the program\n",
    "random.seed(3)\n",
    "print( random.random() )\n",
    "\n",
    "random.seed(3)\n",
    "print( random.random() )\n",
    "\n",
    "# cancel 'seed' effect\n",
    "random.seed()\n",
    "print( random.random() )\n",
    "\n"
   ]
  },
  {
   "cell_type": "code",
   "execution_count": 1,
   "id": "ed3ad7e6",
   "metadata": {},
   "outputs": [
    {
     "name": "stdout",
     "output_type": "stream",
     "text": [
      "[5, 4, 3, 2, 1]\n",
      "[1, 2, 3, 4, 5]\n"
     ]
    }
   ],
   "source": [
    "import random\n",
    "\n",
    "a = [1,2,3,4,5]\n",
    "random.shuffle(a);\n",
    "print(a)\n",
    "random.shuffle(a);\n",
    "print(a)"
   ]
  },
  {
   "cell_type": "markdown",
   "id": "eb838001",
   "metadata": {},
   "source": [
    "## Datetime\n",
    "\n",
    "**Naive dates and times** - don't have information to determine stuff like timezones, day savings time, but they are easier to work with;   \n",
    "```datetime.datetime.now()```   \n",
    "**Aware dates and times** - more detailed, but harder to work with.   \n",
    "```datetime.datetime.now(tz=pytz.UTC)```"
   ]
  },
  {
   "cell_type": "code",
   "execution_count": 1023,
   "id": "e995f9b7",
   "metadata": {},
   "outputs": [
    {
     "name": "stdout",
     "output_type": "stream",
     "text": [
      "Today: 2022-06-03\n",
      "       03.06.2022\n",
      " - Day: 3\n",
      " - Month: 6\n"
     ]
    }
   ],
   "source": [
    "import datetime, calendar\n",
    "\n",
    "print(f\"Today: {datetime.date.today()}\")\n",
    "print(f\"       {datetime.date.today().day:02d}.{datetime.date.today().month:02d}.{datetime.date.today().year}\")\n",
    "print(f\" - Day: {datetime.date.today().day}\")\n",
    "print(f\" - Month: {datetime.date.today().month}\")\n"
   ]
  },
  {
   "cell_type": "code",
   "execution_count": 1024,
   "id": "07386a04",
   "metadata": {},
   "outputs": [
    {
     "name": "stdout",
     "output_type": "stream",
     "text": [
      "2022-06-03\n",
      "3\n",
      "4\n",
      "5\n",
      "2016-07-24\n",
      "\n",
      "09:30:45\n",
      "9\n",
      "30\n"
     ]
    }
   ],
   "source": [
    "import datetime\n",
    "\n",
    "# .date method - year, month, day\n",
    "\n",
    "today = datetime.date.today()\n",
    "print(today)\n",
    "print(today.day)\n",
    "print(today.weekday()) # monday 0, sunday 6\n",
    "print(today.isoweekday()) # monday 1, sunday 7\n",
    "print(datetime.date(2016, 7, 24))\n",
    "print()\n",
    "\n",
    "\n",
    "# .time method - working with hours, minutes, seconds\n",
    "\n",
    "print( datetime.time(9, 30, 45) )\n",
    "print( datetime.time(9, 30, 45).hour )\n",
    "print( datetime.time(9, 30, 45).minute )"
   ]
  },
  {
   "cell_type": "code",
   "execution_count": 1025,
   "id": "6047943a",
   "metadata": {},
   "outputs": [
    {
     "name": "stdout",
     "output_type": "stream",
     "text": [
      "2016-07-26 12:30:45\n",
      "2016-07-26\n",
      "12:30:45\n",
      "2016\n",
      "\n",
      "2022-06-03 00:17:13.570508\n",
      "0\n",
      "17\n",
      "13\n",
      "0:17\n",
      "1033\n"
     ]
    }
   ],
   "source": [
    "# .date + .time methods combined\n",
    "dt = datetime.datetime(2016,7,26, 12,30,45)\n",
    "print(dt)\n",
    "print(dt.date())\n",
    "print(dt.time())\n",
    "print(dt.year)\n",
    "print()\n",
    "\n",
    "\n",
    "print( datetime.datetime.now() )\n",
    "print( datetime.datetime.now().hour )\n",
    "print( datetime.datetime.now().minute )\n",
    "print( datetime.datetime.now().second )\n",
    "print( f\"{datetime.datetime.now().hour}:{datetime.datetime.now().minute}\" )\n",
    "\n",
    "now_seconds = datetime.datetime.now().hour *3600 + datetime.datetime.now().minute *60 + datetime.datetime.now().second\n",
    "print(now_seconds)"
   ]
  },
  {
   "cell_type": "code",
   "execution_count": 1026,
   "id": "ee166f72",
   "metadata": {},
   "outputs": [
    {
     "name": "stdout",
     "output_type": "stream",
     "text": [
      "2022-06-03 08:17:13.770962+03:00\n",
      "\n",
      "2022-06-03 00:17:13.770962+03:00\n"
     ]
    }
   ],
   "source": [
    "import datetime, pytz\n",
    "\n",
    "print( \n",
    "    datetime.datetime.now(tz=pytz.UTC).astimezone(pytz.timezone('Europe/Moscow')) \n",
    ")\n",
    "print()\n",
    "\n",
    "# print all timezones:\n",
    "# for tz in pytz.all_timezones:\n",
    "#     print(tz)\n",
    "\n",
    "# from naive to timezone-aware\n",
    "naive = datetime.datetime.now()\n",
    "print( pytz.timezone('Europe/Moscow').localize(naive) )\n",
    "\n"
   ]
  },
  {
   "cell_type": "code",
   "execution_count": 1027,
   "id": "f25832a5",
   "metadata": {},
   "outputs": [
    {
     "name": "stdout",
     "output_type": "stream",
     "text": [
      "2022-06-10\n",
      "2022-06-10 00:17:13.962984\n",
      "-251 days, 0:00:00\n",
      "-251 days, 16:07:47\n",
      "2022-06-03 00:17:13\n"
     ]
    }
   ],
   "source": [
    "import datetime\n",
    "\n",
    "# date 7 days from now\n",
    "print( datetime.date.today() + datetime.timedelta(days = 7) )\n",
    "print( datetime.datetime.today() + datetime.timedelta(days=7) )\n",
    "\n",
    "# Days left to Caro's arrival\n",
    "print( datetime.date(2021,9,25) - datetime.date.today() )\n",
    "\n",
    "# Days and time left to Caro's arrival\n",
    "print( datetime.datetime(2021,9,25, 16,25,0).replace(microsecond=0) - datetime.datetime.today().replace(microsecond=0) )\n",
    "print( datetime.datetime.today().replace(microsecond=0) )\n"
   ]
  },
  {
   "cell_type": "code",
   "execution_count": 2,
   "id": "50204b79",
   "metadata": {},
   "outputs": [
    {
     "name": "stdout",
     "output_type": "stream",
     "text": [
      "2023-01-07 17:59:05.153544-07:00\n",
      "2023-01-07 18:59:05.159545\n",
      "2023-01-07 18:59:05.159545-07:00\n"
     ]
    }
   ],
   "source": [
    "import datetime\n",
    "import pytz\n",
    "\n",
    "# prints all timezones:\n",
    "# for tz in pytz.all_timezones:\n",
    "#     print(tz)\n",
    "\n",
    "print( datetime.datetime.now().astimezone(pytz.timezone('US/Mountain')) )\n",
    "\n",
    "# local time, not time zone aware\n",
    "dt_mtn = datetime.datetime.now()\n",
    "print(dt_mtn)\n",
    "\n",
    "mtn_tz = pytz.timezone('US/Mountain')\n",
    "dt_mtn = mtn_tz.localize(dt_mtn)\n",
    "print(dt_mtn)"
   ]
  },
  {
   "cell_type": "code",
   "execution_count": null,
   "id": "fe81001f",
   "metadata": {},
   "outputs": [],
   "source": [
    "time_now = datetime.now().time().strftime(\"%H:%M:%S\")\n",
    "# strftime('%d.%m')\n",
    "# strftime('%d/%m/%y')\n",
    "# strftime('%Y')\n",
    "# strftime('%m.%y')\n",
    "# strftime('%b')\n",
    "# strftime('%B')\n",
    "# day_name()"
   ]
  },
  {
   "cell_type": "code",
   "execution_count": 1,
   "id": "65ef6feb",
   "metadata": {},
   "outputs": [
    {
     "data": {
      "text/plain": [
       "['Africa/Abidjan', 'Africa/Accra', 'Africa/Addis_Ababa', 'Africa/Algiers', 'Africa/Asmara', 'Africa/Asmera', 'Africa/Bamako', 'Africa/Bangui', 'Africa/Banjul', 'Africa/Bissau', 'Africa/Blantyre', 'Africa/Brazzaville', 'Africa/Bujumbura', 'Africa/Cairo', 'Africa/Casablanca', 'Africa/Ceuta', 'Africa/Conakry', 'Africa/Dakar', 'Africa/Dar_es_Salaam', 'Africa/Djibouti', 'Africa/Douala', 'Africa/El_Aaiun', 'Africa/Freetown', 'Africa/Gaborone', 'Africa/Harare', 'Africa/Johannesburg', 'Africa/Juba', 'Africa/Kampala', 'Africa/Khartoum', 'Africa/Kigali', 'Africa/Kinshasa', 'Africa/Lagos', 'Africa/Libreville', 'Africa/Lome', 'Africa/Luanda', 'Africa/Lubumbashi', 'Africa/Lusaka', 'Africa/Malabo', 'Africa/Maputo', 'Africa/Maseru', 'Africa/Mbabane', 'Africa/Mogadishu', 'Africa/Monrovia', 'Africa/Nairobi', 'Africa/Ndjamena', 'Africa/Niamey', 'Africa/Nouakchott', 'Africa/Ouagadougou', 'Africa/Porto-Novo', 'Africa/Sao_Tome', 'Africa/Timbuktu', 'Africa/Tripoli', 'Africa/Tunis', 'Africa/Windhoek', 'America/Adak', 'America/Anchorage', 'America/Anguilla', 'America/Antigua', 'America/Araguaina', 'America/Argentina/Buenos_Aires', 'America/Argentina/Catamarca', 'America/Argentina/ComodRivadavia', 'America/Argentina/Cordoba', 'America/Argentina/Jujuy', 'America/Argentina/La_Rioja', 'America/Argentina/Mendoza', 'America/Argentina/Rio_Gallegos', 'America/Argentina/Salta', 'America/Argentina/San_Juan', 'America/Argentina/San_Luis', 'America/Argentina/Tucuman', 'America/Argentina/Ushuaia', 'America/Aruba', 'America/Asuncion', 'America/Atikokan', 'America/Atka', 'America/Bahia', 'America/Bahia_Banderas', 'America/Barbados', 'America/Belem', 'America/Belize', 'America/Blanc-Sablon', 'America/Boa_Vista', 'America/Bogota', 'America/Boise', 'America/Buenos_Aires', 'America/Cambridge_Bay', 'America/Campo_Grande', 'America/Cancun', 'America/Caracas', 'America/Catamarca', 'America/Cayenne', 'America/Cayman', 'America/Chicago', 'America/Chihuahua', 'America/Coral_Harbour', 'America/Cordoba', 'America/Costa_Rica', 'America/Creston', 'America/Cuiaba', 'America/Curacao', 'America/Danmarkshavn', 'America/Dawson', 'America/Dawson_Creek', 'America/Denver', 'America/Detroit', 'America/Dominica', 'America/Edmonton', 'America/Eirunepe', 'America/El_Salvador', 'America/Ensenada', 'America/Fort_Nelson', 'America/Fort_Wayne', 'America/Fortaleza', 'America/Glace_Bay', 'America/Godthab', 'America/Goose_Bay', 'America/Grand_Turk', 'America/Grenada', 'America/Guadeloupe', 'America/Guatemala', 'America/Guayaquil', 'America/Guyana', 'America/Halifax', 'America/Havana', 'America/Hermosillo', 'America/Indiana/Indianapolis', 'America/Indiana/Knox', 'America/Indiana/Marengo', 'America/Indiana/Petersburg', 'America/Indiana/Tell_City', 'America/Indiana/Vevay', 'America/Indiana/Vincennes', 'America/Indiana/Winamac', 'America/Indianapolis', 'America/Inuvik', 'America/Iqaluit', 'America/Jamaica', 'America/Jujuy', 'America/Juneau', 'America/Kentucky/Louisville', 'America/Kentucky/Monticello', 'America/Knox_IN', 'America/Kralendijk', 'America/La_Paz', 'America/Lima', 'America/Los_Angeles', 'America/Louisville', 'America/Lower_Princes', 'America/Maceio', 'America/Managua', 'America/Manaus', 'America/Marigot', 'America/Martinique', 'America/Matamoros', 'America/Mazatlan', 'America/Mendoza', 'America/Menominee', 'America/Merida', 'America/Metlakatla', 'America/Mexico_City', 'America/Miquelon', 'America/Moncton', 'America/Monterrey', 'America/Montevideo', 'America/Montreal', 'America/Montserrat', 'America/Nassau', 'America/New_York', 'America/Nipigon', 'America/Nome', 'America/Noronha', 'America/North_Dakota/Beulah', 'America/North_Dakota/Center', 'America/North_Dakota/New_Salem', 'America/Nuuk', 'America/Ojinaga', 'America/Panama', 'America/Pangnirtung', 'America/Paramaribo', 'America/Phoenix', 'America/Port-au-Prince', 'America/Port_of_Spain', 'America/Porto_Acre', 'America/Porto_Velho', 'America/Puerto_Rico', 'America/Punta_Arenas', 'America/Rainy_River', 'America/Rankin_Inlet', 'America/Recife', 'America/Regina', 'America/Resolute', 'America/Rio_Branco', 'America/Rosario', 'America/Santa_Isabel', 'America/Santarem', 'America/Santiago', 'America/Santo_Domingo', 'America/Sao_Paulo', 'America/Scoresbysund', 'America/Shiprock', 'America/Sitka', 'America/St_Barthelemy', 'America/St_Johns', 'America/St_Kitts', 'America/St_Lucia', 'America/St_Thomas', 'America/St_Vincent', 'America/Swift_Current', 'America/Tegucigalpa', 'America/Thule', 'America/Thunder_Bay', 'America/Tijuana', 'America/Toronto', 'America/Tortola', 'America/Vancouver', 'America/Virgin', 'America/Whitehorse', 'America/Winnipeg', 'America/Yakutat', 'America/Yellowknife', 'Antarctica/Casey', 'Antarctica/Davis', 'Antarctica/DumontDUrville', 'Antarctica/Macquarie', 'Antarctica/Mawson', 'Antarctica/McMurdo', 'Antarctica/Palmer', 'Antarctica/Rothera', 'Antarctica/South_Pole', 'Antarctica/Syowa', 'Antarctica/Troll', 'Antarctica/Vostok', 'Arctic/Longyearbyen', 'Asia/Aden', 'Asia/Almaty', 'Asia/Amman', 'Asia/Anadyr', 'Asia/Aqtau', 'Asia/Aqtobe', 'Asia/Ashgabat', 'Asia/Ashkhabad', 'Asia/Atyrau', 'Asia/Baghdad', 'Asia/Bahrain', 'Asia/Baku', 'Asia/Bangkok', 'Asia/Barnaul', 'Asia/Beirut', 'Asia/Bishkek', 'Asia/Brunei', 'Asia/Calcutta', 'Asia/Chita', 'Asia/Choibalsan', 'Asia/Chongqing', 'Asia/Chungking', 'Asia/Colombo', 'Asia/Dacca', 'Asia/Damascus', 'Asia/Dhaka', 'Asia/Dili', 'Asia/Dubai', 'Asia/Dushanbe', 'Asia/Famagusta', 'Asia/Gaza', 'Asia/Harbin', 'Asia/Hebron', 'Asia/Ho_Chi_Minh', 'Asia/Hong_Kong', 'Asia/Hovd', 'Asia/Irkutsk', 'Asia/Istanbul', 'Asia/Jakarta', 'Asia/Jayapura', 'Asia/Jerusalem', 'Asia/Kabul', 'Asia/Kamchatka', 'Asia/Karachi', 'Asia/Kashgar', 'Asia/Kathmandu', 'Asia/Katmandu', 'Asia/Khandyga', 'Asia/Kolkata', 'Asia/Krasnoyarsk', 'Asia/Kuala_Lumpur', 'Asia/Kuching', 'Asia/Kuwait', 'Asia/Macao', 'Asia/Macau', 'Asia/Magadan', 'Asia/Makassar', 'Asia/Manila', 'Asia/Muscat', 'Asia/Nicosia', 'Asia/Novokuznetsk', 'Asia/Novosibirsk', 'Asia/Omsk', 'Asia/Oral', 'Asia/Phnom_Penh', 'Asia/Pontianak', 'Asia/Pyongyang', 'Asia/Qatar', 'Asia/Qostanay', 'Asia/Qyzylorda', 'Asia/Rangoon', 'Asia/Riyadh', 'Asia/Saigon', 'Asia/Sakhalin', 'Asia/Samarkand', 'Asia/Seoul', 'Asia/Shanghai', 'Asia/Singapore', 'Asia/Srednekolymsk', 'Asia/Taipei', 'Asia/Tashkent', 'Asia/Tbilisi', 'Asia/Tehran', 'Asia/Tel_Aviv', 'Asia/Thimbu', 'Asia/Thimphu', 'Asia/Tokyo', 'Asia/Tomsk', 'Asia/Ujung_Pandang', 'Asia/Ulaanbaatar', 'Asia/Ulan_Bator', 'Asia/Urumqi', 'Asia/Ust-Nera', 'Asia/Vientiane', 'Asia/Vladivostok', 'Asia/Yakutsk', 'Asia/Yangon', 'Asia/Yekaterinburg', 'Asia/Yerevan', 'Atlantic/Azores', 'Atlantic/Bermuda', 'Atlantic/Canary', 'Atlantic/Cape_Verde', 'Atlantic/Faeroe', 'Atlantic/Faroe', 'Atlantic/Jan_Mayen', 'Atlantic/Madeira', 'Atlantic/Reykjavik', 'Atlantic/South_Georgia', 'Atlantic/St_Helena', 'Atlantic/Stanley', 'Australia/ACT', 'Australia/Adelaide', 'Australia/Brisbane', 'Australia/Broken_Hill', 'Australia/Canberra', 'Australia/Currie', 'Australia/Darwin', 'Australia/Eucla', 'Australia/Hobart', 'Australia/LHI', 'Australia/Lindeman', 'Australia/Lord_Howe', 'Australia/Melbourne', 'Australia/NSW', 'Australia/North', 'Australia/Perth', 'Australia/Queensland', 'Australia/South', 'Australia/Sydney', 'Australia/Tasmania', 'Australia/Victoria', 'Australia/West', 'Australia/Yancowinna', 'Brazil/Acre', 'Brazil/DeNoronha', 'Brazil/East', 'Brazil/West', 'CET', 'CST6CDT', 'Canada/Atlantic', 'Canada/Central', 'Canada/Eastern', 'Canada/Mountain', 'Canada/Newfoundland', 'Canada/Pacific', 'Canada/Saskatchewan', 'Canada/Yukon', 'Chile/Continental', 'Chile/EasterIsland', 'Cuba', 'EET', 'EST', 'EST5EDT', 'Egypt', 'Eire', 'Etc/GMT', 'Etc/GMT+0', 'Etc/GMT+1', 'Etc/GMT+10', 'Etc/GMT+11', 'Etc/GMT+12', 'Etc/GMT+2', 'Etc/GMT+3', 'Etc/GMT+4', 'Etc/GMT+5', 'Etc/GMT+6', 'Etc/GMT+7', 'Etc/GMT+8', 'Etc/GMT+9', 'Etc/GMT-0', 'Etc/GMT-1', 'Etc/GMT-10', 'Etc/GMT-11', 'Etc/GMT-12', 'Etc/GMT-13', 'Etc/GMT-14', 'Etc/GMT-2', 'Etc/GMT-3', 'Etc/GMT-4', 'Etc/GMT-5', 'Etc/GMT-6', 'Etc/GMT-7', 'Etc/GMT-8', 'Etc/GMT-9', 'Etc/GMT0', 'Etc/Greenwich', 'Etc/UCT', 'Etc/UTC', 'Etc/Universal', 'Etc/Zulu', 'Europe/Amsterdam', 'Europe/Andorra', 'Europe/Astrakhan', 'Europe/Athens', 'Europe/Belfast', 'Europe/Belgrade', 'Europe/Berlin', 'Europe/Bratislava', 'Europe/Brussels', 'Europe/Bucharest', 'Europe/Budapest', 'Europe/Busingen', 'Europe/Chisinau', 'Europe/Copenhagen', 'Europe/Dublin', 'Europe/Gibraltar', 'Europe/Guernsey', 'Europe/Helsinki', 'Europe/Isle_of_Man', 'Europe/Istanbul', 'Europe/Jersey', 'Europe/Kaliningrad', 'Europe/Kiev', 'Europe/Kirov', 'Europe/Lisbon', 'Europe/Ljubljana', 'Europe/London', 'Europe/Luxembourg', 'Europe/Madrid', 'Europe/Malta', 'Europe/Mariehamn', 'Europe/Minsk', 'Europe/Monaco', 'Europe/Moscow', 'Europe/Nicosia', 'Europe/Oslo', 'Europe/Paris', 'Europe/Podgorica', 'Europe/Prague', 'Europe/Riga', 'Europe/Rome', 'Europe/Samara', 'Europe/San_Marino', 'Europe/Sarajevo', 'Europe/Saratov', 'Europe/Simferopol', 'Europe/Skopje', 'Europe/Sofia', 'Europe/Stockholm', 'Europe/Tallinn', 'Europe/Tirane', 'Europe/Tiraspol', 'Europe/Ulyanovsk', 'Europe/Uzhgorod', 'Europe/Vaduz', 'Europe/Vatican', 'Europe/Vienna', 'Europe/Vilnius', 'Europe/Volgograd', 'Europe/Warsaw', 'Europe/Zagreb', 'Europe/Zaporozhye', 'Europe/Zurich', 'GB', 'GB-Eire', 'GMT', 'GMT+0', 'GMT-0', 'GMT0', 'Greenwich', 'HST', 'Hongkong', 'Iceland', 'Indian/Antananarivo', 'Indian/Chagos', 'Indian/Christmas', 'Indian/Cocos', 'Indian/Comoro', 'Indian/Kerguelen', 'Indian/Mahe', 'Indian/Maldives', 'Indian/Mauritius', 'Indian/Mayotte', 'Indian/Reunion', 'Iran', 'Israel', 'Jamaica', 'Japan', 'Kwajalein', 'Libya', 'MET', 'MST', 'MST7MDT', 'Mexico/BajaNorte', 'Mexico/BajaSur', 'Mexico/General', 'NZ', 'NZ-CHAT', 'Navajo', 'PRC', 'PST8PDT', 'Pacific/Apia', 'Pacific/Auckland', 'Pacific/Bougainville', 'Pacific/Chatham', 'Pacific/Chuuk', 'Pacific/Easter', 'Pacific/Efate', 'Pacific/Enderbury', 'Pacific/Fakaofo', 'Pacific/Fiji', 'Pacific/Funafuti', 'Pacific/Galapagos', 'Pacific/Gambier', 'Pacific/Guadalcanal', 'Pacific/Guam', 'Pacific/Honolulu', 'Pacific/Johnston', 'Pacific/Kiritimati', 'Pacific/Kosrae', 'Pacific/Kwajalein', 'Pacific/Majuro', 'Pacific/Marquesas', 'Pacific/Midway', 'Pacific/Nauru', 'Pacific/Niue', 'Pacific/Norfolk', 'Pacific/Noumea', 'Pacific/Pago_Pago', 'Pacific/Palau', 'Pacific/Pitcairn', 'Pacific/Pohnpei', 'Pacific/Ponape', 'Pacific/Port_Moresby', 'Pacific/Rarotonga', 'Pacific/Saipan', 'Pacific/Samoa', 'Pacific/Tahiti', 'Pacific/Tarawa', 'Pacific/Tongatapu', 'Pacific/Truk', 'Pacific/Wake', 'Pacific/Wallis', 'Pacific/Yap', 'Poland', 'Portugal', 'ROC', 'ROK', 'Singapore', 'Turkey', 'UCT', 'US/Alaska', 'US/Aleutian', 'US/Arizona', 'US/Central', 'US/East-Indiana', 'US/Eastern', 'US/Hawaii', 'US/Indiana-Starke', 'US/Michigan', 'US/Mountain', 'US/Pacific', 'US/Samoa', 'UTC', 'Universal', 'W-SU', 'WET', 'Zulu']"
      ]
     },
     "execution_count": 1,
     "metadata": {},
     "output_type": "execute_result"
    }
   ],
   "source": [
    "import pytz\n",
    "\n",
    "pytz.all_timezones"
   ]
  },
  {
   "cell_type": "markdown",
   "id": "ca274394",
   "metadata": {},
   "source": [
    "## Numpy\n",
    "\n",
    "If you have an array, but you need a list, you can make a convertion: `y = x.tolist()`\n",
    "\n",
    "Features: \n",
    "- Numpy is based on C++, so it's faster than Python; "
   ]
  },
  {
   "cell_type": "code",
   "execution_count": 1,
   "id": "a32df89e",
   "metadata": {},
   "outputs": [
    {
     "data": {
      "text/plain": [
       "False"
      ]
     },
     "execution_count": 1,
     "metadata": {},
     "output_type": "execute_result"
    }
   ],
   "source": [
    "import numpy as np\n",
    "\n",
    "np.sign(5) == np.sign(-5)"
   ]
  },
  {
   "cell_type": "code",
   "execution_count": 1031,
   "id": "8c8638c7",
   "metadata": {},
   "outputs": [
    {
     "data": {
      "text/plain": [
       "array([2])"
      ]
     },
     "execution_count": 1031,
     "metadata": {},
     "output_type": "execute_result"
    }
   ],
   "source": [
    "import numpy as np\n",
    "\n",
    "# Create array from python list\n",
    "X = [1, 2, 3]\n",
    "X = np.array(X)\n",
    "\n",
    "# Create arrays\n",
    "vector1 = np.array([1, 2, 3, 4], dtype=int)\n",
    "array2d_1 = np.array([[1, 2, 3], [3, 4, 5]])\n",
    "array2d_2 = np.array([[1, 2, 3], [3, 4, 5]])\n",
    "array3d = np.array([\n",
    "\t[\n",
    "\t\t[1, 2, 3],\n",
    "\t\t[4, 5, 6],\n",
    "\t], \n",
    "\t[\n",
    "\t\t[7, 8, 9],\n",
    "\t\t[10, 11, 12],\n",
    "\t]\n",
    "])\n",
    "\n",
    "# Get info\n",
    "array3d.shape\n",
    "array3d.dtype\n",
    "\n",
    "# Access one element \n",
    "array3d[1, 1, 2]\n",
    "# Range > subarray\n",
    "array3d[0, :, :2]\n",
    "# Multi-indexing > numpy array\n",
    "vector1[[0, 3, 2]]\n",
    "\n",
    "# Get only the zero-index elements from a nested array\n",
    "list1 = [['a',1], ['b',2], ['c',3]]\n",
    "print(list1[:, 0])\n",
    "\n",
    "\n",
    "# Compare numpy arrays, output = array of booleans\n",
    "array2d_1 == array2d_2\n",
    "# sum booleans (True=1, False=0)\n",
    "(array2d_1 == array2d_2).sum()\n",
    "\n",
    "\"\"\"\n",
    "Array manipulation functions: \n",
    "np.reshape, np.stack, np.concatenate, np.split\n",
    "\"\"\"\n",
    "\n",
    "# Boolean arrays (masks)\n",
    "a = np.arange(5)\n",
    "# Boolean arrays - a way of select multiindex items\n",
    "a[[True, False, False, True, False]]\n",
    "# Create a boolean mask\n",
    "mask = a < 0\n",
    "a[mask]\n",
    "# Get elements greater than 5\n",
    "a[a > a.mean()]\n",
    "\n",
    "# generate a boolean array from an array\n",
    "a >= 2\n",
    "# same but just choose items which match the criterion\n",
    "a[a >= 2]\n",
    "\n",
    "\n",
    "mask = a[(a == 0) | (a == 1)]\n",
    "a[mask]\n",
    "# or\n",
    "a[ (a==2) | (a==10) ]\n"
   ]
  },
  {
   "cell_type": "code",
   "execution_count": 5,
   "id": "8a515703",
   "metadata": {},
   "outputs": [
    {
     "name": "stdout",
     "output_type": "stream",
     "text": [
      "[1. 2. 3. 4. 5. 6.]\n",
      "[[1 2 3]\n",
      " [4 5 6]]\n"
     ]
    }
   ],
   "source": [
    "# Appending to an array\n",
    "\n",
    "## 1. If you are working with a flat 1D array\n",
    "import numpy as np\n",
    "arr1 = np.array([])\n",
    "arr1 = np.append(arr1, [1,2,3])\n",
    "arr1 = np.append(arr1, [4,5,6])\n",
    "print(arr1)\n",
    "\n",
    "## 2. If you want to create an empty array and then append to it, \n",
    "## creating an N-dimensional array\n",
    "arr2 = np.empty((0,3), int)\n",
    "arr2 = np.append(arr2, [[1,2,3]], axis=0)\n",
    "arr2 = np.append(arr2, [[4,5,6]], axis=0)\n",
    "print(arr2)"
   ]
  },
  {
   "cell_type": "code",
   "execution_count": 18,
   "id": "3e487886",
   "metadata": {},
   "outputs": [
    {
     "data": {
      "image/png": "[encoded data removed]",
      "text/plain": [
       "<Figure size 432x288 with 1 Axes>"
      ]
     },
     "metadata": {
      "needs_background": "light"
     },
     "output_type": "display_data"
    }
   ],
   "source": [
    "import numpy as np\n",
    "import matplotlib.pyplot as plt\n",
    "import seaborn as sns\n",
    "\n",
    "sample = np.random.normal(\n",
    "\t150, # mean = 150\n",
    "\t10, # SD = 10\n",
    "\t30 # n=30\n",
    "\t)\n",
    "\n",
    "sns.kdeplot(sample);"
   ]
  },
  {
   "cell_type": "code",
   "execution_count": 1032,
   "id": "b4c46ca5",
   "metadata": {},
   "outputs": [
    {
     "name": "stderr",
     "output_type": "stream",
     "text": [
      "C:\\Users\\evgen\\AppData\\Local\\Temp/ipykernel_2888/166412512.py:52: DeprecationWarning: `np.int` is a deprecated alias for the builtin `int`. To silence this warning, use `int` by itself. Doing this will not modify any behavior and is safe. When replacing `np.int`, you may wish to use e.g. `np.int64` or `np.int32` to specify the precision. If you wish to review your current use, check the release note link for additional information.\n",
      "Deprecated in NumPy 1.20; for more details and guidance: https://numpy.org/devdocs/release/1.20.0-notes.html#deprecations\n",
      "  np.zeros(5, dtype=np.int)\n",
      "C:\\Users\\evgen\\AppData\\Local\\Temp/ipykernel_2888/166412512.py:56: DeprecationWarning: `np.int` is a deprecated alias for the builtin `int`. To silence this warning, use `int` by itself. Doing this will not modify any behavior and is safe. When replacing `np.int`, you may wish to use e.g. `np.int64` or `np.int32` to specify the precision. If you wish to review your current use, check the release note link for additional information.\n",
      "Deprecated in NumPy 1.20; for more details and guidance: https://numpy.org/devdocs/release/1.20.0-notes.html#deprecations\n",
      "  np.zeros((3, 2), dtype=np.int)\n"
     ]
    },
    {
     "data": {
      "text/plain": [
       "array([[1, 0, 0],\n",
       "       [0, 1, 0],\n",
       "       [0, 0, 1]])"
      ]
     },
     "execution_count": 1032,
     "metadata": {},
     "output_type": "execute_result"
    }
   ],
   "source": [
    "\"\"\"\n",
    "Useful Numpy functions for creating arrays: \n",
    "random, arange, empty, zeros, linspace, full, eye\n",
    "\"\"\"\n",
    "# Random 1D array, size = N items\n",
    "np.random.random(size=2)\n",
    "# Create 3x3x3 random array\n",
    "np.random.random(size=(3,3,3))\n",
    "\n",
    "# Random 1D array, normal distribution\n",
    "np.random.normal(size=2)\n",
    "\n",
    "# RANDOM floats from uniform distribution, range [0,1)\n",
    "# Random vector\n",
    "np.random.rand(5)\n",
    "# Random matrix with set dimensions\n",
    "np.random.rand(4, 4)\n",
    "\n",
    "# Random array with int values btw 1-10\n",
    "np.random.randint(10, size=3)\n",
    "# Random array with int values btw 10-29\n",
    "np.random.randint(10, 20, size=3)\n",
    "\n",
    "# RANDOM floats from normal distribution\n",
    "np.random.randn(4, 4)\n",
    "\n",
    "# RANDOM floats btw two values\n",
    "np.random.uniform(5, 10, 5)\n",
    "\n",
    "\n",
    "# Array from 0 to 9\n",
    "np.arange(10)\n",
    "# Array from 5 to 9\n",
    "np.arange(5, 10)\n",
    "# Array from 0 to 0.9, with step 0.1\n",
    "np.arange(0, 1, 0.1)\n",
    "# In descending order\n",
    "np.arange(1, 11)[::-1]\n",
    "\n",
    "# Reshape 1D array into set dimensions\n",
    "np.arange(10).reshape(2, 5)\n",
    "# Create a 3x3 numpy matrix filled with values 0-8\n",
    "np.arange(0, 9).reshape(3,3)\n",
    "\n",
    "# Empty\n",
    "np.empty(5)\n",
    "np.empty((2,2))\n",
    "\n",
    "# Zeros\n",
    "## 1D all zeros\n",
    "np.zeros(5)\n",
    "np.zeros(5, dtype=np.int)\n",
    "np\n",
    "## 2D all zeros\n",
    "np.zeros((3, 2))\n",
    "np.zeros((3, 2), dtype=np.int)\n",
    "## 3D all zeros\n",
    "np.zeros((2, 3, 4))\n",
    "\n",
    "# Ones\n",
    "## 2D all ones\n",
    "np.ones((3, 2))\n",
    "np.ones((3, 3), dtype=int)\n",
    "\n",
    "# Linspace\n",
    "# return N=100 evenly-spaced numbers from 0 to 30\n",
    "np.linspace(0, 30, 100)\n",
    "\n",
    "# Create a matrix of 2rows-3columns with value 42\n",
    "np.full([2, 3], 42)\n",
    "\n",
    "# Create an identity matrix\n",
    "np.eye(3)\n",
    "np.identity(3, dtype=int)"
   ]
  },
  {
   "cell_type": "code",
   "execution_count": 1,
   "id": "71fad7f6",
   "metadata": {},
   "outputs": [
    {
     "data": {
      "text/plain": [
       "[<matplotlib.lines.Line2D at 0x2eb1d60de80>]"
      ]
     },
     "execution_count": 1,
     "metadata": {},
     "output_type": "execute_result"
    },
    {
     "data": {
      "image/png": "[encoded data removed]",
      "text/plain": [
       "<Figure size 432x288 with 1 Axes>"
      ]
     },
     "metadata": {
      "needs_background": "light"
     },
     "output_type": "display_data"
    }
   ],
   "source": [
    "import numpy as np, matplotlib.pyplot as plt\n",
    "from scipy.special import factorial\n",
    "\n",
    "# When working with arrays, you need to use scipy to calculate factorial numbers\n",
    "\n",
    "# Plot a graph of combinations without repetitions \"n choose r\"\n",
    "# where in this case 'r' has a fixed value of 2 \n",
    "\n",
    "x = np.arange(3, 11, 1)\n",
    "y = factorial(x) / ( factorial(2) * factorial(x-2) )\n",
    "plt.plot( x, y )"
   ]
  },
  {
   "cell_type": "code",
   "execution_count": 1033,
   "id": "bfe2f02c",
   "metadata": {},
   "outputs": [
    {
     "name": "stdout",
     "output_type": "stream",
     "text": [
      "2329008813904 2328057116592\n"
     ]
    },
    {
     "name": "stderr",
     "output_type": "stream",
     "text": [
      "C:\\Users\\evgen\\AppData\\Local\\Temp/ipykernel_2888/1783876320.py:21: DeprecationWarning: `np.float` is a deprecated alias for the builtin `float`. To silence this warning, use `float` by itself. Doing this will not modify any behavior and is safe. If you specifically wanted the numpy scalar type, use `np.float64` here.\n",
      "Deprecated in NumPy 1.20; for more details and guidance: https://numpy.org/devdocs/release/1.20.0-notes.html#deprecations\n",
      "  Y = np.array(X, np.float)\n"
     ]
    }
   ],
   "source": [
    "\"\"\"\n",
    "Copy matrices\n",
    "\"\"\"\n",
    "import numpy as np\n",
    "\n",
    "X = np.arange(4, dtype=int)\n",
    "\n",
    "# Create a copy with a different ID\n",
    "Y = np.copy(X); print(id(X), id(Y))\n",
    "\n",
    "# Create a copy array with the same dimensions, but filled with 1\n",
    "Y = np.ones_like(X)\n",
    "\n",
    "# Create a copy matrix with same dimensions, but filled with 0\n",
    "Y = np.zeros_like(X)\n",
    "\n",
    "# Create a copy matrix with same dimensions, but filled with fill_value\n",
    "Y = np.full_like(X, fill_value=7)\n",
    "\n",
    "# Convert all values into float\n",
    "Y = np.array(X, np.float)\n"
   ]
  },
  {
   "cell_type": "code",
   "execution_count": 1034,
   "id": "db15d170",
   "metadata": {},
   "outputs": [],
   "source": [
    "\"\"\"\n",
    "Mathematics functions: \n",
    "np.sum, np.exp, np.round\n",
    "\"\"\"\n",
    "vector1 = np.array([1, 2, 3, 4], dtype=int)\n",
    "vector2 = np.array([1, 2, 3, 4], dtype=int)\n",
    "\n",
    "# Element-wise addition\n",
    "vector1 + vector2\n",
    "\n",
    "# Add a scalar\n",
    "vector1 + 10\n",
    "# Inplace\n",
    "vector1 += 10\n",
    "\n"
   ]
  },
  {
   "cell_type": "code",
   "execution_count": 1035,
   "id": "7223ef39",
   "metadata": {},
   "outputs": [
    {
     "data": {
      "text/plain": [
       "12"
      ]
     },
     "execution_count": 1035,
     "metadata": {},
     "output_type": "execute_result"
    }
   ],
   "source": [
    "\"\"\"\n",
    "Statistics functions:\n",
    "np.mean, np.median, np.std, np.max\n",
    "\"\"\"\n",
    "vector1 = np.array([1, 2, 3, 4], dtype=int)\n",
    "vector2 = np.array([1, 2, 3, 4], dtype=int)\n",
    "array2d = np.array([\n",
    "\t[1, 2, 3], \n",
    "\t[4, 5, 6]\n",
    "])\n",
    "array3d = np.array([\n",
    "\t[\n",
    "\t\t[1, 2, 3],\n",
    "\t\t[4, 5, 6],\n",
    "\t], \n",
    "\t[\n",
    "\t\t[7, 8, 9],\n",
    "\t\t[10, 11, 12],\n",
    "\t]\n",
    "])\n",
    "\n",
    "array3d[0, 0].sum()\n",
    "array3d[0, 0].mean()\n",
    "array3d[0, 0].std()\n",
    "\n",
    "array2d.sum() # sum of all elements\n",
    "array2d.sum(axis=0) # sum of columns\n",
    "array2d.sum(axis=1) # sum of rows\n",
    "\n",
    "\n",
    "array3d.max()"
   ]
  },
  {
   "cell_type": "code",
   "execution_count": 1036,
   "id": "e6cb2349",
   "metadata": {},
   "outputs": [
    {
     "data": {
      "text/plain": [
       "array([ 4, 10, 18])"
      ]
     },
     "execution_count": 1036,
     "metadata": {},
     "output_type": "execute_result"
    }
   ],
   "source": [
    "\"\"\"\n",
    "Linear algebra:\n",
    "np.matmul, np.dot, np.transpose, np.eigvals\n",
    "\"\"\"\n",
    "\n",
    "a = np.array([\n",
    "\t[1, 2, 3], \n",
    "\t[4, 5, 6], \n",
    "\t[7, 8, 9]\n",
    "])\n",
    "b = np.random.rand(3, 3)\n",
    "\n",
    "# Dot product\n",
    "a.dot(b)\n",
    "\n",
    "# Vector multiplication\n",
    "vector1 = np.array([1, 2, 3])\n",
    "vector2 = np.array([4, 5, 6])\n",
    "vector1 * vector2\n"
   ]
  },
  {
   "cell_type": "code",
   "execution_count": 1037,
   "id": "93381085",
   "metadata": {},
   "outputs": [
    {
     "name": "stdout",
     "output_type": "stream",
     "text": [
      "Wall time: 34.7 ms\n",
      "Wall time: 0 ns\n"
     ]
    },
    {
     "data": {
      "text/plain": [
       "800"
      ]
     },
     "execution_count": 1037,
     "metadata": {},
     "output_type": "execute_result"
    }
   ],
   "source": [
    "# Size of objects in memory\n",
    "\n",
    "# An integer 1 in Python is 28 bytes\n",
    "import sys\n",
    "sys.getsizeof(1)\n",
    "# Numpy size is much smaller\n",
    "np.dtype(int).itemsize\n",
    "\n",
    "# Lists are larger, e.g. list of one element 1 is 64 bytes\n",
    "sys.getsizeof([1])\n",
    "# An array of one element in numpy = 4 bytes\n",
    "np.array([1]).nbytes\n",
    "\n",
    "# Performance of Python\n",
    "l = list(range(100000))\n",
    "%time sum([x**2 for x in l])\n",
    "# Performance of Numpy\n",
    "a = np.arange(100000)\n",
    "%time np.sum(a**2)\n",
    "\n",
    "\n",
    "# Show memory size in bytes of a Numpy matrix\n",
    "np.zeros((10, 10)).nbytes\n"
   ]
  },
  {
   "cell_type": "code",
   "execution_count": 1038,
   "id": "9fa256bd",
   "metadata": {},
   "outputs": [
    {
     "data": {
      "text/plain": [
       "array([1, 2, 3, 5, 6, 8, 9])"
      ]
     },
     "execution_count": 1038,
     "metadata": {},
     "output_type": "execute_result"
    }
   ],
   "source": [
    "X = np.array([5, 1, 2, 3, 6, 9, 8])\n",
    "X = np.sort(X)\n",
    "X"
   ]
  },
  {
   "cell_type": "code",
   "execution_count": 5,
   "id": "89cae075",
   "metadata": {},
   "outputs": [
    {
     "data": {
      "text/plain": [
       "array([10, 15, 20, 25, 30, 35, 40, 45, 50])"
      ]
     },
     "execution_count": 5,
     "metadata": {},
     "output_type": "execute_result"
    }
   ],
   "source": [
    "# Flatten the matrix into an array\n",
    "a = np.array([[10,15,20], [25,30,35], [40,45,50]])\n",
    "a.reshape(-1)\n"
   ]
  },
  {
   "attachments": {},
   "cell_type": "markdown",
   "id": "fbf7a09f",
   "metadata": {},
   "source": [
    "## Pandas\n",
    "\n",
    "Logical operators in Pandas: `&`, `|`, `~`. If there are multiple expressions, each one is wrapped inside of parentheses `()` \n",
    "\n",
    "\n",
    "You can pipe different commands like this:\n",
    "\n",
    "```py\n",
    "df['Col1'].str.lower().str.contains('string')\n",
    "```\n",
    "\n",
    "\n",
    "The two main data structures in Pandas are **Series** and **DataFrames**\n",
    "\n"
   ]
  },
  {
   "attachments": {},
   "cell_type": "markdown",
   "id": "afe7ab54",
   "metadata": {},
   "source": [
    "### Formats: series, dataframes"
   ]
  },
  {
   "cell_type": "code",
   "execution_count": 1,
   "id": "2d64ad9a",
   "metadata": {},
   "outputs": [
    {
     "data": {
      "text/plain": [
       "Row1    505\n",
       "Row2    510\n",
       "Row3    516\n",
       "dtype: int64"
      ]
     },
     "execution_count": 1,
     "metadata": {},
     "output_type": "execute_result"
    }
   ],
   "source": [
    "# Series\n",
    "import pandas as pd\n",
    "\n",
    "# Define one column of values\n",
    "var1 = pd.Series([10, 50, 10, 30, 20])\n",
    "\n",
    "var1.name = 'var1 series name1'\n",
    "\n",
    "# Create column row-by-row using indeces\n",
    "var2 = pd.Series({\n",
    "\t'Row1': 505, \n",
    "\t'Row2': 510, \n",
    "\t'Row3': 516\n",
    "})\n",
    "# or\n",
    "var2 = pd.Series([505, 510, 516], index=['Row1', 'Row2', 'Row3'])\n",
    "var2"
   ]
  },
  {
   "cell_type": "code",
   "execution_count": 1039,
   "id": "9b3d2bae",
   "metadata": {},
   "outputs": [
    {
     "data": {
      "text/html": [
       "<div>\n",
       "<style scoped>\n",
       "    .dataframe tbody tr th:only-of-type {\n",
       "        vertical-align: middle;\n",
       "    }\n",
       "\n",
       "    .dataframe tbody tr th {\n",
       "        vertical-align: top;\n",
       "    }\n",
       "\n",
       "    .dataframe thead th {\n",
       "        text-align: right;\n",
       "    }\n",
       "</style>\n",
       "<table border=\"1\" class=\"dataframe\">\n",
       "  <thead>\n",
       "    <tr style=\"text-align: right;\">\n",
       "      <th></th>\n",
       "      <th>index</th>\n",
       "      <th>0</th>\n",
       "    </tr>\n",
       "  </thead>\n",
       "  <tbody>\n",
       "    <tr>\n",
       "      <th>0</th>\n",
       "      <td>0</td>\n",
       "      <td>Evgenii</td>\n",
       "    </tr>\n",
       "    <tr>\n",
       "      <th>1</th>\n",
       "      <td>1</td>\n",
       "      <td>Caro</td>\n",
       "    </tr>\n",
       "    <tr>\n",
       "      <th>2</th>\n",
       "      <td>2</td>\n",
       "      <td>Cat</td>\n",
       "    </tr>\n",
       "  </tbody>\n",
       "</table>\n",
       "</div>"
      ],
      "text/plain": [
       "   index        0\n",
       "0      0  Evgenii\n",
       "1      1     Caro\n",
       "2      2      Cat"
      ]
     },
     "execution_count": 1039,
     "metadata": {},
     "output_type": "execute_result"
    }
   ],
   "source": [
    "# boolean array\n",
    "var2 > 510\n",
    "# Series masked with boolean array\n",
    "var2[var2 > 510]\n",
    "\n",
    "# Dataframes \n",
    "# Dataframe column is a Series\n",
    "\n",
    "# Convert series to dataframe\n",
    "\n",
    "# method 1\n",
    "name = pd.Series(['Evgenii', 'Caro', 'Cat'])\n",
    "age = pd.Series([24, 27, 11])\n",
    "df = pd.DataFrame({'name': name, 'age': age})\n",
    "df\n",
    "\n",
    "# method 2\n",
    "df2 = name.to_frame().reset_index()\n",
    "df2"
   ]
  },
  {
   "cell_type": "code",
   "execution_count": 2,
   "id": "2ae4ef36",
   "metadata": {},
   "outputs": [],
   "source": [
    "# DATAFRAMES\n",
    "\n",
    "# Pandas format is similar to a dictionary of lists, more specifically, \n",
    "# a series data structure (2D data structure)\n",
    "\n",
    "# Option 1\n",
    "people = {\n",
    "\t'name': ['John', 'Steve', 'Stephen', 'Jane'], \n",
    "\t'surname': ['Cramer', 'Buscemi', 'King', 'Foster'], \n",
    "\t'age': [55, 43, 40, 25], \n",
    "}\n",
    "people_df = pd.DataFrame(people)\n",
    "\n",
    "# Option 2\n",
    "people_df = pd.DataFrame({\n",
    "\t'name': ['John', 'Steve', 'Stephen', 'Jane'], \n",
    "\t'surname': ['Cramer', 'Buscemi', 'King', 'Foster'], \n",
    "\t'age': [55, 43, 40, 25], \n",
    "})\n",
    "\n",
    "# Option 3\n",
    "# Create a 5-column, 100-row pandas DataFrame\n",
    "import numpy as np\n",
    "npArray = np.random.random(size=(100, 5))\n",
    "df = pd.DataFrame(npArray, columns=['one', 'two', 'three', 'four', 'five'])\n"
   ]
  },
  {
   "cell_type": "code",
   "execution_count": 2,
   "id": "7632a3fa",
   "metadata": {},
   "outputs": [
    {
     "data": {
      "text/html": [
       "<div>\n",
       "<style scoped>\n",
       "    .dataframe tbody tr th:only-of-type {\n",
       "        vertical-align: middle;\n",
       "    }\n",
       "\n",
       "    .dataframe tbody tr th {\n",
       "        vertical-align: top;\n",
       "    }\n",
       "\n",
       "    .dataframe thead th {\n",
       "        text-align: right;\n",
       "    }\n",
       "</style>\n",
       "<table border=\"1\" class=\"dataframe\">\n",
       "  <thead>\n",
       "    <tr style=\"text-align: right;\">\n",
       "      <th></th>\n",
       "      <th>Column 1</th>\n",
       "      <th>Column 2</th>\n",
       "      <th>Column 3</th>\n",
       "    </tr>\n",
       "  </thead>\n",
       "  <tbody>\n",
       "  </tbody>\n",
       "</table>\n",
       "</div>"
      ],
      "text/plain": [
       "Empty DataFrame\n",
       "Columns: [Column 1, Column 2, Column 3]\n",
       "Index: []"
      ]
     },
     "execution_count": 2,
     "metadata": {},
     "output_type": "execute_result"
    }
   ],
   "source": [
    "# Create an empty dataframe\n",
    "import pandas as pd\n",
    "df = pd.DataFrame([], columns=['Column 1', 'Column 2', 'Column 3'])\n",
    "df"
   ]
  },
  {
   "cell_type": "code",
   "execution_count": 1041,
   "id": "b31c0bb1",
   "metadata": {},
   "outputs": [
    {
     "data": {
      "text/html": [
       "<div>\n",
       "<style scoped>\n",
       "    .dataframe tbody tr th:only-of-type {\n",
       "        vertical-align: middle;\n",
       "    }\n",
       "\n",
       "    .dataframe tbody tr th {\n",
       "        vertical-align: top;\n",
       "    }\n",
       "\n",
       "    .dataframe thead th {\n",
       "        text-align: right;\n",
       "    }\n",
       "</style>\n",
       "<table border=\"1\" class=\"dataframe\">\n",
       "  <thead>\n",
       "    <tr style=\"text-align: right;\">\n",
       "      <th></th>\n",
       "      <th>Age</th>\n",
       "      <th>Height</th>\n",
       "      <th>Mark</th>\n",
       "      <th>Sport</th>\n",
       "      <th>Languages</th>\n",
       "    </tr>\n",
       "  </thead>\n",
       "  <tbody>\n",
       "    <tr>\n",
       "      <th>Evgenii</th>\n",
       "      <td>24</td>\n",
       "      <td>186</td>\n",
       "      <td>A</td>\n",
       "      <td>Gym</td>\n",
       "      <td>English</td>\n",
       "    </tr>\n",
       "    <tr>\n",
       "      <th>John</th>\n",
       "      <td>25</td>\n",
       "      <td>186</td>\n",
       "      <td>C</td>\n",
       "      <td>Volleyball</td>\n",
       "      <td>NaN</td>\n",
       "    </tr>\n",
       "    <tr>\n",
       "      <th>Asuka</th>\n",
       "      <td>23</td>\n",
       "      <td>182</td>\n",
       "      <td>A</td>\n",
       "      <td>Baseball</td>\n",
       "      <td>NaN</td>\n",
       "    </tr>\n",
       "    <tr>\n",
       "      <th>Yagami</th>\n",
       "      <td>20</td>\n",
       "      <td>175</td>\n",
       "      <td>B</td>\n",
       "      <td>Cricket</td>\n",
       "      <td>Japanese</td>\n",
       "    </tr>\n",
       "  </tbody>\n",
       "</table>\n",
       "</div>"
      ],
      "text/plain": [
       "         Age  Height Mark       Sport Languages\n",
       "Evgenii   24     186    A         Gym   English\n",
       "John      25     186    C  Volleyball       NaN\n",
       "Asuka     23     182    A    Baseball       NaN\n",
       "Yagami    20     175    B     Cricket  Japanese"
      ]
     },
     "execution_count": 1041,
     "metadata": {},
     "output_type": "execute_result"
    }
   ],
   "source": [
    "# Modify dataframe by a series\n",
    "\n",
    "df1 = pd.DataFrame(\n",
    "    {\n",
    "        \"Age\": [24, 25, 23, 20],\n",
    "        \"Height\": [186, 186, 182, 175],\n",
    "        \"Mark\": [\"A\", \"C\", \"A\", \"B\"],\n",
    "        \"Sport\": [\"Gym\", \"Volleyball\", \"Baseball\", \"Cricket\"],\n",
    "    },\n",
    "    index=['Evgenii', 'John', 'Asuka', 'Yagami'],\n",
    ")\n",
    "\n",
    "series1 = pd.Series(\n",
    "\t['Japanese', 'English'], \n",
    "\tindex=['Yagami', 'Evgenii']\n",
    ")\n",
    "\n",
    "df1['Languages'] = series1\n",
    "df1\n"
   ]
  },
  {
   "cell_type": "code",
   "execution_count": 3,
   "id": "24ee6d11",
   "metadata": {},
   "outputs": [
    {
     "data": {
      "text/html": [
       "<div>\n",
       "<style scoped>\n",
       "    .dataframe tbody tr th:only-of-type {\n",
       "        vertical-align: middle;\n",
       "    }\n",
       "\n",
       "    .dataframe tbody tr th {\n",
       "        vertical-align: top;\n",
       "    }\n",
       "\n",
       "    .dataframe thead th {\n",
       "        text-align: right;\n",
       "    }\n",
       "</style>\n",
       "<table border=\"1\" class=\"dataframe\">\n",
       "  <thead>\n",
       "    <tr style=\"text-align: right;\">\n",
       "      <th></th>\n",
       "      <th>Age</th>\n",
       "      <th>Height</th>\n",
       "      <th>Mark</th>\n",
       "      <th>Sport</th>\n",
       "    </tr>\n",
       "  </thead>\n",
       "  <tbody>\n",
       "    <tr>\n",
       "      <th>Evgenii</th>\n",
       "      <td>24</td>\n",
       "      <td>186</td>\n",
       "      <td>A</td>\n",
       "      <td>Gym</td>\n",
       "    </tr>\n",
       "    <tr>\n",
       "      <th>John</th>\n",
       "      <td>25</td>\n",
       "      <td>186</td>\n",
       "      <td>C</td>\n",
       "      <td>Volleyball</td>\n",
       "    </tr>\n",
       "    <tr>\n",
       "      <th>Asuka</th>\n",
       "      <td>23</td>\n",
       "      <td>182</td>\n",
       "      <td>A</td>\n",
       "      <td>Baseball</td>\n",
       "    </tr>\n",
       "    <tr>\n",
       "      <th>Yagami</th>\n",
       "      <td>20</td>\n",
       "      <td>175</td>\n",
       "      <td>B</td>\n",
       "      <td>Cricket</td>\n",
       "    </tr>\n",
       "  </tbody>\n",
       "</table>\n",
       "</div>"
      ],
      "text/plain": [
       "         Age  Height Mark       Sport\n",
       "Evgenii   24     186    A         Gym\n",
       "John      25     186    C  Volleyball\n",
       "Asuka     23     182    A    Baseball\n",
       "Yagami    20     175    B     Cricket"
      ]
     },
     "execution_count": 3,
     "metadata": {},
     "output_type": "execute_result"
    }
   ],
   "source": [
    "# Create a DataFrame copy\n",
    "\n",
    "import pandas as pd\n",
    "\n",
    "df1 = pd.DataFrame(\n",
    "    {\n",
    "        \"Age\": [24, 25, 23, 20],\n",
    "        \"Height\": [186, 186, 182, 175],\n",
    "        \"Mark\": [\"A\", \"C\", \"A\", \"B\"],\n",
    "        \"Sport\": [\"Gym\", \"Volleyball\", \"Baseball\", \"Cricket\"],\n",
    "    },\n",
    "    index=['Evgenii', 'John', 'Asuka', 'Yagami'],\n",
    ")\n",
    "\n",
    "df2 = df1.copy(deep=True)\n",
    "df2.head()"
   ]
  },
  {
   "cell_type": "code",
   "execution_count": 3,
   "id": "40431c78",
   "metadata": {},
   "outputs": [
    {
     "data": {
      "text/html": [
       "<div>\n",
       "<style scoped>\n",
       "    .dataframe tbody tr th:only-of-type {\n",
       "        vertical-align: middle;\n",
       "    }\n",
       "\n",
       "    .dataframe tbody tr th {\n",
       "        vertical-align: top;\n",
       "    }\n",
       "\n",
       "    .dataframe thead th {\n",
       "        text-align: right;\n",
       "    }\n",
       "</style>\n",
       "<table border=\"1\" class=\"dataframe\">\n",
       "  <thead>\n",
       "    <tr style=\"text-align: right;\">\n",
       "      <th></th>\n",
       "      <th>Column1</th>\n",
       "      <th>Column2</th>\n",
       "    </tr>\n",
       "  </thead>\n",
       "  <tbody>\n",
       "    <tr>\n",
       "      <th>0</th>\n",
       "      <td>1</td>\n",
       "      <td>10</td>\n",
       "    </tr>\n",
       "    <tr>\n",
       "      <th>1</th>\n",
       "      <td>2</td>\n",
       "      <td>20</td>\n",
       "    </tr>\n",
       "    <tr>\n",
       "      <th>2</th>\n",
       "      <td>3</td>\n",
       "      <td>30</td>\n",
       "    </tr>\n",
       "  </tbody>\n",
       "</table>\n",
       "</div>"
      ],
      "text/plain": [
       "   Column1  Column2\n",
       "0        1       10\n",
       "1        2       20\n",
       "2        3       30"
      ]
     },
     "execution_count": 3,
     "metadata": {},
     "output_type": "execute_result"
    }
   ],
   "source": [
    "# Create a DF from a multidimensional NumPy array\n",
    "import numpy as np\n",
    "import pandas as pd\n",
    "\n",
    "a = np.array( [[1,10],[2,20],[3,30]] )\n",
    "\n",
    "df = pd.DataFrame({\n",
    "\t'Column1': a[:,0],\n",
    "\t'Column2': a[:,1]\n",
    "})\n",
    "\n",
    "df"
   ]
  },
  {
   "cell_type": "code",
   "execution_count": null,
   "id": "13b63274",
   "metadata": {},
   "outputs": [
    {
     "name": "stdout",
     "output_type": "stream",
     "text": [
      "[10 20 30 40 50]\n",
      "[[  1  10 100]\n",
      " [  2  20 200]\n",
      " [  3  30 300]\n",
      " [  4  40 400]\n",
      " [  5  50 500]]\n"
     ]
    }
   ],
   "source": [
    "# Convert a dataframe into numpy array\n",
    "\n",
    "df = pd.DataFrame({\n",
    "\t'Col1': [1, 2, 3, 4, 5], \n",
    "\t'Col2': [10, 20, 30, 40, 50], \n",
    "\t'Col3': [100, 200, 300, 400, 500]\n",
    "})\n",
    "\n",
    "# Convert one column\n",
    "print( df['Col2'].to_numpy() )\n",
    "\n",
    "# Convert all columns\n",
    "print( df.to_numpy() )\n"
   ]
  },
  {
   "attachments": {},
   "cell_type": "markdown",
   "id": "eb6fef6e",
   "metadata": {},
   "source": [
    "### Import / export data\n",
    "\n",
    "There are a couple of pre-loaded datasets:\n",
    "```py\n",
    "import seaborn as sns\n",
    "\n",
    "iris = sns.load_dataset('iris')\n",
    "iris.head()\n",
    "```\n",
    "\n",
    "```py\n",
    "###########################################################################################\n",
    "#####   Reader   ##########################################################################\n",
    "###########################################################################################\n",
    "\n",
    "# Read from web url\n",
    "df = pd.read_csv('https://raw.githubusercontent.com/datasets/covid-19/master/data/countries-aggregated.csv', parse_dates=['Date'])\n",
    "\n",
    "# File reader\n",
    "varname = pd.read_csv(\n",
    "\t'name.csv', \n",
    "\tsep='\\t', # or delimiter = '\\t'; specify custom data delimiter\n",
    "\theader=None, # if file doesn't have a header\n",
    "\tna_values=['', '?', '-'], # defines values which are recognised as NA/NaN\n",
    "\tusecols=['Column1', 'Column2'], # only import the specified columns\n",
    "\tnames=['Col1', 'Column2'], # pass names of columns\n",
    "\tdtype={'Col1': 'float'}, # parameter to force pandas to use certain dtype for a specified column\n",
    "\tparse_dates=[0], # parse_dates = True; parse_dates = ['Date']\n",
    "\tindex_col=[0], # or index_col = 'Respondent' ; index_col = 0\n",
    "\tdecimal=',', \n",
    "\tdelim_whitespace=True, # as delimiters, whitespace of length 1 or more will be considered\n",
    "\tskiprows=2, # skip reading the first 2 rows from the file\n",
    "\tnrows=10 # number of a file's rows to read\n",
    ")\n",
    "df = pd.read_excel('data.slxs')\n",
    "df = pd.read_json('filename.json')\n",
    "\n",
    "###########################################################################################\n",
    "#####   Writer   ##########################################################################\n",
    "###########################################################################################\n",
    "\n",
    "df.to_csv(\n",
    "\t'filename.tsv', # can be .tsv, just specify parameter 'sep' \n",
    "\tsep='\\t',\n",
    "\tindex=False, # don't output index column\n",
    ")\n",
    "df.to_excel('filename.xlsx')\n",
    "df.to_json('filename.json')\n",
    "\n",
    "\n",
    "# Copy dataframe\n",
    "df2 = df.copy()\n",
    "```\n",
    "\n",
    "---\n",
    "\n",
    "```py\n",
    "\n",
    "# Batch process: read .json files from directory FolderWithJsonFiles, convert them to .tsv, save to current dir\n",
    "import os; import pandas as pd\n",
    "\n",
    "files = os.listdir('json')\n",
    "\n",
    "if not os.path.exists('/tsv'):\n",
    "\tos.mkdir('tsv')\n",
    "for i in files:\n",
    "\tprint(i)\n",
    "\tdf = pd.read_json(f'json/{i}')\n",
    "\tdf = df[df[0] != '\\n']\n",
    "\tname_noextension = i.split('.')[0]\n",
    "\tname_tsvextension = name_noextension + '.tsv'\n",
    "\tdf.to_csv(f\"tsv/{name_tsvextension}\", sep='\\t', index=False, header=False)\n",
    "\tprint(f\"Wrote tsv/{name_tsvextension}!\")\n",
    "\n",
    "```"
   ]
  },
  {
   "attachments": {},
   "cell_type": "markdown",
   "id": "2e9f9fbf",
   "metadata": {},
   "source": [
    "### View / Filter\n",
    "\n",
    "After some operations, such as filtering out rows, the continuity of index gets interrupted. In these situations, you might need to reset the index:\n",
    "```py\n",
    "df = df.reset_index()\n",
    "\n",
    "# Boolean array\n",
    "mask = df['Colname'] > 100\n",
    "df[mask]\n",
    "```\n",
    "\n",
    "```py\n",
    "pd.set_option('display.max_columns', 2) # See a specified amount of columns\n",
    "df.shape # Shows numbers of rows, columns. Attribute, so no parentheses\n",
    "df.shape[0] # Number of rows\n",
    "df.shape[1] # Number of columns\n",
    "df.info() # Shows index, name, and datatype of each column, with count of nonnull values\n",
    "df.describe() \n",
    "df.dtypes # Show data types of variables\n",
    "df['Col1'].unique() # Shows unique values in a column\n",
    "\n",
    "df['Col1'][0] # Access a specific value by column name and row index\n",
    "\n",
    "###########################################################################################\n",
    "#####   COLUMNS   #########################################################################\n",
    "###########################################################################################\n",
    "df.columns # List all columns\n",
    "list(df.columns) # List all columns in datatype 'list'\n",
    "# Creeate a list out of a single column\n",
    "list(df['Col1']) \n",
    "df['column'].tolist()\n",
    "\n",
    "df['Col1'] # Access a column\n",
    "df.Col1\n",
    "df[['Col1', 'Col2']] # Access multiple columns\n",
    "df['Col1'].apply(len) # Check length of each item in column\n",
    "df['Col1'] = df['Col1'].apply(lambda x: x.lower())\n",
    "df.apply(pd.Series.min) # Return the minimum values for each column\n",
    "df.apply(lambda x: x.min())\n",
    "# For a categorical variable, print unique categories in a column\n",
    "df['Col1'].value_counts()\n",
    "\n",
    "df[['Col1', 'Col2']] # Only take specified columns\n",
    "df1 = df.drop([\"Survived\"], axis=1) # Only choose one column\n",
    "df.loc[:, df.columns != 'column2'] # Take all columns except for 'column2'\n",
    "\n",
    "df[df['Col1'].isin(['Name1'])] # Filter: Col1 = Name1\n",
    "df[df['Col1'].str.contains('Name1', na=False)] # Filter: Column contains Name1\n",
    "df[df['Col1'].str.contains('this|that')==False] # Filter rows which DO NOT contain str 'this' or 'that'\n",
    "df[df['Col1'].str.startswith('D')]\n",
    "df[df['Col1'] > 100] # Filter by 1 condition\n",
    "df[ (df['Col1'] > 100) & (df['Col2'] != 5) ] # Filter by two IF conditions\n",
    "df.loc[df['Age'] > 100, 'Age'] = df.loc[df['Age'] > 100, 'Age'] / 10 # In column 'Age', if value is greater than 100, divide it by 10:\n",
    "df[df['Col1'].between(left=4, right=5)] # Filter column btw two values\n",
    "# apply the same filter condition on multiple columns\n",
    "df[(df[cols] % 2 == 0).any(axis=1)] # cols = list of columns, e.g. df.columns\n",
    "\n",
    "###########################################################################################\n",
    "#####   ROWS   ############################################################################\n",
    "###########################################################################################\n",
    "df.head(10) # See the first 10 rows\n",
    "df[['Col1', 'Col2']].head(5) # Show the first 5 rows of the specified columns\n",
    "df.tail(10) # See the last 10 rows\n",
    "\n",
    "df.iloc[0] # Access a row by index\n",
    "df.loc[0]\n",
    "df['Date'].loc[0]\n",
    "df.iloc[[0, 1]] # Access multiple rows\n",
    "df.iloc[1:4]\n",
    "df.loc[[0, 1]]\n",
    "df.iloc[[0, 1], 2] # Access multiple rows in a specific column by INDEX\n",
    "df.loc[[0, 1], 'Col1'] # Access multiple rows in a specific column by LABEL\n",
    "df.loc[[0, 1], ['Col1', 'Col2']]\n",
    "df.loc[0:2, 'Col1':'Col2']\n",
    "\n",
    "# Iterate over all rows\n",
    "for index, row in df.iterrows():\n",
    "\tprint(index, row['Colname'])\n",
    "\tif row['Name'] == 'Jane':\n",
    "\t\tdf['Name'].iloc[index] = 'Found Jane!'\n",
    "\n",
    "# Access all rows containing 'Keyword' in a column:\n",
    "for iter, i in enumerate(df['Col1']):\n",
    "\tif 'Keyword' in i:\n",
    "\t\tprint( df.loc[iter] )\n",
    "\n",
    "df.loc[ df['Col1'] == 'Value' ] # Filter rows containing 'Value' in 'Col1'\n",
    "\n",
    "# Slice DataFrame\n",
    "df.iloc[startrow:endrow, startcolumn:endcolumn]\n",
    "# Get rows 10-20, all columns\n",
    "df.iloc[10:20, :]\n",
    "df.iloc[10:20]\n",
    "\n",
    "```"
   ]
  },
  {
   "cell_type": "code",
   "execution_count": 12,
   "id": "9fd7c9f9",
   "metadata": {},
   "outputs": [
    {
     "data": {
      "text/html": [
       "<div>\n",
       "<style scoped>\n",
       "    .dataframe tbody tr th:only-of-type {\n",
       "        vertical-align: middle;\n",
       "    }\n",
       "\n",
       "    .dataframe tbody tr th {\n",
       "        vertical-align: top;\n",
       "    }\n",
       "\n",
       "    .dataframe thead th {\n",
       "        text-align: right;\n",
       "    }\n",
       "</style>\n",
       "<table border=\"1\" class=\"dataframe\">\n",
       "  <thead>\n",
       "    <tr style=\"text-align: right;\">\n",
       "      <th></th>\n",
       "      <th>sepal_length</th>\n",
       "      <th>sepal_width</th>\n",
       "      <th>petal_length</th>\n",
       "      <th>petal_width</th>\n",
       "      <th>species</th>\n",
       "    </tr>\n",
       "  </thead>\n",
       "  <tbody>\n",
       "    <tr>\n",
       "      <th>109</th>\n",
       "      <td>7.2</td>\n",
       "      <td>3.6</td>\n",
       "      <td>6.1</td>\n",
       "      <td>2.5</td>\n",
       "      <td>virginica</td>\n",
       "    </tr>\n",
       "    <tr>\n",
       "      <th>117</th>\n",
       "      <td>7.7</td>\n",
       "      <td>3.8</td>\n",
       "      <td>6.7</td>\n",
       "      <td>2.2</td>\n",
       "      <td>virginica</td>\n",
       "    </tr>\n",
       "    <tr>\n",
       "      <th>131</th>\n",
       "      <td>7.9</td>\n",
       "      <td>3.8</td>\n",
       "      <td>6.4</td>\n",
       "      <td>2.0</td>\n",
       "      <td>virginica</td>\n",
       "    </tr>\n",
       "  </tbody>\n",
       "</table>\n",
       "</div>"
      ],
      "text/plain": [
       "     sepal_length  sepal_width  petal_length  petal_width    species\n",
       "109           7.2          3.6           6.1          2.5  virginica\n",
       "117           7.7          3.8           6.7          2.2  virginica\n",
       "131           7.9          3.8           6.4          2.0  virginica"
      ]
     },
     "execution_count": 12,
     "metadata": {},
     "output_type": "execute_result"
    }
   ],
   "source": [
    "# Here's an alternative way to filter a dataframe\n",
    "\n",
    "import seaborn as sns\n",
    "\n",
    "iris = sns.load_dataset('iris')\n",
    "iris.head()\n",
    "\n",
    "iris.query('sepal_width > 3.5 & sepal_length > 5.0 & species.str.startswith(\"v\").values')"
   ]
  },
  {
   "attachments": {},
   "cell_type": "markdown",
   "id": "c01e2320",
   "metadata": {},
   "source": [
    "### Data proc\n",
    "\n",
    "```py\n",
    "\n",
    "# COLUMNS EDIT\n",
    "import pandas as pd\n",
    "df = pd.DataFrame({'col1': [1, 2], 'col2': [10, 20], 'col3': ['1', '2'], 'col4': ['10', '20']})\n",
    "df['newCol'] = df['col3'] + ' ' + df['col4'] # Add a new column\n",
    "df['col1'] = df['col1'] + 1000000000 # Add a number to each value in a column\n",
    "# Rearrange column order - put last column as first\n",
    "colNames = list(df.columns.values)\n",
    "df = df[colNames[-1:] + colNames[:-1]]\n",
    "\n",
    "# Split one column into multiple based on a delimiter\n",
    "## No assignment of new column names\n",
    "df = df['col1'].str.split(';', expand=True)\n",
    "## Assign new names to columns\n",
    "df[['col3-1', 'col3-2']] = df['col3'].str.split(';', expand=True)\n",
    "\n",
    "# Extract numbers from a DataFrame column\n",
    "df['column'].str.extract(r'([0-9]+)')\n",
    "\n",
    "df.rename(\n",
    "\tcolumns={'Name1':'Column1', 'Name2':'Column2'}, # Change names of the specified columns\n",
    "\tindex = {'United States': 'USA', 'United Kingdom':'UK'}, # Rename indices if they are set to custom values\n",
    "\tinplace=True\n",
    ") \n",
    "df.columns = ['Item name', 'col1', 'Amount', 'Longevity years'] # Change names of all columns in a df\n",
    "df.columns = [x.upper() for x in df.columns] # Make all column titles upper case\n",
    "df['ITEM_NAME'] = df['ITEM_NAME'].str.lower() # Change all items in a column\n",
    "\n",
    "# Remove columns\n",
    "df.drop(['A'], axis=1)\n",
    "df.drop(columns=['col1', 'col2'], inplace=True)\n",
    "df['colname'].str.split(' ', expand=True) # Str split one column into multiple columns\n",
    "\n",
    "df.columns = df.columns.str.replace(' ', '_') # Replace all spaces with underscores\n",
    "# Using 'str' with multiple replacements\n",
    "df.str.replace(\"pattern1|pattern2|pattern3\", \",\") # Replace three patterns with a comma\n",
    "# Replace the same pattern in multiple columns: replace all patterns like [1], [10], [a] with nothing\n",
    "df[['col1', 'col2']] = df[['col1', 'col2']].replace(\n",
    "\tto_replace=r\"\\[[0-9a-zA-Z]*\\]\", \n",
    "\tvalue='', \n",
    "\tregex=True\n",
    ")\n",
    "\n",
    "\n",
    "# ROWS EDIT\n",
    "df = df.append({'a': 4, 'b': 400}, ignore_index=True) # Append a new row in an existing dataframe\n",
    "df.loc[2, 'col1'] = 700 # Change one specific item in a specific column\n",
    "df.at[2, 'col1'] = 700 # practically the same as loc\n",
    "df.loc[2, ['col1', 'AMOUNT']] = [650, 15] # Change two specific items in specified columns\n",
    "df = df.append({'col1': 10, 'col2': 20}, ignore_index=True) # Add one row of data\n",
    "df.drop(index=11) # Remove a row by index\n",
    "df.drop(index=df[df['col1'] == 'Name'].index) # By condition\n",
    "df['col1'] = df['col1'].map({'Yes':True, 'No':False}) # In a column, replace all 'Yes' and 'No' with booleans\n",
    "\n",
    "\n",
    "```"
   ]
  },
  {
   "cell_type": "code",
   "execution_count": 8,
   "id": "e5348c60",
   "metadata": {},
   "outputs": [
    {
     "data": {
      "text/plain": [
       "array([['Corey', 'Schafer'],\n",
       "       ['Jane', 'Doe'],\n",
       "       ['John', 'Doe'],\n",
       "       ['Chris', 'Schafer'],\n",
       "       [nan, nan],\n",
       "       [None, nan],\n",
       "       ['NA', 'Missing']], dtype=object)"
      ]
     },
     "execution_count": 8,
     "metadata": {},
     "output_type": "execute_result"
    }
   ],
   "source": [
    "import numpy as np, pandas as pd\n",
    "df2 = pd.DataFrame({\n",
    "\t'first': ['Corey', 'Jane', 'John', 'Chris', np.nan, None, 'NA'], \n",
    "\t'last': [\"Schafer\", 'Doe', 'Doe', 'Schafer', np.nan, np.nan, 'Missing'], \n",
    "\t'email': ['CoreyMSchafer@gmail.com', 'JaneDoe@email.com', 'JohnDoe@email.com', None, np.nan, None, 'Missing'], \n",
    "\t'age': ['33', '55', '63', '36', None, None, 'Missing']\n",
    "})\n",
    "\n",
    "df2[['first', 'last']].values"
   ]
  },
  {
   "cell_type": "code",
   "execution_count": 1044,
   "id": "448cb280",
   "metadata": {},
   "outputs": [],
   "source": [
    "# HANDLING MISSING VALUES AND DUPLICATES\n",
    "import numpy as np, pandas as pd\n",
    "df2 = pd.DataFrame({\n",
    "\t'first': ['Corey', 'Jane', 'John', 'Chris', np.nan, None, 'NA'], \n",
    "\t'last': [\"Schafer\", 'Doe', 'Doe', 'Schafer', np.nan, np.nan, 'Missing'], \n",
    "\t'email': ['CoreyMSchafer@gmail.com', 'JaneDoe@email.com', 'JohnDoe@email.com', None, np.nan, None, 'Missing'], \n",
    "\t'age': ['33', '55', '63', '36', None, None, 'Missing']\n",
    "})\n",
    "\n",
    "# Drop missing values\n",
    "df2.dropna(\n",
    "\taxis='index', # drop values when rows are missing values\n",
    "\t# axis='columns', # drop columns if they have missing values\n",
    "\thow='any', # Drop rows with ANY missing values\n",
    "\t# how='all' # Drop rows with ALL missing values\n",
    "\tsubset = ['email'], # drop if NaN values in subset column\n",
    "\tinplace = True, # inplace change\n",
    ")\n",
    "\n",
    "# drop rows in which any null value is present\n",
    "df2.dropna() # by default how='any'\n",
    "# drop columns in which any null value is present\n",
    "df2.dropna(axis=1)\n",
    "# drops rows if all values are null\n",
    "df2.dropna(how='all')\n",
    "# drops rows if null threshold count is exceeded\n",
    "df2.dropna(thresh=3)\n",
    "# drop rows if both of the two chosen columns have NaN values\n",
    "df2.dropna(axis='index', how='all', subset=['last', 'email'])\n",
    "\n",
    "# drop custom missing values\n",
    "df2.replace('NA', np.nan, inplace=True)\n",
    "df2.replace('Missing', np.nan, inplace=True)\n",
    "\n",
    "# check if values are NaN\n",
    "# Return boolean mask\n",
    "df2.isna()\n",
    "df2.isna().sum()\n",
    "df2.isnull()\n",
    "\n",
    "# The opposite - check if values are not null\n",
    "df2.notnull()\n",
    "df2.notna()\n",
    "\n",
    "# replace all NaN values with a specified value\n",
    "df2.fillna(0, inplace=True)\n",
    "df2.fillna(method='ffill') # this argument fills null values with values that are before the null value\n",
    "df2.fillna(method='bfill') # this argument fills null values with values that are AFTER the null value\n",
    "\"\"\"\n",
    "Other arguments: \n",
    "- axis=0: columns (method works vertically)\n",
    "- axis=1: rows (method works horisontally)\n",
    "\"\"\"\n",
    "\n",
    "\n",
    "# Get a list of only those columns which have at least one NaN\n",
    "nan_cols = [i for i in df.columns if df[i].isnull().any()]\n",
    "# How many null values there are in a df - sum of boolean series\n",
    "df2['age'].isna().sum()\n",
    "# How many not null values there are in a df - same\n",
    "df2['age'].notnull().sum()\n",
    "\n",
    "# Show boolean array of values which repeat; \n",
    "df2['first'].duplicated(\n",
    "\tkeep='last', \n",
    "\t# keep=False\n",
    ") \n",
    "\n",
    "df2.drop_duplicates(\n",
    "\tsubset=['first'], # which column to test for replicates\n",
    "\tinplace=True, \n",
    "\tkeep='first', # default; consider first occurrence of the value as non-duplicate\n",
    "\t# keep='last', # consider last occurrence of the value as non-duplicate\n",
    "\t# keep=False, # drops all values which have replicates\n",
    ") \n"
   ]
  },
  {
   "cell_type": "code",
   "execution_count": 1045,
   "id": "6a38053b",
   "metadata": {},
   "outputs": [],
   "source": [
    "\"\"\" INDEX \"\"\"\n",
    "\n",
    "df2.set_index('last', inplace=True) # Set a custom index\n",
    "df2.loc['Doe'] # Access a row through the custom index\n",
    "df2.reset_index(inplace=True) # Reset index\n",
    "df2.sort_index( inplace=True ) # Sort indices alphabetically"
   ]
  },
  {
   "cell_type": "code",
   "execution_count": 1046,
   "id": "ab205533",
   "metadata": {},
   "outputs": [
    {
     "data": {
      "text/html": [
       "<div>\n",
       "<style scoped>\n",
       "    .dataframe tbody tr th:only-of-type {\n",
       "        vertical-align: middle;\n",
       "    }\n",
       "\n",
       "    .dataframe tbody tr th {\n",
       "        vertical-align: top;\n",
       "    }\n",
       "\n",
       "    .dataframe thead th {\n",
       "        text-align: right;\n",
       "    }\n",
       "</style>\n",
       "<table border=\"1\" class=\"dataframe\">\n",
       "  <thead>\n",
       "    <tr style=\"text-align: right;\">\n",
       "      <th></th>\n",
       "      <th>a</th>\n",
       "      <th>b</th>\n",
       "    </tr>\n",
       "  </thead>\n",
       "  <tbody>\n",
       "    <tr>\n",
       "      <th>0</th>\n",
       "      <td>3</td>\n",
       "      <td>so</td>\n",
       "    </tr>\n",
       "    <tr>\n",
       "      <th>1</th>\n",
       "      <td>3</td>\n",
       "      <td>3</td>\n",
       "    </tr>\n",
       "    <tr>\n",
       "      <th>2</th>\n",
       "      <td>cant</td>\n",
       "      <td>call</td>\n",
       "    </tr>\n",
       "  </tbody>\n",
       "</table>\n",
       "</div>"
      ],
      "text/plain": [
       "      a     b\n",
       "0     3    so\n",
       "1     3     3\n",
       "2  cant  call"
      ]
     },
     "execution_count": 1046,
     "metadata": {},
     "output_type": "execute_result"
    }
   ],
   "source": [
    "##########   Casting datatypes   #################################################\n",
    "df = pd.DataFrame({\n",
    "\t'first': ['Corey', 'Jane', 'John', 'Chris'], \n",
    "\t'last': [\"Schafer\", 'Doe', 'Doe', 'Schafer'], \n",
    "\t'email': ['CoreyMSchafer@gmail.com', 'JaneDoe@email.com', 'JohnDoe@email.com', 'Nope@gmail.com'], \n",
    "\t'age': ['33', '55', '63', '36'], \n",
    "\t'age2': [33, 55, 63, 36]\n",
    "})\n",
    "df.dtypes\n",
    "df['age'] = df['age'].astype(\n",
    "\tint\n",
    "\t# float\n",
    ") \n",
    "df['age'].mean()\n",
    "\n",
    "# Alternative way to change scientific notation into int\n",
    "df['age'] = df['age'].map(int)\n",
    "\n",
    "\n",
    "# View unique values in a column\n",
    "df['age'].unique()\n",
    "\n",
    "# REPLACE\n",
    "\n",
    "# in a pandas df, replace all \\n with nothing\n",
    "df.replace('\\n', '', inplace=True)\n",
    "# Replace A with a \n",
    "df['age'].replace('A', 'a', inplace=True)\n",
    "# Replace multiple instances with one\n",
    "df.replace([0, 1, 2, 3, 8], 'replaced')\n",
    "# Replace multiple strings with individual values\n",
    "df['age'].replace({'A': 'a', 'B': 'b'}, inplace=True)\n",
    "\n",
    "# Replace all three-letter words starting with c -> 3\n",
    "df2 = pd.DataFrame({'a': ['cat', 'cap', 'cant'],\n",
    "                   'b': ['so', 'car', 'call']})\n",
    "df2.replace(to_replace=r'^c..$', value=3, regex=True, inplace=True)\n",
    "df2\n",
    "\n",
    "\n",
    "# Set float decimal precision\n",
    "df['Value'] = df['Value'].round(4)"
   ]
  },
  {
   "cell_type": "code",
   "execution_count": 1047,
   "id": "da02c5ea",
   "metadata": {},
   "outputs": [
    {
     "data": {
      "text/html": [
       "<div>\n",
       "<style scoped>\n",
       "    .dataframe tbody tr th:only-of-type {\n",
       "        vertical-align: middle;\n",
       "    }\n",
       "\n",
       "    .dataframe tbody tr th {\n",
       "        vertical-align: top;\n",
       "    }\n",
       "\n",
       "    .dataframe thead th {\n",
       "        text-align: right;\n",
       "    }\n",
       "</style>\n",
       "<table border=\"1\" class=\"dataframe\">\n",
       "  <thead>\n",
       "    <tr style=\"text-align: right;\">\n",
       "      <th></th>\n",
       "      <th>first</th>\n",
       "      <th>last</th>\n",
       "      <th>email</th>\n",
       "      <th>age</th>\n",
       "      <th>age2</th>\n",
       "    </tr>\n",
       "  </thead>\n",
       "  <tbody>\n",
       "    <tr>\n",
       "      <th>0</th>\n",
       "      <td>Corey</td>\n",
       "      <td>Schafer</td>\n",
       "      <td>CoreyMSchafer@gmail.com</td>\n",
       "      <td>33</td>\n",
       "      <td>33</td>\n",
       "    </tr>\n",
       "    <tr>\n",
       "      <th>1</th>\n",
       "      <td>Jane</td>\n",
       "      <td>Doe</td>\n",
       "      <td>JaneDoe@email.com</td>\n",
       "      <td>55</td>\n",
       "      <td>55</td>\n",
       "    </tr>\n",
       "    <tr>\n",
       "      <th>2</th>\n",
       "      <td>John</td>\n",
       "      <td>Doe</td>\n",
       "      <td>JohnDoe@email.com</td>\n",
       "      <td>63</td>\n",
       "      <td>63</td>\n",
       "    </tr>\n",
       "    <tr>\n",
       "      <th>3</th>\n",
       "      <td>Chris</td>\n",
       "      <td>Schafer</td>\n",
       "      <td>Nope@gmail.com</td>\n",
       "      <td>36</td>\n",
       "      <td>36</td>\n",
       "    </tr>\n",
       "  </tbody>\n",
       "</table>\n",
       "</div>"
      ],
      "text/plain": [
       "   first     last                    email  age  age2\n",
       "0  Corey  Schafer  CoreyMSchafer@gmail.com   33    33\n",
       "1   Jane      Doe        JaneDoe@email.com   55    55\n",
       "2   John      Doe        JohnDoe@email.com   63    63\n",
       "3  Chris  Schafer           Nope@gmail.com   36    36"
      ]
     },
     "execution_count": 1047,
     "metadata": {},
     "output_type": "execute_result"
    }
   ],
   "source": [
    "# SORT DATA IN COLUMNS \n",
    "\n",
    "# df = pd.read_csv('example_datasets/items.csv')\n",
    "\n",
    "# sorting data - pandas sort\n",
    "df.sort_values(by='age', inplace=True)\n",
    "df.sort_values(by='age', inplace=True, ascending=False)\n",
    "# Sort by 'age', then reverse sort by 'price' \n",
    "df.sort_values(by=['age', 'age2'], ascending=[False, True], inplace=True)\n",
    "df.sort_index()\n"
   ]
  },
  {
   "cell_type": "markdown",
   "id": "e259df30",
   "metadata": {},
   "source": [
    "### Lambda"
   ]
  },
  {
   "cell_type": "code",
   "execution_count": 1,
   "id": "6e45365a",
   "metadata": {},
   "outputs": [
    {
     "data": {
      "text/html": [
       "<div>\n",
       "<style scoped>\n",
       "    .dataframe tbody tr th:only-of-type {\n",
       "        vertical-align: middle;\n",
       "    }\n",
       "\n",
       "    .dataframe tbody tr th {\n",
       "        vertical-align: top;\n",
       "    }\n",
       "\n",
       "    .dataframe thead th {\n",
       "        text-align: right;\n",
       "    }\n",
       "</style>\n",
       "<table border=\"1\" class=\"dataframe\">\n",
       "  <thead>\n",
       "    <tr style=\"text-align: right;\">\n",
       "      <th></th>\n",
       "      <th>age2</th>\n",
       "      <th>age2_high</th>\n",
       "    </tr>\n",
       "  </thead>\n",
       "  <tbody>\n",
       "    <tr>\n",
       "      <th>0</th>\n",
       "      <td>33</td>\n",
       "      <td>low</td>\n",
       "    </tr>\n",
       "    <tr>\n",
       "      <th>1</th>\n",
       "      <td>55</td>\n",
       "      <td>high</td>\n",
       "    </tr>\n",
       "    <tr>\n",
       "      <th>2</th>\n",
       "      <td>63</td>\n",
       "      <td>high</td>\n",
       "    </tr>\n",
       "    <tr>\n",
       "      <th>3</th>\n",
       "      <td>36</td>\n",
       "      <td>low</td>\n",
       "    </tr>\n",
       "  </tbody>\n",
       "</table>\n",
       "</div>"
      ],
      "text/plain": [
       "   age2 age2_high\n",
       "0    33       low\n",
       "1    55      high\n",
       "2    63      high\n",
       "3    36       low"
      ]
     },
     "execution_count": 1,
     "metadata": {},
     "output_type": "execute_result"
    }
   ],
   "source": [
    "import pandas as pd\n",
    "\n",
    "df = pd.DataFrame({\n",
    "\t# 'age': ['33', '55', '63', '36'], \n",
    "\t'age2': [33, 55, 63, 36]\n",
    "})\n",
    "\n",
    "df['age2_high'] = df['age2'].apply(lambda x: 'high' if x>50 else 'low')\n",
    "df"
   ]
  },
  {
   "cell_type": "code",
   "execution_count": 9,
   "id": "9a055f32",
   "metadata": {},
   "outputs": [
    {
     "name": "stdout",
     "output_type": "stream",
     "text": [
      "Index(['sepal_length', 'sepal_width', 'petal_length', 'petal_width',\n",
      "       'species'],\n",
      "      dtype='object')\n"
     ]
    },
    {
     "data": {
      "text/html": [
       "<div>\n",
       "<style scoped>\n",
       "    .dataframe tbody tr th:only-of-type {\n",
       "        vertical-align: middle;\n",
       "    }\n",
       "\n",
       "    .dataframe tbody tr th {\n",
       "        vertical-align: top;\n",
       "    }\n",
       "\n",
       "    .dataframe thead th {\n",
       "        text-align: right;\n",
       "    }\n",
       "</style>\n",
       "<table border=\"1\" class=\"dataframe\">\n",
       "  <thead>\n",
       "    <tr style=\"text-align: right;\">\n",
       "      <th></th>\n",
       "      <th>sepal_length</th>\n",
       "      <th>sepal_width</th>\n",
       "      <th>petal_length</th>\n",
       "      <th>petal_width</th>\n",
       "      <th>species</th>\n",
       "      <th>species_proc</th>\n",
       "      <th>sepal_length_proc</th>\n",
       "    </tr>\n",
       "  </thead>\n",
       "  <tbody>\n",
       "    <tr>\n",
       "      <th>0</th>\n",
       "      <td>5.1</td>\n",
       "      <td>3.5</td>\n",
       "      <td>1.4</td>\n",
       "      <td>0.2</td>\n",
       "      <td>setosa</td>\n",
       "      <td>SETOSA</td>\n",
       "      <td>&lt; 6</td>\n",
       "    </tr>\n",
       "    <tr>\n",
       "      <th>1</th>\n",
       "      <td>4.9</td>\n",
       "      <td>3.0</td>\n",
       "      <td>1.4</td>\n",
       "      <td>0.2</td>\n",
       "      <td>setosa</td>\n",
       "      <td>SETOSA</td>\n",
       "      <td>&lt; 6</td>\n",
       "    </tr>\n",
       "    <tr>\n",
       "      <th>2</th>\n",
       "      <td>4.7</td>\n",
       "      <td>3.2</td>\n",
       "      <td>1.3</td>\n",
       "      <td>0.2</td>\n",
       "      <td>setosa</td>\n",
       "      <td>SETOSA</td>\n",
       "      <td>&lt; 6</td>\n",
       "    </tr>\n",
       "    <tr>\n",
       "      <th>3</th>\n",
       "      <td>4.6</td>\n",
       "      <td>3.1</td>\n",
       "      <td>1.5</td>\n",
       "      <td>0.2</td>\n",
       "      <td>setosa</td>\n",
       "      <td>SETOSA</td>\n",
       "      <td>&lt; 6</td>\n",
       "    </tr>\n",
       "    <tr>\n",
       "      <th>4</th>\n",
       "      <td>5.0</td>\n",
       "      <td>3.6</td>\n",
       "      <td>1.4</td>\n",
       "      <td>0.2</td>\n",
       "      <td>setosa</td>\n",
       "      <td>SETOSA</td>\n",
       "      <td>&lt; 6</td>\n",
       "    </tr>\n",
       "    <tr>\n",
       "      <th>...</th>\n",
       "      <td>...</td>\n",
       "      <td>...</td>\n",
       "      <td>...</td>\n",
       "      <td>...</td>\n",
       "      <td>...</td>\n",
       "      <td>...</td>\n",
       "      <td>...</td>\n",
       "    </tr>\n",
       "    <tr>\n",
       "      <th>145</th>\n",
       "      <td>6.7</td>\n",
       "      <td>3.0</td>\n",
       "      <td>5.2</td>\n",
       "      <td>2.3</td>\n",
       "      <td>virginica</td>\n",
       "      <td>VIRGINICA</td>\n",
       "      <td>&gt;= 6</td>\n",
       "    </tr>\n",
       "    <tr>\n",
       "      <th>146</th>\n",
       "      <td>6.3</td>\n",
       "      <td>2.5</td>\n",
       "      <td>5.0</td>\n",
       "      <td>1.9</td>\n",
       "      <td>virginica</td>\n",
       "      <td>VIRGINICA</td>\n",
       "      <td>&gt;= 6</td>\n",
       "    </tr>\n",
       "    <tr>\n",
       "      <th>147</th>\n",
       "      <td>6.5</td>\n",
       "      <td>3.0</td>\n",
       "      <td>5.2</td>\n",
       "      <td>2.0</td>\n",
       "      <td>virginica</td>\n",
       "      <td>VIRGINICA</td>\n",
       "      <td>&gt;= 6</td>\n",
       "    </tr>\n",
       "    <tr>\n",
       "      <th>148</th>\n",
       "      <td>6.2</td>\n",
       "      <td>3.4</td>\n",
       "      <td>5.4</td>\n",
       "      <td>2.3</td>\n",
       "      <td>virginica</td>\n",
       "      <td>VIRGINICA</td>\n",
       "      <td>&gt;= 6</td>\n",
       "    </tr>\n",
       "    <tr>\n",
       "      <th>149</th>\n",
       "      <td>5.9</td>\n",
       "      <td>3.0</td>\n",
       "      <td>5.1</td>\n",
       "      <td>1.8</td>\n",
       "      <td>virginica</td>\n",
       "      <td>VIRGINICA</td>\n",
       "      <td>&lt; 6</td>\n",
       "    </tr>\n",
       "  </tbody>\n",
       "</table>\n",
       "<p>150 rows × 7 columns</p>\n",
       "</div>"
      ],
      "text/plain": [
       "     sepal_length  sepal_width  petal_length  petal_width    species  \\\n",
       "0             5.1          3.5           1.4          0.2     setosa   \n",
       "1             4.9          3.0           1.4          0.2     setosa   \n",
       "2             4.7          3.2           1.3          0.2     setosa   \n",
       "3             4.6          3.1           1.5          0.2     setosa   \n",
       "4             5.0          3.6           1.4          0.2     setosa   \n",
       "..            ...          ...           ...          ...        ...   \n",
       "145           6.7          3.0           5.2          2.3  virginica   \n",
       "146           6.3          2.5           5.0          1.9  virginica   \n",
       "147           6.5          3.0           5.2          2.0  virginica   \n",
       "148           6.2          3.4           5.4          2.3  virginica   \n",
       "149           5.9          3.0           5.1          1.8  virginica   \n",
       "\n",
       "    species_proc sepal_length_proc  \n",
       "0         SETOSA               < 6  \n",
       "1         SETOSA               < 6  \n",
       "2         SETOSA               < 6  \n",
       "3         SETOSA               < 6  \n",
       "4         SETOSA               < 6  \n",
       "..           ...               ...  \n",
       "145    VIRGINICA              >= 6  \n",
       "146    VIRGINICA              >= 6  \n",
       "147    VIRGINICA              >= 6  \n",
       "148    VIRGINICA              >= 6  \n",
       "149    VIRGINICA               < 6  \n",
       "\n",
       "[150 rows x 7 columns]"
      ]
     },
     "execution_count": 9,
     "metadata": {},
     "output_type": "execute_result"
    }
   ],
   "source": [
    "# To quickly process a column, use \"lambda\"\n",
    "import pandas as pd\n",
    "import re\n",
    "import seaborn as sns\n",
    "\n",
    "iris = sns.load_dataset('iris')\n",
    "print(iris.columns)\n",
    "\n",
    "def text_process(text):\n",
    "\ttext = text.upper()\n",
    "\ttext = re.sub( '[,.?:\\'\"]', '', text )\n",
    "\treturn text\n",
    "\n",
    "iris['species_proc'] = iris['species'].apply( lambda x: text_process(x) )\n",
    "# Create a new column, labelling rows as 0 if below the value, else 1\n",
    "iris['sepal_length_proc'] = iris['sepal_length'].apply( lambda x: '>= 6' if x >= 6 else '< 6' )\n",
    "# Create a new column with word count\n",
    "# df['count'] = df['Column with words'].apply( lambda x: len(x.split(' ')) )\n",
    "iris"
   ]
  },
  {
   "cell_type": "code",
   "execution_count": 12,
   "id": "d552740c",
   "metadata": {},
   "outputs": [
    {
     "data": {
      "text/html": [
       "<div>\n",
       "<style scoped>\n",
       "    .dataframe tbody tr th:only-of-type {\n",
       "        vertical-align: middle;\n",
       "    }\n",
       "\n",
       "    .dataframe tbody tr th {\n",
       "        vertical-align: top;\n",
       "    }\n",
       "\n",
       "    .dataframe thead th {\n",
       "        text-align: right;\n",
       "    }\n",
       "</style>\n",
       "<table border=\"1\" class=\"dataframe\">\n",
       "  <thead>\n",
       "    <tr style=\"text-align: right;\">\n",
       "      <th></th>\n",
       "      <th>variable</th>\n",
       "      <th>variable2</th>\n",
       "    </tr>\n",
       "  </thead>\n",
       "  <tbody>\n",
       "    <tr>\n",
       "      <th>0</th>\n",
       "      <td>1</td>\n",
       "      <td>HIGH</td>\n",
       "    </tr>\n",
       "    <tr>\n",
       "      <th>1</th>\n",
       "      <td>2</td>\n",
       "      <td>HIGH</td>\n",
       "    </tr>\n",
       "    <tr>\n",
       "      <th>2</th>\n",
       "      <td>-1</td>\n",
       "      <td>LOW</td>\n",
       "    </tr>\n",
       "    <tr>\n",
       "      <th>3</th>\n",
       "      <td>-2</td>\n",
       "      <td>LOW</td>\n",
       "    </tr>\n",
       "    <tr>\n",
       "      <th>4</th>\n",
       "      <td>0</td>\n",
       "      <td>MEDIUM</td>\n",
       "    </tr>\n",
       "  </tbody>\n",
       "</table>\n",
       "</div>"
      ],
      "text/plain": [
       "   variable variable2\n",
       "0         1      HIGH\n",
       "1         2      HIGH\n",
       "2        -1       LOW\n",
       "3        -2       LOW\n",
       "4         0    MEDIUM"
      ]
     },
     "execution_count": 12,
     "metadata": {},
     "output_type": "execute_result"
    }
   ],
   "source": [
    "# in a column consisting of floats: \n",
    "# - if value < -1, change value to string 'LOW'\n",
    "# - if value > 1, change value to string 'HIGH'\n",
    "# - else, label as 'MEDIUM'\n",
    "\n",
    "import pandas as pd\n",
    "df = pd.DataFrame({\n",
    "\t'variable': [1, 2, -1, -2, 0]\n",
    "})\n",
    "\n",
    "def numbers(value):\n",
    "\tif value <= -1:\n",
    "\t\treturn 'LOW'\n",
    "\telif value >= 1:\n",
    "\t\treturn 'HIGH'\n",
    "\telse:\n",
    "\t\treturn 'MEDIUM'\n",
    "\n",
    "df['variable2'] = df['variable'].apply( lambda x: numbers(x) )\n",
    "df"
   ]
  },
  {
   "cell_type": "code",
   "execution_count": 17,
   "id": "06e8ef79",
   "metadata": {},
   "outputs": [
    {
     "name": "stdout",
     "output_type": "stream",
     "text": [
      "{'G': 'glycine', 'A': 'alanine', 'K': 'lysine', 'L': 'leucine'}\n"
     ]
    },
    {
     "data": {
      "text/html": [
       "<div>\n",
       "<style scoped>\n",
       "    .dataframe tbody tr th:only-of-type {\n",
       "        vertical-align: middle;\n",
       "    }\n",
       "\n",
       "    .dataframe tbody tr th {\n",
       "        vertical-align: top;\n",
       "    }\n",
       "\n",
       "    .dataframe thead th {\n",
       "        text-align: right;\n",
       "    }\n",
       "</style>\n",
       "<table border=\"1\" class=\"dataframe\">\n",
       "  <thead>\n",
       "    <tr style=\"text-align: right;\">\n",
       "      <th></th>\n",
       "      <th>Col1</th>\n",
       "      <th>Col2</th>\n",
       "    </tr>\n",
       "  </thead>\n",
       "  <tbody>\n",
       "    <tr>\n",
       "      <th>0</th>\n",
       "      <td>G</td>\n",
       "      <td>glycine</td>\n",
       "    </tr>\n",
       "    <tr>\n",
       "      <th>1</th>\n",
       "      <td>G</td>\n",
       "      <td>glycine</td>\n",
       "    </tr>\n",
       "    <tr>\n",
       "      <th>2</th>\n",
       "      <td>A</td>\n",
       "      <td>alanine</td>\n",
       "    </tr>\n",
       "    <tr>\n",
       "      <th>3</th>\n",
       "      <td>L</td>\n",
       "      <td>leucine</td>\n",
       "    </tr>\n",
       "    <tr>\n",
       "      <th>4</th>\n",
       "      <td>A</td>\n",
       "      <td>alanine</td>\n",
       "    </tr>\n",
       "    <tr>\n",
       "      <th>5</th>\n",
       "      <td>K</td>\n",
       "      <td>lysine</td>\n",
       "    </tr>\n",
       "  </tbody>\n",
       "</table>\n",
       "</div>"
      ],
      "text/plain": [
       "  Col1     Col2\n",
       "0    G  glycine\n",
       "1    G  glycine\n",
       "2    A  alanine\n",
       "3    L  leucine\n",
       "4    A  alanine\n",
       "5    K   lysine"
      ]
     },
     "execution_count": 17,
     "metadata": {},
     "output_type": "execute_result"
    }
   ],
   "source": [
    "\"\"\"\n",
    "Have two dataframes - df1 (contains two columns - one with keys and another with their values) and df2 \n",
    "(in which there are keys from df1[keys] but repeated. \n",
    "You want to create a new column in df2 which will contain values from df1[column2] as per the\n",
    "keys if they match btw df1[column] and df2)\n",
    "\"\"\"\n",
    "\n",
    "df1 = pd.DataFrame({\n",
    "\t'Key': ['G', 'A', 'K', 'L'], \n",
    "\t'Values': ['glycine', 'alanine', 'lysine', 'leucine']\n",
    "})\n",
    "\n",
    "df2 = pd.DataFrame({\n",
    "\t'Col1': ['G', 'G', 'A', 'L', 'A', 'K']\n",
    "})\n",
    "\n",
    "one_letter, full_name = df1['Key'].tolist(), df1['Values'].tolist()\n",
    "dict1 = { i:j for i,j in zip(one_letter, full_name) }\n",
    "print(dict1)\n",
    "\n",
    "df2['Col2'] = df2['Col1'].apply( lambda x: dict1[x] )\n",
    "df2"
   ]
  },
  {
   "cell_type": "code",
   "execution_count": 22,
   "id": "0f512236",
   "metadata": {},
   "outputs": [
    {
     "name": "stdout",
     "output_type": "stream",
     "text": [
      "{'John': 3, 'Jane': 1, 'Stephen': 1}\n"
     ]
    },
    {
     "data": {
      "text/html": [
       "<div>\n",
       "<style scoped>\n",
       "    .dataframe tbody tr th:only-of-type {\n",
       "        vertical-align: middle;\n",
       "    }\n",
       "\n",
       "    .dataframe tbody tr th {\n",
       "        vertical-align: top;\n",
       "    }\n",
       "\n",
       "    .dataframe thead th {\n",
       "        text-align: right;\n",
       "    }\n",
       "</style>\n",
       "<table border=\"1\" class=\"dataframe\">\n",
       "  <thead>\n",
       "    <tr style=\"text-align: right;\">\n",
       "      <th></th>\n",
       "      <th>Name</th>\n",
       "      <th>Surname</th>\n",
       "      <th>Age</th>\n",
       "      <th>name count</th>\n",
       "    </tr>\n",
       "  </thead>\n",
       "  <tbody>\n",
       "    <tr>\n",
       "      <th>0</th>\n",
       "      <td>John</td>\n",
       "      <td>Doe</td>\n",
       "      <td>19</td>\n",
       "      <td>3</td>\n",
       "    </tr>\n",
       "    <tr>\n",
       "      <th>1</th>\n",
       "      <td>Jane</td>\n",
       "      <td>Doe</td>\n",
       "      <td>29</td>\n",
       "      <td>1</td>\n",
       "    </tr>\n",
       "    <tr>\n",
       "      <th>2</th>\n",
       "      <td>Stephen</td>\n",
       "      <td>King</td>\n",
       "      <td>30</td>\n",
       "      <td>1</td>\n",
       "    </tr>\n",
       "  </tbody>\n",
       "</table>\n",
       "</div>"
      ],
      "text/plain": [
       "      Name Surname  Age  name count\n",
       "0     John     Doe   19           3\n",
       "1     Jane     Doe   29           1\n",
       "2  Stephen    King   30           1"
      ]
     },
     "execution_count": 22,
     "metadata": {},
     "output_type": "execute_result"
    }
   ],
   "source": [
    "# Count occurrence of names in column in another df column\n",
    "\n",
    "import pandas as pd\n",
    "\n",
    "df = pd.DataFrame({\n",
    "\t'Name': ['John', 'Jane', 'Stephen'], \n",
    "\t'Surname': ['Doe', 'Doe', 'King'], \n",
    "\t'Age': [19, 29, 30]\n",
    "})\n",
    "\n",
    "df_namesList = pd.DataFrame({\n",
    "\t'namesList': ['John', 'John', 'John', 'Jane', 'Stephen'] \n",
    "})\n",
    "\n",
    "list1 = df_namesList['namesList'].tolist()\n",
    "dict1 = { i:list1.count(i) for i in list1 }\n",
    "print(dict1)\n",
    "\n",
    "df['name count'] = df['Name'].apply( lambda x: dict1[x] )\n",
    "df"
   ]
  },
  {
   "attachments": {},
   "cell_type": "markdown",
   "id": "f7323486",
   "metadata": {},
   "source": [
    "### GroupBy"
   ]
  },
  {
   "cell_type": "code",
   "execution_count": 25,
   "id": "bc8d9b5c",
   "metadata": {},
   "outputs": [
    {
     "data": {
      "text/html": [
       "<div>\n",
       "<style scoped>\n",
       "    .dataframe tbody tr th:only-of-type {\n",
       "        vertical-align: middle;\n",
       "    }\n",
       "\n",
       "    .dataframe tbody tr th {\n",
       "        vertical-align: top;\n",
       "    }\n",
       "\n",
       "    .dataframe thead th {\n",
       "        text-align: right;\n",
       "    }\n",
       "</style>\n",
       "<table border=\"1\" class=\"dataframe\">\n",
       "  <thead>\n",
       "    <tr style=\"text-align: right;\">\n",
       "      <th></th>\n",
       "      <th>age</th>\n",
       "      <th>workclass</th>\n",
       "      <th>fnlwgt</th>\n",
       "      <th>education</th>\n",
       "      <th>education-num</th>\n",
       "      <th>marital-status</th>\n",
       "      <th>occupation</th>\n",
       "      <th>relationship</th>\n",
       "      <th>race</th>\n",
       "      <th>sex</th>\n",
       "      <th>capital-gain</th>\n",
       "      <th>capital-loss</th>\n",
       "      <th>hours-per-week</th>\n",
       "      <th>native-country</th>\n",
       "      <th>salary</th>\n",
       "    </tr>\n",
       "  </thead>\n",
       "  <tbody>\n",
       "    <tr>\n",
       "      <th>0</th>\n",
       "      <td>39</td>\n",
       "      <td>State-gov</td>\n",
       "      <td>77516</td>\n",
       "      <td>Bachelors</td>\n",
       "      <td>13</td>\n",
       "      <td>Never-married</td>\n",
       "      <td>Adm-clerical</td>\n",
       "      <td>Not-in-family</td>\n",
       "      <td>White</td>\n",
       "      <td>Male</td>\n",
       "      <td>2174</td>\n",
       "      <td>0</td>\n",
       "      <td>40</td>\n",
       "      <td>United-States</td>\n",
       "      <td>&lt;=50K</td>\n",
       "    </tr>\n",
       "    <tr>\n",
       "      <th>1</th>\n",
       "      <td>50</td>\n",
       "      <td>Self-emp-not-inc</td>\n",
       "      <td>83311</td>\n",
       "      <td>Bachelors</td>\n",
       "      <td>13</td>\n",
       "      <td>Married-civ-spouse</td>\n",
       "      <td>Exec-managerial</td>\n",
       "      <td>Husband</td>\n",
       "      <td>White</td>\n",
       "      <td>Male</td>\n",
       "      <td>0</td>\n",
       "      <td>0</td>\n",
       "      <td>13</td>\n",
       "      <td>United-States</td>\n",
       "      <td>&lt;=50K</td>\n",
       "    </tr>\n",
       "    <tr>\n",
       "      <th>2</th>\n",
       "      <td>38</td>\n",
       "      <td>Private</td>\n",
       "      <td>215646</td>\n",
       "      <td>HS-grad</td>\n",
       "      <td>9</td>\n",
       "      <td>Divorced</td>\n",
       "      <td>Handlers-cleaners</td>\n",
       "      <td>Not-in-family</td>\n",
       "      <td>White</td>\n",
       "      <td>Male</td>\n",
       "      <td>0</td>\n",
       "      <td>0</td>\n",
       "      <td>40</td>\n",
       "      <td>United-States</td>\n",
       "      <td>&lt;=50K</td>\n",
       "    </tr>\n",
       "    <tr>\n",
       "      <th>3</th>\n",
       "      <td>53</td>\n",
       "      <td>Private</td>\n",
       "      <td>234721</td>\n",
       "      <td>11th</td>\n",
       "      <td>7</td>\n",
       "      <td>Married-civ-spouse</td>\n",
       "      <td>Handlers-cleaners</td>\n",
       "      <td>Husband</td>\n",
       "      <td>Black</td>\n",
       "      <td>Male</td>\n",
       "      <td>0</td>\n",
       "      <td>0</td>\n",
       "      <td>40</td>\n",
       "      <td>United-States</td>\n",
       "      <td>&lt;=50K</td>\n",
       "    </tr>\n",
       "    <tr>\n",
       "      <th>4</th>\n",
       "      <td>28</td>\n",
       "      <td>Private</td>\n",
       "      <td>338409</td>\n",
       "      <td>Bachelors</td>\n",
       "      <td>13</td>\n",
       "      <td>Married-civ-spouse</td>\n",
       "      <td>Prof-specialty</td>\n",
       "      <td>Wife</td>\n",
       "      <td>Black</td>\n",
       "      <td>Female</td>\n",
       "      <td>0</td>\n",
       "      <td>0</td>\n",
       "      <td>40</td>\n",
       "      <td>Cuba</td>\n",
       "      <td>&lt;=50K</td>\n",
       "    </tr>\n",
       "    <tr>\n",
       "      <th>...</th>\n",
       "      <td>...</td>\n",
       "      <td>...</td>\n",
       "      <td>...</td>\n",
       "      <td>...</td>\n",
       "      <td>...</td>\n",
       "      <td>...</td>\n",
       "      <td>...</td>\n",
       "      <td>...</td>\n",
       "      <td>...</td>\n",
       "      <td>...</td>\n",
       "      <td>...</td>\n",
       "      <td>...</td>\n",
       "      <td>...</td>\n",
       "      <td>...</td>\n",
       "      <td>...</td>\n",
       "    </tr>\n",
       "    <tr>\n",
       "      <th>32556</th>\n",
       "      <td>27</td>\n",
       "      <td>Private</td>\n",
       "      <td>257302</td>\n",
       "      <td>Assoc-acdm</td>\n",
       "      <td>12</td>\n",
       "      <td>Married-civ-spouse</td>\n",
       "      <td>Tech-support</td>\n",
       "      <td>Wife</td>\n",
       "      <td>White</td>\n",
       "      <td>Female</td>\n",
       "      <td>0</td>\n",
       "      <td>0</td>\n",
       "      <td>38</td>\n",
       "      <td>United-States</td>\n",
       "      <td>&lt;=50K</td>\n",
       "    </tr>\n",
       "    <tr>\n",
       "      <th>32557</th>\n",
       "      <td>40</td>\n",
       "      <td>Private</td>\n",
       "      <td>154374</td>\n",
       "      <td>HS-grad</td>\n",
       "      <td>9</td>\n",
       "      <td>Married-civ-spouse</td>\n",
       "      <td>Machine-op-inspct</td>\n",
       "      <td>Husband</td>\n",
       "      <td>White</td>\n",
       "      <td>Male</td>\n",
       "      <td>0</td>\n",
       "      <td>0</td>\n",
       "      <td>40</td>\n",
       "      <td>United-States</td>\n",
       "      <td>&gt;50K</td>\n",
       "    </tr>\n",
       "    <tr>\n",
       "      <th>32558</th>\n",
       "      <td>58</td>\n",
       "      <td>Private</td>\n",
       "      <td>151910</td>\n",
       "      <td>HS-grad</td>\n",
       "      <td>9</td>\n",
       "      <td>Widowed</td>\n",
       "      <td>Adm-clerical</td>\n",
       "      <td>Unmarried</td>\n",
       "      <td>White</td>\n",
       "      <td>Female</td>\n",
       "      <td>0</td>\n",
       "      <td>0</td>\n",
       "      <td>40</td>\n",
       "      <td>United-States</td>\n",
       "      <td>&lt;=50K</td>\n",
       "    </tr>\n",
       "    <tr>\n",
       "      <th>32559</th>\n",
       "      <td>22</td>\n",
       "      <td>Private</td>\n",
       "      <td>201490</td>\n",
       "      <td>HS-grad</td>\n",
       "      <td>9</td>\n",
       "      <td>Never-married</td>\n",
       "      <td>Adm-clerical</td>\n",
       "      <td>Own-child</td>\n",
       "      <td>White</td>\n",
       "      <td>Male</td>\n",
       "      <td>0</td>\n",
       "      <td>0</td>\n",
       "      <td>20</td>\n",
       "      <td>United-States</td>\n",
       "      <td>&lt;=50K</td>\n",
       "    </tr>\n",
       "    <tr>\n",
       "      <th>32560</th>\n",
       "      <td>52</td>\n",
       "      <td>Self-emp-inc</td>\n",
       "      <td>287927</td>\n",
       "      <td>HS-grad</td>\n",
       "      <td>9</td>\n",
       "      <td>Married-civ-spouse</td>\n",
       "      <td>Exec-managerial</td>\n",
       "      <td>Wife</td>\n",
       "      <td>White</td>\n",
       "      <td>Female</td>\n",
       "      <td>15024</td>\n",
       "      <td>0</td>\n",
       "      <td>40</td>\n",
       "      <td>United-States</td>\n",
       "      <td>&gt;50K</td>\n",
       "    </tr>\n",
       "  </tbody>\n",
       "</table>\n",
       "<p>32561 rows × 15 columns</p>\n",
       "</div>"
      ],
      "text/plain": [
       "       age         workclass  fnlwgt   education  education-num  \\\n",
       "0       39         State-gov   77516   Bachelors             13   \n",
       "1       50  Self-emp-not-inc   83311   Bachelors             13   \n",
       "2       38           Private  215646     HS-grad              9   \n",
       "3       53           Private  234721        11th              7   \n",
       "4       28           Private  338409   Bachelors             13   \n",
       "...    ...               ...     ...         ...            ...   \n",
       "32556   27           Private  257302  Assoc-acdm             12   \n",
       "32557   40           Private  154374     HS-grad              9   \n",
       "32558   58           Private  151910     HS-grad              9   \n",
       "32559   22           Private  201490     HS-grad              9   \n",
       "32560   52      Self-emp-inc  287927     HS-grad              9   \n",
       "\n",
       "           marital-status         occupation   relationship   race     sex  \\\n",
       "0           Never-married       Adm-clerical  Not-in-family  White    Male   \n",
       "1      Married-civ-spouse    Exec-managerial        Husband  White    Male   \n",
       "2                Divorced  Handlers-cleaners  Not-in-family  White    Male   \n",
       "3      Married-civ-spouse  Handlers-cleaners        Husband  Black    Male   \n",
       "4      Married-civ-spouse     Prof-specialty           Wife  Black  Female   \n",
       "...                   ...                ...            ...    ...     ...   \n",
       "32556  Married-civ-spouse       Tech-support           Wife  White  Female   \n",
       "32557  Married-civ-spouse  Machine-op-inspct        Husband  White    Male   \n",
       "32558             Widowed       Adm-clerical      Unmarried  White  Female   \n",
       "32559       Never-married       Adm-clerical      Own-child  White    Male   \n",
       "32560  Married-civ-spouse    Exec-managerial           Wife  White  Female   \n",
       "\n",
       "       capital-gain  capital-loss  hours-per-week native-country salary  \n",
       "0              2174             0              40  United-States  <=50K  \n",
       "1                 0             0              13  United-States  <=50K  \n",
       "2                 0             0              40  United-States  <=50K  \n",
       "3                 0             0              40  United-States  <=50K  \n",
       "4                 0             0              40           Cuba  <=50K  \n",
       "...             ...           ...             ...            ...    ...  \n",
       "32556             0             0              38  United-States  <=50K  \n",
       "32557             0             0              40  United-States   >50K  \n",
       "32558             0             0              40  United-States  <=50K  \n",
       "32559             0             0              20  United-States  <=50K  \n",
       "32560         15024             0              40  United-States   >50K  \n",
       "\n",
       "[32561 rows x 15 columns]"
      ]
     },
     "execution_count": 25,
     "metadata": {},
     "output_type": "execute_result"
    }
   ],
   "source": [
    "import pandas as pd\n",
    "\n",
    "df = pd.read_csv('example_datasets/adult-data.csv')\n",
    "\n",
    "df"
   ]
  },
  {
   "cell_type": "code",
   "execution_count": 28,
   "id": "8bd26bd1",
   "metadata": {},
   "outputs": [
    {
     "data": {
      "text/plain": [
       "2768"
      ]
     },
     "execution_count": 28,
     "metadata": {},
     "output_type": "execute_result"
    }
   ],
   "source": [
    "# How many bachelors are married \n",
    "df2 = df[df['education'] == 'Bachelors']\n",
    "df2['marital-status'].str.contains('Married-civ-spouse').sum()"
   ]
  },
  {
   "cell_type": "code",
   "execution_count": 29,
   "id": "9d29e7e6",
   "metadata": {},
   "outputs": [
    {
     "data": {
      "text/plain": [
       "race\n",
       "Amer-Indian-Eskimo     103\n",
       "Asian-Pac-Islander     372\n",
       "Black                 1346\n",
       "Other                  105\n",
       "White                 8757\n",
       "Name: marital-status, dtype: int64"
      ]
     },
     "execution_count": 29,
     "metadata": {},
     "output_type": "execute_result"
    }
   ],
   "source": [
    "# how many people are 'Never-marrried' per each race\n",
    "df.groupby(['race'])['marital-status'].apply( lambda x: x.str.contains('Never-married').sum() )"
   ]
  },
  {
   "cell_type": "code",
   "execution_count": 23,
   "id": "355319e7",
   "metadata": {},
   "outputs": [
    {
     "data": {
      "text/plain": [
       "<pandas.core.groupby.generic.DataFrameGroupBy object at 0x000002585CE33280>"
      ]
     },
     "execution_count": 23,
     "metadata": {},
     "output_type": "execute_result"
    }
   ],
   "source": [
    "# Choose one group only\n",
    "df.groupby(['race']).get_group('White')\n",
    "\n",
    "# value counts of education in 'White' group only\n",
    "df2 = df.groupby(['race'])\n",
    "df2['education'].value_counts().loc['White']\n",
    "# Median hours-per-week by race\n",
    "df2['hours-per-week'].mean()\n",
    "df2['hours-per-week'].mean().loc['Black'] # for 'Black' only\n",
    "\n",
    "# Check mean, median grouped by country\n",
    "df2['hours-per-week'].agg(['median', 'mean'])\n",
    "df2['hours-per-week'].agg(['median', 'mean']).loc['Black'] # for 'Black' only\n",
    "\n",
    "# Get sum values by group for each group and add it into a new column in df\n",
    "df['hours-per-week-sum'] = df.groupby(['race'])['hours-per-week'].transform('sum')\n",
    "\n",
    "# count number of entries per group (Black, White, etc.) in a column (race)\n",
    "df.groupby(['race'])['race'].count()\n",
    "\n",
    "# Grouping by multiple fields\n",
    "df.groupby(['race', 'sex'], as_index=False)['hours-per-week'].mean()\n",
    "df.groupby(['race', 'sex'], as_index=False)['salary']\n"
   ]
  },
  {
   "cell_type": "code",
   "execution_count": null,
   "id": "fd2b16a5",
   "metadata": {},
   "outputs": [
    {
     "data": {
      "text/plain": [
       "Type\n",
       "a    3\n",
       "b    6\n",
       "c    9\n",
       "Name: Size, dtype: int64"
      ]
     },
     "metadata": {},
     "output_type": "display_data"
    }
   ],
   "source": [
    "import pandas as pd\n",
    "\n",
    "df = pd.DataFrame({\n",
    "\t'Size': [ 1,   2,   1,   3,   1,   2,   3,   3,   2],\n",
    "\t'Type': ['a', 'b', 'a', 'c', 'a', 'b', 'c', 'c', 'b'], \n",
    "\t'Category': ['Cat1' for i in range(9)]\n",
    "})\n",
    "df\n",
    "df2 = df.groupby(['Type'])['Size'].sum()\n",
    "df2"
   ]
  },
  {
   "cell_type": "code",
   "execution_count": null,
   "id": "e074e58c",
   "metadata": {},
   "outputs": [
    {
     "data": {
      "text/html": [
       "<div>\n",
       "<style scoped>\n",
       "    .dataframe tbody tr th:only-of-type {\n",
       "        vertical-align: middle;\n",
       "    }\n",
       "\n",
       "    .dataframe tbody tr th {\n",
       "        vertical-align: top;\n",
       "    }\n",
       "\n",
       "    .dataframe thead th {\n",
       "        text-align: right;\n",
       "    }\n",
       "</style>\n",
       "<table border=\"1\" class=\"dataframe\">\n",
       "  <thead>\n",
       "    <tr style=\"text-align: right;\">\n",
       "      <th></th>\n",
       "      <th>Size</th>\n",
       "      <th>Type</th>\n",
       "      <th>count</th>\n",
       "    </tr>\n",
       "  </thead>\n",
       "  <tbody>\n",
       "    <tr>\n",
       "      <th>0</th>\n",
       "      <td>2</td>\n",
       "      <td>a</td>\n",
       "      <td>2</td>\n",
       "    </tr>\n",
       "    <tr>\n",
       "      <th>1</th>\n",
       "      <td>2</td>\n",
       "      <td>b</td>\n",
       "      <td>1</td>\n",
       "    </tr>\n",
       "    <tr>\n",
       "      <th>2</th>\n",
       "      <td>3</td>\n",
       "      <td>a</td>\n",
       "      <td>1</td>\n",
       "    </tr>\n",
       "    <tr>\n",
       "      <th>3</th>\n",
       "      <td>3</td>\n",
       "      <td>b</td>\n",
       "      <td>1</td>\n",
       "    </tr>\n",
       "    <tr>\n",
       "      <th>4</th>\n",
       "      <td>3</td>\n",
       "      <td>c</td>\n",
       "      <td>1</td>\n",
       "    </tr>\n",
       "    <tr>\n",
       "      <th>5</th>\n",
       "      <td>4</td>\n",
       "      <td>c</td>\n",
       "      <td>2</td>\n",
       "    </tr>\n",
       "    <tr>\n",
       "      <th>6</th>\n",
       "      <td>4</td>\n",
       "      <td>b</td>\n",
       "      <td>1</td>\n",
       "    </tr>\n",
       "  </tbody>\n",
       "</table>\n",
       "</div>"
      ],
      "text/plain": [
       "   Size Type  count\n",
       "0     2    a      2\n",
       "1     2    b      1\n",
       "2     3    a      1\n",
       "3     3    b      1\n",
       "4     3    c      1\n",
       "5     4    c      2\n",
       "6     4    b      1"
      ]
     },
     "metadata": {},
     "output_type": "display_data"
    }
   ],
   "source": [
    "# Groupby into a df object\n",
    "\n",
    "df = pd.DataFrame({\n",
    "\t'Size': [2, 2, 2, 3, 3, 3, 4, 4, 4],\n",
    "\t'Type': ['a', 'b', 'a', 'c', 'a', 'b', 'c', 'c', 'b']\n",
    "})\n",
    "\n",
    "df2 = df.groupby(['Size'])['Type'].value_counts().to_frame(name='count').reset_index()\n",
    "df2"
   ]
  },
  {
   "cell_type": "code",
   "execution_count": null,
   "id": "2324f824",
   "metadata": {},
   "outputs": [
    {
     "data": {
      "text/html": [
       "<div>\n",
       "<style scoped>\n",
       "    .dataframe tbody tr th:only-of-type {\n",
       "        vertical-align: middle;\n",
       "    }\n",
       "\n",
       "    .dataframe tbody tr th {\n",
       "        vertical-align: top;\n",
       "    }\n",
       "\n",
       "    .dataframe thead th {\n",
       "        text-align: right;\n",
       "    }\n",
       "</style>\n",
       "<table border=\"1\" class=\"dataframe\">\n",
       "  <thead>\n",
       "    <tr style=\"text-align: right;\">\n",
       "      <th></th>\n",
       "      <th>Member</th>\n",
       "      <th>label</th>\n",
       "    </tr>\n",
       "  </thead>\n",
       "  <tbody>\n",
       "    <tr>\n",
       "      <th>0</th>\n",
       "      <td>M1</td>\n",
       "      <td>2</td>\n",
       "    </tr>\n",
       "    <tr>\n",
       "      <th>1</th>\n",
       "      <td>M2</td>\n",
       "      <td>2</td>\n",
       "    </tr>\n",
       "    <tr>\n",
       "      <th>2</th>\n",
       "      <td>M3</td>\n",
       "      <td>0</td>\n",
       "    </tr>\n",
       "  </tbody>\n",
       "</table>\n",
       "</div>"
      ],
      "text/plain": [
       "  Member  label\n",
       "0     M1      2\n",
       "1     M2      2\n",
       "2     M3      0"
      ]
     },
     "metadata": {},
     "output_type": "display_data"
    }
   ],
   "source": [
    "import pandas as pd\n",
    "\n",
    "df = pd.DataFrame({\n",
    "\t'Member': ['M1', 'M2', 'M3', 'M1', 'M1', 'M2'],\n",
    "\t'label':  [1,1,0,1,0,1],\n",
    "\t'irrelevant': [0,0,0,0,0,0]\n",
    "})\n",
    "\n",
    "df2 = df.groupby(['Member']).sum(['label']).reset_index()[['Member', 'label']]\n",
    "df2"
   ]
  },
  {
   "cell_type": "code",
   "execution_count": null,
   "id": "fe8463cc",
   "metadata": {},
   "outputs": [
    {
     "data": {
      "text/html": [
       "<div>\n",
       "<style scoped>\n",
       "    .dataframe tbody tr th:only-of-type {\n",
       "        vertical-align: middle;\n",
       "    }\n",
       "\n",
       "    .dataframe tbody tr th {\n",
       "        vertical-align: top;\n",
       "    }\n",
       "\n",
       "    .dataframe thead th {\n",
       "        text-align: right;\n",
       "    }\n",
       "</style>\n",
       "<table border=\"1\" class=\"dataframe\">\n",
       "  <thead>\n",
       "    <tr style=\"text-align: right;\">\n",
       "      <th></th>\n",
       "      <th>Type</th>\n",
       "      <th>Length</th>\n",
       "    </tr>\n",
       "  </thead>\n",
       "  <tbody>\n",
       "    <tr>\n",
       "      <th>0</th>\n",
       "      <td>A</td>\n",
       "      <td>100</td>\n",
       "    </tr>\n",
       "    <tr>\n",
       "      <th>1</th>\n",
       "      <td>A</td>\n",
       "      <td>110</td>\n",
       "    </tr>\n",
       "    <tr>\n",
       "      <th>2</th>\n",
       "      <td>A</td>\n",
       "      <td>105</td>\n",
       "    </tr>\n",
       "    <tr>\n",
       "      <th>3</th>\n",
       "      <td>A</td>\n",
       "      <td>102</td>\n",
       "    </tr>\n",
       "    <tr>\n",
       "      <th>4</th>\n",
       "      <td>A</td>\n",
       "      <td>107</td>\n",
       "    </tr>\n",
       "    <tr>\n",
       "      <th>15</th>\n",
       "      <td>B</td>\n",
       "      <td>100</td>\n",
       "    </tr>\n",
       "  </tbody>\n",
       "</table>\n",
       "</div>"
      ],
      "text/plain": [
       "   Type  Length\n",
       "0     A     100\n",
       "1     A     110\n",
       "2     A     105\n",
       "3     A     102\n",
       "4     A     107\n",
       "15    B     100"
      ]
     },
     "metadata": {},
     "output_type": "display_data"
    }
   ],
   "source": [
    "import pandas as pd\n",
    "\n",
    "df = pd.DataFrame({\n",
    "\t'Type': ['A' for i in range(9)] + ['B' for i in range(9)],\n",
    "\t'Length': [100,110,105,102,107,1,2,500,700,   500,501,502,503,505,510,100,5,850]\n",
    "})\n",
    "\n",
    "# OR condition\n",
    "df[df.groupby('Type')['Length'].apply( lambda x: (x == 100)|(x == 500) )]\n",
    "\n",
    "df[df.groupby('Type')['Length'].apply( lambda x: x.between(100,200) )]"
   ]
  },
  {
   "cell_type": "markdown",
   "id": "3e464eec",
   "metadata": {},
   "source": [
    "### Data Wrangling: melt, concat, merge"
   ]
  },
  {
   "cell_type": "code",
   "execution_count": 1048,
   "id": "4d023003",
   "metadata": {},
   "outputs": [
    {
     "name": "stdout",
     "output_type": "stream",
     "text": [
      "Before 'melt': \n",
      "   Sample_size  Hypercubes  Hyperrectangles\n",
      "0          100           5                7\n",
      "1          200          25               49\n",
      "2          300         125              400\n",
      "-------------------------------------------\n",
      "After 'melt': \n",
      "   Sample_size         variable  value\n",
      "0          100       Hypercubes      5\n",
      "1          200       Hypercubes     25\n",
      "2          300       Hypercubes    125\n",
      "3          100  Hyperrectangles      7\n",
      "4          200  Hyperrectangles     49\n",
      "5          300  Hyperrectangles    400\n"
     ]
    }
   ],
   "source": [
    "## Melt\n",
    "import pandas as pd\n",
    "\n",
    "variable_df = pd.DataFrame({\n",
    "\t'Sample_size': [100, 200, 300], \n",
    "\t'Hypercubes': [5, 25, 125], \n",
    "\t'Hyperrectangles': [7, 49, 400]\n",
    "})\n",
    "print(f\"Before 'melt': \\n{variable_df}\\n-------------------------------------------\")\n",
    "\n",
    "variable_df2 = pd.melt(variable_df, id_vars=['Sample_size'], value_vars=['Hypercubes', 'Hyperrectangles'])\n",
    "print(f\"After 'melt': \\n{variable_df2}\")"
   ]
  },
  {
   "cell_type": "code",
   "execution_count": 1049,
   "id": "b641b01e",
   "metadata": {},
   "outputs": [
    {
     "name": "stdout",
     "output_type": "stream",
     "text": [
      "        Job  Years  Salary (k)\n",
      "0  Engineer      1          20\n",
      "1  Engineer      2          50\n",
      "2  Engineer      3          90\n",
      "3       Bum      1          10\n",
      "4       Bum      2          12\n",
      "5       Bum      3          15\n",
      "###################################\n",
      "Years      1   2   3\n",
      "Job                 \n",
      "Bum       10  12  15\n",
      "Engineer  20  50  90\n",
      "###################################\n",
      "Years       Job   1   2   3\n",
      "0           Bum  10  12  15\n",
      "1      Engineer  20  50  90\n"
     ]
    }
   ],
   "source": [
    "# Pivot\n",
    "\n",
    "df = pd.DataFrame({\n",
    "\t'Job': ['Engineer', 'Engineer', 'Engineer', 'Bum', 'Bum', 'Bum'], \n",
    "\t'Years': [1, 2, 3, 1, 2, 3], \n",
    "\t'Salary (k)': [20, 50, 90, 10, 12, 15]\n",
    "})\n",
    "print(df)\n",
    "print('#'*35)\n",
    "\n",
    "print( df.pivot('Job', 'Years', 'Salary (k)') )\n",
    "print('#'*35)\n",
    "\n",
    "print( df.pivot('Job', 'Years', 'Salary (k)').reset_index() )"
   ]
  },
  {
   "cell_type": "code",
   "execution_count": 1050,
   "id": "a5702150",
   "metadata": {},
   "outputs": [
    {
     "data": {
      "text/html": [
       "<div>\n",
       "<style scoped>\n",
       "    .dataframe tbody tr th:only-of-type {\n",
       "        vertical-align: middle;\n",
       "    }\n",
       "\n",
       "    .dataframe tbody tr th {\n",
       "        vertical-align: top;\n",
       "    }\n",
       "\n",
       "    .dataframe thead th {\n",
       "        text-align: right;\n",
       "    }\n",
       "</style>\n",
       "<table border=\"1\" class=\"dataframe\">\n",
       "  <thead>\n",
       "    <tr style=\"text-align: right;\">\n",
       "      <th>Height</th>\n",
       "      <th>175</th>\n",
       "      <th>182</th>\n",
       "      <th>186</th>\n",
       "    </tr>\n",
       "    <tr>\n",
       "      <th>Age</th>\n",
       "      <th></th>\n",
       "      <th></th>\n",
       "      <th></th>\n",
       "    </tr>\n",
       "  </thead>\n",
       "  <tbody>\n",
       "    <tr>\n",
       "      <th>20</th>\n",
       "      <td>B</td>\n",
       "      <td>NaN</td>\n",
       "      <td>NaN</td>\n",
       "    </tr>\n",
       "    <tr>\n",
       "      <th>23</th>\n",
       "      <td>NaN</td>\n",
       "      <td>A</td>\n",
       "      <td>NaN</td>\n",
       "    </tr>\n",
       "    <tr>\n",
       "      <th>24</th>\n",
       "      <td>NaN</td>\n",
       "      <td>NaN</td>\n",
       "      <td>A</td>\n",
       "    </tr>\n",
       "    <tr>\n",
       "      <th>25</th>\n",
       "      <td>NaN</td>\n",
       "      <td>NaN</td>\n",
       "      <td>C</td>\n",
       "    </tr>\n",
       "  </tbody>\n",
       "</table>\n",
       "</div>"
      ],
      "text/plain": [
       "Height  175  182  186\n",
       "Age                  \n",
       "20        B  NaN  NaN\n",
       "23      NaN    A  NaN\n",
       "24      NaN  NaN    A\n",
       "25      NaN  NaN    C"
      ]
     },
     "execution_count": 1050,
     "metadata": {},
     "output_type": "execute_result"
    }
   ],
   "source": [
    "# Pivot\n",
    "\n",
    "df = pd.DataFrame(\n",
    "    {\n",
    "        \"Age\": [24, 25, 23, 20],\n",
    "        \"Height\": [186, 186, 182, 175],\n",
    "        \"Mark\": [\"A\", \"C\", \"A\", \"B\"],\n",
    "        \"Sport\": [\"Gym\", \"Volleyball\", \"Baseball\", \"Cricket\"],\n",
    "    })\n",
    "df\n",
    "\n",
    "# dataframe with multi-indexed columns\n",
    "df = df.pivot('Age', 'Height', 'Mark')\n",
    "df\n",
    "\n",
    "# Dataframe with dropped multi-indexing\n",
    "# df = df.pivot('Age', 'Height', 'Mark')"
   ]
  },
  {
   "cell_type": "code",
   "execution_count": 1051,
   "id": "03805a75",
   "metadata": {},
   "outputs": [
    {
     "data": {
      "text/html": [
       "<div>\n",
       "<style scoped>\n",
       "    .dataframe tbody tr th:only-of-type {\n",
       "        vertical-align: middle;\n",
       "    }\n",
       "\n",
       "    .dataframe tbody tr th {\n",
       "        vertical-align: top;\n",
       "    }\n",
       "\n",
       "    .dataframe thead th {\n",
       "        text-align: right;\n",
       "    }\n",
       "</style>\n",
       "<table border=\"1\" class=\"dataframe\">\n",
       "  <thead>\n",
       "    <tr style=\"text-align: right;\">\n",
       "      <th></th>\n",
       "      <th>0</th>\n",
       "      <th>1</th>\n",
       "    </tr>\n",
       "  </thead>\n",
       "  <tbody>\n",
       "    <tr>\n",
       "      <th>0</th>\n",
       "      <td>1</td>\n",
       "      <td>10</td>\n",
       "    </tr>\n",
       "    <tr>\n",
       "      <th>1</th>\n",
       "      <td>5</td>\n",
       "      <td>50</td>\n",
       "    </tr>\n",
       "    <tr>\n",
       "      <th>2</th>\n",
       "      <td>1</td>\n",
       "      <td>10</td>\n",
       "    </tr>\n",
       "    <tr>\n",
       "      <th>3</th>\n",
       "      <td>3</td>\n",
       "      <td>30</td>\n",
       "    </tr>\n",
       "    <tr>\n",
       "      <th>4</th>\n",
       "      <td>2</td>\n",
       "      <td>20</td>\n",
       "    </tr>\n",
       "  </tbody>\n",
       "</table>\n",
       "</div>"
      ],
      "text/plain": [
       "   0   1\n",
       "0  1  10\n",
       "1  5  50\n",
       "2  1  10\n",
       "3  3  30\n",
       "4  2  20"
      ]
     },
     "execution_count": 1051,
     "metadata": {},
     "output_type": "execute_result"
    }
   ],
   "source": [
    "# Combine pandas series by using concat function\n",
    "\n",
    "var1 = pd.Series([1,  5,  1,  3,  2])\n",
    "var2 = pd.Series([10, 50, 10, 30, 20])\n",
    "\n",
    "concat_df = pd.concat(\n",
    "\t[var1, var2], \n",
    "\taxis='columns', # concat horisontally\n",
    "\tsort=False\n",
    ")\n",
    "\n",
    "concat_df"
   ]
  },
  {
   "cell_type": "code",
   "execution_count": 1052,
   "metadata": {},
   "outputs": [
    {
     "data": {
      "text/html": [
       "<div>\n",
       "<style scoped>\n",
       "    .dataframe tbody tr th:only-of-type {\n",
       "        vertical-align: middle;\n",
       "    }\n",
       "\n",
       "    .dataframe tbody tr th {\n",
       "        vertical-align: top;\n",
       "    }\n",
       "\n",
       "    .dataframe thead th {\n",
       "        text-align: right;\n",
       "    }\n",
       "</style>\n",
       "<table border=\"1\" class=\"dataframe\">\n",
       "  <thead>\n",
       "    <tr style=\"text-align: right;\">\n",
       "      <th></th>\n",
       "      <th>A</th>\n",
       "      <th>B</th>\n",
       "      <th>C</th>\n",
       "      <th>D</th>\n",
       "    </tr>\n",
       "  </thead>\n",
       "  <tbody>\n",
       "    <tr>\n",
       "      <th>0</th>\n",
       "      <td>A0</td>\n",
       "      <td>B0</td>\n",
       "      <td>C0</td>\n",
       "      <td>D0</td>\n",
       "    </tr>\n",
       "    <tr>\n",
       "      <th>1</th>\n",
       "      <td>A1</td>\n",
       "      <td>B1</td>\n",
       "      <td>C1</td>\n",
       "      <td>D1</td>\n",
       "    </tr>\n",
       "    <tr>\n",
       "      <th>2</th>\n",
       "      <td>A2</td>\n",
       "      <td>B2</td>\n",
       "      <td>C2</td>\n",
       "      <td>D2</td>\n",
       "    </tr>\n",
       "    <tr>\n",
       "      <th>3</th>\n",
       "      <td>A3</td>\n",
       "      <td>B3</td>\n",
       "      <td>C3</td>\n",
       "      <td>D3</td>\n",
       "    </tr>\n",
       "    <tr>\n",
       "      <th>4</th>\n",
       "      <td>A4</td>\n",
       "      <td>B4</td>\n",
       "      <td>C4</td>\n",
       "      <td>D4</td>\n",
       "    </tr>\n",
       "    <tr>\n",
       "      <th>5</th>\n",
       "      <td>A5</td>\n",
       "      <td>B5</td>\n",
       "      <td>C5</td>\n",
       "      <td>D5</td>\n",
       "    </tr>\n",
       "    <tr>\n",
       "      <th>6</th>\n",
       "      <td>A6</td>\n",
       "      <td>B6</td>\n",
       "      <td>C6</td>\n",
       "      <td>D6</td>\n",
       "    </tr>\n",
       "    <tr>\n",
       "      <th>7</th>\n",
       "      <td>A7</td>\n",
       "      <td>B7</td>\n",
       "      <td>C7</td>\n",
       "      <td>D7</td>\n",
       "    </tr>\n",
       "  </tbody>\n",
       "</table>\n",
       "</div>"
      ],
      "text/plain": [
       "    A   B   C   D\n",
       "0  A0  B0  C0  D0\n",
       "1  A1  B1  C1  D1\n",
       "2  A2  B2  C2  D2\n",
       "3  A3  B3  C3  D3\n",
       "4  A4  B4  C4  D4\n",
       "5  A5  B5  C5  D5\n",
       "6  A6  B6  C6  D6\n",
       "7  A7  B7  C7  D7"
      ]
     },
     "execution_count": 1052,
     "metadata": {},
     "output_type": "execute_result"
    }
   ],
   "source": [
    "###################################################################################################################################\n",
    "#####   Concatenate dataframes   ##################################################################################################\n",
    "###################################################################################################################################\n",
    "import pandas as pd\n",
    "\n",
    "df1 = pd.DataFrame(\n",
    "    {\n",
    "        \"A\": [\"A0\", \"A1\", \"A2\", \"A3\"],\n",
    "        \"B\": [\"B0\", \"B1\", \"B2\", \"B3\"],\n",
    "        \"C\": [\"C0\", \"C1\", \"C2\", \"C3\"],\n",
    "        \"D\": [\"D0\", \"D1\", \"D2\", \"D3\"],\n",
    "    },\n",
    "    index=[0, 1, 2, 3],\n",
    ")\n",
    "\n",
    "df2 = pd.DataFrame(\n",
    "    {\n",
    "        \"A\": [\"A4\", \"A5\", \"A6\", \"A7\"],\n",
    "        \"B\": [\"B4\", \"B5\", \"B6\", \"B7\"],\n",
    "        \"C\": [\"C4\", \"C5\", \"C6\", \"C7\"],\n",
    "        \"D\": [\"D4\", \"D5\", \"D6\", \"D7\"],\n",
    "    },\n",
    "    index=[4, 5, 6, 7],\n",
    ")\n",
    "\n",
    "# Concatenate several dataframes into a new one\n",
    "df3 = pd.concat(\n",
    "    [df1, df2], \n",
    "    ignore_index=True # Clear the existing index and reset it in the result\n",
    ")\n",
    "df3\n",
    "\n",
    "# Update the existing dataframe\n",
    "df1 = pd.concat( [df1, df2], ignore_index=True )\n",
    "df1\n"
   ]
  },
  {
   "cell_type": "code",
   "execution_count": 2,
   "id": "a5103b2a",
   "metadata": {},
   "outputs": [
    {
     "data": {
      "text/html": [
       "<div>\n",
       "<style scoped>\n",
       "    .dataframe tbody tr th:only-of-type {\n",
       "        vertical-align: middle;\n",
       "    }\n",
       "\n",
       "    .dataframe tbody tr th {\n",
       "        vertical-align: top;\n",
       "    }\n",
       "\n",
       "    .dataframe thead th {\n",
       "        text-align: right;\n",
       "    }\n",
       "</style>\n",
       "<table border=\"1\" class=\"dataframe\">\n",
       "  <thead>\n",
       "    <tr style=\"text-align: right;\">\n",
       "      <th></th>\n",
       "      <th>quote</th>\n",
       "    </tr>\n",
       "  </thead>\n",
       "  <tbody>\n",
       "    <tr>\n",
       "      <th>0</th>\n",
       "      <td></td>\n",
       "    </tr>\n",
       "    <tr>\n",
       "      <th>1</th>\n",
       "      <td>5</td>\n",
       "    </tr>\n",
       "    <tr>\n",
       "      <th>2</th>\n",
       "      <td>5</td>\n",
       "    </tr>\n",
       "  </tbody>\n",
       "</table>\n",
       "</div>"
      ],
      "text/plain": [
       "  quote\n",
       "0      \n",
       "1     5\n",
       "2     5"
      ]
     },
     "execution_count": 2,
     "metadata": {},
     "output_type": "execute_result"
    }
   ],
   "source": [
    "import pandas as pd\n",
    "\n",
    "df = pd.DataFrame({\n",
    "\t'quote':['']}\n",
    "\t)\n",
    "\n",
    "df = pd.concat([df, pd.DataFrame({'quote':[5]})], ignore_index=True)\n",
    "df = pd.concat([df, pd.DataFrame({'quote':[5]})], ignore_index=True)\n",
    "\n",
    "df"
   ]
  },
  {
   "cell_type": "code",
   "execution_count": 107,
   "id": "c020e57b",
   "metadata": {},
   "outputs": [
    {
     "name": "stderr",
     "output_type": "stream",
     "text": [
      "C:\\Users\\evgen\\AppData\\Local\\Temp\\ipykernel_10348\\2449307509.py:10: FutureWarning: The frame.append method is deprecated and will be removed from pandas in a future version. Use pandas.concat instead.\n",
      "  df = df.append(values, ignore_index=True)\n"
     ]
    },
    {
     "data": {
      "text/html": [
       "<div>\n",
       "<style scoped>\n",
       "    .dataframe tbody tr th:only-of-type {\n",
       "        vertical-align: middle;\n",
       "    }\n",
       "\n",
       "    .dataframe tbody tr th {\n",
       "        vertical-align: top;\n",
       "    }\n",
       "\n",
       "    .dataframe thead th {\n",
       "        text-align: right;\n",
       "    }\n",
       "</style>\n",
       "<table border=\"1\" class=\"dataframe\">\n",
       "  <thead>\n",
       "    <tr style=\"text-align: right;\">\n",
       "      <th></th>\n",
       "      <th>Column 1</th>\n",
       "      <th>Column 2</th>\n",
       "      <th>Column 3</th>\n",
       "    </tr>\n",
       "  </thead>\n",
       "  <tbody>\n",
       "    <tr>\n",
       "      <th>0</th>\n",
       "      <td>1</td>\n",
       "      <td>2</td>\n",
       "      <td>3</td>\n",
       "    </tr>\n",
       "    <tr>\n",
       "      <th>1</th>\n",
       "      <td>10</td>\n",
       "      <td>20</td>\n",
       "      <td>30</td>\n",
       "    </tr>\n",
       "  </tbody>\n",
       "</table>\n",
       "</div>"
      ],
      "text/plain": [
       "  Column 1 Column 2 Column 3\n",
       "0        1        2        3\n",
       "1       10       20       30"
      ]
     },
     "execution_count": 107,
     "metadata": {},
     "output_type": "execute_result"
    }
   ],
   "source": [
    "import pandas as pd\n",
    "\n",
    "df = pd.DataFrame([], columns=['Column 1', 'Column 2', 'Column 3'])\n",
    "\n",
    "values = [\n",
    "\t{'Column 1':1, 'Column 2':2, 'Column 3':3},\n",
    "\t{'Column 1':10, 'Column 2':20, 'Column 3':30}\n",
    "]\n",
    "\n",
    "df = df.append(values, ignore_index=True)\n",
    "\n",
    "df"
   ]
  },
  {
   "cell_type": "code",
   "execution_count": 1053,
   "id": "7a00e2bf",
   "metadata": {},
   "outputs": [
    {
     "data": {
      "text/html": [
       "<div>\n",
       "<style scoped>\n",
       "    .dataframe tbody tr th:only-of-type {\n",
       "        vertical-align: middle;\n",
       "    }\n",
       "\n",
       "    .dataframe tbody tr th {\n",
       "        vertical-align: top;\n",
       "    }\n",
       "\n",
       "    .dataframe thead th {\n",
       "        text-align: right;\n",
       "    }\n",
       "</style>\n",
       "<table border=\"1\" class=\"dataframe\">\n",
       "  <thead>\n",
       "    <tr style=\"text-align: right;\">\n",
       "      <th></th>\n",
       "      <th>Name</th>\n",
       "      <th>Surname</th>\n",
       "      <th>Age</th>\n",
       "      <th>Fullname</th>\n",
       "      <th>Details</th>\n",
       "    </tr>\n",
       "  </thead>\n",
       "  <tbody>\n",
       "    <tr>\n",
       "      <th>0</th>\n",
       "      <td>John</td>\n",
       "      <td>Doe</td>\n",
       "      <td>19</td>\n",
       "      <td>John,Doe</td>\n",
       "      <td>John,Doe,19</td>\n",
       "    </tr>\n",
       "    <tr>\n",
       "      <th>1</th>\n",
       "      <td>Jane</td>\n",
       "      <td>Doe</td>\n",
       "      <td>29</td>\n",
       "      <td>Jane,Doe</td>\n",
       "      <td>Jane,Doe,29</td>\n",
       "    </tr>\n",
       "    <tr>\n",
       "      <th>2</th>\n",
       "      <td>Stephen</td>\n",
       "      <td>King</td>\n",
       "      <td>30</td>\n",
       "      <td>Stephen,King</td>\n",
       "      <td>Stephen,King,30</td>\n",
       "    </tr>\n",
       "  </tbody>\n",
       "</table>\n",
       "</div>"
      ],
      "text/plain": [
       "      Name Surname  Age      Fullname          Details\n",
       "0     John     Doe   19      John,Doe      John,Doe,19\n",
       "1     Jane     Doe   29      Jane,Doe      Jane,Doe,29\n",
       "2  Stephen    King   30  Stephen,King  Stephen,King,30"
      ]
     },
     "execution_count": 1053,
     "metadata": {},
     "output_type": "execute_result"
    }
   ],
   "source": [
    "# Concatenate columns into a single column\n",
    "\n",
    "import pandas as pd\n",
    "\n",
    "df = pd.DataFrame({\n",
    "\t'Name': ['John', 'Jane', 'Stephen'], \n",
    "\t'Surname': ['Doe', 'Doe', 'King'], \n",
    "\t'Age': [19, 29, 30]\n",
    "})\n",
    "\n",
    "# Concatenate two columns of the same datatype\n",
    "df['Fullname'] = df['Name'].str.cat(df['Surname'], sep=',')\n",
    "\n",
    "# Concatenate two columns of different datatypes\n",
    "df['Age1'] = df['Age'].astype(str)\n",
    "df['Details'] = df['Name'].str.cat(df[['Surname', 'Age1']], sep=',')\n",
    "df.drop(columns='Age1', inplace=True)\n",
    "df"
   ]
  },
  {
   "cell_type": "code",
   "execution_count": 1054,
   "id": "51330288",
   "metadata": {},
   "outputs": [
    {
     "data": {
      "text/html": [
       "<div>\n",
       "<style scoped>\n",
       "    .dataframe tbody tr th:only-of-type {\n",
       "        vertical-align: middle;\n",
       "    }\n",
       "\n",
       "    .dataframe tbody tr th {\n",
       "        vertical-align: top;\n",
       "    }\n",
       "\n",
       "    .dataframe thead th {\n",
       "        text-align: right;\n",
       "    }\n",
       "</style>\n",
       "<table border=\"1\" class=\"dataframe\">\n",
       "  <thead>\n",
       "    <tr style=\"text-align: right;\">\n",
       "      <th></th>\n",
       "      <th>Name</th>\n",
       "      <th>Age</th>\n",
       "      <th>Height</th>\n",
       "    </tr>\n",
       "  </thead>\n",
       "  <tbody>\n",
       "    <tr>\n",
       "      <th>0</th>\n",
       "      <td>Evgenii</td>\n",
       "      <td>20</td>\n",
       "      <td>186</td>\n",
       "    </tr>\n",
       "    <tr>\n",
       "      <th>1</th>\n",
       "      <td>Ivan</td>\n",
       "      <td>25</td>\n",
       "      <td>190</td>\n",
       "    </tr>\n",
       "    <tr>\n",
       "      <th>2</th>\n",
       "      <td>Marina</td>\n",
       "      <td>12</td>\n",
       "      <td>160</td>\n",
       "    </tr>\n",
       "  </tbody>\n",
       "</table>\n",
       "</div>"
      ],
      "text/plain": [
       "      Name  Age  Height\n",
       "0  Evgenii   20     186\n",
       "1     Ivan   25     190\n",
       "2   Marina   12     160"
      ]
     },
     "execution_count": 1054,
     "metadata": {},
     "output_type": "execute_result"
    }
   ],
   "source": [
    "import pandas as pd\n",
    "\n",
    "df1 = pd.DataFrame({\n",
    "\t'Name': ['Evgenii', 'Ivan', 'Marina'], \n",
    "\t'Age': [20, 25, 12]\n",
    "})\n",
    "\n",
    "df2 = pd.DataFrame({\n",
    "\t'Name': ['Evgenii', 'Ivan', 'Marina'], \n",
    "\t'Height': [186, 190, 160]\n",
    "})\n",
    "\n",
    "df3 = pd.merge(df1, df2, on='Name')\n",
    "df3"
   ]
  },
  {
   "attachments": {},
   "cell_type": "markdown",
   "id": "3e5d9a4d",
   "metadata": {},
   "source": [
    "### Datetime"
   ]
  },
  {
   "cell_type": "code",
   "execution_count": null,
   "id": "00ab066c",
   "metadata": {},
   "outputs": [
    {
     "name": "stdout",
     "output_type": "stream",
     "text": [
      "Earliest date: 2019-05-01 00:00:00\n",
      "Most recent date: 2022-09-01 00:00:00\n"
     ]
    },
    {
     "data": {
      "text/html": [
       "<div>\n",
       "<style scoped>\n",
       "    .dataframe tbody tr th:only-of-type {\n",
       "        vertical-align: middle;\n",
       "    }\n",
       "\n",
       "    .dataframe tbody tr th {\n",
       "        vertical-align: top;\n",
       "    }\n",
       "\n",
       "    .dataframe thead th {\n",
       "        text-align: right;\n",
       "    }\n",
       "</style>\n",
       "<table border=\"1\" class=\"dataframe\">\n",
       "  <thead>\n",
       "    <tr style=\"text-align: right;\">\n",
       "      <th></th>\n",
       "      <th>index</th>\n",
       "      <th>Date</th>\n",
       "      <th>Category</th>\n",
       "      <th>Amount</th>\n",
       "      <th>DDMM</th>\n",
       "      <th>DDMMYY</th>\n",
       "      <th>YYYY</th>\n",
       "      <th>MMYY</th>\n",
       "      <th>M_nam</th>\n",
       "      <th>M_name</th>\n",
       "      <th>Weekday</th>\n",
       "    </tr>\n",
       "  </thead>\n",
       "  <tbody>\n",
       "    <tr>\n",
       "      <th>1</th>\n",
       "      <td>3</td>\n",
       "      <td>2020-09-01</td>\n",
       "      <td>groceries</td>\n",
       "      <td>250</td>\n",
       "      <td>01.09</td>\n",
       "      <td>01/09/20</td>\n",
       "      <td>2020</td>\n",
       "      <td>09.20</td>\n",
       "      <td>Sep</td>\n",
       "      <td>September</td>\n",
       "      <td>Tuesday</td>\n",
       "    </tr>\n",
       "    <tr>\n",
       "      <th>2</th>\n",
       "      <td>4</td>\n",
       "      <td>2021-09-01</td>\n",
       "      <td>transport</td>\n",
       "      <td>500</td>\n",
       "      <td>01.09</td>\n",
       "      <td>01/09/21</td>\n",
       "      <td>2021</td>\n",
       "      <td>09.21</td>\n",
       "      <td>Sep</td>\n",
       "      <td>September</td>\n",
       "      <td>Wednesday</td>\n",
       "    </tr>\n",
       "    <tr>\n",
       "      <th>3</th>\n",
       "      <td>5</td>\n",
       "      <td>2021-10-01</td>\n",
       "      <td>eat out</td>\n",
       "      <td>100</td>\n",
       "      <td>01.10</td>\n",
       "      <td>01/10/21</td>\n",
       "      <td>2021</td>\n",
       "      <td>10.21</td>\n",
       "      <td>Oct</td>\n",
       "      <td>October</td>\n",
       "      <td>Friday</td>\n",
       "    </tr>\n",
       "    <tr>\n",
       "      <th>4</th>\n",
       "      <td>6</td>\n",
       "      <td>2021-11-15</td>\n",
       "      <td>transport</td>\n",
       "      <td>520</td>\n",
       "      <td>15.11</td>\n",
       "      <td>15/11/21</td>\n",
       "      <td>2021</td>\n",
       "      <td>11.21</td>\n",
       "      <td>Nov</td>\n",
       "      <td>November</td>\n",
       "      <td>Monday</td>\n",
       "    </tr>\n",
       "  </tbody>\n",
       "</table>\n",
       "</div>"
      ],
      "text/plain": [
       "   index       Date   Category Amount   DDMM    DDMMYY  YYYY   MMYY M_nam  \\\n",
       "1      3 2020-09-01  groceries    250  01.09  01/09/20  2020  09.20   Sep   \n",
       "2      4 2021-09-01  transport    500  01.09  01/09/21  2021  09.21   Sep   \n",
       "3      5 2021-10-01    eat out    100  01.10  01/10/21  2021  10.21   Oct   \n",
       "4      6 2021-11-15  transport    520  15.11  15/11/21  2021  11.21   Nov   \n",
       "\n",
       "      M_name    Weekday  \n",
       "1  September    Tuesday  \n",
       "2  September  Wednesday  \n",
       "3    October     Friday  \n",
       "4   November     Monday  "
      ]
     },
     "metadata": {},
     "output_type": "display_data"
    }
   ],
   "source": [
    "# DATETIME\n",
    "# If you need to clean data in column 'Date' before parsing\n",
    "import pandas as pd\n",
    "\n",
    "df = pd.DataFrame({\n",
    "\t'Date': ['#', '#', '01.05.2019', '01.09.2020', '01.09.2021', '01.10.2021', '15.11.2021', '01.09.2022'], \n",
    "\t'Category': ['comment here', 'another comment here', 'bills', 'groceries', 'transport', 'eat out', 'transport', 'bills'],\n",
    "\t'Amount': ['', '', 100, 250, 500, 100, 520, 100]\n",
    "})\n",
    "\n",
    "# Get today's date in Pandas\n",
    "pd.to_datetime('today')\n",
    "\n",
    "df1 = df[df['Date'] != '#'].copy()\n",
    "df1['Date'] = pd.to_datetime(df1['Date'], format='%d.%m.%Y')\n",
    "df1.reset_index(inplace=True)\n",
    "\n",
    "df1['DDMM']   = df1['Date'].dt.strftime('%d.%m')\n",
    "df1['DDMMYY'] = df1['Date'].dt.strftime('%d/%m/%y')\n",
    "df1['YYYY']   = df1['Date'].dt.strftime('%Y')\n",
    "df1['MMYY']   = df1['Date'].dt.strftime('%m.%y')\n",
    "df1['M_nam']  = df1['Date'].dt.strftime('%b')\n",
    "df1['M_name'] = df1['Date'].dt.strftime('%B')\n",
    "df1['Weekday']= df1['Date'].dt.day_name()\n",
    "print(f\"Earliest date: {df1['Date'].min()}\")\n",
    "print(f\"Most recent date: {df1['Date'].max()}\")\n",
    "# print(f\"Time delta between max and min: {df['Date'].max() - df['Date'].min()}\")\n",
    "df1\n",
    "\n",
    "df1_filt = df1[ (df1['Date'] >= '2020') & (df1['Date'] < '2022') ]\n",
    "df1_filt\n"
   ]
  },
  {
   "cell_type": "markdown",
   "id": "96c2479e",
   "metadata": {},
   "source": [
    "### Statistics"
   ]
  },
  {
   "cell_type": "code",
   "execution_count": 2,
   "id": "672eee64",
   "metadata": {},
   "outputs": [],
   "source": [
    "import numpy as np\n",
    "import seaborn as sns\n",
    "import pandas as pd"
   ]
  },
  {
   "cell_type": "code",
   "execution_count": 3,
   "id": "aa670675",
   "metadata": {},
   "outputs": [
    {
     "data": {
      "text/html": [
       "<div>\n",
       "<style scoped>\n",
       "    .dataframe tbody tr th:only-of-type {\n",
       "        vertical-align: middle;\n",
       "    }\n",
       "\n",
       "    .dataframe tbody tr th {\n",
       "        vertical-align: top;\n",
       "    }\n",
       "\n",
       "    .dataframe thead th {\n",
       "        text-align: right;\n",
       "    }\n",
       "</style>\n",
       "<table border=\"1\" class=\"dataframe\">\n",
       "  <thead>\n",
       "    <tr style=\"text-align: right;\">\n",
       "      <th></th>\n",
       "      <th>species</th>\n",
       "      <th>island</th>\n",
       "      <th>bill_length_mm</th>\n",
       "      <th>bill_depth_mm</th>\n",
       "      <th>flipper_length_mm</th>\n",
       "      <th>body_mass_g</th>\n",
       "      <th>sex</th>\n",
       "    </tr>\n",
       "  </thead>\n",
       "  <tbody>\n",
       "    <tr>\n",
       "      <th>339</th>\n",
       "      <td>Gentoo</td>\n",
       "      <td>Biscoe</td>\n",
       "      <td>NaN</td>\n",
       "      <td>NaN</td>\n",
       "      <td>NaN</td>\n",
       "      <td>NaN</td>\n",
       "      <td>NaN</td>\n",
       "    </tr>\n",
       "    <tr>\n",
       "      <th>340</th>\n",
       "      <td>Gentoo</td>\n",
       "      <td>Biscoe</td>\n",
       "      <td>46.8</td>\n",
       "      <td>14.3</td>\n",
       "      <td>215.0</td>\n",
       "      <td>4850.0</td>\n",
       "      <td>Female</td>\n",
       "    </tr>\n",
       "    <tr>\n",
       "      <th>341</th>\n",
       "      <td>Gentoo</td>\n",
       "      <td>Biscoe</td>\n",
       "      <td>50.4</td>\n",
       "      <td>15.7</td>\n",
       "      <td>222.0</td>\n",
       "      <td>5750.0</td>\n",
       "      <td>Male</td>\n",
       "    </tr>\n",
       "    <tr>\n",
       "      <th>342</th>\n",
       "      <td>Gentoo</td>\n",
       "      <td>Biscoe</td>\n",
       "      <td>45.2</td>\n",
       "      <td>14.8</td>\n",
       "      <td>212.0</td>\n",
       "      <td>5200.0</td>\n",
       "      <td>Female</td>\n",
       "    </tr>\n",
       "    <tr>\n",
       "      <th>343</th>\n",
       "      <td>Gentoo</td>\n",
       "      <td>Biscoe</td>\n",
       "      <td>49.9</td>\n",
       "      <td>16.1</td>\n",
       "      <td>213.0</td>\n",
       "      <td>5400.0</td>\n",
       "      <td>Male</td>\n",
       "    </tr>\n",
       "  </tbody>\n",
       "</table>\n",
       "</div>"
      ],
      "text/plain": [
       "    species  island  bill_length_mm  bill_depth_mm  flipper_length_mm  \\\n",
       "339  Gentoo  Biscoe             NaN            NaN                NaN   \n",
       "340  Gentoo  Biscoe            46.8           14.3              215.0   \n",
       "341  Gentoo  Biscoe            50.4           15.7              222.0   \n",
       "342  Gentoo  Biscoe            45.2           14.8              212.0   \n",
       "343  Gentoo  Biscoe            49.9           16.1              213.0   \n",
       "\n",
       "     body_mass_g     sex  \n",
       "339          NaN     NaN  \n",
       "340       4850.0  Female  \n",
       "341       5750.0    Male  \n",
       "342       5200.0  Female  \n",
       "343       5400.0    Male  "
      ]
     },
     "execution_count": 3,
     "metadata": {},
     "output_type": "execute_result"
    }
   ],
   "source": [
    "import seaborn as sns\n",
    "df = sns.load_dataset('penguins')\n",
    "df.tail()"
   ]
  },
  {
   "cell_type": "code",
   "execution_count": 5,
   "id": "41754c21",
   "metadata": {},
   "outputs": [
    {
     "data": {
      "text/plain": [
       "344"
      ]
     },
     "execution_count": 5,
     "metadata": {},
     "output_type": "execute_result"
    }
   ],
   "source": [
    "len(df)"
   ]
  },
  {
   "cell_type": "code",
   "execution_count": 1,
   "id": "b93c3c1f",
   "metadata": {},
   "outputs": [
    {
     "name": "stdout",
     "output_type": "stream",
     "text": [
      "43.36473482106864\n"
     ]
    },
    {
     "data": {
      "text/plain": [
       "species\n",
       "Adelie       3700.662252\n",
       "Chinstrap    3733.088235\n",
       "Gentoo       5076.016260\n",
       "Name: body_mass_g, dtype: float64"
      ]
     },
     "execution_count": 1,
     "metadata": {},
     "output_type": "execute_result"
    }
   ],
   "source": [
    "len(df) # How many rows are in the dataset\n",
    "df.describe() # describe basic stats of each column: count, mean, std, min, 25-50-75%, max\n",
    "df['body_mass_g'].median()\n",
    "df['body_mass_g'].sum()\n",
    "df['body_mass_g'].count() # total number of values other than NaN\n",
    "df['body_mass_g'].std()\n",
    "print(df['body_mass_g'].sem()) # Standard Error of sampling measurement\n",
    "df['body_mass_g'].value_counts() # count occurrence of each unique value in the column\n",
    "df['body_mass_g'].value_counts(normalize=True) # percentage\n",
    "df['body_mass_g'].value_counts()[6300] # count only this value\n",
    "\n",
    "df['body_mass_g'].nlargest(5) # print weights of 5 largest entries \n",
    "df.nlargest(5, 'body_mass_g') # print rows of 5 largest entries\n",
    "\n",
    "(df['bill_depth_mm'] < df['bill_length_mm']).sum() # Count how many times the condition is met btw two columns\n",
    "\n",
    "# Sample from a dataframe column\n",
    "df['body_mass_g'].sample(5).mean()\n",
    "\n",
    "# Print statistics per group\n",
    "df.groupby('species')['body_mass_g'].mean() # Mean body mass in each species group\n",
    "# .median()\n",
    "# .std()\n",
    "# .quantile(0.25)"
   ]
  },
  {
   "cell_type": "code",
   "execution_count": 9,
   "id": "ec28b0e7",
   "metadata": {},
   "outputs": [
    {
     "data": {
      "text/html": [
       "<div>\n",
       "<style scoped>\n",
       "    .dataframe tbody tr th:only-of-type {\n",
       "        vertical-align: middle;\n",
       "    }\n",
       "\n",
       "    .dataframe tbody tr th {\n",
       "        vertical-align: top;\n",
       "    }\n",
       "\n",
       "    .dataframe thead th {\n",
       "        text-align: right;\n",
       "    }\n",
       "</style>\n",
       "<table border=\"1\" class=\"dataframe\">\n",
       "  <thead>\n",
       "    <tr style=\"text-align: right;\">\n",
       "      <th></th>\n",
       "      <th>species</th>\n",
       "      <th>island</th>\n",
       "      <th>bill_length_mm</th>\n",
       "      <th>bill_depth_mm</th>\n",
       "      <th>flipper_length_mm</th>\n",
       "      <th>body_mass_g</th>\n",
       "      <th>sex</th>\n",
       "    </tr>\n",
       "  </thead>\n",
       "  <tbody>\n",
       "    <tr>\n",
       "      <th>342</th>\n",
       "      <td>Gentoo</td>\n",
       "      <td>Biscoe</td>\n",
       "      <td>45.2</td>\n",
       "      <td>14.8</td>\n",
       "      <td>212.0</td>\n",
       "      <td>5200.0</td>\n",
       "      <td>Female</td>\n",
       "    </tr>\n",
       "    <tr>\n",
       "      <th>218</th>\n",
       "      <td>Chinstrap</td>\n",
       "      <td>Dream</td>\n",
       "      <td>50.8</td>\n",
       "      <td>19.0</td>\n",
       "      <td>210.0</td>\n",
       "      <td>4100.0</td>\n",
       "      <td>Male</td>\n",
       "    </tr>\n",
       "    <tr>\n",
       "      <th>323</th>\n",
       "      <td>Gentoo</td>\n",
       "      <td>Biscoe</td>\n",
       "      <td>49.1</td>\n",
       "      <td>15.0</td>\n",
       "      <td>228.0</td>\n",
       "      <td>5500.0</td>\n",
       "      <td>Male</td>\n",
       "    </tr>\n",
       "  </tbody>\n",
       "</table>\n",
       "</div>"
      ],
      "text/plain": [
       "       species  island  bill_length_mm  bill_depth_mm  flipper_length_mm  \\\n",
       "342     Gentoo  Biscoe            45.2           14.8              212.0   \n",
       "218  Chinstrap   Dream            50.8           19.0              210.0   \n",
       "323     Gentoo  Biscoe            49.1           15.0              228.0   \n",
       "\n",
       "     body_mass_g     sex  \n",
       "342       5200.0  Female  \n",
       "218       4100.0    Male  \n",
       "323       5500.0    Male  "
      ]
     },
     "execution_count": 9,
     "metadata": {},
     "output_type": "execute_result"
    }
   ],
   "source": [
    "df.sample(n=3)"
   ]
  },
  {
   "cell_type": "code",
   "execution_count": 23,
   "id": "6c112a96",
   "metadata": {},
   "outputs": [
    {
     "name": "stdout",
     "output_type": "stream",
     "text": [
      "IQR: 3.6775\n",
      "Upper limit: 6.65125\n",
      "Lower limit: -8.05875\n",
      "[32.25, 30.87, 1.24, 0.82, 0.46, 0.04, -0.84, -3.11, -18.68, -21.57]\n",
      "-3.11, 1.24\n",
      "      C1\n",
      "0 -21.57\n",
      "1   1.24\n",
      "2  -0.84\n",
      "3  32.25\n",
      "4   0.82\n",
      "5  -3.11\n",
      "6   0.46\n",
      "7 -18.68\n",
      "8   0.04\n",
      "9  30.87\n"
     ]
    },
    {
     "data": {
      "text/html": [
       "<div>\n",
       "<style scoped>\n",
       "    .dataframe tbody tr th:only-of-type {\n",
       "        vertical-align: middle;\n",
       "    }\n",
       "\n",
       "    .dataframe tbody tr th {\n",
       "        vertical-align: top;\n",
       "    }\n",
       "\n",
       "    .dataframe thead th {\n",
       "        text-align: right;\n",
       "    }\n",
       "</style>\n",
       "<table border=\"1\" class=\"dataframe\">\n",
       "  <thead>\n",
       "    <tr style=\"text-align: right;\">\n",
       "      <th></th>\n",
       "      <th>C1</th>\n",
       "    </tr>\n",
       "  </thead>\n",
       "  <tbody>\n",
       "    <tr>\n",
       "      <th>0</th>\n",
       "      <td>-3.11</td>\n",
       "    </tr>\n",
       "    <tr>\n",
       "      <th>1</th>\n",
       "      <td>1.24</td>\n",
       "    </tr>\n",
       "    <tr>\n",
       "      <th>2</th>\n",
       "      <td>-0.84</td>\n",
       "    </tr>\n",
       "    <tr>\n",
       "      <th>3</th>\n",
       "      <td>1.24</td>\n",
       "    </tr>\n",
       "    <tr>\n",
       "      <th>4</th>\n",
       "      <td>0.82</td>\n",
       "    </tr>\n",
       "    <tr>\n",
       "      <th>5</th>\n",
       "      <td>-3.11</td>\n",
       "    </tr>\n",
       "    <tr>\n",
       "      <th>6</th>\n",
       "      <td>0.46</td>\n",
       "    </tr>\n",
       "    <tr>\n",
       "      <th>7</th>\n",
       "      <td>-3.11</td>\n",
       "    </tr>\n",
       "    <tr>\n",
       "      <th>8</th>\n",
       "      <td>0.04</td>\n",
       "    </tr>\n",
       "    <tr>\n",
       "      <th>9</th>\n",
       "      <td>1.24</td>\n",
       "    </tr>\n",
       "  </tbody>\n",
       "</table>\n",
       "</div>"
      ],
      "text/plain": [
       "     C1\n",
       "0 -3.11\n",
       "1  1.24\n",
       "2 -0.84\n",
       "3  1.24\n",
       "4  0.82\n",
       "5 -3.11\n",
       "6  0.46\n",
       "7 -3.11\n",
       "8  0.04\n",
       "9  1.24"
      ]
     },
     "execution_count": 23,
     "metadata": {},
     "output_type": "execute_result"
    }
   ],
   "source": [
    "# Remove outliers for group, \n",
    "# substituting them for a max value that is not an outlier\n",
    "\n",
    "import pandas as pd\n",
    "\n",
    "df1 = pd.DataFrame({\n",
    "\t'C1': [-21.57, 1.24, -0.84, 32.25, 0.82, -3.11, 0.46, -18.68, 0.04, 30.87]\n",
    "})\n",
    "\n",
    "IQR = df1['C1'].quantile(0.75) - df1['C1'].quantile(0.25)\n",
    "lower_limit = df1['C1'].quantile(0.25) - 1.5*IQR\n",
    "upper_limit = df1['C1'].quantile(0.75) + 1.5*IQR\n",
    "print(f\"IQR: {IQR}\")\n",
    "print(f\"Upper limit: {upper_limit}\")\n",
    "print(f\"Lower limit: {lower_limit}\")\n",
    "\n",
    "a = list(df1['C1'])\n",
    "a.sort(reverse=True)\n",
    "print(a)\n",
    "\n",
    "max_non_outlier = 0\n",
    "for i in a:\n",
    "\tif i < upper_limit:\n",
    "\t\tmax_non_outlier = i\n",
    "\t\tbreak\n",
    "\n",
    "min_non_outlier = 0\n",
    "for i in a[::-1]:\n",
    "\tif i > lower_limit:\n",
    "\t\tmin_non_outlier = i\n",
    "\t\tbreak\n",
    "\n",
    "print(f\"{min_non_outlier}, {max_non_outlier}\")\n",
    "\n",
    "# Now let's substitute in the pandas\n",
    "print(df1)\n",
    "\n",
    "df1['C1'] = df1['C1'].apply( lambda x: max_non_outlier if x > upper_limit else x )\n",
    "df1['C1'] = df1['C1'].apply( lambda x: min_non_outlier if x < lower_limit else x )\n",
    "df1"
   ]
  },
  {
   "cell_type": "code",
   "execution_count": 36,
   "id": "429e1fb6",
   "metadata": {},
   "outputs": [
    {
     "name": "stdout",
     "output_type": "stream",
     "text": [
      "C1\n",
      "IQR: 3.6775\n",
      "Upper limit: 6.65125\n",
      "Lower limit: -8.05875\n",
      "[32.25, 30.87, 1.24, 0.82, 0.46, 0.04, -0.84, -3.11, -18.68, -21.57]\n",
      "-3.11, 1.24\n",
      "sucess\n",
      "C2\n",
      "IQR: 2.675\n",
      "Upper limit: 8.9375\n",
      "Lower limit: -1.7624999999999993\n",
      "[10.0, 5.1, 5.0, 4.7, 4.5, 4.0, 3.0, 2.0, 1.0, -10.0]\n",
      "1.0, 5.1\n",
      "sucess\n"
     ]
    },
    {
     "data": {
      "text/html": [
       "<div>\n",
       "<style scoped>\n",
       "    .dataframe tbody tr th:only-of-type {\n",
       "        vertical-align: middle;\n",
       "    }\n",
       "\n",
       "    .dataframe tbody tr th {\n",
       "        vertical-align: top;\n",
       "    }\n",
       "\n",
       "    .dataframe thead th {\n",
       "        text-align: right;\n",
       "    }\n",
       "</style>\n",
       "<table border=\"1\" class=\"dataframe\">\n",
       "  <thead>\n",
       "    <tr style=\"text-align: right;\">\n",
       "      <th></th>\n",
       "      <th>C1</th>\n",
       "      <th>C2</th>\n",
       "    </tr>\n",
       "  </thead>\n",
       "  <tbody>\n",
       "    <tr>\n",
       "      <th>0</th>\n",
       "      <td>-3.11</td>\n",
       "      <td>1.0</td>\n",
       "    </tr>\n",
       "    <tr>\n",
       "      <th>1</th>\n",
       "      <td>1.24</td>\n",
       "      <td>1.0</td>\n",
       "    </tr>\n",
       "    <tr>\n",
       "      <th>2</th>\n",
       "      <td>-0.84</td>\n",
       "      <td>2.0</td>\n",
       "    </tr>\n",
       "    <tr>\n",
       "      <th>3</th>\n",
       "      <td>1.24</td>\n",
       "      <td>3.0</td>\n",
       "    </tr>\n",
       "    <tr>\n",
       "      <th>4</th>\n",
       "      <td>0.82</td>\n",
       "      <td>4.0</td>\n",
       "    </tr>\n",
       "    <tr>\n",
       "      <th>5</th>\n",
       "      <td>-3.11</td>\n",
       "      <td>4.5</td>\n",
       "    </tr>\n",
       "    <tr>\n",
       "      <th>6</th>\n",
       "      <td>0.46</td>\n",
       "      <td>4.7</td>\n",
       "    </tr>\n",
       "    <tr>\n",
       "      <th>7</th>\n",
       "      <td>-3.11</td>\n",
       "      <td>5.0</td>\n",
       "    </tr>\n",
       "    <tr>\n",
       "      <th>8</th>\n",
       "      <td>0.04</td>\n",
       "      <td>5.1</td>\n",
       "    </tr>\n",
       "    <tr>\n",
       "      <th>9</th>\n",
       "      <td>1.24</td>\n",
       "      <td>5.1</td>\n",
       "    </tr>\n",
       "  </tbody>\n",
       "</table>\n",
       "</div>"
      ],
      "text/plain": [
       "     C1   C2\n",
       "0 -3.11  1.0\n",
       "1  1.24  1.0\n",
       "2 -0.84  2.0\n",
       "3  1.24  3.0\n",
       "4  0.82  4.0\n",
       "5 -3.11  4.5\n",
       "6  0.46  4.7\n",
       "7 -3.11  5.0\n",
       "8  0.04  5.1\n",
       "9  1.24  5.1"
      ]
     },
     "execution_count": 36,
     "metadata": {},
     "output_type": "execute_result"
    }
   ],
   "source": [
    "# Remove outliers for group, \n",
    "# substituting them for a max value that is not an outlier\n",
    "\n",
    "import pandas as pd\n",
    "\n",
    "df1 = pd.DataFrame({\n",
    "\t'C1': [-21.57, 1.24, -0.84, 32.25, 0.82, -3.11, 0.46, -18.68, 0.04, 30.87],\n",
    "\t'C2': [-10, 1, 2, 3, 4, 4.5, 4.7, 5, 5.1, 10]\n",
    "})\n",
    "\n",
    "def return_updated_column(df_column, df1):\n",
    "\tprint(df_column)\n",
    "\tIQR = df1[df_column].quantile(0.75) - df1[df_column].quantile(0.25)\n",
    "\tlower_limit = df1[df_column].quantile(0.25) - 1.5*IQR\n",
    "\tupper_limit = df1[df_column].quantile(0.75) + 1.5*IQR\n",
    "\tprint(f\"IQR: {IQR}\")\n",
    "\tprint(f\"Upper limit: {upper_limit}\")\n",
    "\tprint(f\"Lower limit: {lower_limit}\")\n",
    "\n",
    "\ta = list(df1[df_column])\n",
    "\ta.sort(reverse=True)\n",
    "\tprint(a)\n",
    "\n",
    "\tmax_non_outlier = 0\n",
    "\tfor j in a:\n",
    "\t\tif j < upper_limit:\n",
    "\t\t\tmax_non_outlier = j\n",
    "\t\t\tbreak\n",
    "\n",
    "\tmin_non_outlier = 0\n",
    "\tfor j in a[::-1]:\n",
    "\t\tif j > lower_limit:\n",
    "\t\t\tmin_non_outlier = j\n",
    "\t\t\tbreak\n",
    "\n",
    "\tprint(f\"{min_non_outlier}, {max_non_outlier}\")\n",
    "\n",
    "\t# Now let's substitute in the pandas\n",
    "\t# print(df1)\n",
    "\tdf1[df_column] = df1[df_column].apply( lambda x: max_non_outlier if x > upper_limit else x )\n",
    "\tdf1[df_column] = df1[df_column].apply( lambda x: min_non_outlier if x < lower_limit else x )\n",
    "\tprint('sucess')\n",
    "\treturn df1[df_column]\n",
    "\n",
    "for i in list(df1.columns):\n",
    "\tdf1[i] = return_updated_column(i, df1)\n",
    "\n",
    "df1"
   ]
  },
  {
   "cell_type": "markdown",
   "id": "0a201f5d",
   "metadata": {},
   "source": [
    "### Quick visualisation"
   ]
  },
  {
   "cell_type": "code",
   "execution_count": 2,
   "id": "2540acdd",
   "metadata": {},
   "outputs": [],
   "source": [
    "import pandas as pd\n",
    "import matplotlib.pyplot as plt\n",
    "\n",
    "df = pd.DataFrame({\n",
    "\t'Species': ['Setosa', 'Setosa', 'Virginica', 'Setosa', 'Sepal', 'Virginica'], \n",
    "\t'Sepal_length': [10, 11, 50, 70, 12, 51], \n",
    "\t'Sepal_width': [100, 101, 50, 40, 99, 52]\n",
    "})\n",
    "# The plots can be specified either as:\n",
    "# df.plot.scatter(x, y)\n",
    "# or\n",
    "# df.plot(kind='scatter', x, y)"
   ]
  },
  {
   "cell_type": "code",
   "execution_count": 4,
   "id": "16fd2865",
   "metadata": {},
   "outputs": [
    {
     "data": {
      "text/plain": [
       "<AxesSubplot:xlabel='Sepal_length', ylabel='Sepal_width'>"
      ]
     },
     "execution_count": 4,
     "metadata": {},
     "output_type": "execute_result"
    },
    {
     "data": {
      "image/png": "[encoded data removed]",
      "text/plain": [
       "<Figure size 216x216 with 1 Axes>"
      ]
     },
     "metadata": {
      "needs_background": "light"
     },
     "output_type": "display_data"
    }
   ],
   "source": [
    "# Scatterplot\n",
    "df.plot(kind='scatter', x='Sepal_length', y='Sepal_width', figsize=(3,3))"
   ]
  },
  {
   "cell_type": "code",
   "execution_count": 21,
   "id": "198593b9",
   "metadata": {},
   "outputs": [
    {
     "data": {
      "text/plain": [
       "<AxesSubplot:>"
      ]
     },
     "execution_count": 21,
     "metadata": {},
     "output_type": "execute_result"
    },
    {
     "data": {
      "text/plain": [
       "<Figure size 216x216 with 0 Axes>"
      ]
     },
     "metadata": {},
     "output_type": "display_data"
    },
    {
     "data": {
      "image/png": "[encoded data removed]",
      "text/plain": [
       "<Figure size 432x288 with 1 Axes>"
      ]
     },
     "metadata": {
      "needs_background": "light"
     },
     "output_type": "display_data"
    },
    {
     "data": {
      "image/png": "[encoded data removed]",
      "text/plain": [
       "<Figure size 216x216 with 1 Axes>"
      ]
     },
     "metadata": {
      "needs_background": "light"
     },
     "output_type": "display_data"
    }
   ],
   "source": [
    "# Histogram\n",
    "plt.figure(figsize=(3,3));\n",
    "df.plot(kind='hist', x='Sepal_length')\n",
    "\n",
    "plt.figure(figsize=(3,3));\n",
    "df['Species'].value_counts().plot(kind='barh')\n",
    "\n",
    "# df['Sepal_length'].hist(bins=20)"
   ]
  },
  {
   "cell_type": "code",
   "execution_count": 13,
   "id": "fd2e22f8",
   "metadata": {},
   "outputs": [
    {
     "data": {
      "text/plain": [
       "<AxesSubplot:ylabel='Species'>"
      ]
     },
     "execution_count": 13,
     "metadata": {},
     "output_type": "execute_result"
    },
    {
     "data": {
      "image/png": "[encoded data removed]",
      "text/plain": [
       "<Figure size 216x216 with 1 Axes>"
      ]
     },
     "metadata": {
      "needs_background": "light"
     },
     "output_type": "display_data"
    },
    {
     "data": {
      "text/plain": [
       "<Figure size 216x216 with 0 Axes>"
      ]
     },
     "metadata": {},
     "output_type": "display_data"
    },
    {
     "data": {
      "image/png": "[encoded data removed]",
      "text/plain": [
       "<Figure size 216x216 with 1 Axes>"
      ]
     },
     "metadata": {
      "needs_background": "light"
     },
     "output_type": "display_data"
    },
    {
     "data": {
      "image/png": "[encoded data removed]",
      "text/plain": [
       "<Figure size 216x216 with 1 Axes>"
      ]
     },
     "metadata": {
      "needs_background": "light"
     },
     "output_type": "display_data"
    },
    {
     "data": {
      "text/plain": [
       "<Figure size 216x216 with 0 Axes>"
      ]
     },
     "metadata": {},
     "output_type": "display_data"
    },
    {
     "data": {
      "image/png": "[encoded data removed]",
      "text/plain": [
       "<Figure size 216x216 with 1 Axes>"
      ]
     },
     "metadata": {
      "needs_background": "light"
     },
     "output_type": "display_data"
    },
    {
     "data": {
      "image/png": "[encoded data removed]",
      "text/plain": [
       "<Figure size 288x288 with 1 Axes>"
      ]
     },
     "metadata": {},
     "output_type": "display_data"
    }
   ],
   "source": [
    "\n",
    "\n",
    "\n",
    "\n",
    "# Density plot\n",
    "plt.figure(figsize=(3,3));\n",
    "df.plot(kind='density', x='Sepal_length', figsize=(3,3))\n",
    "\n",
    "# Quick pie chart - count of entries\n",
    "plt.figure(figsize=(3,3));\n",
    "df['Species'].value_counts().plot(kind='pie', figsize=(4,4), autopct='%1.0f%%')"
   ]
  },
  {
   "cell_type": "markdown",
   "id": "672393e1",
   "metadata": {},
   "source": [
    "## Timeit"
   ]
  },
  {
   "cell_type": "code",
   "execution_count": 2,
   "id": "6daf2d62",
   "metadata": {},
   "outputs": [
    {
     "name": "stdout",
     "output_type": "stream",
     "text": [
      "[0, 1, 2, 3, 4, 5, 6, 7, 8, 9]\n",
      "0.00028059999749530107\n"
     ]
    }
   ],
   "source": [
    "from timeit import default_timer as timer\n",
    "\n",
    "start = timer()\n",
    "mylist = [i for i in range(0, 10)]; print(mylist)\n",
    "stop = timer()\n",
    "print(stop-start)"
   ]
  },
  {
   "cell_type": "markdown",
   "id": "4dadef03",
   "metadata": {},
   "source": [
    "## Collections"
   ]
  },
  {
   "cell_type": "code",
   "execution_count": 1065,
   "id": "d0690ae1",
   "metadata": {},
   "outputs": [
    {
     "name": "stdout",
     "output_type": "stream",
     "text": [
      "dict_items([('a', 4), ('b', 7), ('c', 2)])\n",
      "dict_keys(['a', 'b', 'c'])\n",
      "dict_values([4, 7, 2])\n",
      "[('b', 7), ('a', 4)]\n"
     ]
    }
   ],
   "source": [
    "from collections import Counter\n",
    "from collections import namedtuple\n",
    "\n",
    "a = \"aaaabbbbbbbcc\"\n",
    "mycounter = Counter(a)\n",
    "print(mycounter.items())\n",
    "\n",
    "print(mycounter.keys())\n",
    "print(mycounter.values())\n",
    "\n",
    "print(mycounter.most_common(2)) # find the two most common elements\n"
   ]
  },
  {
   "attachments": {},
   "cell_type": "markdown",
   "id": "4c706c7c",
   "metadata": {},
   "source": [
    "## OS, SYS\n",
    "\n",
    "'OS' module enables interactions with the underlying Operating System, its files and directories: \n",
    "- Navigate file system\n",
    "- Get file information\n",
    "- Look up and change the environment variables\n",
    "- Move the files around\n",
    "\n",
    "```py\n",
    "import os\n",
    "\n",
    "# Show all attributes and methods of the module\n",
    "dir(os)\n",
    "\n",
    "\n",
    "# Get current dir\n",
    "os.getcwd()\n",
    "# Change workdir\n",
    "os.chdir('example_datasets')\n",
    "# Check if a path (directory or file) exists\n",
    "os.path.exists( '/Dir/file.txt' )\n",
    "\n",
    "# Remove a file\n",
    "os.remove('filename.txt')\n",
    "\n",
    "# Print list of files in current dir or a specified path\n",
    "os.listdir()\n",
    "# Rename a file\n",
    "os.rename('old_name.txt', 'new_name.txt')\n",
    "# Also, using 'rename', you can move directories\n",
    "os.rename('file.txt', 'Directory/file.txt')\n",
    "# Print information about a file\n",
    "os.stat('file.txt')\n",
    "# .st_size : size in bytes\n",
    "# .st_mtime: modification time\n",
    "## Print human-readable modification time\n",
    "mod_time = os.stat('file.txt').st_mtime\n",
    "import datetime\n",
    "datetime.fromtimestamp(mod_time)\n",
    "\n",
    "\n",
    "# Create/remove dir (not nested)\n",
    "os.mkdir('newdir')\n",
    "os.rmdir('newdir')\n",
    "# Create/remove nested dir\n",
    "os.makedirs('newdir/newdir2/newdir3')\n",
    "os.removedirs('newdir/newdir2/newdir3')\n",
    "\n",
    "\n",
    "# Traverse directories\n",
    "## Traverse a chosen dir, showing all child dirs and files\n",
    "for dirpath, dirnames, filenames in os.walk('/Users/evgen/Desktop'):\n",
    "\tprint('Current path:', dirpath)\n",
    "\tprint('Directories:', dirnames)\n",
    "\tprint('Files:', filenames)\n",
    "\tprint('-'*50)\n",
    "## Traverse only one dir\n",
    "for dirpath, dirnames, filenames in os.walk('/Users/evgen/Desktop/'):\n",
    "\tif dirpath == '/Users/evgen/Desktop/':\n",
    "\t\tprint('Current path:', dirpath)\n",
    "\t\tprint('Directories:', dirnames)\n",
    "\t\tprint('Files:', filenames)\n",
    "\t\tprint('')\n",
    "## Search for a file in the directories starting from the current directory\n",
    "for dirpath, dirnames, filenames in os.walk(os.getcwd()):\n",
    "\tif 'HashSet.png' in filenames:\n",
    "\t\tprint(f'Found file in path {dirpath}')\n",
    "\n",
    "\n",
    "# Create a fully-pathed filename\n",
    "full_path = os.path.join( os.getcwd(), 'nestedDir', 'file.txt' )\n",
    "\n",
    "\n",
    "# Get environment variables\n",
    "## Print all environment variables\n",
    "os.environ\n",
    "## Print a specific variable, e.g. home environment variable - location of user's home directory\n",
    "os.environ.get('HOME')\n",
    "os.environ.get('EMAIL_USER')\n",
    "\n",
    "\n",
    "# Split the path into two - last dir/file and the full path up to it\n",
    "os.path.split( '/Desktop/file' )\n",
    "os.path.split( '/Desktop/file.txt' )\n",
    "# From path, get the last component (directory/file)\n",
    "os.path.basename('/Users/john/Desktop')\n",
    "# Split the complete file root (with all the path and filename) into extension and all the preceding path\n",
    "os.path.splitext('dir/file.txt')\n",
    "# Get current directory without full path\n",
    "os.path.split(os.getcwd())[1]\n",
    "\n",
    "\n",
    "#############################################################################################\n",
    "#####   EXAMPLES   ##########################################################################\n",
    "#############################################################################################\n",
    "\n",
    "# In a specified directory, delete all FILES (only files) not in the specified list of files to keep\n",
    "import os\n",
    "\n",
    "os.chdir('example_datasets')\n",
    "files = os.listdir()\n",
    "\n",
    "for i in files:\n",
    "\tif i not in ['items.csv', 'adult-data.csv', 'ETH_1h.csv', 'Finance.tsv', 'IPDS7_hyperrectangles_2.tsv', 'Hypercuboids_data.csv'] and os.path.isfile(i):\n",
    "\t\tos.remove(i)\n",
    "\n",
    "# If a directory doesn't exist, create it, otherwise do nothing\n",
    "if not os.path.exists('Data/Music'):\n",
    "\tos.mkdir('Data/Music')\n",
    "```"
   ]
  },
  {
   "cell_type": "code",
   "execution_count": 14,
   "id": "21d5bd51",
   "metadata": {},
   "outputs": [
    {
     "name": "stdout",
     "output_type": "stream",
     "text": [
      "win32\n",
      "3.10.6 (tags/v3.10.6:9c7b4bd, Aug  1 2022, 21:53:49) [MSC v.1932 64 bit (AMD64)]\n",
      "['C:\\\\Users\\\\evgen\\\\AppData\\\\Local\\\\Packages\\\\PythonSoftwareFoundation.Python.3.10_qbz5n2kfra8p0\\\\LocalCache\\\\local-packages\\\\Python310\\\\site-packages\\\\ipykernel_launcher.py', '--ip=127.0.0.1', '--stdin=9023', '--control=9021', '--hb=9020', '--Session.signature_scheme=\"hmac-sha256\"', '--Session.key=b\"9d705cd3-378b-46a8-8bc5-6262725f96fb\"', '--shell=9022', '--transport=\"tcp\"', '--iopub=9024', '--f=c:\\\\Users\\\\evgen\\\\AppData\\\\Roaming\\\\jupyter\\\\runtime\\\\kernel-v2-4808DSDZcDihFViZ.json']\n",
      "C:\\Users\\evgen\\AppData\\Local\\Microsoft\\WindowsApps\\PythonSoftwareFoundation.Python.3.10_qbz5n2kfra8p0\\python.exe\n"
     ]
    }
   ],
   "source": [
    "import sys\n",
    "\n",
    "# Print folder from which imports will be done\n",
    "sys.path\n",
    "\n",
    "# Print string containing a platform identifier\n",
    "print( sys.platform ) # aix, linux, win32, cygwin, darwin (MacOS)\n",
    "\n",
    "# Print a str containing the version number of the python interpreter\n",
    "print( sys.version )\n",
    "\n",
    "# Print a list of command line arguments passed to a python script\n",
    "print( sys.argv )\n",
    "\n",
    "# Print a str which tells you in which file in your file system your python interpreter lies\n",
    "print( sys.executable )\n"
   ]
  },
  {
   "cell_type": "markdown",
   "id": "6cc41b6d",
   "metadata": {},
   "source": [
    "## Virtual Env\n",
    "\n",
    "There are a number of modules for creating virtual environment in Python: venv, virtualenv. \n",
    "\n",
    "Usually, virtual environment directories are named as `venv`, `.venv`\n",
    "\n",
    "---\n",
    "\n",
    "**venv**\n",
    "```py\n",
    "# standard library, so no need to install \n",
    "# Create virtual environment\n",
    "python3 -m venv <name>\n",
    "# activate virtual environment\n",
    "venvName/Scripts/activate\n",
    "# deactivate\n",
    "deactivate\n",
    "```\n",
    "\n",
    "---\n",
    "\n",
    "**virtualenv**\n",
    "```py\n",
    "# Install\n",
    "pip install virtualenv\n",
    "# Initialise the virtual environment\n",
    "virtualenv project1_env\n",
    "# Active the venv\n",
    "project1_env/Scripts/activate\n",
    "\n",
    "```"
   ]
  },
  {
   "cell_type": "markdown",
   "id": "d8a1961e",
   "metadata": {},
   "source": [
    "## Requests"
   ]
  },
  {
   "cell_type": "code",
   "execution_count": 14,
   "id": "49ac8bb9",
   "metadata": {},
   "outputs": [
    {
     "name": "stdout",
     "output_type": "stream",
     "text": [
      "200\n",
      "True\n"
     ]
    }
   ],
   "source": [
    "import requests\n",
    "\n",
    "r = requests.get('https://xkcd.com/353/') # Get a 'response' object\n",
    "\n",
    "# Get html for the web page\n",
    "r.text\n",
    "# Get status code\n",
    "print(r.status_code)\n",
    "# Is everything ok?\n",
    "print(r.ok)"
   ]
  },
  {
   "cell_type": "code",
   "execution_count": 15,
   "id": "355a1bb2",
   "metadata": {},
   "outputs": [],
   "source": [
    "import requests \n",
    "# Save an image from a website\n",
    "r = requests.get('https://imgs.xkcd.com/comics/python.png')\n",
    "\n",
    "with open('comig.png', 'wb') as f: # 'wb' - write byte mode\n",
    "\tf.write(r.content)"
   ]
  },
  {
   "cell_type": "code",
   "execution_count": 16,
   "id": "18e5ef59",
   "metadata": {},
   "outputs": [
    {
     "data": {
      "text/plain": [
       "200"
      ]
     },
     "execution_count": 16,
     "metadata": {},
     "output_type": "execute_result"
    }
   ],
   "source": [
    "import requests\n",
    "\n",
    "r = requests.get('https://httpbin.org/get')\n",
    "r.status_code"
   ]
  },
  {
   "attachments": {},
   "cell_type": "markdown",
   "id": "dd8d237e",
   "metadata": {},
   "source": [
    "## Images"
   ]
  },
  {
   "attachments": {},
   "cell_type": "markdown",
   "id": "f6a77753",
   "metadata": {},
   "source": [
    "### PDF -> png\n",
    "\n",
    "```py\n",
    "from PIL import Image\n",
    "from pdf2image import convert_from_path\n",
    "\n",
    "path = 'Visualisations\\Pediatria\\IMSS-269-13, Prevencion Diagnostico y Tratamiento de la Espina Bifida'\n",
    "images = convert_from_path(f\"{path}\\Alimentos ricos en Acido Folico.pdf\")\n",
    "\n",
    "for i in range(len(images)):\n",
    "    # Save pages as images in the pdf\n",
    "    images[i].save('page'+ str(i) +'.png', 'PNG')\n",
    "```\n",
    "\n",
    "Another example:\n",
    "\n",
    "```py\n",
    "from PIL import Image\n",
    "from pdf2image import convert_from_path\n",
    "import os\n",
    "\n",
    "path = 'Visualisations\\Pediatria\\IMSS-269-13, Prevencion Diagnostico y Tratamiento de la Espina Bifida'\n",
    "\n",
    "for i in os.listdir(path):\n",
    "\tif os.path.splitext(i)[-1] == '.pdf':\n",
    "\t\timage1 = convert_from_path(f\"{path}\\{i}\")\n",
    "\t\tname = os.path.splitext(i)[0]\n",
    "\t\timage1[0].save(f\"{path}\\{name}.png\", 'PNG')\n",
    "```\n"
   ]
  },
  {
   "attachments": {},
   "cell_type": "markdown",
   "id": "e1b83ad2",
   "metadata": {},
   "source": [
    "### PIL\n",
    "\n",
    "```py\n",
    "# You can pipe the commands like this:\n",
    "image1.convert(mode='L').save('output.jpg')\n",
    "```\n",
    "\n",
    "Color modes:\n",
    "- `1`: 1-bit pixels, bw\n",
    "- `L`: 8-bit pixels, bw\n",
    "- `RGB`: 3x8-bit pixels, true color\n",
    "- many others..."
   ]
  },
  {
   "cell_type": "code",
   "execution_count": 1,
   "id": "d6dedc7c",
   "metadata": {},
   "outputs": [
    {
     "name": "stdout",
     "output_type": "stream",
     "text": [
      "Size of the image: (750, 500); colour mode: RGB\n",
      "Size of the image: (1600, 959); colour mode: RGB\n"
     ]
    },
    {
     "data": {
      "image/png": "[encoded data removed]",
      "text/plain": [
       "<PIL.Image.Image image mode=L size=750x500>"
      ]
     },
     "execution_count": 1,
     "metadata": {},
     "output_type": "execute_result"
    }
   ],
   "source": [
    "from PIL import Image, ImageFilter, ImageChops\n",
    "\n",
    "# Create an image object\n",
    "image1 = Image.open('example_datasets/Spider-Men.jpg')\n",
    "image2 = Image.open('example_datasets/Dark_forest.jpg')\n",
    "for i in [image1, image2]:\n",
    "\tprint(f\"Size of the image: {i.size}; colour mode: {i.mode}\")\n",
    "# Show an image in preview in image viewer\n",
    "# image.show()\n",
    "\n",
    "# Convert formats\n",
    "# image.save('Data/Spider-Men.png')\n",
    "# Resize\n",
    "# size_30 = (30,30)\n",
    "# image.thumbnail(size_30)\n",
    "# image.save('Data/myqr_30.jpg')\n",
    "\n",
    "# Rotation\n",
    "# image1 = image.rotate(90)\n",
    "# Black and white\n",
    "# image.convert(mode='L')\n",
    "# # Filter\n",
    "# image.filter(ImageFilter.GaussianBlur(5))\n",
    "\n",
    "# Resize the second image\n",
    "image2_proc = image2.resize( (750, 500) )\n",
    "# superimpose the images\n",
    "ImageChops.multiply(image1, image2_proc)\n",
    "# only show the common areas\n",
    "ImageChops.add(image1, image2_proc)\n",
    "# Convert the colour mode\n",
    "## Greyscale\n",
    "image1.convert('L')"
   ]
  },
  {
   "cell_type": "code",
   "execution_count": 10,
   "id": "88168581",
   "metadata": {},
   "outputs": [
    {
     "name": "stdout",
     "output_type": "stream",
     "text": [
      "<PIL.JpegImagePlugin.JpegImageFile image mode=RGB size=640x481 at 0x184EB225150>\n"
     ]
    },
    {
     "data": {
      "image/png": "[encoded data removed]",
      "text/plain": [
       "<PIL.Image.Image image mode=L size=50x50>"
      ]
     },
     "execution_count": 10,
     "metadata": {},
     "output_type": "execute_result"
    }
   ],
   "source": [
    "from PIL import Image\n",
    "\n",
    "img = Image.open(\"example_datasets/chart.jpg\")\n",
    "# Get info about the image: color mode, size\n",
    "print(img)\n",
    "# Convert to \"L\" color mode (black and white)\n",
    "img = img.convert(\"L\")\n",
    "# # Resize the image to 50x50 pixels\n",
    "img = img.resize((50,50))\n",
    "# # Get an array of image\n",
    "data = list(img.getdata())\n",
    "img"
   ]
  },
  {
   "cell_type": "code",
   "execution_count": null,
   "id": "93bdcde8",
   "metadata": {},
   "outputs": [],
   "source": [
    "# # creating a image object (main image) \n",
    "# im1 = Image.open(r\"C:\\Users\\System-Pc\\Desktop\\flower1.jpg\") \n",
    "  \n",
    "# # save a image using extension\n",
    "# im1 = im1.save(\"geeks.jpg\")"
   ]
  },
  {
   "cell_type": "code",
   "execution_count": 3,
   "id": "ffd405ab",
   "metadata": {},
   "outputs": [
    {
     "name": "stdout",
     "output_type": "stream",
     "text": [
      "Image name (with path, w/o extension): example_datasets/Dark_forest; image extension: .jpg\n"
     ]
    }
   ],
   "source": [
    "# 1 image to 1 PDF\n",
    "\n",
    "from PIL import Image\n",
    "import os\n",
    "\n",
    "image_fullname = 'example_datasets/Dark_forest.jpg'\n",
    "image_name, image_ext = os.path.splitext(image_fullname)\n",
    "print(f\"Image name (with path, w/o extension): {image_name}; image extension: {image_ext}\")\n",
    "\n",
    "im = Image.open(image_fullname)\n",
    "im.convert('RGB').save(f\"{image_name}.pdf\")\n"
   ]
  },
  {
   "cell_type": "code",
   "execution_count": 4,
   "id": "c3a885ff",
   "metadata": {},
   "outputs": [],
   "source": [
    "# Images join to 1 PDF\n",
    "\n",
    "from PIL import Image\n",
    "\n",
    "def Images_Pdf(filename, output):\n",
    "\timages = []\n",
    "\tfor file in filename:\n",
    "\t\tim = Image.open(file)\n",
    "\t\tim = im.convert('RGB')\n",
    "\t\timages.append(im)\n",
    "\t\timages[0].save(output, save_all=True, append_images=images[1:])\n",
    "\n",
    "Images_Pdf(['example_datasets/Dark_forest.jpg', 'example_datasets/Spider-Men.jpg'], 'example_datasets/joinedPDF.pdf')\n"
   ]
  },
  {
   "attachments": {},
   "cell_type": "markdown",
   "id": "43a84a05",
   "metadata": {},
   "source": [
    "## pyTelegramBotAPI\n",
    "\n",
    "An array of some interesting methods:\n",
    "```py\n",
    "# Reply to a message\n",
    "bot.send_message(message.chat.id, 'Text', reply_markup=markup)\n",
    "\n",
    "# Send a sticker from local dir\n",
    "sti = open('StickerName.webp', 'rb')\n",
    "bot.send_sticker(message.chat.id, sti)\n",
    "\n",
    "# This decorator is useful if you also want to handle edited messages, i.e. someone edited message\n",
    "# and you handle it again, but the edited version this time\n",
    "@bot.edited_message_handler(content_types=['text'])\n",
    "\n",
    "# Chat action\n",
    "bot.send_chat_action(message.chat.id, 'typing') # show the bot \"typing\" (max 5 sec)\n",
    "time.sleep(3)\n",
    "bot.send_message(cid, \".\")\n",
    "\n",
    "# Send user's profile to that user\n",
    "chat = bot.get_chat(user_id)\n",
    "bot.send_photo(chat_id, chat.photo.big_file_id)\n",
    "```"
   ]
  },
  {
   "attachments": {},
   "cell_type": "markdown",
   "id": "a5a6ae00",
   "metadata": {},
   "source": [
    "## Download video"
   ]
  },
  {
   "cell_type": "code",
   "execution_count": 3,
   "id": "2898d66f",
   "metadata": {},
   "outputs": [
    {
     "data": {
      "text/plain": [
       "'c:\\\\Users\\\\evgen\\\\Desktop\\\\Python-handbook\\\\output/its_here!.mp4'"
      ]
     },
     "execution_count": 3,
     "metadata": {},
     "output_type": "execute_result"
    }
   ],
   "source": [
    "# Download one video\n",
    "import pytube\n",
    "from pytube import YouTube\n",
    "\n",
    "yt = YouTube('https://www.youtube.com/watch?v=A7FyGeRd0m8&list=WL&index=13&t=7s')\n",
    "yt.streams.filter(progressive=True, file_extension='mp4').order_by('resolution').desc().first().download(filename='output/file.mp4')\n",
    "\n",
    "# or\n",
    "YouTube('https://www.youtube.com/watch?v=A7FyGeRd0m8&list=WL&index=13&t=7s').streams.filter(progressive=True, file_extension='mp4').order_by('resolution').desc().first().download(filename='output/its_here!.mp4')\n"
   ]
  },
  {
   "cell_type": "code",
   "execution_count": null,
   "id": "78d50347",
   "metadata": {},
   "outputs": [],
   "source": [
    "# Download many videos\n",
    "import os, sys\n",
    "import pytube; from pytube import YouTube\n",
    "\n",
    "if not os.path.exists('Data/Music'):\n",
    "\tos.mkdir('Data/Music')\n",
    "\n",
    "videos = [\n",
    "\t'https://www.youtube.com/watch?v=p8nygF9izIQ&list=PLlejMgOZTGTErjngmTW8C_w-GB2cc8LNk&index=11', \n",
    "\t'https://www.youtube.com/watch?v=_RXGktr-PkE&list=PLlejMgOZTGTErjngmTW8C_w-GB2cc8LNk&index=2', \n",
    "\t'https://www.youtube.com/watch?v=q65WxOpMKvU&list=PLlejMgOZTGTErjngmTW8C_w-GB2cc8LNk&index=3', \n",
    "\t'https://www.youtube.com/watch?v=1rFnMt6X3Nk&list=PLlejMgOZTGTErjngmTW8C_w-GB2cc8LNk&index=4', \n",
    "\t'https://www.youtube.com/watch?v=8T-U_WSop80&list=PLlejMgOZTGTErjngmTW8C_w-GB2cc8LNk&index=5'\n",
    "]\n",
    "\n",
    "for i in videos:\n",
    "\tyt = YouTube(i)\n",
    "\tyt.streams.filter(progressive=True, file_extension='mp4').order_by('resolution').desc().first().download()\n",
    "\tprint(f\"Downloaded {i}\")"
   ]
  },
  {
   "attachments": {},
   "cell_type": "markdown",
   "id": "ed1bc3a0",
   "metadata": {},
   "source": [
    "## API"
   ]
  },
  {
   "cell_type": "code",
   "execution_count": 10,
   "id": "f113c732",
   "metadata": {},
   "outputs": [
    {
     "data": {
      "image/png": "[encoded data removed]",
      "text/plain": [
       "<PIL.JpegImagePlugin.JpegImageFile image mode=RGB size=600x593>"
      ]
     },
     "execution_count": 10,
     "metadata": {},
     "output_type": "execute_result"
    }
   ],
   "source": [
    "import requests\n",
    "from PIL import Image\n",
    "from io import BytesIO\n",
    "\n",
    "r = requests.get('https://cataas.com/cat')\n",
    "img = Image.open(BytesIO(r.content))\n",
    "img"
   ]
  },
  {
   "cell_type": "code",
   "execution_count": 11,
   "id": "7e5f365e",
   "metadata": {},
   "outputs": [
    {
     "data": {
      "image/png": "[encoded data removed]",
      "text/plain": [
       "<Figure size 432x288 with 1 Axes>"
      ]
     },
     "metadata": {
      "needs_background": "light"
     },
     "output_type": "display_data"
    }
   ],
   "source": [
    "# can show image with matplotlib\n",
    "import requests\n",
    "from PIL import Image\n",
    "from io import BytesIO\n",
    "import matplotlib.pyplot as plt\n",
    "\n",
    "for i in range(2):\n",
    "\tr = requests.get('https://cataas.com/cat')\n",
    "\timg = Image.open(BytesIO(r.content))\n",
    "\tplt.imshow(img)\n"
   ]
  },
  {
   "attachments": {},
   "cell_type": "markdown",
   "id": "27888391",
   "metadata": {},
   "source": [
    "# Databases\n",
    "\n",
    "In Python, there are various libraries for working with SQL databases. These include the following:\n",
    "\n",
    "| Database | Library | Description | Advantages | Disadvantages |\n",
    "| - | - | - | - | - |\n",
    "| SQLite | `sqlite3` | SQLite databases are serverless and self-contained (read and write data to a file), meaning that you don't need to install and run a server to perform database operations. | You can create a serverless database on local machine. Lightweight library. Part of standard Python libraries - no need to install. | |\n",
    "| MySQL | No default python sql module to connect to a sql database. e.g. `mysql-connector-python` | | | Need to connect to external server. |\n",
    "| PostgreSQL | same as mysql. E.g. `psycopg2` | | | Need to connect to external server. |\n"
   ]
  },
  {
   "attachments": {},
   "cell_type": "markdown",
   "id": "14aba4dd",
   "metadata": {},
   "source": [
    "## SQLite3"
   ]
  },
  {
   "cell_type": "code",
   "execution_count": 1,
   "id": "ba01288a",
   "metadata": {},
   "outputs": [],
   "source": [
    "import sqlite3\n",
    "\n",
    "# Create connection\n",
    "connection = sqlite3.connect('output/tutorial.db')\n",
    "# Create cursor object\n",
    "cursor = connection.cursor()\n",
    "\n",
    "cursor.execute(\"\"\"CREATE TABLE gta (\n",
    "    release_year integer, \n",
    "    release_name text, \n",
    "    city text\n",
    "    )\"\"\")\n",
    "\n",
    "release_list = [\n",
    "    (1997, \"Grand Theft Auto\", \"state of New Guernsey\"),\n",
    "    (1999, \"Grand Theft Auto 2\", \"Anywhere, USA\"),\n",
    "    (2001, \"Grand Theft Auto III\", \"Liberty City\"),\n",
    "    (2002, \"Grand Theft Auto: Vice City\", \"Vice City\"),\n",
    "    (2004, \"Grand Theft Auto: San Andreas\", \"state of San Andreas\"),\n",
    "    (2008, \"Grand Theft Auto IV\", \"Liberty City\"),\n",
    "    (2013, \"Grand Theft Auto V\", \"Los Santos\")\n",
    "]\n",
    "\n",
    "# Three placeholders for the three items in tuples in the list\n",
    "# IMPORTANT: use \"?\" to avoid SQL injection attacks\n",
    "cursor.executemany(\"insert into gta values (?,?,?)\", release_list)\n",
    "\n",
    "a,b,c = 2015, \"Newest GTA\", \"Mexico\"\n",
    "cursor.execute(\"INSERT INTO gta VALUES (?,?,?)\", (a,b,c))\n",
    "\n",
    "connection.commit()\n",
    "\n",
    "# Terminate the connection\n",
    "connection.close()"
   ]
  },
  {
   "cell_type": "code",
   "execution_count": 1,
   "id": "8e728b0f",
   "metadata": {},
   "outputs": [
    {
     "name": "stdout",
     "output_type": "stream",
     "text": [
      "Connection to SQLite db successful!\n",
      "[('gta',)]\n",
      "release_year\n",
      "release_name\n",
      "city\n",
      "(1997, 'Grand Theft Auto', 'state of New Guernsey')\n",
      "(1999, 'Grand Theft Auto 2', 'Anywhere, USA')\n",
      "(2001, 'Grand Theft Auto III', 'Liberty City')\n",
      "(2002, 'Grand Theft Auto: Vice City', 'Vice City')\n",
      "(2004, 'Grand Theft Auto: San Andreas', 'state of San Andreas')\n",
      "(2008, 'Grand Theft Auto IV', 'Liberty City')\n",
      "(2013, 'Grand Theft Auto V', 'Los Santos')\n",
      "(2015, 'Newest GTA', 'Mexico')\n",
      " - (2001, 'Grand Theft Auto III', 'Liberty City')\n",
      " - (2008, 'Grand Theft Auto IV', 'Liberty City')\n",
      "[(2001, 'Grand Theft Auto III', 'Liberty City'), (2008, 'Grand Theft Auto IV', 'Liberty City')]\n",
      "[(1999, 'Grand Theft Auto 2', 'Anywhere, USA')]\n"
     ]
    }
   ],
   "source": [
    "import sqlite3\n",
    "from sqlite3 import Error\n",
    "\n",
    "def create_connection(path):\n",
    "\tconnection = None\n",
    "\ttry:\n",
    "\t\t# Create connection\n",
    "\t\tconnection = sqlite3.connect(path)\n",
    "\t\tprint('Connection to SQLite db successful!')\n",
    "\texcept Error as e:\n",
    "\t\tprint(f\"The error {e} occured!\")\n",
    "\treturn connection\n",
    "\n",
    "connection = create_connection('output/tutorial.db')\n",
    "# Create cursor object\n",
    "cursor = connection.cursor()\n",
    "\n",
    "# Print table names\n",
    "cursor.execute(\"SELECT name FROM sqlite_master WHERE type='table';\")\n",
    "print(cursor.fetchall())\n",
    "\n",
    "# Print column names\n",
    "data = cursor.execute(\"SELECT * FROM gta\")\n",
    "for i in data.description:\n",
    "\tprint(i[0])\n",
    "\n",
    "# Print database rows\n",
    "for i in cursor.execute(\"select * from gta\"):\n",
    "\tprint(i)\n",
    "\n",
    "# Print specific rows\n",
    "for i in cursor.execute(\"select * from gta where city='Liberty City'\"):\n",
    "    print(f\" - {i}\")\n",
    "\n",
    "cursor.execute(\"SELECT * FROM gta WHERE city='Liberty City'\")\n",
    "print( cursor.fetchall() )\n",
    "\n",
    "cursor.execute(\"SELECT * FROM gta WHERE release_year=?\", (1999,))\n",
    "print( cursor.fetchall() )\n",
    "\n",
    "# Terminate the connection\n",
    "connection.close()"
   ]
  },
  {
   "attachments": {},
   "cell_type": "markdown",
   "id": "7e24c927",
   "metadata": {},
   "source": [
    "# Web scraping\n",
    "\n",
    "Methods:\n",
    "- Pandas: simple method; extract tables from a website;\n",
    "- urllib: extract HTML and then parse it manually;\n",
    "- BeautifulSoup: HTML parser designed for parsing HTML pages;"
   ]
  },
  {
   "attachments": {},
   "cell_type": "markdown",
   "id": "38085faf",
   "metadata": {},
   "source": [
    "## Pandas"
   ]
  },
  {
   "cell_type": "code",
   "execution_count": 2,
   "id": "06ae3489",
   "metadata": {},
   "outputs": [
    {
     "name": "stdout",
     "output_type": "stream",
     "text": [
      "23\n"
     ]
    },
    {
     "data": {
      "text/html": [
       "<div>\n",
       "<style scoped>\n",
       "    .dataframe tbody tr th:only-of-type {\n",
       "        vertical-align: middle;\n",
       "    }\n",
       "\n",
       "    .dataframe tbody tr th {\n",
       "        vertical-align: top;\n",
       "    }\n",
       "\n",
       "    .dataframe thead th {\n",
       "        text-align: right;\n",
       "    }\n",
       "</style>\n",
       "<table border=\"1\" class=\"dataframe\">\n",
       "  <thead>\n",
       "    <tr style=\"text-align: right;\">\n",
       "      <th></th>\n",
       "      <th>No.overall</th>\n",
       "      <th>No. inseason</th>\n",
       "      <th>Title</th>\n",
       "      <th>Directed by</th>\n",
       "      <th>Written by</th>\n",
       "      <th>Original air date</th>\n",
       "      <th>Prod.code</th>\n",
       "      <th>U.S. viewers(millions)</th>\n",
       "    </tr>\n",
       "  </thead>\n",
       "  <tbody>\n",
       "    <tr>\n",
       "      <th>0</th>\n",
       "      <td>1</td>\n",
       "      <td>1</td>\n",
       "      <td>\"Simpsons Roasting on an Open Fire\"</td>\n",
       "      <td>David Silverman</td>\n",
       "      <td>Mimi Pond</td>\n",
       "      <td>December 17, 1989</td>\n",
       "      <td>7G08</td>\n",
       "      <td>26.7[46]</td>\n",
       "    </tr>\n",
       "    <tr>\n",
       "      <th>1</th>\n",
       "      <td>2</td>\n",
       "      <td>2</td>\n",
       "      <td>\"Bart the Genius\"</td>\n",
       "      <td>David Silverman</td>\n",
       "      <td>Jon Vitti</td>\n",
       "      <td>January 14, 1990</td>\n",
       "      <td>7G02</td>\n",
       "      <td>24.5[46]</td>\n",
       "    </tr>\n",
       "    <tr>\n",
       "      <th>2</th>\n",
       "      <td>3</td>\n",
       "      <td>3</td>\n",
       "      <td>\"Homer's Odyssey\"</td>\n",
       "      <td>Wes Archer</td>\n",
       "      <td>Jay Kogen &amp; Wallace Wolodarsky</td>\n",
       "      <td>January 21, 1990</td>\n",
       "      <td>7G03</td>\n",
       "      <td>27.5[47]</td>\n",
       "    </tr>\n",
       "    <tr>\n",
       "      <th>3</th>\n",
       "      <td>4</td>\n",
       "      <td>4</td>\n",
       "      <td>\"There's No Disgrace Like Home\"</td>\n",
       "      <td>Gregg Vanzo &amp; Kent Butterworth</td>\n",
       "      <td>Al Jean &amp; Mike Reiss</td>\n",
       "      <td>January 28, 1990</td>\n",
       "      <td>7G04</td>\n",
       "      <td>20.2[48]</td>\n",
       "    </tr>\n",
       "    <tr>\n",
       "      <th>4</th>\n",
       "      <td>5</td>\n",
       "      <td>5</td>\n",
       "      <td>\"Bart the General\"</td>\n",
       "      <td>David Silverman</td>\n",
       "      <td>John Swartzwelder</td>\n",
       "      <td>February 4, 1990</td>\n",
       "      <td>7G05</td>\n",
       "      <td>27.1[49]</td>\n",
       "    </tr>\n",
       "    <tr>\n",
       "      <th>5</th>\n",
       "      <td>6</td>\n",
       "      <td>6</td>\n",
       "      <td>\"Moaning Lisa\"</td>\n",
       "      <td>Wes Archer</td>\n",
       "      <td>Al Jean &amp; Mike Reiss</td>\n",
       "      <td>February 11, 1990</td>\n",
       "      <td>7G06</td>\n",
       "      <td>27.4[50]</td>\n",
       "    </tr>\n",
       "    <tr>\n",
       "      <th>6</th>\n",
       "      <td>7</td>\n",
       "      <td>7</td>\n",
       "      <td>\"The Call of the Simpsons\"</td>\n",
       "      <td>Wes Archer</td>\n",
       "      <td>John Swartzwelder</td>\n",
       "      <td>February 18, 1990</td>\n",
       "      <td>7G09</td>\n",
       "      <td>27.6[51]</td>\n",
       "    </tr>\n",
       "    <tr>\n",
       "      <th>7</th>\n",
       "      <td>8</td>\n",
       "      <td>8</td>\n",
       "      <td>\"The Telltale Head\"</td>\n",
       "      <td>Rich Moore</td>\n",
       "      <td>Al Jean, Mike Reiss, Sam Simon &amp; Matt Groening</td>\n",
       "      <td>February 25, 1990</td>\n",
       "      <td>7G07</td>\n",
       "      <td>28[52]</td>\n",
       "    </tr>\n",
       "    <tr>\n",
       "      <th>8</th>\n",
       "      <td>9</td>\n",
       "      <td>9</td>\n",
       "      <td>\"Life on the Fast Lane\"</td>\n",
       "      <td>David Silverman</td>\n",
       "      <td>John Swartzwelder</td>\n",
       "      <td>March 18, 1990</td>\n",
       "      <td>7G11</td>\n",
       "      <td>33.5[53]</td>\n",
       "    </tr>\n",
       "    <tr>\n",
       "      <th>9</th>\n",
       "      <td>10</td>\n",
       "      <td>10</td>\n",
       "      <td>\"Homer's Night Out\"</td>\n",
       "      <td>Rich Moore</td>\n",
       "      <td>Jon Vitti</td>\n",
       "      <td>March 25, 1990</td>\n",
       "      <td>7G10</td>\n",
       "      <td>30.3[54]</td>\n",
       "    </tr>\n",
       "    <tr>\n",
       "      <th>10</th>\n",
       "      <td>11</td>\n",
       "      <td>11</td>\n",
       "      <td>\"The Crepes of Wrath\"</td>\n",
       "      <td>Wes Archer &amp; Milton Gray</td>\n",
       "      <td>George Meyer, Sam Simon, John Swartzwelder &amp; J...</td>\n",
       "      <td>April 15, 1990</td>\n",
       "      <td>7G13</td>\n",
       "      <td>31.2[55]</td>\n",
       "    </tr>\n",
       "    <tr>\n",
       "      <th>11</th>\n",
       "      <td>12</td>\n",
       "      <td>12</td>\n",
       "      <td>\"Krusty Gets Busted\"</td>\n",
       "      <td>Brad Bird</td>\n",
       "      <td>Jay Kogen &amp; Wallace Wolodarsky</td>\n",
       "      <td>April 29, 1990</td>\n",
       "      <td>7G12</td>\n",
       "      <td>30.4[56]</td>\n",
       "    </tr>\n",
       "    <tr>\n",
       "      <th>12</th>\n",
       "      <td>13</td>\n",
       "      <td>13</td>\n",
       "      <td>\"Some Enchanted Evening\"</td>\n",
       "      <td>David Silverman &amp; Kent Butterworth</td>\n",
       "      <td>Matt Groening &amp; Sam Simon</td>\n",
       "      <td>May 13, 1990</td>\n",
       "      <td>7G01</td>\n",
       "      <td>27.1[57]</td>\n",
       "    </tr>\n",
       "  </tbody>\n",
       "</table>\n",
       "</div>"
      ],
      "text/plain": [
       "    No.overall  No. inseason                                Title  \\\n",
       "0            1             1  \"Simpsons Roasting on an Open Fire\"   \n",
       "1            2             2                    \"Bart the Genius\"   \n",
       "2            3             3                    \"Homer's Odyssey\"   \n",
       "3            4             4      \"There's No Disgrace Like Home\"   \n",
       "4            5             5                   \"Bart the General\"   \n",
       "5            6             6                       \"Moaning Lisa\"   \n",
       "6            7             7           \"The Call of the Simpsons\"   \n",
       "7            8             8                  \"The Telltale Head\"   \n",
       "8            9             9              \"Life on the Fast Lane\"   \n",
       "9           10            10                  \"Homer's Night Out\"   \n",
       "10          11            11                \"The Crepes of Wrath\"   \n",
       "11          12            12                 \"Krusty Gets Busted\"   \n",
       "12          13            13             \"Some Enchanted Evening\"   \n",
       "\n",
       "                           Directed by  \\\n",
       "0                      David Silverman   \n",
       "1                      David Silverman   \n",
       "2                           Wes Archer   \n",
       "3       Gregg Vanzo & Kent Butterworth   \n",
       "4                      David Silverman   \n",
       "5                           Wes Archer   \n",
       "6                           Wes Archer   \n",
       "7                           Rich Moore   \n",
       "8                      David Silverman   \n",
       "9                           Rich Moore   \n",
       "10            Wes Archer & Milton Gray   \n",
       "11                           Brad Bird   \n",
       "12  David Silverman & Kent Butterworth   \n",
       "\n",
       "                                           Written by  Original air date  \\\n",
       "0                                           Mimi Pond  December 17, 1989   \n",
       "1                                           Jon Vitti   January 14, 1990   \n",
       "2                      Jay Kogen & Wallace Wolodarsky   January 21, 1990   \n",
       "3                                Al Jean & Mike Reiss   January 28, 1990   \n",
       "4                                   John Swartzwelder   February 4, 1990   \n",
       "5                                Al Jean & Mike Reiss  February 11, 1990   \n",
       "6                                   John Swartzwelder  February 18, 1990   \n",
       "7      Al Jean, Mike Reiss, Sam Simon & Matt Groening  February 25, 1990   \n",
       "8                                   John Swartzwelder     March 18, 1990   \n",
       "9                                           Jon Vitti     March 25, 1990   \n",
       "10  George Meyer, Sam Simon, John Swartzwelder & J...     April 15, 1990   \n",
       "11                     Jay Kogen & Wallace Wolodarsky     April 29, 1990   \n",
       "12                          Matt Groening & Sam Simon       May 13, 1990   \n",
       "\n",
       "   Prod.code U.S. viewers(millions)  \n",
       "0       7G08               26.7[46]  \n",
       "1       7G02               24.5[46]  \n",
       "2       7G03               27.5[47]  \n",
       "3       7G04               20.2[48]  \n",
       "4       7G05               27.1[49]  \n",
       "5       7G06               27.4[50]  \n",
       "6       7G09               27.6[51]  \n",
       "7       7G07                 28[52]  \n",
       "8       7G11               33.5[53]  \n",
       "9       7G10               30.3[54]  \n",
       "10      7G13               31.2[55]  \n",
       "11      7G12               30.4[56]  \n",
       "12      7G01               27.1[57]  "
      ]
     },
     "execution_count": 2,
     "metadata": {},
     "output_type": "execute_result"
    }
   ],
   "source": [
    "import pandas as pd\n",
    "\n",
    "df = pd.read_html('https://en.wikipedia.org/wiki/List_of_The_Simpsons_episodes_(seasons_1%E2%80%9320)')\n",
    "\n",
    "# Show how many tables were extracted\n",
    "print(len(df))\n",
    "\n",
    "# Season 1\n",
    "df[1]"
   ]
  },
  {
   "attachments": {},
   "cell_type": "markdown",
   "id": "63f02e94",
   "metadata": {},
   "source": [
    "## urllib"
   ]
  },
  {
   "cell_type": "code",
   "execution_count": 12,
   "id": "48c6cd56",
   "metadata": {},
   "outputs": [
    {
     "name": "stdout",
     "output_type": "stream",
     "text": [
      "<html>\n",
      "<head>\n",
      "<title>Profile: Aphrodite</title>\n",
      "</head>\n",
      "<body bgcolor=\"yellow\">\n",
      "<center>\n",
      "<br><br>\n",
      "<img src=\"/static/aphrodite.gif\" />\n",
      "<h2>Name: Aphrodite</h2>\n",
      "<br><br>\n",
      "Favorite animal: Dove\n",
      "<br><br>\n",
      "Favorite color: Red\n",
      "<br><br>\n",
      "Hometown: Mount Olympus\n",
      "</center>\n",
      "</body>\n",
      "</html>\n",
      "\n",
      "Title: Profile: Aphrodite\n"
     ]
    }
   ],
   "source": [
    "from urllib.request import urlopen\n",
    "\n",
    "url = \"http://olympus.realpython.org/profiles/aphrodite\"\n",
    "# Open webpage\n",
    "page = urlopen(url)\n",
    "# Extract HTMl from the webpage\n",
    "html_bytes = page.read()\n",
    "html = html_bytes.decode(\"utf-8\")\n",
    "print(html)\n",
    "\n",
    "# Extract webpage title\n",
    "title_index = html.find(\"<title>\")\n",
    "start_index = title_index + len(\"<title>\")\n",
    "end_index = html.find(\"</title>\")\n",
    "title = html[start_index:end_index]\n",
    "print(f\"Title: {title}\")\n",
    "\n"
   ]
  },
  {
   "cell_type": "code",
   "execution_count": 52,
   "id": "75d4df82",
   "metadata": {},
   "outputs": [
    {
     "name": "stdout",
     "output_type": "stream",
     "text": [
      "<html>\n",
      "<head>\n",
      "<TITLE >Profile: Dionysus</title  / >\n",
      "</head>\n",
      "<body bgcolor=\"yellow\">\n",
      "<center>\n",
      "<br><br>\n",
      "<img src=\"/static/dionysus.jpg\" />\n",
      "<h2>Name: Dionysus</h2>\n",
      "<img src=\"/static/grapes.png\"><br><br>\n",
      "Hometown: Mount Olympus\n",
      "<br><br>\n",
      "Favorite animal: Leopard <br>\n",
      "<br>\n",
      "Favorite Color: Wine\n",
      "</center>\n",
      "</body>\n",
      "</html>\n",
      "\n",
      "['Profile: Dionysus']\n",
      "['Profile: Dionysus', 'Name: Dionysus', 'Hometown: Mount Olympus', 'Favorite animal: Leopard ', 'Favorite Color: Wine']\n"
     ]
    }
   ],
   "source": [
    "from urllib.request import urlopen\n",
    "import re\n",
    "\n",
    "url = \"http://olympus.realpython.org/profiles/dionysus\"\n",
    "page = urlopen(url)\n",
    "html = page.read().decode(\"utf-8\")\n",
    "print(html)\n",
    "# Find title\n",
    "title = re.findall('< *title *>(.*?)< */title[ /]*>', html, re.IGNORECASE)\n",
    "print(title)\n",
    "# Entries \n",
    "entries = re.findall('[a-zA-Z0-9 ]*:[a-zA-Z0-9 ]*', html)\n",
    "print(entries)\n"
   ]
  },
  {
   "cell_type": "code",
   "execution_count": 4,
   "id": "fea47a20",
   "metadata": {},
   "outputs": [],
   "source": [
    "from urllib import request\n",
    "\n",
    "# download a file\n",
    "URL = 'https://files.rcsb.org/view/3L56.pdb'\n",
    "response = request.urlretrieve(URL, 'example_datasets/3L56.pdb')\n"
   ]
  },
  {
   "attachments": {},
   "cell_type": "markdown",
   "id": "47c8d0e9",
   "metadata": {},
   "source": [
    "## requests"
   ]
  },
  {
   "cell_type": "code",
   "execution_count": 8,
   "id": "cdfe8311",
   "metadata": {},
   "outputs": [
    {
     "name": "stdout",
     "output_type": "stream",
     "text": [
      "<html>\n",
      "<head>\n",
      "<title>Profile: Aphrodite</title>\n",
      "</head>\n",
      "<body bgcolor=\"yellow\">\n",
      "<center>\n",
      "<br><br>\n",
      "<img src=\"/static/aphrodite.gif\" />\n",
      "<h2>Name: Aphrodite</h2>\n",
      "<br><br>\n",
      "Favorite animal: Dove\n",
      "<br><br>\n",
      "Favorite color: Red\n",
      "<br><br>\n",
      "Hometown: Mount Olympus\n",
      "</center>\n",
      "</body>\n",
      "</html>\n",
      "\n"
     ]
    }
   ],
   "source": [
    "import requests\n",
    "\n",
    "url = \"http://olympus.realpython.org/profiles/aphrodite\"\n",
    "\n",
    "page = requests.get(url)\n",
    "print( page.text )\n"
   ]
  },
  {
   "cell_type": "code",
   "execution_count": 11,
   "id": "ec8fb9a9",
   "metadata": {},
   "outputs": [
    {
     "data": {
      "text/plain": [
       "[<Response [200]>, <Response [200]>]"
      ]
     },
     "execution_count": 11,
     "metadata": {},
     "output_type": "execute_result"
    }
   ],
   "source": [
    "import requests\n",
    "\n",
    "urls = [\"http://olympus.realpython.org/profiles/aphrodite\", \"http://olympus.realpython.org/profiles/dionysus\"]\n",
    "\n",
    "results = [requests.get(url) for url in urls]\n",
    "results\n"
   ]
  },
  {
   "attachments": {},
   "cell_type": "markdown",
   "id": "06fc39bb",
   "metadata": {},
   "source": [
    "## BeautifulSoup"
   ]
  },
  {
   "cell_type": "code",
   "execution_count": 8,
   "id": "188e1f1c",
   "metadata": {},
   "outputs": [
    {
     "name": "stdout",
     "output_type": "stream",
     "text": [
      "<html>\n",
      "<head>\n",
      "<title>All Profiles</title>\n",
      "</head>\n",
      "<body bgcolor=\"yellow\">\n",
      "<center>\n",
      "<br/><br/>\n",
      "<h1>All Profiles:</h1>\n",
      "<br/><br/>\n",
      "<h2>\n",
      "<a href=\"/profiles/aphrodite\">Aphrodite</a>\n",
      "<br/><br/>\n",
      "<a href=\"/profiles/poseidon\">Poseidon</a>\n",
      "<br/><br/>\n",
      "<a href=\"/profiles/dionysus\">Dionysus</a>\n",
      "</h2>\n",
      "</center>\n",
      "</body>\n",
      "</html>\n",
      "\n",
      "<title>All Profiles</title>\n",
      "All Profiles\n",
      "\n",
      "All Profiles\n",
      "All Profiles:\n",
      "Aphrodite\n",
      "Poseidon\n",
      "Dionysus\n",
      "\n",
      "[]\n",
      "[<a href=\"/profiles/aphrodite\">Aphrodite</a>, <a href=\"/profiles/poseidon\">Poseidon</a>, <a href=\"/profiles/dionysus\">Dionysus</a>]\n",
      "['/profiles/aphrodite', '/profiles/poseidon', '/profiles/dionysus']\n"
     ]
    }
   ],
   "source": [
    "from urllib.request import urlopen\n",
    "from bs4 import BeautifulSoup\n",
    "import re\n",
    "\n",
    "url = \"http://olympus.realpython.org/profiles\"\n",
    "# Open URL\n",
    "page = urlopen(url)\n",
    "# read HTML from the page\n",
    "html = page.read().decode(\"utf-8\")\n",
    "# Create BeautifulSoup object\n",
    "soup = BeautifulSoup(html, \"html.parser\")\n",
    "print(soup)\n",
    "\n",
    "# Get title\n",
    "print(soup.title)\n",
    "print(soup.title.string)\n",
    "# Get main text\n",
    "text = soup.get_text()\n",
    "text = re.sub('\\n+', '\\n', text)\n",
    "print(text)\n",
    "# Find all images\n",
    "print(soup.find_all('img'))\n",
    "# Get links\n",
    "paths = soup.find_all('a')\n",
    "print(paths)\n",
    "paths2 = [ i[\"href\"] for i in paths ]\n",
    "print(paths2)\n"
   ]
  },
  {
   "cell_type": "code",
   "execution_count": 5,
   "id": "c570bb67",
   "metadata": {},
   "outputs": [
    {
     "data": {
      "text/html": [
       "<div>\n",
       "<style scoped>\n",
       "    .dataframe tbody tr th:only-of-type {\n",
       "        vertical-align: middle;\n",
       "    }\n",
       "\n",
       "    .dataframe tbody tr th {\n",
       "        vertical-align: top;\n",
       "    }\n",
       "\n",
       "    .dataframe thead th {\n",
       "        text-align: right;\n",
       "    }\n",
       "</style>\n",
       "<table border=\"1\" class=\"dataframe\">\n",
       "  <thead>\n",
       "    <tr style=\"text-align: right;\">\n",
       "      <th></th>\n",
       "      <th>Headline</th>\n",
       "      <th>Text</th>\n",
       "      <th>Link</th>\n",
       "    </tr>\n",
       "  </thead>\n",
       "  <tbody>\n",
       "    <tr>\n",
       "      <th>0</th>\n",
       "      <td>Six journalists arrested over footage of South...</td>\n",
       "      <td>State broadcaster’s staff held on suspicion of...</td>\n",
       "      <td>https://www.theguardian.com/world/2023/jan/06/...</td>\n",
       "    </tr>\n",
       "    <tr>\n",
       "      <th>1</th>\n",
       "      <td>Killing of LGBTQ+ activist prompts outcry over...</td>\n",
       "      <td>Body of fashion designer and model Edwin Chilo...</td>\n",
       "      <td>https://www.theguardian.com/world/2023/jan/06/...</td>\n",
       "    </tr>\n",
       "    <tr>\n",
       "      <th>2</th>\n",
       "      <td>UN envoy calls for release of jailed journalis...</td>\n",
       "      <td>Concerns raised over health of Pape Alé Niang,...</td>\n",
       "      <td>https://www.theguardian.com/global-development...</td>\n",
       "    </tr>\n",
       "    <tr>\n",
       "      <th>3</th>\n",
       "      <td>Zimbabwe court denies opposition MP pre-trial ...</td>\n",
       "      <td>In an election year, critics of the ruling Zan...</td>\n",
       "      <td>https://www.theguardian.com/global-development...</td>\n",
       "    </tr>\n",
       "    <tr>\n",
       "      <th>4</th>\n",
       "      <td>Nine killed in New Year’s Eve crush in Ugandan...</td>\n",
       "      <td>Survivor says pushing began after fireworks ou...</td>\n",
       "      <td>https://www.theguardian.com/world/2023/jan/01/...</td>\n",
       "    </tr>\n",
       "    <tr>\n",
       "      <th>5</th>\n",
       "      <td>Blair government had misgivings about Mandela ...</td>\n",
       "      <td>Files show Downing Street felt former South Af...</td>\n",
       "      <td>https://www.theguardian.com/uk-news/2022/dec/3...</td>\n",
       "    </tr>\n",
       "    <tr>\n",
       "      <th>6</th>\n",
       "      <td>Jair Bolsonaro wrecked Brazil’s presidential p...</td>\n",
       "      <td>Journalist touring residence with new first la...</td>\n",
       "      <td>https://www.theguardian.com/world/2023/jan/06/...</td>\n",
       "    </tr>\n",
       "    <tr>\n",
       "      <th>7</th>\n",
       "      <td>Sinaloa cartel launches violent response as Me...</td>\n",
       "      <td>Ovidio Guzmán’s arrest on Thursday prompted he...</td>\n",
       "      <td>https://www.theguardian.com/world/2023/jan/05/...</td>\n",
       "    </tr>\n",
       "    <tr>\n",
       "      <th>8</th>\n",
       "      <td>Briton shot dead in Jamaica was victim of cont...</td>\n",
       "      <td>Jamaican police say fatal shooting of Sean Pat...</td>\n",
       "      <td>https://www.theguardian.com/world/2023/jan/05/...</td>\n",
       "    </tr>\n",
       "    <tr>\n",
       "      <th>9</th>\n",
       "      <td>Number of populist world leaders at 20-year low</td>\n",
       "      <td>After Bolsonaro’s defeat and Duterte’s departu...</td>\n",
       "      <td>https://www.theguardian.com/world/2023/jan/05/...</td>\n",
       "    </tr>\n",
       "    <tr>\n",
       "      <th>10</th>\n",
       "      <td>British man shot dead at villa in Jamaica</td>\n",
       "      <td>Sean Patterson, 33, reportedly killed by gunma...</td>\n",
       "      <td>https://www.theguardian.com/world/2023/jan/04/...</td>\n",
       "    </tr>\n",
       "    <tr>\n",
       "      <th>11</th>\n",
       "      <td>‘A lack of respect’: Brazil footballers fail t...</td>\n",
       "      <td>Few of the country’s previous World Cup winner...</td>\n",
       "      <td>https://www.theguardian.com/football/2023/jan/...</td>\n",
       "    </tr>\n",
       "    <tr>\n",
       "      <th>12</th>\n",
       "      <td>China Covid: wave of celebrity deaths sparks d...</td>\n",
       "      <td>Users of Chinese social media have questioned ...</td>\n",
       "      <td>https://www.theguardian.com/world/2023/jan/06/...</td>\n",
       "    </tr>\n",
       "    <tr>\n",
       "      <th>13</th>\n",
       "      <td>Legacy of Japan’s Nakagin Capsule Tower lives ...</td>\n",
       "      <td>One of Tokyo’s most famous buildings was disma...</td>\n",
       "      <td>https://www.theguardian.com/world/2023/jan/06/...</td>\n",
       "    </tr>\n",
       "    <tr>\n",
       "      <th>14</th>\n",
       "      <td>Thai police accused of ‘sham’ forced labour in...</td>\n",
       "      <td></td>\n",
       "      <td>https://www.theguardian.com/world/2023/jan/05/...</td>\n",
       "    </tr>\n",
       "    <tr>\n",
       "      <th>15</th>\n",
       "      <td>Return to China will require a resolution of P...</td>\n",
       "      <td>Governing body of women’s tennis says it wants...</td>\n",
       "      <td>https://www.theguardian.com/sport/2023/jan/05/...</td>\n",
       "    </tr>\n",
       "    <tr>\n",
       "      <th>16</th>\n",
       "      <td>‘To gain respect, you need success’: the trans...</td>\n",
       "      <td>Anne Jakrajutatip, boss of JKN Global, recentl...</td>\n",
       "      <td>https://www.theguardian.com/world/2023/jan/05/...</td>\n",
       "    </tr>\n",
       "    <tr>\n",
       "      <th>17</th>\n",
       "      <td>China data ‘under-represents’ true impact of C...</td>\n",
       "      <td>Analysis of Chinese data finds no new variants...</td>\n",
       "      <td>https://www.theguardian.com/world/2023/jan/05/...</td>\n",
       "    </tr>\n",
       "    <tr>\n",
       "      <th>18</th>\n",
       "      <td>Australia news live updates: Western Australia...</td>\n",
       "      <td>Follow live</td>\n",
       "      <td>https://www.theguardian.com/australia-news/liv...</td>\n",
       "    </tr>\n",
       "    <tr>\n",
       "      <th>19</th>\n",
       "      <td>Pro-Putin YouTuber ‘Aussie Cossack’ defends ‘p...</td>\n",
       "      <td>Ukrainian ambassador to Australia Vasyl Myrosh...</td>\n",
       "      <td>https://www.theguardian.com/australia-news/202...</td>\n",
       "    </tr>\n",
       "    <tr>\n",
       "      <th>20</th>\n",
       "      <td>‘People have lost everything’: flooded houses ...</td>\n",
       "      <td>Receding flood waters have revealed homes cake...</td>\n",
       "      <td>https://www.theguardian.com/australia-news/202...</td>\n",
       "    </tr>\n",
       "    <tr>\n",
       "      <th>21</th>\n",
       "      <td>Younger girls increasingly presenting to Austr...</td>\n",
       "      <td>Studies find rising emergency presentations fo...</td>\n",
       "      <td>https://www.theguardian.com/society/2023/jan/0...</td>\n",
       "    </tr>\n",
       "    <tr>\n",
       "      <th>22</th>\n",
       "      <td>Ash Barty announces on Instagram she is pregnant</td>\n",
       "      <td>Former world No 1 says ‘2023 set to be the bes...</td>\n",
       "      <td>https://www.theguardian.com/sport/2023/jan/06/...</td>\n",
       "    </tr>\n",
       "    <tr>\n",
       "      <th>23</th>\n",
       "      <td>Covid deaths in Australian aged care surpass 1...</td>\n",
       "      <td>Health department data shows deaths have progr...</td>\n",
       "      <td>https://www.theguardian.com/australia-news/202...</td>\n",
       "    </tr>\n",
       "    <tr>\n",
       "      <th>24</th>\n",
       "      <td>Andrew Tate arrest: Romanian authorities seize...</td>\n",
       "      <td>Fresh haul follows 11 cars already taken in in...</td>\n",
       "      <td>https://www.theguardian.com/world/2023/jan/06/...</td>\n",
       "    </tr>\n",
       "    <tr>\n",
       "      <th>25</th>\n",
       "      <td>US announces new $3.75bn aid package for Ukrai...</td>\n",
       "      <td>Latest tranche of assistance will include for ...</td>\n",
       "      <td>https://www.theguardian.com/world/2023/jan/06/...</td>\n",
       "    </tr>\n",
       "    <tr>\n",
       "      <th>26</th>\n",
       "      <td>US $3bn aid package to Ukraine to include doze...</td>\n",
       "      <td>Largest assistance package Washington has prov...</td>\n",
       "      <td>https://www.theguardian.com/world/live/2023/ja...</td>\n",
       "    </tr>\n",
       "    <tr>\n",
       "      <th>27</th>\n",
       "      <td>What happened in the Russia-Ukraine war this w...</td>\n",
       "      <td>Ukraine missile strike on Russian-held city ki...</td>\n",
       "      <td>https://www.theguardian.com/world/2023/jan/07/...</td>\n",
       "    </tr>\n",
       "    <tr>\n",
       "      <th>28</th>\n",
       "      <td>‘Self-healing’ Roman concrete could aid modern...</td>\n",
       "      <td>Research finds secret of durability of buildin...</td>\n",
       "      <td>https://www.theguardian.com/science/2023/jan/0...</td>\n",
       "    </tr>\n",
       "    <tr>\n",
       "      <th>29</th>\n",
       "      <td>International nuclear fusion project may be de...</td>\n",
       "      <td>Facility still far from being able to show fea...</td>\n",
       "      <td>https://www.theguardian.com/science/2023/jan/0...</td>\n",
       "    </tr>\n",
       "    <tr>\n",
       "      <th>30</th>\n",
       "      <td>NSW woman Mariam Raad granted bail after being...</td>\n",
       "      <td>Raad, who was repatriated from Syria to Austra...</td>\n",
       "      <td>https://www.theguardian.com/australia-news/202...</td>\n",
       "    </tr>\n",
       "    <tr>\n",
       "      <th>31</th>\n",
       "      <td>Saudi Arabia jails two Wikipedia staff in ‘bid...</td>\n",
       "      <td>Administrators jailed for 32 years, and eight ...</td>\n",
       "      <td>https://www.theguardian.com/technology/2023/ja...</td>\n",
       "    </tr>\n",
       "    <tr>\n",
       "      <th>32</th>\n",
       "      <td>Iran arrests celebrity chef in crackdown on pr...</td>\n",
       "      <td>Detainment of Navab Ebrahimi is speculated to ...</td>\n",
       "      <td>https://www.theguardian.com/world/2023/jan/05/...</td>\n",
       "    </tr>\n",
       "    <tr>\n",
       "      <th>33</th>\n",
       "      <td>Israeli government plan to limit judicial powe...</td>\n",
       "      <td>Grave concerns over Netanyahu coalition’s plan...</td>\n",
       "      <td>https://www.theguardian.com/world/2023/jan/05/...</td>\n",
       "    </tr>\n",
       "    <tr>\n",
       "      <th>34</th>\n",
       "      <td>Outcry over footage of men smashing cross at J...</td>\n",
       "      <td>Vandals’ clothing leads to claims they are Jew...</td>\n",
       "      <td>https://www.theguardian.com/world/2023/jan/05/...</td>\n",
       "    </tr>\n",
       "    <tr>\n",
       "      <th>35</th>\n",
       "      <td>Iran warns France over ‘insulting’ cartoons de...</td>\n",
       "      <td>Publication by French satirical magazine Charl...</td>\n",
       "      <td>https://www.theguardian.com/world/2023/jan/04/...</td>\n",
       "    </tr>\n",
       "    <tr>\n",
       "      <th>36</th>\n",
       "      <td>Army veterans criticise Prince Harry’s claim h...</td>\n",
       "      <td>Col Tim Collins says ‘we don’t do notches on r...</td>\n",
       "      <td>https://www.theguardian.com/uk-news/2023/jan/0...</td>\n",
       "    </tr>\n",
       "    <tr>\n",
       "      <th>37</th>\n",
       "      <td>Afghan aid at risk from Taliban ban on women, ...</td>\n",
       "      <td>Standoff between UN and Taliban may lead loss ...</td>\n",
       "      <td>https://www.theguardian.com/world/2023/jan/06/...</td>\n",
       "    </tr>\n",
       "    <tr>\n",
       "      <th>38</th>\n",
       "      <td>Anger as Pakistan court frees rapist after he ...</td>\n",
       "      <td>Dawlat Khan had received a life sentence for t...</td>\n",
       "      <td>https://www.theguardian.com/global-development...</td>\n",
       "    </tr>\n",
       "    <tr>\n",
       "      <th>39</th>\n",
       "      <td>Indian leather companies accused of enabling R...</td>\n",
       "      <td>Soldiers’ boots are made from imported Indian ...</td>\n",
       "      <td>https://www.theguardian.com/world/2022/dec/30/...</td>\n",
       "    </tr>\n",
       "    <tr>\n",
       "      <th>40</th>\n",
       "      <td>UN suspends some Afghanistan programs after ba...</td>\n",
       "      <td>Many humanitarian activities have to be ‘pause...</td>\n",
       "      <td>https://www.theguardian.com/world/2022/dec/29/...</td>\n",
       "    </tr>\n",
       "    <tr>\n",
       "      <th>41</th>\n",
       "      <td>Myanmar’s junta blamed for deaths of more than...</td>\n",
       "      <td>Exiled National Unity Government says figure i...</td>\n",
       "      <td>https://www.theguardian.com/world/2022/dec/29/...</td>\n",
       "    </tr>\n",
       "    <tr>\n",
       "      <th>42</th>\n",
       "      <td>Morrissey says Miley Cyrus album exit was noth...</td>\n",
       "      <td>American withdrew after recording guest vocals...</td>\n",
       "      <td>https://www.theguardian.com/music/2023/jan/07/...</td>\n",
       "    </tr>\n",
       "    <tr>\n",
       "      <th>43</th>\n",
       "      <td>Quarter of ambulance patients in England wait ...</td>\n",
       "      <td>Waiting times for admission to A&amp;E in last wee...</td>\n",
       "      <td>https://www.theguardian.com/society/2023/jan/0...</td>\n",
       "    </tr>\n",
       "    <tr>\n",
       "      <th>44</th>\n",
       "      <td>More than 2,600 ambulance workers from Unite t...</td>\n",
       "      <td>Industrial action on 23 January in England and...</td>\n",
       "      <td>https://www.theguardian.com/society/2023/jan/0...</td>\n",
       "    </tr>\n",
       "    <tr>\n",
       "      <th>45</th>\n",
       "      <td>PPE Medpro: Michelle Mone-linked firm referred...</td>\n",
       "      <td>DHSC accused PPE Medpro of presenting false do...</td>\n",
       "      <td>https://www.theguardian.com/uk-news/2023/jan/0...</td>\n",
       "    </tr>\n",
       "    <tr>\n",
       "      <th>46</th>\n",
       "      <td>Prince Harry book leaks let papers have their ...</td>\n",
       "      <td>Spanish bookshops and leak to the Guardian und...</td>\n",
       "      <td>https://www.theguardian.com/uk-news/2023/jan/0...</td>\n",
       "    </tr>\n",
       "    <tr>\n",
       "      <th>47</th>\n",
       "      <td>Hanif Kureishi says he may never be able to wa...</td>\n",
       "      <td>Novelist and screenwriter says he is unable to...</td>\n",
       "      <td>https://www.theguardian.com/books/2023/jan/06/...</td>\n",
       "    </tr>\n",
       "    <tr>\n",
       "      <th>48</th>\n",
       "      <td>‘We’ll have the votes’: McCarthy appears upbea...</td>\n",
       "      <td>Republican is hopeful that deal with far-right...</td>\n",
       "      <td>https://www.theguardian.com/us-news/2023/jan/0...</td>\n",
       "    </tr>\n",
       "    <tr>\n",
       "      <th>49</th>\n",
       "      <td>Six-year-old intentionally shot teacher in Vir...</td>\n",
       "      <td>Authorities said they had arrested the boy for...</td>\n",
       "      <td>https://www.theguardian.com/us-news/2023/jan/0...</td>\n",
       "    </tr>\n",
       "    <tr>\n",
       "      <th>50</th>\n",
       "      <td>Republican McCarthy says he finally has enough...</td>\n",
       "      <td>House party leader says he’s confident he has ...</td>\n",
       "      <td>https://www.theguardian.com/us-news/live/2023/...</td>\n",
       "    </tr>\n",
       "    <tr>\n",
       "      <th>51</th>\n",
       "      <td>Biden salutes January 6 heroes ‘who did not fl...</td>\n",
       "      <td>The president spoke with passion about police ...</td>\n",
       "      <td>https://www.theguardian.com/us-news/2023/jan/0...</td>\n",
       "    </tr>\n",
       "    <tr>\n",
       "      <th>52</th>\n",
       "      <td>Fears over lax security in Republican-controll...</td>\n",
       "      <td>Fresh concerns raised over stripping away of m...</td>\n",
       "      <td>https://www.theguardian.com/us-news/2023/jan/0...</td>\n",
       "    </tr>\n",
       "    <tr>\n",
       "      <th>53</th>\n",
       "      <td>Democrats commemorate January 6 attack with te...</td>\n",
       "      <td>Hundreds of members of Congress gathered to pa...</td>\n",
       "      <td>https://www.theguardian.com/us-news/2023/jan/0...</td>\n",
       "    </tr>\n",
       "  </tbody>\n",
       "</table>\n",
       "</div>"
      ],
      "text/plain": [
       "                                             Headline  \\\n",
       "0   Six journalists arrested over footage of South...   \n",
       "1   Killing of LGBTQ+ activist prompts outcry over...   \n",
       "2   UN envoy calls for release of jailed journalis...   \n",
       "3   Zimbabwe court denies opposition MP pre-trial ...   \n",
       "4   Nine killed in New Year’s Eve crush in Ugandan...   \n",
       "5   Blair government had misgivings about Mandela ...   \n",
       "6   Jair Bolsonaro wrecked Brazil’s presidential p...   \n",
       "7   Sinaloa cartel launches violent response as Me...   \n",
       "8   Briton shot dead in Jamaica was victim of cont...   \n",
       "9     Number of populist world leaders at 20-year low   \n",
       "10          British man shot dead at villa in Jamaica   \n",
       "11  ‘A lack of respect’: Brazil footballers fail t...   \n",
       "12  China Covid: wave of celebrity deaths sparks d...   \n",
       "13  Legacy of Japan’s Nakagin Capsule Tower lives ...   \n",
       "14  Thai police accused of ‘sham’ forced labour in...   \n",
       "15  Return to China will require a resolution of P...   \n",
       "16  ‘To gain respect, you need success’: the trans...   \n",
       "17  China data ‘under-represents’ true impact of C...   \n",
       "18  Australia news live updates: Western Australia...   \n",
       "19  Pro-Putin YouTuber ‘Aussie Cossack’ defends ‘p...   \n",
       "20  ‘People have lost everything’: flooded houses ...   \n",
       "21  Younger girls increasingly presenting to Austr...   \n",
       "22   Ash Barty announces on Instagram she is pregnant   \n",
       "23  Covid deaths in Australian aged care surpass 1...   \n",
       "24  Andrew Tate arrest: Romanian authorities seize...   \n",
       "25  US announces new $3.75bn aid package for Ukrai...   \n",
       "26  US $3bn aid package to Ukraine to include doze...   \n",
       "27  What happened in the Russia-Ukraine war this w...   \n",
       "28  ‘Self-healing’ Roman concrete could aid modern...   \n",
       "29  International nuclear fusion project may be de...   \n",
       "30  NSW woman Mariam Raad granted bail after being...   \n",
       "31  Saudi Arabia jails two Wikipedia staff in ‘bid...   \n",
       "32  Iran arrests celebrity chef in crackdown on pr...   \n",
       "33  Israeli government plan to limit judicial powe...   \n",
       "34  Outcry over footage of men smashing cross at J...   \n",
       "35  Iran warns France over ‘insulting’ cartoons de...   \n",
       "36  Army veterans criticise Prince Harry’s claim h...   \n",
       "37  Afghan aid at risk from Taliban ban on women, ...   \n",
       "38  Anger as Pakistan court frees rapist after he ...   \n",
       "39  Indian leather companies accused of enabling R...   \n",
       "40  UN suspends some Afghanistan programs after ba...   \n",
       "41  Myanmar’s junta blamed for deaths of more than...   \n",
       "42  Morrissey says Miley Cyrus album exit was noth...   \n",
       "43  Quarter of ambulance patients in England wait ...   \n",
       "44  More than 2,600 ambulance workers from Unite t...   \n",
       "45  PPE Medpro: Michelle Mone-linked firm referred...   \n",
       "46  Prince Harry book leaks let papers have their ...   \n",
       "47  Hanif Kureishi says he may never be able to wa...   \n",
       "48  ‘We’ll have the votes’: McCarthy appears upbea...   \n",
       "49  Six-year-old intentionally shot teacher in Vir...   \n",
       "50  Republican McCarthy says he finally has enough...   \n",
       "51  Biden salutes January 6 heroes ‘who did not fl...   \n",
       "52  Fears over lax security in Republican-controll...   \n",
       "53  Democrats commemorate January 6 attack with te...   \n",
       "\n",
       "                                                 Text  \\\n",
       "0   State broadcaster’s staff held on suspicion of...   \n",
       "1   Body of fashion designer and model Edwin Chilo...   \n",
       "2   Concerns raised over health of Pape Alé Niang,...   \n",
       "3   In an election year, critics of the ruling Zan...   \n",
       "4   Survivor says pushing began after fireworks ou...   \n",
       "5   Files show Downing Street felt former South Af...   \n",
       "6   Journalist touring residence with new first la...   \n",
       "7   Ovidio Guzmán’s arrest on Thursday prompted he...   \n",
       "8   Jamaican police say fatal shooting of Sean Pat...   \n",
       "9   After Bolsonaro’s defeat and Duterte’s departu...   \n",
       "10  Sean Patterson, 33, reportedly killed by gunma...   \n",
       "11  Few of the country’s previous World Cup winner...   \n",
       "12  Users of Chinese social media have questioned ...   \n",
       "13  One of Tokyo’s most famous buildings was disma...   \n",
       "14                                                      \n",
       "15  Governing body of women’s tennis says it wants...   \n",
       "16  Anne Jakrajutatip, boss of JKN Global, recentl...   \n",
       "17  Analysis of Chinese data finds no new variants...   \n",
       "18                                        Follow live   \n",
       "19  Ukrainian ambassador to Australia Vasyl Myrosh...   \n",
       "20  Receding flood waters have revealed homes cake...   \n",
       "21  Studies find rising emergency presentations fo...   \n",
       "22  Former world No 1 says ‘2023 set to be the bes...   \n",
       "23  Health department data shows deaths have progr...   \n",
       "24  Fresh haul follows 11 cars already taken in in...   \n",
       "25  Latest tranche of assistance will include for ...   \n",
       "26  Largest assistance package Washington has prov...   \n",
       "27  Ukraine missile strike on Russian-held city ki...   \n",
       "28  Research finds secret of durability of buildin...   \n",
       "29  Facility still far from being able to show fea...   \n",
       "30  Raad, who was repatriated from Syria to Austra...   \n",
       "31  Administrators jailed for 32 years, and eight ...   \n",
       "32  Detainment of Navab Ebrahimi is speculated to ...   \n",
       "33  Grave concerns over Netanyahu coalition’s plan...   \n",
       "34  Vandals’ clothing leads to claims they are Jew...   \n",
       "35  Publication by French satirical magazine Charl...   \n",
       "36  Col Tim Collins says ‘we don’t do notches on r...   \n",
       "37  Standoff between UN and Taliban may lead loss ...   \n",
       "38  Dawlat Khan had received a life sentence for t...   \n",
       "39  Soldiers’ boots are made from imported Indian ...   \n",
       "40  Many humanitarian activities have to be ‘pause...   \n",
       "41  Exiled National Unity Government says figure i...   \n",
       "42  American withdrew after recording guest vocals...   \n",
       "43  Waiting times for admission to A&E in last wee...   \n",
       "44  Industrial action on 23 January in England and...   \n",
       "45  DHSC accused PPE Medpro of presenting false do...   \n",
       "46  Spanish bookshops and leak to the Guardian und...   \n",
       "47  Novelist and screenwriter says he is unable to...   \n",
       "48  Republican is hopeful that deal with far-right...   \n",
       "49  Authorities said they had arrested the boy for...   \n",
       "50  House party leader says he’s confident he has ...   \n",
       "51  The president spoke with passion about police ...   \n",
       "52  Fresh concerns raised over stripping away of m...   \n",
       "53  Hundreds of members of Congress gathered to pa...   \n",
       "\n",
       "                                                 Link  \n",
       "0   https://www.theguardian.com/world/2023/jan/06/...  \n",
       "1   https://www.theguardian.com/world/2023/jan/06/...  \n",
       "2   https://www.theguardian.com/global-development...  \n",
       "3   https://www.theguardian.com/global-development...  \n",
       "4   https://www.theguardian.com/world/2023/jan/01/...  \n",
       "5   https://www.theguardian.com/uk-news/2022/dec/3...  \n",
       "6   https://www.theguardian.com/world/2023/jan/06/...  \n",
       "7   https://www.theguardian.com/world/2023/jan/05/...  \n",
       "8   https://www.theguardian.com/world/2023/jan/05/...  \n",
       "9   https://www.theguardian.com/world/2023/jan/05/...  \n",
       "10  https://www.theguardian.com/world/2023/jan/04/...  \n",
       "11  https://www.theguardian.com/football/2023/jan/...  \n",
       "12  https://www.theguardian.com/world/2023/jan/06/...  \n",
       "13  https://www.theguardian.com/world/2023/jan/06/...  \n",
       "14  https://www.theguardian.com/world/2023/jan/05/...  \n",
       "15  https://www.theguardian.com/sport/2023/jan/05/...  \n",
       "16  https://www.theguardian.com/world/2023/jan/05/...  \n",
       "17  https://www.theguardian.com/world/2023/jan/05/...  \n",
       "18  https://www.theguardian.com/australia-news/liv...  \n",
       "19  https://www.theguardian.com/australia-news/202...  \n",
       "20  https://www.theguardian.com/australia-news/202...  \n",
       "21  https://www.theguardian.com/society/2023/jan/0...  \n",
       "22  https://www.theguardian.com/sport/2023/jan/06/...  \n",
       "23  https://www.theguardian.com/australia-news/202...  \n",
       "24  https://www.theguardian.com/world/2023/jan/06/...  \n",
       "25  https://www.theguardian.com/world/2023/jan/06/...  \n",
       "26  https://www.theguardian.com/world/live/2023/ja...  \n",
       "27  https://www.theguardian.com/world/2023/jan/07/...  \n",
       "28  https://www.theguardian.com/science/2023/jan/0...  \n",
       "29  https://www.theguardian.com/science/2023/jan/0...  \n",
       "30  https://www.theguardian.com/australia-news/202...  \n",
       "31  https://www.theguardian.com/technology/2023/ja...  \n",
       "32  https://www.theguardian.com/world/2023/jan/05/...  \n",
       "33  https://www.theguardian.com/world/2023/jan/05/...  \n",
       "34  https://www.theguardian.com/world/2023/jan/05/...  \n",
       "35  https://www.theguardian.com/world/2023/jan/04/...  \n",
       "36  https://www.theguardian.com/uk-news/2023/jan/0...  \n",
       "37  https://www.theguardian.com/world/2023/jan/06/...  \n",
       "38  https://www.theguardian.com/global-development...  \n",
       "39  https://www.theguardian.com/world/2022/dec/30/...  \n",
       "40  https://www.theguardian.com/world/2022/dec/29/...  \n",
       "41  https://www.theguardian.com/world/2022/dec/29/...  \n",
       "42  https://www.theguardian.com/music/2023/jan/07/...  \n",
       "43  https://www.theguardian.com/society/2023/jan/0...  \n",
       "44  https://www.theguardian.com/society/2023/jan/0...  \n",
       "45  https://www.theguardian.com/uk-news/2023/jan/0...  \n",
       "46  https://www.theguardian.com/uk-news/2023/jan/0...  \n",
       "47  https://www.theguardian.com/books/2023/jan/06/...  \n",
       "48  https://www.theguardian.com/us-news/2023/jan/0...  \n",
       "49  https://www.theguardian.com/us-news/2023/jan/0...  \n",
       "50  https://www.theguardian.com/us-news/live/2023/...  \n",
       "51  https://www.theguardian.com/us-news/2023/jan/0...  \n",
       "52  https://www.theguardian.com/us-news/2023/jan/0...  \n",
       "53  https://www.theguardian.com/us-news/2023/jan/0...  "
      ]
     },
     "execution_count": 5,
     "metadata": {},
     "output_type": "execute_result"
    }
   ],
   "source": [
    "# The Guardian news collection\n",
    "from bs4 import BeautifulSoup\n",
    "from urllib.request import urlopen\n",
    "import pandas as pd\n",
    "\n",
    "url = 'https://www.theguardian.com/world'\n",
    "page = urlopen(url)\n",
    "html = page.read().decode(\"utf-8\")\n",
    "soup = BeautifulSoup(html, \"html.parser\")\n",
    "# print(soup)\n",
    "\n",
    "stuff = soup.find_all('div',  class_=\"fc-item__container\")\n",
    "stuff\n",
    "\n",
    "links, headlines, texts = [],[],[]\n",
    "for i in stuff:\n",
    "\t# print(i)\n",
    "\t### LINKS\n",
    "\tlink = i.find('a')['href']\n",
    "\t# print(link)\n",
    "\tlinks.append(link)\n",
    "\t### HEADLINE\n",
    "\theadline = i.find('span', class_=\"js-headline-text\").contents[0]\n",
    "\t# print(headline)\n",
    "\theadlines.append(headline)\n",
    "\t### TEXT\n",
    "\ttext = i.find('div', class_=\"fc-item__standfirst\").contents[0]\n",
    "\t# print(text)\n",
    "\ttexts.append(text)\n",
    "\n",
    "df = pd.DataFrame([], columns=['Headline', 'Text', 'Link'])\n",
    "headlines = [ i.strip() for i in headlines ]\n",
    "texts = [ i.strip() for i in texts ]\n",
    "\n",
    "df['Headline'] = headlines\n",
    "df['Text'] = texts\n",
    "df['Link'] = links\n",
    "\n",
    "# df.to_csv('output/TheGuardian_headlines2.csv', sep=',', index=False)\n",
    "\n",
    "df\n"
   ]
  },
  {
   "attachments": {},
   "cell_type": "markdown",
   "id": "288b8617",
   "metadata": {},
   "source": [
    "## Selenium"
   ]
  },
  {
   "cell_type": "code",
   "execution_count": 39,
   "id": "d4918579",
   "metadata": {},
   "outputs": [
    {
     "name": "stdout",
     "output_type": "stream",
     "text": [
      "Wait time (sec): 2.0244813000317663\n",
      "Invalid!   Downloading Large Sequence: 0.00MB (COMPLETE)\n"
     ]
    }
   ],
   "source": [
    "import os\n",
    "import time\n",
    "from urllib import request\n",
    "from urllib.request import urlopen\n",
    "from selenium import webdriver\n",
    "from selenium.webdriver.chrome.service import Service\n",
    "from selenium.webdriver.common.by import By\n",
    "from selenium.webdriver.support.wait import WebDriverWait\n",
    "from selenium.common.exceptions import TimeoutException\n",
    "# from selenium.webdriver.support.ui import WebDriverWait\n",
    "from selenium.webdriver.support import expected_conditions as ec\n",
    "from timeit import default_timer as timer\n",
    "import re\n",
    "\n",
    "\n",
    "# URL of the fasta file\n",
    "url = \"https://www.ncbi.nlm.nih.gov/nuccore/NC_056059.1?report=fasta&log$=seqview&format=text&from=86393909&to=86405669\"\n",
    "# Location of the webdriver for google chrome( path not hardcoded, but created with os to make it compatible with different OS)\n",
    "chromedriver_path = os.path.join( os.getcwd(), 'modules', 'chromedriver108.exe' )\n",
    "\n",
    "# create selenium webdirver object\n",
    "service = Service(executable_path=chromedriver_path)\n",
    "driver = webdriver.Chrome(service=service)\n",
    "driver.get(url)\n",
    "\n",
    "\"\"\" Give the webpage time to load \"\"\"\n",
    "# ### Explicitly state to wait for 5 seconds\n",
    "# time.sleep(5)\n",
    "### Wait until the body element is present\n",
    "start = timer()\n",
    "wait = WebDriverWait(driver, 100)\n",
    "wait.until(ec.presence_of_element_located((By.XPATH, \"/html/body\")))\n",
    "stop = timer()\n",
    "print(f\"Wait time (sec): {stop-start}\")\n",
    "\n",
    "\n",
    "### Print the whole body text in the terminal\n",
    "text = driver.find_element(By.XPATH, \"/html/body\").text\n",
    "# print( text )\n",
    "### OPTION: Find lines that don't belong in the FASTA file\n",
    "a = text.split('\\n')\n",
    "for i in a:\n",
    "\tif not set(i.lower()).issubset( set('tcag') ):\n",
    "\t\tif i[0] == '>':\n",
    "\t\t\tpass\n",
    "\t\telse:\n",
    "\t\t\tprint(f'Invalid line!   {i}')\n",
    "\n",
    "# Write the output in a file\n",
    "with open('output/file.fasta', 'w') as output:\n",
    "\toutput.write(text)\n",
    "\n",
    "# Close the driver\n",
    "driver.close()"
   ]
  },
  {
   "cell_type": "code",
   "execution_count": 16,
   "id": "f7c65624",
   "metadata": {},
   "outputs": [],
   "source": [
    "\"\"\" Script to extract headlines and news descriptions from xxx, output them to csv with links \"\"\"\n",
    "\n",
    "from selenium import webdriver\n",
    "from selenium.webdriver.chrome.service import Service\n",
    "import pandas as pd\n",
    "from selenium.webdriver.chrome.options import Options\n",
    "\n",
    "\n",
    "website = \"https://www.thesun.co.uk/sport/football\"\n",
    "# path = \"C:/Users/evgen/Desktop/Python/chromedriver\"\n",
    "path = 'modules/chromedriver108'\n",
    "\n",
    "### OPTION 1: open the browser\n",
    "service = Service(executable_path=path)\n",
    "driver = webdriver.Chrome(service=service)\n",
    "driver.get(website)\n",
    "\n",
    "### OPTION 2: run in the headless mode, without opening the browser\n",
    "# options = Options()\n",
    "# options.headless = True\n",
    "# service = Service(executable_path=path)\n",
    "# driver = webdriver.Chrome(service=service, options=options)\n",
    "# driver.get(website)\n",
    "\n",
    "\n",
    "\n",
    "containers = driver.find_elements(by=\"xpath\", value='//div[@class=\"teaser__copy-container\"]')\n",
    "\n",
    "everything, titles, subtitles, links = [], [], [], []\n",
    "\n",
    "for container in containers:\n",
    "\t\"\"\" Locate all the elements of a website that we are interested in \"\"\"\n",
    "\t# asdf = \tcontainer.find_elements(by=\"xpath\", value='//div[@class=\"teaser__copy-container\"]/a/h2')\n",
    "\t# asdf = \tcontainer.find_elements(by=\"xpath\", value='//div[@class=\"teaser__copy-container\"]/a')\n",
    "\t# print(asdf)\n",
    "\t# container.find_elements(by=\"xpath\", value='./a/h2') # Title element\n",
    "\t# title = container.find_element(by=\"xpath\", value='./a/h2').text # Get not the entire HTML element, but only the text within the element\n",
    "\t# titles.append(title)\n",
    "\tall = container.find_element(by=\"xpath\", value='./a').text\n",
    "\teverything.append(all)\n",
    "\t# //div[@class=\"teaser__copy-container\"]/a/p\n",
    "\t# container.find_elements(by=\"xpath\", value=\"./a/p\") # Subtitle element\n",
    "\tsubtitle = container.find_element(by=\"xpath\", value='./a/p').text\n",
    "\tsubtitles.append(subtitle)\n",
    "\t#\n",
    "\tlink = container.find_element(by=\"xpath\", value='./a').get_attribute(\"href\")\n",
    "\tlinks.append(link)\n",
    "\n",
    "# print(everything)\n",
    "# print(titles)\n",
    "# print(subtitles)\n",
    "# print(links)\n",
    "\n",
    "\n",
    "\"\"\" Export the elements in a CSV format \"\"\"\n",
    "my_dict = {'subtitle': subtitles, 'link': links}\n",
    "df_headlines = pd.DataFrame(my_dict)\n",
    "df_headlines.to_csv('output/news_headlines.csv')\n",
    "\n",
    "\n",
    "driver.quit()"
   ]
  },
  {
   "cell_type": "code",
   "execution_count": null,
   "id": "ea275525",
   "metadata": {},
   "outputs": [],
   "source": [
    "\"\"\" Scrape news from the newspaper \"\"\"\n",
    "\n",
    "\n"
   ]
  },
  {
   "cell_type": "markdown",
   "id": "b2ea3f36",
   "metadata": {},
   "source": [
    "# Frameworks\n",
    "\n",
    "**Framework** is a collection of packages / modules which help in writing web applications in Web Development. \n",
    "\n",
    "<u>Web Dev frameworks</u>:\n",
    "| Name | Description | Features |\n",
    "| - | - | - |\n",
    "| Django | Full-stack fw. | DBs: PostgreSQL, mySQL, SQLite, Oracle |\n",
    "| Flask | Lightweight minimalist micro-fw for small-scale projects. | DBs: SQLAlchemy, MongoAlchemy |\n",
    "| CherryPy | Minimalist | |\n",
    "| web2py | full-stack | doesn't support python2 |\n",
    "| Bottle | Micro-fw | |\n"
   ]
  }
 ],
 "metadata": {
  "kernelspec": {
   "display_name": "Python 3.10.6 64-bit",
   "language": "python",
   "name": "python3"
  },
  "language_info": {
   "codemirror_mode": {
    "name": "ipython",
    "version": 3
   },
   "file_extension": ".py",
   "mimetype": "text/x-python",
   "name": "python",
   "nbconvert_exporter": "python",
   "pygments_lexer": "ipython3",
   "version": "3.10.6"
  },
  "toc-showtags": false,
  "vscode": {
   "interpreter": {
    "hash": "ddfef2dff3b289ad6149ca203ea5c3e5eaf5f756391d68f0c5d6060d3fe964ec"
   }
  }
 },
 "nbformat": 4,
 "nbformat_minor": 5
}
