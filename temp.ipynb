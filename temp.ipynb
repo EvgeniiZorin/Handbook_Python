{
 "cells": [
  {
   "attachments": {},
   "cell_type": "markdown",
   "metadata": {},
   "source": [
    "```py\n",
    "a = '\\n \\n      Carolina_Is_A_Woman.jpg\\n \\n'\n",
    "```\n",
    "\n",
    "0) remove all trailing and leading newlines and whitespaces;\n",
    "1) slice the variable into \"Carolina\"\n",
    "2) create another variable that is a string \n",
    "saying \"Carolina\" three times consecutively\n",
    "3) reverse variable 'a'\n",
    "4) add \"!!!\" at the end of variable 'a'\n",
    "5) count the occurrence of letter 'a'\n",
    "6) convert the string into all uppercase string\n",
    "7) make another variable with extension of the file name of variable 'a'\n",
    "8) split the string 'a' into filename and its extension\n",
    "9) replace all underscores with a hyphen\n",
    "10) replace every character with its ASCII code\n",
    "11) sort all characters in an alphanumeric order;\n",
    "\n",
    "```py\n",
    "n1 = '5'\n",
    "n2 = '3.1415'\n",
    "```\n",
    "\n",
    "1) print to terminal \"Number equals to 5.00\" using variable 'n1'\n",
    "\n"
   ]
  },
  {
   "cell_type": "code",
   "execution_count": null,
   "metadata": {},
   "outputs": [],
   "source": [
    "a = '\\n \\n      Carolina_Is_A_Woman.jpg\\n \\n'\n",
    "n1 = '5'\n",
    "n2 = '3.1415'"
   ]
  }
 ],
 "metadata": {
  "kernelspec": {
   "display_name": "Python 3",
   "language": "python",
   "name": "python3"
  },
  "language_info": {
   "codemirror_mode": {
    "name": "ipython",
    "version": 3
   },
   "file_extension": ".py",
   "mimetype": "text/x-python",
   "name": "python",
   "nbconvert_exporter": "python",
   "pygments_lexer": "ipython3",
   "version": "3.10.6"
  },
  "orig_nbformat": 4,
  "vscode": {
   "interpreter": {
    "hash": "ddfef2dff3b289ad6149ca203ea5c3e5eaf5f756391d68f0c5d6060d3fe964ec"
   }
  }
 },
 "nbformat": 4,
 "nbformat_minor": 2
}
