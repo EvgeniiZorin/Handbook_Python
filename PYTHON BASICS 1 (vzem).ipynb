{
 "cells": [
  {
   "cell_type": "markdown",
   "id": "a1848122",
   "metadata": {
    "tags": []
   },
   "source": [
    "# PYTHON BASICS - an overview of the most important functionalities\n",
    "by Evgenii Zorin   \n",
    "\n",
    "<hr style=\"margin-bottom: 40px;\">"
   ]
  },
  {
   "cell_type": "markdown",
   "id": "f0e898d0",
   "metadata": {},
   "source": [
    "# Most basic\n",
    "\n",
    "\n",
    "```py\n",
    "# Print all functions associated with a particular module\n",
    "print(dir(tf.keras.layers))\n",
    "```\n",
    "\n",
    "Libraries are managed with **Pip**:\n",
    "\n",
    "```powershell\n",
    "# Packages can be installed with Pip, with different commands (if one doesn't work, use the other):\n",
    "pip3 install <library>\n",
    "pip install <library>\n",
    "python -m pip install <library>\n",
    "python3 -m pip install <library>\n",
    "python -m pip3 install <library>\n",
    "\n",
    "# Install a specific version of a package\n",
    "pip install <library>==<version>\n",
    "pip install playsound==1.2.2\n",
    "\n",
    "# Uninstall a package\n",
    "pip uninstall <library>\n",
    "\n",
    "# Check the installed version of a package\n",
    "pip show <package>\n",
    "\n",
    "# Show all installed packaged\n",
    "pip freeze\n",
    "```\n",
    "\n",
    "**Basic commands**\n",
    "```py\n",
    "type(x) # Check type of a variable\n",
    "a = input(\"Enter x: \") # Collect user input\n",
    "dir(list()) # Check methods associated with a class\n",
    "```\n",
    "\n",
    "Additionally, there are _**magic commands**_ which are built into IPython kernel, such as:\n",
    "- `%%time` - prints the wall time for the entire cell in IPython; \n",
    "\n",
    "---\n",
    "\n",
    "**Conditional variable setting**\n",
    "```py\n",
    "a = 6\n",
    "value = 'five' if a == 5 else 'not five'\n",
    "```\n",
    "\n",
    "**VSC shortcuts** \n",
    "\n",
    "| Command | Action |\n",
    "| :----------- | :------------------------------------------------------------ |\n",
    "| `ctrl + P` | Cmd palette. |\n",
    "| `ctrl + G` | go to line X. |\n",
    "| `ctrl + L` | Highlight line |\n",
    "| `ctrl + /` | Change line's code into comment |\n",
    "| ```ctrl + shift + ` ``` | New terminal |\n",
    "| `ctrl + shift + P`, then *Convert indentation to tabs* | Convert indentation to tabs in a selected code chunk |\n",
    "\n",
    "\n",
    "Next, let's take a look at different data types in Python. \n",
    "Each data type object has their own associated methods. \n",
    "\n",
    "There are also _**special (magic) methods**_, which are surrounded by double underscores (`__str__`, `__init__`). \n"
   ]
  },
  {
   "cell_type": "markdown",
   "id": "98ea50f1",
   "metadata": {},
   "source": [
    "# Simple data types\n",
    "\n",
    "\n",
    "These are:\n",
    "- String \n",
    "- Integer\n",
    "- Float\n",
    "- Boolean\n",
    "\n",
    "**Typecasting** - converting one variable type into another, e.g. int --> str"
   ]
  },
  {
   "cell_type": "code",
   "execution_count": 3,
   "id": "71442c4f",
   "metadata": {},
   "outputs": [
    {
     "data": {
      "text/plain": [
       "2"
      ]
     },
     "execution_count": 3,
     "metadata": {},
     "output_type": "execute_result"
    }
   ],
   "source": [
    "mystr = 'abcde'\n",
    "\n",
    "mystr.find('c')"
   ]
  },
  {
   "cell_type": "markdown",
   "id": "8e384ff2",
   "metadata": {},
   "source": [
    "## String\n",
    "\n",
    "**String methods**:\n",
    "\n",
    "```py\n",
    "\n",
    "print('#' *10) # Print repeated string\n",
    "len() # Returns length of a string\n",
    "mystr += '101' # add string at the end of mystr\n",
    "input_str = input_str.replace(' ', '') # Remove all whitespaces from a string\n",
    "mystr.find('o') # returns the index of the first occurrence of a given character\n",
    "mystr.count('o') # Counts all occurrences of a character\n",
    "strip() # Removes whitespace from start/end\n",
    "mystr.lower() # Returns the str in lower case\n",
    "mystr.islower() # String is in lower case? \n",
    "mystr.isalpha() # Are all characters alphabetic? \n",
    "mystr.isdigit()\n",
    "mystr.isalnum()\n",
    "mystr.startswith('1') # Starts with character? (bool)\n",
    "mystr.splitlines() # splits string into list of elements by newline\n",
    "mystr.split(';') # Split str into list of strings based on delimiter\n",
    "'-'.join(mystr) # Join each character in 'mystr' with '-'\n",
    "\n",
    "# Slicing strings\n",
    "mystr[-2]\n",
    "mystr[::-1] # The reverse of a string\n",
    "\n",
    "# Sort characters\n",
    "sorted(mystr) # Return list of sorted characters -> ['0', '1', 'a', 'b']\n",
    "''.join(sorted(mystr), reverse=True) # Sort characters in string in descending order -> 'ba10'\n",
    "''.join(sorted(''.join(set(mystr)))) # Return string with sorted unique characters\n",
    "\n",
    "# Remove whitespaces\n",
    "mystr.strip() # Remove whitespaces on the L and R\n",
    "mystr.lstrip() # Remove left whitespaces\n",
    "mystr.rstrip(\n",
    "\t' ' # Remove trailing whitespaces and \\n (by default); here, removes only whitespace (passed parameter)\n",
    ") # Remove trailing whitespaces (including \"\\n\")\n",
    "\n",
    "# Replace\n",
    "mystr.replace('xyz', 'abc', 1) # Replace substrings 'xyz' with 'abc' - exactly one time, not more\n",
    "mystr.replace('one', '1').replace('two', '2') # Replace two substrings\n",
    "# Replace substrings of one or more spaces with nothing\n",
    "import re\n",
    "re.sub(' +', '', mystr)\n",
    "```\n",
    "\n",
    "\n"
   ]
  },
  {
   "cell_type": "code",
   "execution_count": 1,
   "id": "c0a8a04f",
   "metadata": {},
   "outputs": [
    {
     "name": "stdout",
     "output_type": "stream",
     "text": [
      "65\n"
     ]
    },
    {
     "data": {
      "text/plain": [
       "'a'"
      ]
     },
     "execution_count": 1,
     "metadata": {},
     "output_type": "execute_result"
    }
   ],
   "source": [
    "# Print ASCII code for a character\n",
    "# Letter -> ASCII\n",
    "ord('A') # -> 65\n",
    "\n",
    "# ASCII -> Letter\n",
    "chr(65) # capital \"A\"\n",
    "chr(97) # lowercase \"a\""
   ]
  },
  {
   "cell_type": "code",
   "execution_count": 1,
   "id": "03b205bf",
   "metadata": {},
   "outputs": [
    {
     "name": "stdout",
     "output_type": "stream",
     "text": [
      "The variable is 3.141593\n",
      "The variable is 3.142\n",
      "These are 3.14159265 and 5\n",
      "This is 3.14\n",
      "F-string is 5\n",
      "F-string is 3.14\n",
      "another: 3.1416\n"
     ]
    }
   ],
   "source": [
    "# Formatting strings\n",
    "\n",
    "num1 = 3.14159265\n",
    "num2 = 5\n",
    "\n",
    "## %\n",
    "print(\"The variable is %f\" % num1)\n",
    "print(\"The variable is %.3f\" % num1)\n",
    "\n",
    "## Placeholders - .format() method\n",
    "print(\"These are {} and {}\".format(num1, num2))\n",
    "print(\"This is {:.2f}\".format(num1))\n",
    "\n",
    "## f-strings\n",
    "print(f\"F-string is {num2}\")\n",
    "print(f\"F-string is {num1:.03}\")\n",
    "print(f\"another: {num1:.4f}\")"
   ]
  },
  {
   "cell_type": "code",
   "execution_count": 968,
   "id": "0e06a31a",
   "metadata": {},
   "outputs": [
    {
     "name": "stdout",
     "output_type": "stream",
     "text": [
      "0.20758059999980105\n",
      "0.006516399999782152\n"
     ]
    }
   ],
   "source": [
    "from timeit import default_timer as timer\n",
    "#from list to string:\n",
    "my_list = ['a'] * 1000000\n",
    "\n",
    "# bad\n",
    "start = timer()\n",
    "my_string = ''\n",
    "for i in my_list:\n",
    "\tmy_string += i\n",
    "stop = timer()\n",
    "print(stop-start)\n",
    "\n",
    "# good\n",
    "start = timer()\n",
    "my_string = ''.join(my_list)\n",
    "stop = timer()\n",
    "print(stop - start)\n"
   ]
  },
  {
   "cell_type": "code",
   "execution_count": 4,
   "id": "33906f98",
   "metadata": {},
   "outputs": [
    {
     "name": "stdout",
     "output_type": "stream",
     "text": [
      "harvard.co.uk\n"
     ]
    }
   ],
   "source": [
    "a = \"  Python  Practice  \"\n",
    "b = \"John Doe: john.doe@harvard.co.uk is my email\"\n",
    "\n",
    "\n",
    "# Print a subsection with specified start and end\n",
    "pos1 = b.find('@') # Find the first occurrence of '@'\n",
    "pos2 = b.find(' ', pos1) # Find the first occurrence of ' ' after having encountered an '@'\n",
    "print( b[pos1+1 : pos2] )"
   ]
  },
  {
   "cell_type": "code",
   "execution_count": 2,
   "id": "507e8c63",
   "metadata": {},
   "outputs": [
    {
     "data": {
      "text/plain": [
       "'asdf asdf'"
      ]
     },
     "execution_count": 2,
     "metadata": {},
     "output_type": "execute_result"
    }
   ],
   "source": [
    "a = \"asdf asdf   \"\n",
    "\n",
    "a = a.rstrip()\n",
    "a"
   ]
  },
  {
   "cell_type": "code",
   "execution_count": 970,
   "id": "e7061359",
   "metadata": {},
   "outputs": [
    {
     "name": "stdout",
     "output_type": "stream",
     "text": [
      "[1, 2, 3, 24, 25, 26]\n",
      "[1, 2, 3, 24, 25, 26]\n"
     ]
    }
   ],
   "source": [
    "# Substitute letter with numbers: a -> 1, b -> 2, ... y -> 25, z -> 26\n",
    "\n",
    "list1 = []\n",
    "for i in 'abcxyz':\n",
    "\tlist1.append( ord(i) -96 )\n",
    "print(list1)\n",
    "\n",
    "# List comprehensions\n",
    "print( [ord(i) -96 for i in 'abcxyz'] )"
   ]
  },
  {
   "cell_type": "markdown",
   "id": "964da5e3",
   "metadata": {},
   "source": [
    "## Int\n",
    "\n"
   ]
  },
  {
   "cell_type": "code",
   "execution_count": 23,
   "id": "7b766f2f",
   "metadata": {},
   "outputs": [
    {
     "data": {
      "text/plain": [
       "9"
      ]
     },
     "execution_count": 23,
     "metadata": {},
     "output_type": "execute_result"
    }
   ],
   "source": [
    "# Floor (down) rounding\n",
    "int(9.1)\n",
    "int(9.9)"
   ]
  },
  {
   "cell_type": "code",
   "execution_count": 6,
   "id": "f31ac86a",
   "metadata": {},
   "outputs": [
    {
     "data": {
      "text/plain": [
       "10"
      ]
     },
     "execution_count": 6,
     "metadata": {},
     "output_type": "execute_result"
    }
   ],
   "source": [
    "x = 10\n",
    "\n",
    "abs(x) # gives the module of a number\n",
    "\n",
    "# if a number is positive\n",
    "x % 10 # Returns the last digit\n",
    "x % 100 # Returns the last two digits"
   ]
  },
  {
   "cell_type": "code",
   "execution_count": 21,
   "id": "d6e1048e",
   "metadata": {},
   "outputs": [],
   "source": [
    "# Represent an int in binary \n",
    "# in the format '0bX', where X - desired number in binary\n",
    "\n",
    "bin(1)\n",
    "bin(1).split('0b')[1]\n",
    "bin(10).split('0b')[1]\n",
    "bin(10)[2:]\n",
    "\n",
    "# Convert binary back to decimal\n",
    "int('101', 2)\n",
    "int(bin(3), 2)\n",
    "\n",
    "# Add two binary numbers\n",
    "bin( int('101', 2) + int('10', 2) ).split('0b')[1]\n",
    "\n",
    "# Get a string of a decimal number in binary 32-bit\n",
    "'{:032b}'.format(5)\n",
    "\n",
    "# Right shift operator - bitwise operator which shifts the binary sequence to right side by a specified position\n",
    "n = 100 # 1100100 in binary\n",
    "n >> 1 # 110010 \n",
    "n = n >> 2 # 11001\n",
    "\n"
   ]
  },
  {
   "cell_type": "code",
   "execution_count": 1,
   "id": "75efd354",
   "metadata": {},
   "outputs": [
    {
     "data": {
      "text/plain": [
       "'00000000000000000000000000000101'"
      ]
     },
     "execution_count": 1,
     "metadata": {},
     "output_type": "execute_result"
    }
   ],
   "source": [
    "'{:032b}'.format(5)"
   ]
  },
  {
   "cell_type": "code",
   "execution_count": 27,
   "id": "a8faea92",
   "metadata": {},
   "outputs": [
    {
     "data": {
      "text/plain": [
       "int"
      ]
     },
     "execution_count": 27,
     "metadata": {},
     "output_type": "execute_result"
    }
   ],
   "source": [
    "type(10 // 4)"
   ]
  },
  {
   "cell_type": "code",
   "execution_count": 1,
   "id": "a8790e15",
   "metadata": {},
   "outputs": [
    {
     "data": {
      "text/plain": [
       "15"
      ]
     },
     "execution_count": 1,
     "metadata": {},
     "output_type": "execute_result"
    }
   ],
   "source": [
    "# Get the max of the two values\n",
    "\n",
    "a = max(5, 10, 15)\n",
    "a"
   ]
  },
  {
   "cell_type": "code",
   "execution_count": 2,
   "id": "06d111f0",
   "metadata": {},
   "outputs": [
    {
     "data": {
      "text/plain": [
       "20"
      ]
     },
     "execution_count": 2,
     "metadata": {},
     "output_type": "execute_result"
    }
   ],
   "source": [
    "int('1' + '4') + int('0' + '6')"
   ]
  },
  {
   "cell_type": "markdown",
   "id": "3df4b10e",
   "metadata": {},
   "source": [
    "## Float\n",
    "\n",
    "```py\n",
    "a = 3.1415\n",
    "\n",
    "round(a) # Convert to int\n",
    "round(a, 0) # Convert to float but with 0 at the end\n",
    "round(a, 1) # float with 1 number after decimal\n",
    "round(a, 2) # float with 2 number after decimal\n",
    "a % 1 # Get number after decimal point\n",
    "\n",
    "import math\n",
    "math.ceil(a) # Round up\n",
    "math.floor(a) # Round down \n",
    "\n",
    "```"
   ]
  },
  {
   "cell_type": "code",
   "execution_count": 7,
   "id": "cdc12697",
   "metadata": {},
   "outputs": [
    {
     "data": {
      "text/plain": [
       "True"
      ]
     },
     "execution_count": 7,
     "metadata": {},
     "output_type": "execute_result"
    }
   ],
   "source": [
    "float(\"inf\")\n",
    "float(\"-inf\")"
   ]
  },
  {
   "cell_type": "code",
   "execution_count": 972,
   "id": "f2e42884",
   "metadata": {},
   "outputs": [
    {
     "name": "stdout",
     "output_type": "stream",
     "text": [
      "12/5\n"
     ]
    }
   ],
   "source": [
    "from fractions import Fraction\n",
    "\n",
    "print( Fraction(36, 15) )"
   ]
  },
  {
   "cell_type": "markdown",
   "id": "f246fe6d",
   "metadata": {},
   "source": [
    "# Compound data types <a class=\"anchor\" id=\"Compound-data-types\"></a>\n",
    "\n",
    "**Slicing** is supported by sequential data types (lists, strings, tuples, ranges): `[START:STOP:STEP]`\n",
    "\n",
    "*Tilda* is used to notate index from the other end: `listname[~i]`"
   ]
  },
  {
   "cell_type": "markdown",
   "id": "813119ac",
   "metadata": {},
   "source": [
    "## Lists \n",
    "\n",
    "- `[square brackets]`\n",
    "- Mutable\n",
    "- Composed of elements with different values\n",
    "- Ordered - index is the position of an element in a list, starting at 0\n",
    "\n",
    "**List methods**    \n",
    "```py\n",
    "listname[5] = 'new' # update element at position 5\n",
    "listname[1:3] # list slicing    \n",
    "mylist[::-1] # reverse a list\n",
    "[range(20)] # turns range into list   \n",
    "max(listname) # prints max value of list \n",
    "min(listname)\n",
    "sum(listname)\n",
    "# Working with strings:\n",
    "max(list1, key=len) # Print longest string\n",
    "min(list1, key=len) # Print shortest string\n",
    "\n",
    "':'.join(listname) # joins list elements into a string, placing ':' in between each element\n",
    "\n",
    "listname.pop() # removes the last value in the list\n",
    "listname.pop(1) # removes value at index 1 in the list\n",
    "listname.remove(5) # removes the first instance of 5 in listname\n",
    "listname.append(12) # adds 12 as element to the end of the list\n",
    "listname.extend([7, 8, 9, 10]) # Append another list\n",
    "listname.insert(0, \"element\") # inserts a string at position 0\n",
    "listname.reverse() # reverse a list in-place\n",
    "\n",
    "string.sorted() # converts chars of string into list elements and then sorts them; \n",
    "listname.count(2) # counts occurrence of 2 in a list   \n",
    "mylist = [None] *8 # create a list with 8 empty values   \n",
    "mylist = ['a'] *6 #   \n",
    "''.join(mylist) # convert a list into a string    \n",
    "listname[0] += \"1\" # adds string character at the end of the list's item   \n",
    "list() # create empty list    \n",
    "listname.clear() # removes all elements from a list   \n",
    "mylist.sort() # sort list items IN-PLACE\n",
    "sorted(mylist) # creates a new sorted list    \n",
    "\n",
    "list(listname) #\n",
    "listname[:] #\n",
    "[item for item in listname]\n",
    "\n",
    "listname.index('itemname')\n",
    "\n",
    "mylist = list(dict.fromkeys(mylist)) # Remove duplicates from a list\n",
    "```\n"
   ]
  },
  {
   "cell_type": "code",
   "execution_count": 13,
   "id": "dd1407b0",
   "metadata": {},
   "outputs": [
    {
     "data": {
      "text/plain": [
       "5"
      ]
     },
     "execution_count": 13,
     "metadata": {},
     "output_type": "execute_result"
    }
   ],
   "source": [
    "# Bisect_right \n",
    "# Method that takes input of sorted array and a value, \n",
    "# and returns the right-most index that the value has to be inserted in to maintain the sorted order\n",
    "\n",
    "import bisect\n",
    "\n",
    "x = bisect.bisect_right([1, 2, 3, 4, 5, 6, 7, 8, 9, 10], 5.5)\n",
    "x"
   ]
  },
  {
   "cell_type": "code",
   "execution_count": 7,
   "id": "555a9f5c",
   "metadata": {},
   "outputs": [
    {
     "name": "stdout",
     "output_type": "stream",
     "text": [
      "<function sorted_nicely.<locals>.<lambda> at 0x000001FFEC860160>\n"
     ]
    },
    {
     "data": {
      "text/plain": [
       "['4 sheets', '12 sheets', '48 sheets', 'booklet']"
      ]
     },
     "execution_count": 7,
     "metadata": {},
     "output_type": "execute_result"
    }
   ],
   "source": [
    "# Sort a list alphanumerically\n",
    "# I currently don't get how this works, but it does\n",
    "\n",
    "import re \n",
    "\n",
    "def sorted_nicely( l ): \n",
    "\t\"\"\" Sort the given iterable in the way that humans expect.\"\"\" \n",
    "\tconvert = lambda i: int(i) if i.isdigit() else i \n",
    "\talphanum_key = lambda key: [ convert(c) for c in re.split('([0-9]+)', key) ] \n",
    "\tprint(alphanum_key)\n",
    "\treturn sorted(l, key = alphanum_key)\n",
    "\n",
    "sorted_nicely( ['booklet', '4 sheets', '48 sheets', '12 sheets'] )"
   ]
  },
  {
   "cell_type": "markdown",
   "id": "bcc84f58",
   "metadata": {},
   "source": [
    "### Shallow vs deep copy"
   ]
  },
  {
   "cell_type": "code",
   "execution_count": 12,
   "id": "f08fd9a1",
   "metadata": {},
   "outputs": [
    {
     "name": "stdout",
     "output_type": "stream",
     "text": [
      "Shallow copy | 1D list\n",
      "[1, 2, 3, 4, 'a'] 2145370672576\n",
      "[1, 2, 3, 4, 'b'] 2145370676928\n",
      "Shallow copy | nested list\n",
      "[[0, 1, 2], [3, 4, 5], [6, 7, 'b']] 2145370751872\n",
      "[[0, 1, 2], [3, 4, 5], [6, 7, 'b']] 2145370677376\n",
      "Deep copy | nested list\n",
      "[[0, 1, 2], [3, 4, 5], [6, 7, 'a']] 2145370675968\n",
      "[[0, 1, 2], [3, 4, 5], [6, 7, 'b']] 2145370671552\n"
     ]
    }
   ],
   "source": [
    "import copy\n",
    "\n",
    "# ----------------------------------------\n",
    "# --- SHALLOW COPY -----------------------\n",
    "# ----------------------------------------\n",
    "# Copy is in a separate memory location, however, nested lists (2 dimensions) are still linked\n",
    "\n",
    "# 1D lists - separate\n",
    "print('Shallow copy | 1D list')\n",
    "a = [1, 2, 3, 4, 5]\n",
    "b = a.copy() # or b = copy.copy(a)\n",
    "\n",
    "a[-1], b[-1] = 'a', 'b'\n",
    "print(a, id(a))\n",
    "print(b, id(b))\n",
    "\n",
    "# -------------------------------------\n",
    "# Nested list - still linked\n",
    "print('Shallow copy | nested list')\n",
    "\n",
    "a = [[0, 1, 2], [3, 4, 5], [6, 7, 8]]\n",
    "b = a.copy() # of b = copy.copy(a)\n",
    "\n",
    "a[2][2], b[2][2] = 'a', 'b'\n",
    "print(a, id(a))\n",
    "print(b, id(b))\n",
    "\n",
    "# ----------------------------------------\n",
    "# --- DEEP COPY --------------------------\n",
    "# ----------------------------------------\n",
    "# Creates a completely separate list\n",
    "# No changes to list a will be transferred to list b, even in nested lists\n",
    "\n",
    "# Nested list\n",
    "print('Deep copy | nested list')\n",
    "\n",
    "a = [[0, 1, 2], [3, 4, 5], [6, 7, 8]]\n",
    "b = copy.deepcopy(a)\n",
    "\n",
    "a[2][2], b[2][2] = 'a', 'b'\n",
    "print(a, id(a))\n",
    "print(b, id(b))"
   ]
  },
  {
   "cell_type": "markdown",
   "id": "54c2fc15",
   "metadata": {},
   "source": [
    "## Tuples\n",
    "\n",
    "- `(parentheses or round brackets)`\n",
    "- Immutable; hence, tuples are used to store information that shouldn't be modified \n",
    "- We can group related pieces of data in a tuple\n",
    "- Tuples are created faster and weigh fewer bytes than lists\n",
    "\n",
    "```py\n",
    "tuple1 = () # Create an empty tuple\n",
    "tuple1 = (\"element\",) # creating a tuple with only one element\n",
    "movies = [(\"Vertigo\", 1958), (\"Parasite\", 2019)]; print(movies[1]) # prints Vertigo and 1958\n",
    "```"
   ]
  },
  {
   "cell_type": "markdown",
   "id": "49406e38",
   "metadata": {},
   "source": [
    "## Dictionaries\n",
    "\n",
    "- `{key:value}` - braces / curly brackets\n",
    "- Used to associate a meaning to each value in a collection of values\n",
    "- Keys in a dictionary are unique, and each key is associated with exactly one value\n",
    "- Unordered, mutable\n",
    "- A special form of dictionary is `Counter` from the `collections` module\n",
    "\n",
    "```py\n",
    "\"\"\" Create a dictionary \"\"\"\n",
    "dict1 = {} \n",
    "dict1 = dict() \n",
    "# Make an isolated copy of a dictionary\n",
    "mydict.copy() \n",
    "dictname = {'A':'string', 'B':2, 'C':3, 'D':4}\n",
    "# Create a dictionary from two lists\n",
    "dict(zip(list1, list2)) \n",
    "\n",
    "\"\"\" Alter a dictionary \"\"\"\n",
    "dictname['B'] = 22 \n",
    "# Update multiple keys\n",
    "dictname.update({'A':11, 'B':22}) \n",
    "# Update existing keys with values (and create non-existing keys) with values from mydict2\n",
    "dictname.update(mydict2) \n",
    "# Add value to a dictionary; if it doesn't exist, assign it a value\n",
    "dictname['a'] = 1 + dictname.get('a', 0)\n",
    "# Delete key:value pair\n",
    "del dictname['C'] \n",
    "# Remove item from dictionary and return it\n",
    "dictname.pop('D') \n",
    "# Removes and returns the dictionary's last item\n",
    "dictname.popitem() \n",
    "# Remove all items from a dictionary\n",
    "dictname.clear() \n",
    "\n",
    "\"\"\" View / access a dictionary \"\"\"\n",
    "# Access value by its key\n",
    "dictname['B'] \n",
    "# Returns value if key exists\n",
    "dictname.get('A') \n",
    "dictname.get('A', 'Not found')\n",
    "# Check if key exists in dictionary\n",
    "'C' in dictname \n",
    "# Return a view object of a dictionary's keys\n",
    "dictname.keys() \n",
    "# Return a view object of a dictionary's values\n",
    "dictname.values() \n",
    "# Go through all keys, printing values\n",
    "for item in dictname: \n",
    "\tprint(dictname[item]) \n",
    "# Print values all in one line\n",
    "print(' '.join([str(value) for key, value in dictname.items()])) \n",
    "# Returns a view object with a list of dictionary's (key, value) tuple pair\n",
    "dictname.items() \n",
    "# Return a list of tuples\n",
    "list(dictname.items()) \n",
    "# Print keys and values\n",
    "for key, value in dictname.items(): \n",
    "\tprint(key, value) \n",
    "# Get key with the largest value\n",
    "dictname = { 'A':5, 'B':10, 'C':2 }\n",
    "max(dictname, key=dictname.get)\n",
    "```"
   ]
  },
  {
   "cell_type": "code",
   "execution_count": 973,
   "id": "9b4193bd",
   "metadata": {},
   "outputs": [
    {
     "name": "stdout",
     "output_type": "stream",
     "text": [
      "UK, London\n",
      "France, Paris\n",
      "Germany, Berlin\n",
      "{'UK': 'Londonelement', 'France': 'Paris', 'Germany': 'Berlin'}\n",
      "dict_keys(['UK', 'France', 'Germany'])\n"
     ]
    }
   ],
   "source": [
    "dictname = {'UK':'London', 'France':'Paris', 'Germany':'Berlin'}\n",
    "x = {'accipiter':'hawk', 'as per':'rough', 'auris':'ear'}\n",
    "\n",
    "# print keys and values of dictionary:\n",
    "for key, value in dictname.items():\n",
    "    print(f\"{key}, {value}\")\n",
    "\n",
    "# append dictionary's values within each key\n",
    "dictname['UK'] = dictname['UK'] + 'element'\n",
    "\n",
    "print(dictname)\n",
    "\n",
    "print(dictname.keys())"
   ]
  },
  {
   "cell_type": "code",
   "execution_count": 974,
   "id": "724dfa39",
   "metadata": {},
   "outputs": [
    {
     "name": "stdout",
     "output_type": "stream",
     "text": [
      "{'name': {'last_name': 'Zorin', 'first_name': 'Evgenii', 'middle_name': 'Maksimovich'}, 'address': ['Selskohozyaystvennaya street', 'house 38', 'block 2', 'apt. 180'], 'phone': '+79385234486'}\n",
      "dict_keys(['name', 'address', 'phone'])\n",
      "dict_values([{'last_name': 'Zorin', 'first_name': 'Evgenii', 'middle_name': 'Maksimovich'}, ['Selskohozyaystvennaya street', 'house 38', 'block 2', 'apt. 180'], '+79385234486'])\n",
      "Evgenii\n",
      "+79385234486\n"
     ]
    }
   ],
   "source": [
    "trial_dict = {\"name\": {\"last_name\": \"Zorin\", \"first_name\": \"Evgenii\", \"middle_name\": \"Maksimovich\"}, \n",
    "              \"address\": [\"Selskohozyaystvennaya street\", \"house 38\", \"block 2\", \"apt. 180\"], \n",
    "              \"phone\": \"+79385234486\"}\n",
    "print(trial_dict)\n",
    "print(trial_dict.keys())\n",
    "print(trial_dict.values())\n",
    "print(trial_dict[\"name\"][\"first_name\"] + \"\\n\" + trial_dict[\"phone\"])"
   ]
  },
  {
   "cell_type": "code",
   "execution_count": 975,
   "id": "4cb07d08",
   "metadata": {},
   "outputs": [
    {
     "name": "stdout",
     "output_type": "stream",
     "text": [
      "{'>line1': '1.asdg1.badgsga', '>line2': '2.asdga2.gbagagag'}\n"
     ]
    }
   ],
   "source": [
    "FASTAFile = ['>line1', '1.asdg', '1.badgsga', '>line2', '2.asdga', '2.gbagagag']\n",
    "FASTADict = {}\n",
    "FASTALabel = \"\"\n",
    "\n",
    "for line in FASTAFile:\n",
    "    if '>' in line:\n",
    "        FASTALabel = line\n",
    "        FASTADict[FASTALabel] = \"\"\n",
    "    else:\n",
    "        FASTADict[FASTALabel] += line\n",
    "        \n",
    "print(FASTADict)"
   ]
  },
  {
   "cell_type": "code",
   "execution_count": 976,
   "id": "c60427bf",
   "metadata": {},
   "outputs": [
    {
     "data": {
      "text/plain": [
       "{0: ['a', 'b', 'c'], 1: ['a', 'b', 'c'], 2: ['a', 'b', 'c']}"
      ]
     },
     "execution_count": 976,
     "metadata": {},
     "output_type": "execute_result"
    }
   ],
   "source": [
    "dict = {}\n",
    "\n",
    "for i in [0, 1, 2]:\n",
    "\tdict[i] = []\n",
    "\tfor j in ['a', 'b', 'c']:\n",
    "\t\tdict[i].append(j)\n",
    "\n",
    "dict"
   ]
  },
  {
   "cell_type": "code",
   "execution_count": 1,
   "id": "fd354919",
   "metadata": {},
   "outputs": [
    {
     "data": {
      "text/plain": [
       "{'b': 1, 'c': 2, 'a': 5}"
      ]
     },
     "execution_count": 1,
     "metadata": {},
     "output_type": "execute_result"
    }
   ],
   "source": [
    "# Sort the dictionary based on value\n",
    "dict1 = {\n",
    "\t'a':5, \n",
    "\t'b':1, \n",
    "\t'c':2\n",
    "}\n",
    "dict1 = dict(sorted(dict1.items(), key=lambda item: item[1]))\n",
    "dict1"
   ]
  },
  {
   "cell_type": "markdown",
   "id": "02e43594",
   "metadata": {},
   "source": [
    "## DefaultDict\n",
    "\n",
    "It is a subclass of a dictionary, which never raises a KeyError. "
   ]
  },
  {
   "cell_type": "code",
   "execution_count": 2,
   "id": "e14c840c",
   "metadata": {},
   "outputs": [
    {
     "data": {
      "text/plain": [
       "'Not present'"
      ]
     },
     "execution_count": 2,
     "metadata": {},
     "output_type": "execute_result"
    }
   ],
   "source": [
    "from collections import defaultdict\n",
    "\n",
    "dict1 = defaultdict(lambda: \"Not present\")\n",
    "\n",
    "dict1['a'] = 10\n",
    "dict1['b'] = 20\n",
    "dict1['c']"
   ]
  },
  {
   "cell_type": "markdown",
   "id": "b463e311",
   "metadata": {},
   "source": [
    "## Sets \n",
    "\n",
    "- `{curly braces}` \n",
    "- Collections of values like lists which do not allow for any duplicate values; a version of 'list' data type with all unique values\n",
    "- Unordered - don't have indices\n",
    "\n",
    "<img src=\"example_datasets/Media/Sets.jpg\" width=\"300\">\n",
    "\n",
    "- Set union: combine both sets; \n",
    "- Set intersection: items that are in both sets; \n",
    "- Set difference: subtract the items in one set from the items in the other set. \n",
    "\n",
    "```py\n",
    "set1 = set() # Create an empty set\n",
    "set1 = set(['a', 'b', 'c'])\n",
    "\n",
    "set1.add('B8') # Add a new value\n",
    "'elem' in set1 # Check if a set contains an element\n",
    "set1.union(set2) # Join two sets\n",
    "set1.intersection(set2) # Create a set of elements that are present in both sets\n",
    "set1.difference(set2) # Get a set of elements that are present in set1 but not in set2\n",
    "set1.add('Jack') # Add an item to a set\n",
    "set1.issubset(set2)\n",
    "set1.issuperset(set2) # Set1 is a superset of set2 if all values of subset are contained within the superset\n",
    "set1.discard('H') # Remove an item by its value\n",
    "set1.pop() # Pop the last item in the set\n",
    "```"
   ]
  },
  {
   "cell_type": "code",
   "execution_count": 977,
   "id": "0ffe6b3c",
   "metadata": {},
   "outputs": [
    {
     "name": "stdout",
     "output_type": "stream",
     "text": [
      "True\n"
     ]
    }
   ],
   "source": [
    "# Print False if two sets have at least one item in common\n",
    "set1 = set('abcd')\n",
    "set2 = set('efd')\n",
    "\n",
    "if len( set1.intersection(set2) ) == 0:\n",
    "\tprint(False)\n",
    "else:\n",
    "\tprint(True)"
   ]
  },
  {
   "cell_type": "code",
   "execution_count": 10,
   "id": "f5565768",
   "metadata": {},
   "outputs": [
    {
     "data": {
      "text/plain": [
       "'a'"
      ]
     },
     "execution_count": 10,
     "metadata": {},
     "output_type": "execute_result"
    }
   ],
   "source": [
    "s = \"a\" \n",
    "t = \"aa\"\n",
    "\n",
    "c = t.replace(s, '', 1)\n",
    "c"
   ]
  },
  {
   "cell_type": "markdown",
   "id": "3d46fe12",
   "metadata": {},
   "source": [
    "## Arrays\n",
    "\n",
    "- `([ ])`\n",
    "- Allow calculations over entire arrays\n",
    "- See Numpy\n"
   ]
  },
  {
   "cell_type": "markdown",
   "id": "f1f5e81c",
   "metadata": {},
   "source": [
    "# Operators"
   ]
  },
  {
   "cell_type": "markdown",
   "id": "14401cb1",
   "metadata": {},
   "source": [
    "## Arithmetic operators\n",
    "\n",
    "\n",
    "| Operator | Name | Meaning | Example |\n",
    "| - | - | - | - |\n",
    "| `+` | Addition | adds two operands | `a += 2` |\n",
    "| `-` | Subtraction | subtracts two operands | `a -= 2` |\n",
    "| `*` | Multiplication | multiplies two operands | `a *= 2` |\n",
    "| `/` | Division (float) | divides the first operand by the second (returns float) | `a /= 2` |\n",
    "| `//` | Floor division | divides the first operand by the second (returns int - how many times can i divide without a residual) | `8 // 3` (returns 2) |\n",
    "| `%` | Modulus | returns the remainder when the first operand is divided by the second | `10 % 3` (returns 1) | |\n",
    "| `**` | Power / exponentiation | returns a number raised to the power of the second number | `a**2` |\n",
    "\n",
    "_**Important notes!!!**_\n",
    "\n",
    "Sometimes Python operands behave abnormally, as in not in the way you would expect. The most famous examples are `%` and `//`. \n",
    "\n",
    "```py\n",
    "11 % 10 # outputs 1 - OK\n",
    "1 % 10 # outputs 1 - OK\n",
    "-1 % 10 # outputs -9??? I would expect -1\n",
    "# Instead of this operand, one could use the math.fmod function:\n",
    "import math\n",
    "math.fmod(-1, 10) # outputs -1.0, as expected\n",
    "\n",
    "\n",
    "1 // 10 # outputs 0 - OK\n",
    "25 // 10 # outputs 2 - OK\n",
    "```\n",
    "\n",
    "Some examples:\n",
    "\n",
    "```py\n",
    "# Get the last digit of a number\n",
    "15 % 10 # not ideal, as doesn't work as expected with the negative numbers\n",
    "import math; math.fmod(15, 10) # PREFERABLE\n",
    "```"
   ]
  },
  {
   "cell_type": "markdown",
   "id": "d4b099aa",
   "metadata": {},
   "source": [
    "## Binary operators\n",
    "\n",
    "| Operator | Function | Syntax |\n",
    "| --- | --- | --- |\n",
    "| `^` | Bitwise XOR: outputs 1 when of the two operands under comparison, one is $1$ and the other is $0$ | `x ^ y` |\n",
    "| `>>` | Bitwise right shift | `x >> 1` |\n",
    "| `<<` | Bitwise left shift | `x << 1` |\n"
   ]
  },
  {
   "cell_type": "code",
   "execution_count": 28,
   "id": "4efa28d4",
   "metadata": {},
   "outputs": [
    {
     "data": {
      "text/plain": [
       "'0b101000'"
      ]
     },
     "execution_count": 28,
     "metadata": {},
     "output_type": "execute_result"
    }
   ],
   "source": [
    "a = 10 # 1010 in binary \n",
    "a >> 1 # 10 becomes 5 in decimal: 1010 -> 101\n",
    "a >> 2 # 10 becomes 2 in decimal: 1010 -> 10\n",
    "\n",
    "a << 2 # 10 becomes 40 in decimal: 101000\n"
   ]
  },
  {
   "cell_type": "code",
   "execution_count": 21,
   "id": "14cd77ff",
   "metadata": {},
   "outputs": [
    {
     "name": "stdout",
     "output_type": "stream",
     "text": [
      "0b101\n",
      "0b111\n",
      "0b10\n"
     ]
    }
   ],
   "source": [
    "a = 5; print(bin(a))\n",
    "b = 7; print(bin(b))\n",
    "a ^ b; print(bin(a^b))"
   ]
  },
  {
   "cell_type": "markdown",
   "id": "8606da13",
   "metadata": {},
   "source": [
    "# Python comprehensions <a class=\"anchor\" id=\"Python-comprehensions\"></a>\n",
    "\n",
    "Comprehensions are used for lists, dictionaries, and sets. \n",
    "It is a quick and easy alternative to maps, filters, and for loops. Can replace lots of nested for loops. "
   ]
  },
  {
   "cell_type": "markdown",
   "id": "86217670",
   "metadata": {},
   "source": [
    "## List comprehensions\n",
    "\n",
    "Syntax:    \n",
    "```py \n",
    "a = [expression for value in collection]\n",
    "```\n",
    "\n",
    "Examples: \n",
    "```py\n",
    "# Create a list of numbers in a range\n",
    "[i for i in range(11)]\n",
    "# Create a list of items for each char in string\n",
    "[i for i in 'string']\n",
    "# Duplicate letters in a string\n",
    "[i*2 for i in 'string'] # list\n",
    "''.join([i*2 for i in 'string']) # string\n",
    "# Create a list of 4 random items\n",
    "import random\n",
    "[random.randint(-10, 10) for i in range(4)]\n",
    "###########################################\n",
    "\n",
    "list1 = [-3, -2, -1, 0, 1, 2, 3, 4, 5, 6]\n",
    "# Copy list \n",
    "[i for i in list1]\n",
    "# Multiply each item by 2\n",
    "[i*2 for i in list1]\n",
    "# Remove all minus signs\n",
    "[abs(i) for i in list1]\n",
    "# Copy only even elements of a list\n",
    "[i for i in nums if i%2 == 0]\n",
    "# Check if numbers are odd or even\n",
    "['even' if i%2 == 0 else 'odd' for i in list1]\n",
    "\n",
    "# Boolean array (True, False)\n",
    "[ ( i%2 != 0 and i > 5 ) for i in range(0, 10) ]\n",
    "# Boolean array (binary - 0, 1)\n",
    "[ int( i%2 != 0 and i > 5 ) for i in range(0, 10) ]\n",
    "\n",
    "```"
   ]
  },
  {
   "cell_type": "code",
   "execution_count": 978,
   "id": "b4ee7990",
   "metadata": {},
   "outputs": [
    {
     "name": "stdout",
     "output_type": "stream",
     "text": [
      "[('A', 1), ('A', 2), ('B', 1), ('B', 2), ('C', 1), ('C', 2)]\n",
      "[(0, 4), (0, 5), (1, 4), (1, 5)]\n",
      "['a0', 'a1', 'a2', 'a3', 'b0', 'b1', 'b2', 'b3', 'c0', 'c1', 'c2', 'c3', 'd0', 'd1', 'd2', 'd3']\n",
      "[[6, 7, 8], [6, 7, 8], [6, 7, 8]]\n",
      "7500\n",
      "[0, 4, 16, 36, 64]\n",
      "[0, 'even', 4, 'even', 16, 'even', 36, 'even', 64, 'even']\n",
      "['adsfadfs', 'asdd']\n",
      "[0, 6]\n"
     ]
    },
    {
     "data": {
      "text/plain": [
       "['a 1 A', 'b 2 B', 'c 3 C']"
      ]
     },
     "execution_count": 978,
     "metadata": {},
     "output_type": "execute_result"
    }
   ],
   "source": [
    "# NESTED LIST COMPREHENSIONS / combining lists\n",
    "\n",
    "# Create a list of duplexes, where each duplex is a combination of 'ABCD' and a number (1-4) for each letter \n",
    "print( [(letter, num) for letter in 'ABC' for num in range(1, 3)] )\n",
    "\n",
    "## Create a list of duplexes\n",
    "print( [(i, j) for i in range(0, 2) for j in range(4, 6)] )\n",
    "\n",
    "## Combine two strings\n",
    "print( [(f\"{i}{j}\") for i in 'abcd' for j in '0123'] )\n",
    "\n",
    "## Matrix represented as list of lists\n",
    "print( [[col for col in range(6, 9)] for row in range(3)] )\n",
    "\n",
    "## Print sum of odd numbers from 100-200\n",
    "print( sum( [i for i in range(100, 201) if i %2 != 0] ) )\n",
    "\n",
    "## Place conditions on the iterable: print squared even numbers 0-9 \n",
    "print( [i**2 for i in range(10) if i %2 == 0] )\n",
    "\n",
    "## If even number, square, else write 'even'\n",
    "print( [i**2 if i %2 == 0 else 'even' for i in range(10)] )\n",
    "\n",
    "## Replace '\\n' with '' in each string item in a list\n",
    "print( [i.replace('\\n', '') for i in ['adsf\\nadfs', 'asd\\nd']] )\n",
    "\n",
    "## Two conditions\n",
    "print( [i for i in range(0, 9) if i %2 == 0 and i %3 == 0] )\n",
    "\n",
    "# Find common elements\n",
    "[i for i in ['a', 'b', 'c'] if i in ['c', 'd']]\n",
    "\n",
    "# Combine elements with the same index\n",
    "[f'{i} {j} {k}' for i, j, k in zip(['a', 'b', 'c'], ['1', '2', '3'], ['A', 'B', 'C'])]"
   ]
  },
  {
   "cell_type": "code",
   "execution_count": 979,
   "id": "cf35e1e9",
   "metadata": {},
   "outputs": [
    {
     "data": {
      "text/plain": [
       "[1, 12, 12]"
      ]
     },
     "execution_count": 979,
     "metadata": {},
     "output_type": "execute_result"
    }
   ],
   "source": [
    "# Filtering with IF statement\n",
    "\n",
    "scores = [-12, 17, -30, 29, -19, 35]\n",
    "\n",
    "# Only get values that are 10 < x < 20\n",
    "[i for i in scores if 10 < i < 20] \n",
    "# Label numbers are positive and negative\n",
    "['negative' if i < 0 else 'positive' for i in scores]\n",
    "\n",
    "values = ['1', '12', '12', 'abcd', '12ab']\n",
    "[int(i) for i in values if i.isdigit()]"
   ]
  },
  {
   "cell_type": "markdown",
   "id": "e0728fb2",
   "metadata": {},
   "source": [
    "## Dictionary comprehensions\n",
    "\n",
    "```py\n",
    "names = ['Bruce', 'Clark', 'Barry']\n",
    "surnames = ['Wayne', 'Kent', 'Allen']\n",
    "\n",
    "# Create dictionary out of lists\n",
    "{i: j for i, j in zip(names, surnames)}\n",
    "# Exclude some names\n",
    "{i: j for i, j in zip(names, surnames) if name not in ['Jack', 'John']}\n",
    "#############################################################################\n",
    "\n",
    "word = 'recEde'\n",
    "# Count unique characters (case-sensitive)\n",
    "{i: word.count(i) for i in set(word)}\n",
    "# Count unique characters (case-insensitive, all change to lowercase)\n",
    "{i: word.lower().count(i) for i in set(word.lower())}\n",
    "##############################################################################\n",
    "# number: odd or even\n",
    "{i:'even' if i%2 == 0 else 'odd' for i in [0, 1, 2, 3, 4, 5]}\n",
    "```"
   ]
  },
  {
   "cell_type": "code",
   "execution_count": 980,
   "id": "a0932c08",
   "metadata": {},
   "outputs": [
    {
     "name": "stdout",
     "output_type": "stream",
     "text": [
      "{'x': 1, 'o': 2}\n"
     ]
    },
    {
     "data": {
      "text/plain": [
       "False"
      ]
     },
     "execution_count": 980,
     "metadata": {},
     "output_type": "execute_result"
    }
   ],
   "source": [
    "dict1 = {}\n",
    "\n",
    "def xo(s):\n",
    "\tdict1 = {i: s.lower().count(i) for i in set(s.lower())}\n",
    "\tif 'x' not in dict1:\n",
    "\t\tdict1['x'] = 0\n",
    "\tif 'o' not in dict1:\n",
    "\t\tdict1['o'] = 0\n",
    "\tprint(dict1)\n",
    "\t#\n",
    "\tif dict1['o'] == dict1['x']:\n",
    "\t\treturn True\n",
    "\telif dict1['o'] != dict1['x']:\n",
    "\t\treturn False\n",
    "\n",
    "xo('xoO')"
   ]
  },
  {
   "cell_type": "markdown",
   "id": "685c77dd",
   "metadata": {},
   "source": [
    "## Set comprehensions"
   ]
  },
  {
   "cell_type": "code",
   "execution_count": 981,
   "id": "b03b898e",
   "metadata": {},
   "outputs": [
    {
     "name": "stdout",
     "output_type": "stream",
     "text": [
      "{1, 2, 3, 4, 5}\n",
      "{1, 2, 3, 4, 5}\n",
      "{'f', 's', 'd', 'a'}\n"
     ]
    }
   ],
   "source": [
    "# Set comprehensions\n",
    "\n",
    "#compehension-free solution - for loop\n",
    "nums = [1, 1, 1, 2, 3, 4, 5, 5, 5, 1, 1, 1]\n",
    "set1 = set()\n",
    "for n in nums:\n",
    "    set1.add(n)\n",
    "print(set1)\n",
    "\n",
    "# set comprehension\n",
    "print( {n for n in nums} )\n",
    "print( {n for n in 'aasdfasdf'} )"
   ]
  },
  {
   "cell_type": "markdown",
   "id": "7beb3a18",
   "metadata": {},
   "source": [
    "## Generators\n",
    "\n",
    "Like list comprehensions, but without storing the generated data in memory. \n",
    "- Use 'yield' instead of 'return'\n",
    "- Can iterate with '.items()'\n",
    "- Syntax is same as list comprehension but uses parentheses instead of square brackets\n"
   ]
  },
  {
   "cell_type": "code",
   "execution_count": 982,
   "id": "cb161e3d",
   "metadata": {},
   "outputs": [
    {
     "name": "stdout",
     "output_type": "stream",
     "text": [
      "<generator object gen_func at 0x0000021E0AE5FAC0>\n",
      "1\n",
      "4\n",
      "9\n",
      "16\n",
      "25\n",
      "1\n",
      "4\n",
      "9\n",
      "16\n",
      "25\n"
     ]
    }
   ],
   "source": [
    "# generator expressions\n",
    "# similar to list comprehension\n",
    "\n",
    "nums = [1, 2, 3, 4, 5]\n",
    "\n",
    "def gen_func(nums):\n",
    "    for n in nums:\n",
    "        yield n**2\n",
    "my_gen = gen_func(nums)\n",
    "print(my_gen)\n",
    "for i in my_gen:\n",
    "    print(i)\n",
    "\n",
    "# generator expression\n",
    "## syntax similar to list comprehensions but brackets --> parentheses\n",
    "my_gen = (n**2 for n in nums)\n",
    "for i in my_gen:\n",
    "    print(i)"
   ]
  },
  {
   "cell_type": "markdown",
   "id": "2c693cf3",
   "metadata": {},
   "source": [
    "# Math in Python"
   ]
  },
  {
   "cell_type": "code",
   "execution_count": 10,
   "id": "b0748e88",
   "metadata": {},
   "outputs": [
    {
     "data": {
      "text/plain": [
       "-inf"
      ]
     },
     "execution_count": 10,
     "metadata": {},
     "output_type": "execute_result"
    }
   ],
   "source": [
    "# MOST BASIC\n",
    "\n",
    "5 % 2  # print residual from division\n",
    "11 // 3 # round down (floor) the result of division\n",
    "\n",
    "import math\n",
    "math.prod([2, 5, -1]) # Return the product of a list\n",
    "math.factorial(10) # Return factorial of a number: 10! = 10*9*8*...*3*2*1\n",
    "math.lcm(3, 10, 20) # Returns lowest common multiple of the numbers; in this case, it's 60\n",
    "math.sqrt(25) # Returns square root of 25 -> 5.0\n",
    "\n",
    "a = 5\n",
    "a = max(a, 10)\n",
    "\n",
    "# Get infinity\n",
    "float(\"inf\")\n",
    "float(\"-inf\")"
   ]
  },
  {
   "cell_type": "code",
   "execution_count": 4,
   "id": "d8332d14",
   "metadata": {},
   "outputs": [
    {
     "data": {
      "text/plain": [
       "2"
      ]
     },
     "execution_count": 4,
     "metadata": {},
     "output_type": "execute_result"
    }
   ],
   "source": [
    "52 % 10"
   ]
  },
  {
   "cell_type": "code",
   "execution_count": 13,
   "id": "80aecaf4",
   "metadata": {},
   "outputs": [
    {
     "name": "stdout",
     "output_type": "stream",
     "text": [
      "6.907755278982137\n",
      "3.0\n",
      "3.0\n"
     ]
    }
   ],
   "source": [
    "# LOGARITHM, PI\n",
    "\n",
    "import math\n",
    "\n",
    "a = 1000\n",
    "\n",
    "# Print pi number\n",
    "math.pi \n",
    "\n",
    "# natural log (base 'e')\n",
    "print( math.log(a) )\n",
    "# simple log\n",
    "print( math.log10(a) )\n",
    "# log base 3 of 27\n",
    "print( math.log(27, 3) )\n",
    "\n"
   ]
  },
  {
   "cell_type": "code",
   "execution_count": 986,
   "id": "c242c341",
   "metadata": {},
   "outputs": [
    {
     "name": "stdout",
     "output_type": "stream",
     "text": [
      "[('a', 'A'), ('a', 'B'), ('b', 'A'), ('b', 'B')]\n",
      "['aA', 'aB', 'bA', 'bB']\n"
     ]
    }
   ],
   "source": [
    "# COMBINATIONS, PERMUTATIONS, CUMULATIVE\n",
    "\n",
    "import itertools; from itertools import product, permutations, combinations, accumulate\n",
    "\n",
    "a = [1, 2, 3]\n",
    "b = [4, 5]\n",
    "\n",
    "# All possible combinations btw the two lists\n",
    "list(product(a, b)) # [(1,4), (1,5), (2,4), (2,5), (3,4), (3,5)] \n",
    "list(product(a, b, repeat=2))\n",
    "# All possible combinations between all items in a list\n",
    "c = ['a', 'b', 'c']\n",
    "[i for i in product(*(c))]\n",
    "\n",
    "# Permutations - care about the order\n",
    "list(permutations(a)) # [ (1,2,3), (1,3,2), (2,1,3), (2,3,1), (3,1,2), (3,2,1) ]\n",
    "# Combinations - don't care about the order\n",
    "list(combinations(a, 2)) # [ (1,2), (1,3), (2,3) ]\n",
    "\n",
    "list(accumulate(a)) # Increase each item in a list cumulatively\n",
    "list(accumulate(a, func=max)) # Only change next item if it's a max\n",
    "\n",
    "\n",
    "import itertools\n",
    "\n",
    "dict1 = {\n",
    "\t1: ['a', 'b'], \n",
    "\t2: ['A', 'B']\n",
    "}\n",
    "\n",
    "\n",
    "print( [ i for i in itertools.product(*(dict1.values())) ] )\n",
    "print( [ ''.join(i) for i in itertools.product(*(dict1.values())) ] )"
   ]
  },
  {
   "cell_type": "code",
   "execution_count": 1,
   "id": "506a124b",
   "metadata": {},
   "outputs": [
    {
     "name": "stdout",
     "output_type": "stream",
     "text": [
      "[[1, 4, 7], [2, 5, 8], [3, 6, 9]]\n"
     ]
    },
    {
     "data": {
      "text/plain": [
       "[[1, 1, 1, 1, 1, 1, 1],\n",
       " [1, '?', '?', '?', '?', '?', '?'],\n",
       " [1, '?', '?', '?', '?', '?', '?'],\n",
       " [1, '?', '?', '?', '?', '?', '?'],\n",
       " [1, '?', '?', '?', '?', '?', '?'],\n",
       " [1, '?', '?', '?', '?', '?', '?'],\n",
       " [1, '?', '?', '?', '?', '?', '?']]"
      ]
     },
     "execution_count": 1,
     "metadata": {},
     "output_type": "execute_result"
    }
   ],
   "source": [
    "# MATRICES\n",
    "\n",
    "matrix = [[1,2,3],[4,5,6],[7,8,9]]\n",
    "\n",
    "len(matrix) # How many rows does a matrix have?\n",
    "len(matrix[0]) # How many columns does a matrix have? \n",
    "\n",
    "# In-place transpose a (N x N) matrix\n",
    "for row in range(0, len(matrix)):\n",
    "\tfor column in range(row, len(matrix[0])):\n",
    "\t\tmatrix[row][column], matrix[column][row] = matrix[column][row], matrix[row][column]\n",
    "print(matrix)\n",
    "\n",
    "# Transpose any-sized matrix into matrix_T\n",
    "matrix_T = []\n",
    "for j in range(0, len(matrix[0])): # Iterate in column\n",
    "\tnewRow = []\n",
    "\tfor i in range(0, len(matrix)): # Iterate in row\n",
    "\t\tnewRow.append(matrix[i][j]) # Fill in the new row, appending to it vaules from same column, iterating row\n",
    "\tmatrix_T.append(newRow)\n",
    "\n",
    "\n",
    "matrix.reverse() # Flip the matrix head-to-toe\n",
    "matrix[0].reverse() # Reverse only the first row of a matrix\n",
    "\n",
    "\n",
    "\n",
    "m = 7\n",
    "n = 7\n",
    "grid = [ [1 for y in range(n)] if x == 0 else [1 if y == 0 else '?' for y in range(n)] for x in range(m) ]\n",
    "grid\n"
   ]
  },
  {
   "cell_type": "markdown",
   "id": "49fc5257",
   "metadata": {},
   "source": [
    "# REGEXP\n",
    "\n",
    "Regular expressions. \n",
    "\n",
    "| Special character | Meaning |\n",
    "| --- | --- |\n",
    "| `.` | Any character except a newline |\n",
    "| `\\s` | Matches whitespace |\n",
    "| `\\S` | Matches any non-whitespace character |\n",
    "| `^` | Matches the start of a string |\n",
    "| `$` | Matches the end of a string |\n",
    "| `*` | Match 0 or more repetitions of preceding regexp |\n",
    "| `+` | Match 1 or more repetitions of preceding regexp |\n",
    "| `?` | Match 0 or 1 repetitions of preceding regexp |\n",
    "| `{m}` | Match exactly `m` copies of the preceding regexp |\n",
    "| `{m,n}` | Match from `m` to `n` repetitions of the preceding regexp |\n",
    "| `[]` | Indicates a set of characters, e.g. `[amk]`, `[a-zA-Z0-9]` | \n",
    "| `()` | These tell where to start and stop what string to extract |\n",
    "\n"
   ]
  },
  {
   "cell_type": "code",
   "execution_count": 2,
   "id": "e32f1481",
   "metadata": {},
   "outputs": [
    {
     "name": "stdout",
     "output_type": "stream",
     "text": [
      "<re.Match object; span=(20, 23), match=' I '>\n",
      " I \n",
      "['2 ', '194 ', '426']\n",
      "['2', '500', '219']\n"
     ]
    }
   ],
   "source": [
    "import re\n",
    "\n",
    "# Print start and end of the searched query\n",
    "a = \"I really like Shrek! I also love the other two movies.\"\n",
    "b = re.search(\"\\sI\\s\", a)\n",
    "print(b)\n",
    "print(a[20:23])\n",
    "\n",
    "# Print a list of found queries\n",
    "a = \"My 2 (two) favourite 5numbers are 194 and 426\"\n",
    "b = re.findall( '[^a-zA-Z]([0-9]+[^a-zA-Z])' , a)\n",
    "print(b)\n",
    "\n",
    "a = \"I 2 love rock 500 and roll 219 times\"\n",
    "\n",
    "b = re.findall( '[0-9]+' , a )\n",
    "print(b)"
   ]
  },
  {
   "cell_type": "code",
   "execution_count": 8,
   "id": "0c20010e",
   "metadata": {},
   "outputs": [
    {
     "data": {
      "text/plain": [
       "['[1]', '[2]', '[3]', '[10]']"
      ]
     },
     "execution_count": 8,
     "metadata": {},
     "output_type": "execute_result"
    }
   ],
   "source": [
    "import re\n",
    "a = '395[1] film[2] movies [3] another one[10]'\n",
    "re.findall( '\\[[0-9]*\\]', a )"
   ]
  },
  {
   "cell_type": "code",
   "execution_count": 10,
   "metadata": {},
   "outputs": [
    {
     "name": "stdout",
     "output_type": "stream",
     "text": [
      "['Name: John; Surname: Doe; Age: 27; Email: john.doe@harvard.co.uk; Date: 04.04.2000; Salary:']\n",
      "['Name:']\n",
      "['john.doe@harvard.co.uk;']\n",
      "['john.doe@harvard.co.uk']\n",
      "['harvard.co.uk;']\n",
      "['harvard.co.uk']\n",
      "['$10.00']\n"
     ]
    }
   ],
   "source": [
    "a = \"Name: John; Surname: Doe; Age: 27; Email: john.doe@harvard.co.uk; Date: 04.04.2000; Salary: $10.00; \"\n",
    "\n",
    "# Greedy: finds the longest string match\n",
    "print(  re.findall('^N.+:', a) )\n",
    "# Non-greedy matching: prints the first encountered match\n",
    "print( re.findall('^N.+?:', a) )\n",
    "\n",
    "# Extract email\n",
    "print( re.findall('\\S+@\\S+', a) ) # ver1\n",
    "print( re.findall('\\S+@[a-zA-Z.]+', a) ) # ver2 - better\n",
    "# Extract email domain\n",
    "print( re.findall('Email.+@([^ ]*)', a) ) # ver1\n",
    "print( re.findall('Email.+@([a-zA-Z.]+)', a) ) # ver2\n",
    "\n",
    "# Extract pay (dollars)\n",
    "print( re.findall('\\$[0-9.]+', a) )"
   ]
  },
  {
   "cell_type": "code",
   "execution_count": 8,
   "id": "9d357434",
   "metadata": {},
   "outputs": [
    {
     "data": {
      "text/plain": [
       "'i was i were now i am not  '"
      ]
     },
     "execution_count": 8,
     "metadata": {},
     "output_type": "execute_result"
    }
   ],
   "source": [
    "import re\n",
    "\n",
    "a = \"'i was,, i were. now i: am not <br /> ?\"\n",
    "\n",
    "a = re.sub( '[,.?:\\']', '', a )\n",
    "a = re.sub( '<br />', '', a )\n",
    "a"
   ]
  },
  {
   "cell_type": "markdown",
   "id": "f1c4a6a1",
   "metadata": {},
   "source": [
    "# Opening files\n",
    "\n",
    "Open a web browser link:\n",
    "```py\n",
    "import webbrowser\n",
    "#import hashlib\n",
    "\n",
    "webbrowser.open(\"https://www.youtube.com/\")\n",
    "```\n",
    "---\n",
    "\n",
    "**File handling**\n",
    "\n",
    "Working with file programmatically using python. \n",
    "\n",
    "The `open` function accepts a 'mode' argument to specify how we can interact with the file\n",
    "```py\n",
    "open('filename.txt', mode='r')\n",
    "```\n",
    "\n",
    "Modes of opening a file ('mode' argument): \n",
    "1. Read mode - 'r': read the content of the file\n",
    "2. Append mode - 'a': add content to the end of the file\n",
    "3. Write mode - 'w': clears the content of the file and writes content to the file\n",
    "4. Create mode - 'x': create the file and return error if that file already exists. \n",
    "\n",
    "Read methods:    \n",
    "- ```f.read(n)``` reads and returns a string of 'n' characters, or the entire file as a single string (including newlines) if 'n' is not provided;    \n",
    "- ```f.readline(n)``` - iterator. Returns the next line of the file with all text up to and including the newline character. Will read up to 'n' bytes or a newline, whichever comes first; \n",
    "- ```f.readlines(n)``` - returns a list of strings, each representing a single line of the file including newline symbols. \n",
    "\n",
    "**Example 1**\n",
    "```py\n",
    "filehandle = open('filename.txt')\n",
    "content = filehandle.read()\n",
    "print(content)\n",
    "filehandle.close()\n",
    "```\n",
    "\n",
    "**Example 2**   \n",
    "Close file automatically using 'with' statement:\n",
    "```py\n",
    "with open('justpractice.txt', 'r') as f:\n",
    "\toutput = f.readlines()\n",
    "\tfor line in output:\n",
    "\t\tprint(line.split(\"\\n\")[0]) \n",
    "\n",
    "```\n",
    "\n",
    "Skip the first line, print all subsequent lines with `readlines()`\n",
    "```py\n",
    "with open('justpractice.txt', 'r') as f:\n",
    "\tf.readline()\n",
    "\tfor line in f:\n",
    "\t\tprint(line.split(\"\\n\")[0])\n",
    "\n",
    "```\n",
    "\n",
    "Write heading to the output file\n",
    "```py\n",
    "with open('input.txt', 'r') as input, open('filepath.txt', 'w') as output: \n",
    "\tinput1 = input.readlines()\n",
    "\toutput.write(\"Mutations\" + '\\t' + \"Correlation\" + '\\t' + \"P-value\" + '\\n')\n",
    "\tfor i in input1:\n",
    "\t\toutput.write(i)\n",
    "\tprint('something', file=output)\n",
    "\n",
    "# read file, omitting newlines (\\n)\n",
    "with open('rosalind_gc.txt', 'r') as input:\n",
    "    lines = [line.strip() for line in input.readlines()]\n",
    "\n",
    "# Use module csv\n",
    "# outputs content on each line placed before delimiter ';'\n",
    "import csv\n",
    "with open('input.csv', 'r') as input, open('output.csv', 'w') as output:\n",
    "\tcsv_reader = csv.reader(input, delimiter=';')\n",
    "\tnext(csv_reader) # skips reading header in input.txt\n",
    "\tfor line in csv_reader:\n",
    "\t\toutput.write(line[0] + \"\\n\")\n",
    "\n",
    "with open('input.csv', 'r') as input, open('output.csv', 'w') as output:\n",
    "    csv_reader = csv.reader(input, delimiter=',')\n",
    "    csv_writer = csv.writer(output)\n",
    "    for line in csv_reader:\n",
    "        csv_writer.writerow(line)\n",
    "\n",
    "```"
   ]
  },
  {
   "cell_type": "markdown",
   "id": "d5c3bd6c",
   "metadata": {
    "tags": []
   },
   "source": [
    "# Loops and conditional statements"
   ]
  },
  {
   "cell_type": "code",
   "execution_count": 987,
   "id": "658e1d62",
   "metadata": {},
   "outputs": [
    {
     "name": "stdout",
     "output_type": "stream",
     "text": [
      "***\n",
      "***\n",
      "***\n",
      "\n",
      "Downloading file 0 out of 3\n",
      "Downloading file 1 out of 3\n",
      "Downloading file 2 out of 3\n",
      "\n"
     ]
    }
   ],
   "source": [
    "# \"While\" loop\n",
    "def display_stars(rows):\n",
    "    counter = 0\n",
    "    while counter < rows:\n",
    "        print(\"***\")\n",
    "        counter += 1\n",
    "display_stars(3)\n",
    "print()\n",
    "\n",
    "# \"For\" loop \n",
    "## We can reuse a loop with a range that we desire, simply by passing a parameter \"total_files\" between the parentheses of range()\n",
    "## Loop ranges tell us how many times a loop runs\n",
    "def display_progress(total_files):\n",
    "    for i in range(total_files):\n",
    "        print (f\"Downloading file {i} out of {total_files}\")\n",
    "display_progress(3)\n",
    "print()\n",
    "\n"
   ]
  },
  {
   "cell_type": "code",
   "execution_count": 988,
   "id": "562036c8",
   "metadata": {},
   "outputs": [
    {
     "name": "stdout",
     "output_type": "stream",
     "text": [
      "found an 's'!\n",
      "done!\n"
     ]
    }
   ],
   "source": [
    "a = \"password\"\n",
    "\n",
    "for i in a:\n",
    "\tif i != \"s\":\n",
    "\t\tcontinue # continue statement ends the cycle's current iteration and starts the next one \n",
    "\telif i == \"s\":\n",
    "\t\tprint(\"found an 's'!\")\n",
    "\t\tbreak # exits the loop\n",
    "print('done!')"
   ]
  },
  {
   "cell_type": "code",
   "execution_count": 989,
   "id": "0b5da9f6",
   "metadata": {},
   "outputs": [],
   "source": [
    "# Definite loop\n",
    "\n",
    "# in this case, :\n",
    "# i - iteration variable\n",
    "\n",
    "for i in [0, 1, 2, 3]:\n",
    "\tcontinue"
   ]
  },
  {
   "cell_type": "markdown",
   "id": "f75d1ae0",
   "metadata": {},
   "source": [
    "## Statements\n",
    "\n",
    "There are some important statements for controlling the loop:\n",
    "\n",
    "| Statement | Meaning |\n",
    "| - | - |\n",
    "| `continue` | Returns the current iteration to the beginning, IOW, skips the current iteration. |\n",
    "| `break` | Stops / gets out of the loop and moves forward. |\n",
    "| `pass` | A null statement, could be used as a placeholder for future code. |\n"
   ]
  },
  {
   "cell_type": "code",
   "execution_count": 6,
   "id": "36a9ad0f",
   "metadata": {},
   "outputs": [
    {
     "name": "stdout",
     "output_type": "stream",
     "text": [
      "1\n",
      "2\n",
      "3\n",
      "5\n"
     ]
    }
   ],
   "source": [
    "# The \"continue\" statement\n",
    "# We skip number 2\n",
    "for i in [1,2,3,4,5]:\n",
    "\tif i == 4:\n",
    "\t\tcontinue\n",
    "\tprint(i)"
   ]
  },
  {
   "cell_type": "code",
   "execution_count": 7,
   "id": "1ae28521",
   "metadata": {},
   "outputs": [
    {
     "name": "stdout",
     "output_type": "stream",
     "text": [
      "1\n",
      "2\n",
      "3\n"
     ]
    }
   ],
   "source": [
    "# The \"break\" statement\n",
    "# Gets the iterator out of the loop\n",
    "for i in [1,2,3,4,5]:\n",
    "\tif i == 4:\n",
    "\t\tbreak\n",
    "\tprint(i)"
   ]
  },
  {
   "cell_type": "code",
   "execution_count": 9,
   "id": "4c1897b2",
   "metadata": {},
   "outputs": [
    {
     "name": "stdout",
     "output_type": "stream",
     "text": [
      "1\n",
      "2\n",
      "3\n",
      "4\n",
      "5\n"
     ]
    }
   ],
   "source": [
    "# The \"null\" statement\n",
    "# Null statement\n",
    "for i in [1,2,3,4,5]:\n",
    "\tif i == 4:\n",
    "\t\tpass\n",
    "\tprint(i)"
   ]
  },
  {
   "cell_type": "markdown",
   "id": "2e344f8d",
   "metadata": {},
   "source": [
    "## Zip, enumerate\n",
    "\n",
    "**Zip**\n",
    "\n",
    "Takes iterables and returns a zip object that is an iterator of tuples. \n",
    "\n",
    "```py\n",
    "list1 = 'SDSPAGE'\n",
    "list2 = 'jacuzzi'\n",
    "\n",
    "for i in zip(list1, list2):\n",
    "\tprint(i) # ('S', 'j')\n",
    "\n",
    "```\n",
    "\n",
    "Zip only zips together the same elements from the same index; therefore, if one list is longer than the other, the longer list gets cut off. \n",
    "\n",
    "If you want to include the overlapping end of the longer list, you can use `itertools.zip_longest()`:\n",
    "```py\n",
    "import itertools\n",
    "z = list( itertools.zip_longest('String1', 'Str2', fillvalue='') )\n",
    "```\n",
    "\n",
    "---\n",
    "\n",
    "**Enumerate** \n",
    "\n",
    "Produces sequence of tuples, each an index-value pair. Returns enumerate object.   \n",
    "\n",
    "```py\n",
    "for index, value in enumerate('SDSPAGE'):\n",
    "\tprint(value)\n",
    "```\n"
   ]
  },
  {
   "cell_type": "markdown",
   "id": "a4cd9f15",
   "metadata": {
    "tags": []
   },
   "source": [
    "# Functions\n",
    "\n",
    "Functions are needed to keep your code DRY = not repeat the same code over and over again.    \n",
    "def function_name(argument1, argument2)"
   ]
  },
  {
   "cell_type": "markdown",
   "id": "4cc5e0c4",
   "metadata": {},
   "source": [
    "## Define new function\n",
    "\n",
    "```def function_name(a: str, b, c) -> int:```    \n",
    "In this case, int, line:str are all function annotations.    \n",
    "Call function annotations with function_name.__annotations__"
   ]
  },
  {
   "cell_type": "code",
   "execution_count": 993,
   "id": "1e4ffc1d",
   "metadata": {},
   "outputs": [
    {
     "name": "stdout",
     "output_type": "stream",
     "text": [
      "\n",
      "\tExplain a little what this function does.\n",
      "\t\n",
      "\tParameters: \n",
      "\t---------- \n",
      "\t\tteam \n",
      "\t\t\tpositional argument of display_players function      \n",
      "\t\tnumber \n",
      "\t\t\tkeyword (default) argument. Can only be at the end of a function. \n",
      "\t\t\torder doesn't matter. \n",
      "\t\t\t\n",
      "\tReturns:\n",
      "\t--------\n",
      "\t\tsomething...\n",
      "\t\n",
      "Player 1: Kim\n",
      "Player 2: Lee\n",
      "Player 3: Chan\n",
      "('Math', 'Art')\n",
      "{'name': 'John', 'age': 22}\n",
      "1 2\n",
      "()\n",
      "1 2\n",
      "(3, 4)\n",
      "1 2\n",
      "(3, 4)\n",
      "five 5\n",
      "0 1 2\n",
      "1 2 3\n"
     ]
    },
    {
     "data": {
      "text/plain": [
       "3"
      ]
     },
     "execution_count": 993,
     "metadata": {},
     "output_type": "execute_result"
    }
   ],
   "source": [
    "# the function 'display_players' is well-documented with docstring, \n",
    "# which provides explanation about arguments\n",
    "# Parameters (what is declared in the function, e.g. team, number) vs \n",
    "# Arguments (what is passed through when calling the function, e.g. display_players([\"Kim\", \"Lee\"], 2) )\n",
    "\n",
    "\n",
    "def display_players(team , number=1):\n",
    "    \"\"\"\n",
    "\tExplain a little what this function does.\n",
    "\t\n",
    "\tParameters: \n",
    "\t---------- \n",
    "\t\tteam \n",
    "\t\t\tpositional argument of display_players function      \n",
    "\t\tnumber \n",
    "\t\t\tkeyword (default) argument. Can only be at the end of a function. \n",
    "\t\t\torder doesn't matter. \n",
    "\t\t\t\n",
    "\tReturns:\n",
    "\t--------\n",
    "\t\tsomething...\n",
    "\t\"\"\"\n",
    "    for name in team:\n",
    "        print(f\"Player {number}: {name}\")\n",
    "        number += 1\n",
    "\n",
    "print(display_players.__doc__) # print docstring\n",
    "display_players( [\"Kim\", \"Lee\", \"Chan\"] )\n",
    "\n",
    "\n",
    "# positional arguments (*args), keyword arguments (**kwargs)\n",
    "def student_info(*args, **kwargs):\n",
    "    print(args)\n",
    "    print(kwargs)\n",
    "\n",
    "student_info('Math', 'Art', name = 'John', age=22)\n",
    "\n",
    "def foo(a, b, *args, **kwargs): # arguments (positional), keyword arguments\n",
    "\tprint(a, b)\n",
    "\t# for arg in args:\n",
    "\t# \tprint(arg)\n",
    "\tprint(args)\n",
    "\tfor key in kwargs:\n",
    "\t\t# print(f\"{key}, {kwargs[key]}\")\n",
    "\t\tprint(key, kwargs[key])\n",
    "\n",
    "foo(1, 2)\n",
    "foo(1, 2, 3, 4)\n",
    "foo(1, 2, 3, 4, five=5)\n",
    "\n",
    "\n",
    "# unpacking dictionary or list into function arguments\n",
    "# length of container must match number of arguments\n",
    "\n",
    "def foo(a, b, c):\n",
    "\tprint(a, b, c)\n",
    "\n",
    "my_list = (0, 1, 2)\n",
    "foo(*my_list)\n",
    "\n",
    "my_dict = {'a':1, 'b':2, 'c':3}\n",
    "foo(**my_dict)\n",
    "\n",
    "def foo():\n",
    "\tglobal number # change global variable from a function\n",
    "\tnumber = 3\n",
    "\treturn number\n",
    "\n",
    "number = 0\n",
    "foo()"
   ]
  },
  {
   "cell_type": "code",
   "execution_count": 994,
   "id": "e693b06f",
   "metadata": {},
   "outputs": [
    {
     "name": "stdout",
     "output_type": "stream",
     "text": [
      "Next up: Hey Jude\n",
      "Next up: Helter Skelter\n",
      "Next up: Something\n"
     ]
    },
    {
     "data": {
      "text/plain": [
       "{'playlist': list, 'return': str}"
      ]
     },
     "execution_count": 994,
     "metadata": {},
     "output_type": "execute_result"
    }
   ],
   "source": [
    "def show_next_track(playlist: list) -> str:\n",
    "    for track in playlist:\n",
    "        print(f\"Next up: {track}\")\n",
    "show_next_track( [\"Hey Jude\", \"Helter Skelter\", \"Something\"] )\n",
    "\n",
    "\n",
    "show_next_track.__annotations__"
   ]
  },
  {
   "cell_type": "code",
   "execution_count": 995,
   "id": "7f895186",
   "metadata": {},
   "outputs": [
    {
     "name": "stdout",
     "output_type": "stream",
     "text": [
      "Start\n",
      "15\n",
      "End\n",
      "15\n"
     ]
    }
   ],
   "source": [
    "# Decorators - a function that takes another function as an argument, \n",
    "# extends behaviour of this function without explicitly modifying it\n",
    "# There are function and class decorators\n",
    "\n",
    "def start_end_decorator(func):\n",
    "\tdef wrapper():\n",
    "\t\tprint('Start')\n",
    "\t\tfunc()\n",
    "\t\tprint('End')\n",
    "\treturn wrapper\n",
    "\n",
    "@start_end_decorator\n",
    "def print_name():\n",
    "\tprint('Alex')\n",
    "\n",
    "# print_name()\n",
    "\n",
    "\n",
    "\n",
    "def start_end_decorator(func):\n",
    "\tdef wrapper(*args, **kwargs):\n",
    "\t\tprint('Start')\n",
    "\t\tfunc(*args, **kwargs)\n",
    "\t\tprint(func(*args, **kwargs))\n",
    "\t\tprint('End')\n",
    "\t\treturn func(*args, **kwargs)\n",
    "\t\t\n",
    "\treturn wrapper\n",
    "\n",
    "@start_end_decorator\n",
    "def add5(x):\n",
    "\treturn x + 5\n",
    "\n",
    "print( add5(10) )"
   ]
  },
  {
   "cell_type": "code",
   "execution_count": 996,
   "id": "6e2abed9",
   "metadata": {},
   "outputs": [
    {
     "data": {
      "text/plain": [
       "False"
      ]
     },
     "execution_count": 996,
     "metadata": {},
     "output_type": "execute_result"
    }
   ],
   "source": [
    "def function1(n):\n",
    "\treturn True if n == 5 else False\n",
    "\n",
    "function1(4)"
   ]
  },
  {
   "cell_type": "markdown",
   "id": "fbb6bd14",
   "metadata": {},
   "source": [
    "## Lambda     \n",
    "- A simple one-line function; \n",
    "- Doesn't use def or return keywords - these are implicit. \n",
    "\n",
    " \n",
    "\n",
    "**Map function**   \n",
    "- Apply same function to each element of a sequence/list, return the modified list    \n",
    "\n",
    "```listname = [4, 3, 2, 1]```   \n",
    "```print( list(map(lambda x:x**2, listname)) )```   \n",
    "\n",
    "*list comprehension solution*:   \n",
    "```print( [x**2 for x in listname] )```    \n",
    "\n",
    "**Filter function**       \n",
    "- Filters items out of a sequence, returns filtered list   \n",
    "\n",
    "```listname = [4, 3, 2, 1]```    \n",
    "```print( list(filter(lambda x: x>2, listname)) )```   \n",
    "\n",
    "*or list comprehension solution:*     \n",
    "```print( [x for x in listname if x>2] )```    \n",
    "\n",
    "reduce    \n",
    "applies same operation to items of a sequence   \n"
   ]
  },
  {
   "cell_type": "code",
   "execution_count": 997,
   "id": "2cf66cd0",
   "metadata": {},
   "outputs": [
    {
     "name": "stdout",
     "output_type": "stream",
     "text": [
      "12\n",
      "8\n",
      "[2, 4, 6, 8, 10]\n"
     ]
    }
   ],
   "source": [
    "add10 = lambda x: x + 10\n",
    "mult = lambda x,y: x*y\n",
    "\n",
    "print( add10(2) )\n",
    "\n",
    "# print the biggest number of the couple\n",
    "mx = lambda x, y: x if x > y else y   \n",
    "print(mx(8, 5))  \n",
    "\n",
    "\n",
    "# analogue to list comprehension\n",
    "a = [1, 2, 3, 4, 5]\n",
    "print( list(map(lambda x: x*2, a)) )\n",
    "\n"
   ]
  },
  {
   "cell_type": "markdown",
   "id": "15da8aa4",
   "metadata": {},
   "source": [
    "# Error handling\n",
    "\n",
    "SyntaxError: brackets, etc   \n",
    "TypeError: int vs str   \n",
    "ModuleNotFoundError   \n",
    "NameError: variables not defined   \n",
    "FileNotFoundError   \n",
    "ValueError: error of index removal where it doesn't exist   \n",
    "IndexError: index out of range   \n",
    "KeyError: in dictionaries   "
   ]
  },
  {
   "cell_type": "code",
   "execution_count": 1,
   "id": "75ed700f",
   "metadata": {},
   "outputs": [
    {
     "name": "stdout",
     "output_type": "stream",
     "text": [
      "variable is not a number\n"
     ]
    }
   ],
   "source": [
    "a = \"string\"\n",
    "try:\n",
    "\tb = int(a)\n",
    "except:\n",
    "\tb = \"variable is not a number\"\n",
    "print(b)"
   ]
  },
  {
   "cell_type": "code",
   "execution_count": 999,
   "id": "04f385a8",
   "metadata": {},
   "outputs": [
    {
     "name": "stdout",
     "output_type": "stream",
     "text": [
      "Done!\n"
     ]
    }
   ],
   "source": [
    "a = 8\n",
    "try:\n",
    "\tb = int(a)\n",
    "except:\n",
    "\tb = \"wrong\"\n",
    "\n",
    "if b != \"wrong\":\n",
    "\tprint('Done!')\n",
    "else:\n",
    "\tprint('Wrong')"
   ]
  },
  {
   "cell_type": "code",
   "execution_count": 6,
   "id": "771a2255",
   "metadata": {},
   "outputs": [
    {
     "name": "stdout",
     "output_type": "stream",
     "text": [
      "Found ZeroDivisionError\n",
      "End of exception search\n"
     ]
    },
    {
     "ename": "ValueTooHighError",
     "evalue": "value is too high",
     "output_type": "error",
     "traceback": [
      "\u001b[1;31m---------------------------------------------------------------------------\u001b[0m",
      "\u001b[1;31mValueTooHighError\u001b[0m                         Traceback (most recent call last)",
      "\u001b[1;32mc:\\Users\\evgen\\Desktop\\Python\\Python-handbook\\PYTHON BASICS 1 (vzem).ipynb Cell 72\u001b[0m in \u001b[0;36m<cell line: 34>\u001b[1;34m()\u001b[0m\n\u001b[0;32m     <a href='vscode-notebook-cell:/c%3A/Users/evgen/Desktop/Python/Python-handbook/PYTHON%20BASICS%201%20%28vzem%29.ipynb#Y131sZmlsZQ%3D%3D?line=32'>33</a>\u001b[0m x \u001b[39m=\u001b[39m \u001b[39m101\u001b[39m\n\u001b[0;32m     <a href='vscode-notebook-cell:/c%3A/Users/evgen/Desktop/Python/Python-handbook/PYTHON%20BASICS%201%20%28vzem%29.ipynb#Y131sZmlsZQ%3D%3D?line=33'>34</a>\u001b[0m \u001b[39mif\u001b[39;00m x \u001b[39m>\u001b[39m \u001b[39m100\u001b[39m:\n\u001b[1;32m---> <a href='vscode-notebook-cell:/c%3A/Users/evgen/Desktop/Python/Python-handbook/PYTHON%20BASICS%201%20%28vzem%29.ipynb#Y131sZmlsZQ%3D%3D?line=34'>35</a>\u001b[0m     \u001b[39mraise\u001b[39;00m ValueTooHighError(\u001b[39m'\u001b[39m\u001b[39mvalue is too high\u001b[39m\u001b[39m'\u001b[39m)\n\u001b[0;32m     <a href='vscode-notebook-cell:/c%3A/Users/evgen/Desktop/Python/Python-handbook/PYTHON%20BASICS%201%20%28vzem%29.ipynb#Y131sZmlsZQ%3D%3D?line=37'>38</a>\u001b[0m \u001b[39massert\u001b[39;00m (x \u001b[39m>\u001b[39m\u001b[39m=\u001b[39m \u001b[39m0\u001b[39m), \u001b[39m'\u001b[39m\u001b[39mx is not positive\u001b[39m\u001b[39m'\u001b[39m\n",
      "\u001b[1;31mValueTooHighError\u001b[0m: value is too high"
     ]
    }
   ],
   "source": [
    "# Handling exceptions\n",
    "try:\n",
    "    a = 5 / 0\n",
    "    b = a + 10\n",
    "except ZeroDivisionError:\n",
    "    print(\"Found ZeroDivisionError\")\n",
    "except (NameError, ValueError, TypeError):\n",
    "    print(\"Found some errors!\")\n",
    "except TypeError as e:\n",
    "    print(e)\n",
    "else: \n",
    "    print('all is good')\n",
    "finally: # Runs always, if error exists or not\n",
    "    print(\"End of exception search\")\n",
    "\n",
    "\n",
    "\n",
    "# Raise an error if condition met\n",
    "var = \"YES\"\n",
    "if var != \"YES\":\n",
    "    #raise TypeError(\"test explanation\")\n",
    "    raise Exception('wrong value bro')\n",
    "\n",
    "# Raise a custom error (define our own error)\n",
    "typing = \"YES\"\n",
    "class ValueTooHighError(Exception):\n",
    "    pass\n",
    "\n",
    "class ValueTooSmallError(Exception):\n",
    "    def __init__(self, message, value):\n",
    "        self.message = message\n",
    "        self.value = value\n",
    "x = 101\n",
    "if x > 100:\n",
    "    raise ValueTooHighError('value is too high')\n",
    "\n",
    "\n",
    "assert (x >= 0), 'x is not positive'"
   ]
  },
  {
   "cell_type": "code",
   "execution_count": 1001,
   "id": "429e1eaf",
   "metadata": {},
   "outputs": [],
   "source": [
    "x = 2\n",
    "\n",
    "assert x > 0, f\"Variable {x} is not greater than zero\""
   ]
  },
  {
   "cell_type": "code",
   "execution_count": null,
   "id": "fc27535f",
   "metadata": {},
   "outputs": [],
   "source": [
    "# Exit the function prematurely upon meeting a condition\n",
    "def function(level):\n",
    "\ttry: \n",
    "\t\tlevel = int(level)\n",
    "\texcept:\n",
    "\t\tprint(\"Please enter a number or 'exit'\")\n",
    "\t\treturn None\n",
    "\tprint('continue')"
   ]
  },
  {
   "cell_type": "markdown",
   "id": "9a5d19e7",
   "metadata": {
    "jp-MarkdownHeadingCollapsed": true,
    "tags": []
   },
   "source": [
    "# OOP\n",
    "Object-oriented programming   \n",
    "\n",
    "**Class** - blueprint code from which Objects can be created;    \n",
    "**Object** - When memory is allocated to the data entity (created from blueprint class) , that data entity or reference to it is called Object;     \n",
    "**Instance** - unique realization of an Object; Object with individual data for an Instance; \n",
    "\n",
    "Variables:\n",
    "- Instance variables: unique for each instance;\n",
    "- Class variables: shared among all instances of a class;\n",
    "\n",
    "Attributes:\n",
    "- Class attribute: you can access these from instance levels\n",
    "\n",
    "\n",
    "Methods are functions defined within a class. For classmethod and staticmethod, we use decorator (`@`).\n",
    "- **Regular methods**: automatically pass instance as the first argument (self)    \n",
    "- **Class methods** (`@classmethod`): automatically pass class as first argument (cls)    \n",
    "- **Static methods** (`@staticmethod`): don't pass anything automatically; they behave like regular functions. They are static because we don't access instance or class anywhere in the function.\n",
    "- **Constructor method**: method that is called when an object is created. In python, it is ```def __init__(self):```\n",
    "\n",
    "Inheritance:    \n",
    "Subclass of class inherits methods from its parent class. \n",
    "\n",
    "\n",
    "it's similar to a variable being an instance of class \"str\", e.g. random_str = str(\"4\")\n",
    "\n",
    "\n",
    "```py\n",
    "# Check methods associated with a class\n",
    "dir(list())\n",
    "dir(str())\n",
    "```"
   ]
  },
  {
   "cell_type": "markdown",
   "id": "2c2b01d5",
   "metadata": {},
   "source": [
    "## Ex1"
   ]
  },
  {
   "cell_type": "code",
   "execution_count": 1003,
   "id": "425051f0",
   "metadata": {},
   "outputs": [
    {
     "name": "stdout",
     "output_type": "stream",
     "text": [
      "An instance created: John Doe 15000\n",
      "An instance created: Jack Jones 20000.0\n",
      "53040\n",
      "{'_first': 'John', 'last': 'Doe', 'pay': 53040, 'email': 'John.Doe@harvard.com'}\n"
     ]
    }
   ],
   "source": [
    "class Employee: # Parent class (see Inheritance section)\n",
    "\traise_amount = 1.04 # class variable\n",
    "\tdef __init__(self, first, last, pay=50000): # Constructor method\n",
    "\t\t\"\"\"Method with multiple parameters (first, last, pay).\n",
    "\t\tRuns validation to check if the received arguments are within the expected boundaries\"\"\"\n",
    "\t\tassert pay >= 0, f\"{pay} is less than zero - incorrect!\"\n",
    "\t\tprint(f\"An instance created: {first} {last} {pay}\")\n",
    "\t\t# Attributes within the class (instance variables):\n",
    "\t\tself._first = first\n",
    "\t\tself.last = last\n",
    "\t\tself.pay = pay\n",
    "\t\tself.email = first + '.' + last + '@harvard.com'\n",
    "\t@property # property decorator - read-only attribute\n",
    "\tdef first(self):\n",
    "\t\treturn self.first\n",
    "\tdef fullname(self):\n",
    "\t\treturn f'{self.first} {self.last}'\n",
    "\tdef apply_raise(self): # this methods increases 'pay' by 'raise_amount'\n",
    "\t\tself.pay = int(self.pay * self.raise_amount)\n",
    "\t@classmethod # class method\n",
    "\tdef set_raise_amt(cls, amount):\n",
    "\t\tcls.raise_amt = amount\n",
    "\t@classmethod\n",
    "\tdef from_string(cls, emp_str):\n",
    "\t\tfirst, last, pay = emp_str.split('-')\n",
    "\t\t# cls(first, last, float(pay))\n",
    "\t\treturn cls(first, last, float(pay))\n",
    "\t@staticmethod\n",
    "\tdef is_workday(day):\n",
    "\t\t# IF saturday/sunday\n",
    "\t\tif day.weekday() == 5 or day.weekday() == 6:\n",
    "\t\t\treturn False\n",
    "\t\treturn True\n",
    "\n",
    "# Unique instances (objects) of the Employee class\n",
    "emp_1 = Employee('John', 'Doe', 15000)\n",
    "emp_3 = Employee.from_string('Jack-Jones-20000')\n",
    "\n",
    "# Assign attribute to instance 'emp_1' of class Employee\n",
    "emp_1.pay = 51000\n",
    "emp_1.apply_raise()\n",
    "print(emp_1.pay)\n",
    "\n",
    "# Print all attributes connected to 'emp_1'\n",
    "print(emp_1.__dict__)\n",
    "\n",
    "# Change raise amount for one instance of the class\n",
    "emp_1.raise_amount = 1.09\n",
    "# Change raise amount for the whole class\n",
    "Employee.raise_amount = 1.05\n",
    "Employee.set_raise_amt(1.05) #ver2\n",
    "\n"
   ]
  },
  {
   "cell_type": "code",
   "execution_count": 1004,
   "id": "080aeab3",
   "metadata": {},
   "outputs": [
    {
     "name": "stdout",
     "output_type": "stream",
     "text": [
      "An instance created: Corey Schafer 50000\n",
      "An instance created: Test Employee 60000\n",
      "An instance created: Jack Wills 90000\n",
      "1.1\n",
      "True\n"
     ]
    }
   ],
   "source": [
    "###########################################\n",
    "###   Inheritance   #######################\n",
    "###########################################\n",
    "\n",
    "\n",
    "class Developer(Employee): # Developer is subclass (child class) of parent class Employee\n",
    "    raise_amt = 1.10\n",
    "    def __init__(self, first, last, pay, prog_lang): # Call to super function to have access to all attributes/methods of parent function\n",
    "        super().__init__(first, last, pay) \n",
    "        self.prog_lang = prog_lang\n",
    "\n",
    "\n",
    "class Manager(Employee):\n",
    "    def __init__(self, first, last, pay, employees = None):\n",
    "        super().__init__(first, last, pay)\n",
    "        if employees is None: self.employees = []\n",
    "        else: self.employees = employees\n",
    "    def add_emp(self, emp):\n",
    "        if emp not in self.employees:\n",
    "            self.employees.append(emp)\n",
    "    def remove_emp(self, emp):\n",
    "        if emp in self.employees:\n",
    "            self.employees.remove(emp)\n",
    "\n",
    "dev_1 = Developer('Corey', 'Schafer', 50000, 'Python')\n",
    "dev_2 = Developer('Test', 'Employee', 60000, 'Java')\n",
    "mgr_1 = Manager('Jack', 'Wills', 90000, [dev_1])\n",
    "\n",
    "print( Developer.raise_amt )\n",
    "\n",
    "mgr_1.add_emp(dev_2)\n",
    "\n",
    "print(isinstance(mgr_1, Manager))\n"
   ]
  },
  {
   "cell_type": "code",
   "execution_count": 1005,
   "id": "856c1363",
   "metadata": {},
   "outputs": [
    {
     "name": "stdout",
     "output_type": "stream",
     "text": [
      "Loading the fuel\n",
      "Combusting the fuel\n",
      "Loading the fuel\n",
      "Combusting the fuel\n",
      "process done!\n"
     ]
    }
   ],
   "source": [
    "\"\"\"\n",
    "Abstraction - process of obscuring the real method implementation by only showing method signature. \n",
    "It is important so that other people can use a class without knowing how it works\n",
    "\"\"\"\n",
    "\n",
    "class Engine:\n",
    "\tdef load(self):\n",
    "\t\tprint('Loading the fuel')\n",
    "\tdef combust(self):\n",
    "\t\tprint('Combusting the fuel')\n",
    "\tdef process(self):\n",
    "\t\tfor i in range(0, 2):\n",
    "\t\t\tself.load()\n",
    "\t\t\tself.combust()\n",
    "\t\tprint('process done!')\n",
    "\n",
    "Engine().process()\n"
   ]
  },
  {
   "cell_type": "code",
   "execution_count": 1006,
   "id": "b2f7dee1",
   "metadata": {},
   "outputs": [
    {
     "name": "stdout",
     "output_type": "stream",
     "text": [
      "Hello, I am animal\n",
      "Hello, i am a Human!\n"
     ]
    }
   ],
   "source": [
    "\"\"\"\n",
    "Polymorphism:\n",
    "when functions of a subclass work differently than those of their parent class. \n",
    "\"\"\"\n",
    "\n",
    "class Animal:\n",
    "\tdef greet(self):\n",
    "\t\tprint(\"Hello, I am animal\")\n",
    "\n",
    "class Human(Animal):\n",
    "\tdef greet(self):\n",
    "\t\tprint(\"Hello, i am a Human!\")\n",
    "\n",
    "Animal().greet()\n",
    "Human().greet()"
   ]
  },
  {
   "cell_type": "markdown",
   "id": "1dffca26",
   "metadata": {},
   "source": [
    "## Ex2"
   ]
  },
  {
   "cell_type": "code",
   "execution_count": 1007,
   "id": "902874b9",
   "metadata": {},
   "outputs": [
    {
     "name": "stdout",
     "output_type": "stream",
     "text": [
      "Area of rectangle: 2000 cm^2\n",
      "Cost of rectangular field: 4000000 USD\n",
      "Rectangle: length = 100, width = 20, unit_cost = 2000 USD\n"
     ]
    },
    {
     "data": {
      "text/plain": [
       "5"
      ]
     },
     "execution_count": 1007,
     "metadata": {},
     "output_type": "execute_result"
    }
   ],
   "source": [
    "# Examples of OOP code:\n",
    "\n",
    "\n",
    "# Find out the cost of rectangular field with width (b=120), length (l=160), when it costs 2000 rubles per 1 square unit. \n",
    "class Rectangle:\n",
    "    def __init__(self, length, width, unit_cost=0):\n",
    "        self.length = length\n",
    "        self.width = width\n",
    "        self.unit_cost = unit_cost\n",
    "    def __str__(self):\n",
    "        \"\"\"String function\"\"\"\n",
    "        return f\"Rectangle: length = {self.length}, width = {self.width}, unit_cost = {self.unit_cost} USD\"\n",
    "    def change_length(self, length):\n",
    "        self.length = length\n",
    "    def change_width(self, width):\n",
    "        self.width = width\n",
    "    def get_perimeter(self):\n",
    "        return 2* (self.length + self.width)\n",
    "    def get_area(self):\n",
    "        return self.length * self.width\n",
    "    def get_diagonal(self):\n",
    "        return (self.length**2 + self.width**2)**0.5\n",
    "    def calculate_cost(self):\n",
    "        area = self.get_area()\n",
    "        return area* self.unit_cost\n",
    "    def print_rectangle(self):\n",
    "        if self.length > 50 or self.width > 50:\n",
    "            return \"Too big for picture.\"\n",
    "        else:\n",
    "            var=''\n",
    "            for i in range(self.length):\n",
    "                var += '*' * self.width\n",
    "                var += '\\n'\n",
    "            return var\n",
    "    def get_amount_inside(self, shape):\n",
    "        n = 0\n",
    "        if self.length < shape.length or self.width < shape.width:\n",
    "            return 0\n",
    "        else:\n",
    "            n = int(self.width / shape.width)\n",
    "            n = n * int(self.length / shape.length)\n",
    "            return n\n",
    "\n",
    "class Square(Rectangle):\n",
    "    def __init__(self, side, unit_cost=0):\n",
    "        self.length = side\n",
    "        self.width = side\n",
    "        self.unit_cost = unit_cost\n",
    "    def __str__(self):\n",
    "        return f\"Square: side = {self.width}\"\n",
    "\n",
    "rect1 = Rectangle(100, 20, 2000)\n",
    "print(f\"Area of rectangle: {rect1.get_area()} cm^2\")\n",
    "print(f\"Cost of rectangular field: {rect1.calculate_cost()} USD\")\n",
    "print(rect1)\n",
    "\n",
    "rect2 = Square(20, 20)\n",
    "\n",
    "rect1.get_amount_inside(rect2)"
   ]
  },
  {
   "cell_type": "markdown",
   "id": "0e944ec8",
   "metadata": {},
   "source": [
    "## Ex4 (custom colours)"
   ]
  },
  {
   "cell_type": "code",
   "execution_count": 1008,
   "id": "4bbb8330",
   "metadata": {},
   "outputs": [
    {
     "name": "stdout",
     "output_type": "stream",
     "text": [
      "\u001b[1;95mSample text 1\u001b[0m\n"
     ]
    }
   ],
   "source": [
    "class colour():\n",
    "\t# Regular-intensity colours\n",
    "\tblack = '\\033[30m'\n",
    "\tred = '\\033[31m'\n",
    "\tgreen = '\\033[32m'\n",
    "\tyellow = '\\033[33m'\n",
    "\tblue = '\\033[34m'\n",
    "\tmagenta = '\\033[35m'\n",
    "\tcyan = '\\033[36m'\n",
    "\twhite = '\\033[37m'\n",
    "\tunderline = '\\033[4m'\n",
    "\treset = '\\033[0m'\n",
    "\t# High-intensity colours\n",
    "\tbi_black = '\\033[1;90m'\n",
    "\tbi_red = '\\033[1;91m'\n",
    "\tbi_green = '\\033[1;92m'\n",
    "\tbi_yellow = '\\033[1;93m'\n",
    "\tbi_blue = '\\033[1;94m'\n",
    "\tbi_purple = '\\033[1;95m'\n",
    "\tbi_cyan = '\\033[1;96m'\n",
    "\tbi_white = '\\033[1;97m'\n",
    "\treset = '\\033[0m'\n",
    "\n",
    "print(f\"{colour.bi_purple}Sample text 1{colour.reset}\")\n"
   ]
  },
  {
   "cell_type": "markdown",
   "id": "51d979cf",
   "metadata": {},
   "source": [
    "## Ex5"
   ]
  },
  {
   "cell_type": "code",
   "execution_count": 1009,
   "id": "2175b3c8",
   "metadata": {},
   "outputs": [
    {
     "name": "stdout",
     "output_type": "stream",
     "text": [
      "Instance created!\n",
      "500\n"
     ]
    }
   ],
   "source": [
    "class Item:\n",
    "\t# rule that to instantiate an instance within this class, you must pass some parameters:\n",
    "\t# iow, also called 'constructor'\n",
    "\tdef __init__(self): # executed automatically when we create an instance\n",
    "\t\tprint('Instance created!')\n",
    "\tdef calculate_total_price(self, x, y): # This is method - a function defined inside of a class\n",
    "\t\treturn x*y\n",
    "\n",
    "item1 = Item()\n",
    "# Assign attributes to instance 'item1' of class 'Item'\n",
    "item1.name = \"Phone\"\n",
    "item1.price = 100\n",
    "item1.quantity = 5\n",
    "print( item1.calculate_total_price(item1.price, item1.quantity) )\n"
   ]
  },
  {
   "cell_type": "code",
   "execution_count": 1010,
   "id": "7fb36f06",
   "metadata": {},
   "outputs": [
    {
     "name": "stdout",
     "output_type": "stream",
     "text": [
      "An instance created: Phone!\n",
      "Phone 100 5\n",
      "500\n",
      "{'__module__': '__main__', 'pay_rate': 0.8, 'all': [Item('Phone', 100, 5)], '__init__': <function Item.__init__ at 0x0000021E0C545160>, 'calculate_total_price': <function Item.calculate_total_price at 0x0000021E0C545C10>, 'apply_discount': <function Item.apply_discount at 0x0000021E16C975E0>, 'instantiate_from_csv': <classmethod object at 0x0000021E16C620D0>, 'is_integer': <staticmethod object at 0x0000021E16C62A90>, '__repr__': <function Item.__repr__ at 0x0000021E16C97310>, '__dict__': <attribute '__dict__' of 'Item' objects>, '__weakref__': <attribute '__weakref__' of 'Item' objects>, '__doc__': None}\n",
      "{'name': 'Phone', 'price': 100, 'quantity': 5}\n",
      "An instance created: Phone!\n",
      "An instance created: Laptop!\n",
      "An instance created: Cable!\n",
      "An instance created: Mouse!\n",
      "An instance created: Keyboard!\n",
      "False\n"
     ]
    }
   ],
   "source": [
    "import csv\n",
    "\n",
    "class Item:\n",
    "\t# class attribute:\n",
    "\tpay_rate = 0.8 # The pay rate after 20% discount\n",
    "\tall = []\n",
    "\tdef __init__(self, name: str, price: float, quantity=0):\n",
    "\t\t# run validations to the received arguments\n",
    "\t\tassert type(name) == str, f\"Name {name} is not a string!\"\n",
    "\t\tassert price >= 0, f\"Price {price} is not greater than zero!\"\n",
    "\t\tassert quantity >= 0, f\"Quantity {quantity} is not greater than zero!\"\n",
    "\t\tprint(f'An instance created: {name}!')\n",
    "\t\t# dynamically assign an attribute to the instance:\n",
    "\t\t# dynamic attribute assignment\n",
    "\t\t# Assign to self object\n",
    "\t\t# instance attributes = name, price, quantity\n",
    "\t\tself.name = name\n",
    "\t\tself.price = price\n",
    "\t\tself.quantity = quantity\n",
    "\t\t# Actions to execute\n",
    "\t\tItem.all.append(self)\n",
    "\tdef calculate_total_price(self):\n",
    "\t\treturn self.price * self.quantity\n",
    "\tdef apply_discount(self):\n",
    "\t\tself.price = self.price * self.pay_rate # if we write Item.pay_rate, then it takes the value from Class level and we can't change it from Instance level\n",
    "\t#\n",
    "\t@classmethod # decorator - changes behaviour of following method to class method\n",
    "\tdef instantiate_from_csv(cls): # class method - can only be accessed from Class level\n",
    "\t\twith open('example_datasets/items.csv', 'r') as f:\n",
    "\t\t\treader = csv.DictReader(f)\n",
    "\t\t\titems = list(reader)\n",
    "\t\tfor item in items:\n",
    "\t\t\tItem(\n",
    "\t\t\t\tname=item.get('name'), \n",
    "\t\t\t\tprice=float(item.get('price')), \n",
    "\t\t\t\tquantity=int(item.get('quantity'))\n",
    "\t\t\t)\n",
    "\t#\n",
    "\t@staticmethod\n",
    "\tdef is_integer(num):\n",
    "\t\t# We will count out the floats that are point zero\n",
    "\t\t# For i.e. 5.0, 10.0\n",
    "\t\tif isinstance(num, float):\n",
    "\t\t\t# Count out the floats that are point zero\n",
    "\t\t\treturn num.is_integer()\n",
    "\t\telif isinstance(num, int):\n",
    "\t\t\treturn True\n",
    "\t\telse:\n",
    "\t\t\treturn False\n",
    "\t#\n",
    "\tdef __repr__(self):\n",
    "\t\treturn f\"Item('{self.name}', {self.price}, {self.quantity})\"\n",
    "item1 = Item('Phone', 100, 5)\n",
    "print(item1.name, item1.price, item1.quantity)\n",
    "print(item1.calculate_total_price())\n",
    "print(Item.__dict__) # print all attribute for Class level\n",
    "print(item1.__dict__) # print all attributes for Instance level\n",
    "\n",
    "Item.instantiate_from_csv()\n",
    "print(Item.is_integer(7.5))"
   ]
  },
  {
   "cell_type": "code",
   "execution_count": 1011,
   "id": "6eb56851",
   "metadata": {},
   "outputs": [
    {
     "name": "stdout",
     "output_type": "stream",
     "text": [
      "80.0\n",
      "An instance created: Laptop!\n",
      "700.0\n",
      "[Item('Phone', 80.0, 5), Item('Phone', 100.0, 1), Item('Laptop', 1000.0, 3), Item('Cable', 10.0, 5), Item('Mouse', 50.0, 5), Item('Keyboard', 75.0, 5), Item('Laptop', 700.0, 3)]\n",
      "Phone\n",
      "Phone\n",
      "Laptop\n",
      "Cable\n",
      "Mouse\n",
      "Keyboard\n",
      "Laptop\n"
     ]
    }
   ],
   "source": [
    "item1.has_numpad = False\n",
    "\n",
    "item1.apply_discount()\n",
    "print(item1.price)\n",
    "\n",
    "item2 = Item('Laptop', 1000, 3)\n",
    "item2.pay_rate = 0.7 # change pay_rate at instance level\n",
    "item2.apply_discount()\n",
    "print(item2.price)\n",
    "\n",
    "print(Item.all)\n",
    "for instance in Item.all:\n",
    "\tprint(instance.name)"
   ]
  },
  {
   "cell_type": "code",
   "execution_count": 1012,
   "id": "52def2ef",
   "metadata": {},
   "outputs": [
    {
     "name": "stdout",
     "output_type": "stream",
     "text": [
      "An instance created: jscPhonev10!\n",
      "2500\n",
      "[Item('Phone', 80.0, 5), Item('Phone', 100.0, 1), Item('Laptop', 1000.0, 3), Item('Cable', 10.0, 5), Item('Mouse', 50.0, 5), Item('Keyboard', 75.0, 5), Item('Laptop', 700.0, 3), Item('jscPhonev10', 500, 5)]\n",
      "[Item('jscPhonev10', 500, 5)]\n"
     ]
    }
   ],
   "source": [
    "# inheritance from Parent class\n",
    "class Phone(Item):\n",
    "\tall = []\n",
    "\t\"\"\"child class\"\"\"\n",
    "\tdef __init__(self, name: str, price: float, quantity=0, broken_phones=0):\n",
    "\t\t# call to super function to have access to all attributes / methods\n",
    "\t\tsuper().__init__(\n",
    "\t\t\tname, price, quantity\n",
    "\t\t)\n",
    "\t\t# run validations to the received arguments\n",
    "\t\tassert broken_phones >=0, f\"Broken phones {broken_phones} is not greater than or equal to 0!\"\n",
    "\t\t# Assign to self object\n",
    "\t\tself.name = name\n",
    "\t\tself.price = price\n",
    "\t\tself.quantity = quantity\n",
    "\t\tself.broken_phones = broken_phones\n",
    "\t\t# actions to execute\n",
    "\t\tPhone.all.append(self)\n",
    "\n",
    "phone1 = Phone(\"jscPhonev10\", 500, 5, 1)\n",
    "print( phone1.calculate_total_price() )\n",
    "\n",
    "print(Item.all)\n",
    "print(Phone.all)"
   ]
  },
  {
   "cell_type": "code",
   "execution_count": 1013,
   "id": "6ee5be0a",
   "metadata": {},
   "outputs": [],
   "source": [
    "# when to use class methods and static methods? \n",
    "\n",
    "class Item:\n",
    "\t@staticmethod\n",
    "\tdef is_integer(num):\n",
    "\t\t\"\"\"\n",
    "\t\tThis should do something that has a relationship with the class, \n",
    "\t\tbut not something that must be unique per instance!\n",
    "\t\t\"\"\"\n",
    "\t\tpass\n",
    "\t@classmethod\n",
    "\tdef instantiate_from_something(cls):\n",
    "\t\t\"\"\"\n",
    "\t\tClass method should also do something that has a relationship\n",
    "\t\twith the class, but usually, those are used to \n",
    "\t\tmanipulate different structures of data to instantiate objects, \n",
    "\t\tlike we have done with CSV\n",
    "\t\t\"\"\"\n",
    "\t\tpass\n",
    "\n",
    "item1 = Item()\n",
    "# you can call static and class methods from Instance level,\n",
    "# however, it's better to do so from Class method\n",
    "Item.is_integer(5)\n",
    "Item.instantiate_from_something()"
   ]
  },
  {
   "cell_type": "markdown",
   "id": "f260ab70",
   "metadata": {},
   "source": [
    "# Libraries\n",
    "\n",
    "Import function from another .py file:   \n",
    "```from pythonfilename import find_index```   \n",
    "```import pythonfilename as mm```   \n",
    "```from pythonfilename import find_index as fi```  \n",
    "\n",
    "Usually contain lots of classes   \n",
    "```from math import sqrt```   \n",
    "```from math import sqrt as my_sqrt```   \n",
    "```import numpy as np```   \n",
    "```from random import *``` import everything from the module   \n"
   ]
  },
  {
   "cell_type": "code",
   "execution_count": 1014,
   "id": "5e509628",
   "metadata": {},
   "outputs": [
    {
     "name": "stdout",
     "output_type": "stream",
     "text": [
      "['BPF', 'LOG4', 'NV_MAGICCONST', 'RECIP_BPF', 'Random', 'SG_MAGICCONST', 'SystemRandom', 'TWOPI', '_Sequence', '_Set', '__all__', '__builtins__', '__cached__', '__doc__', '__file__', '__loader__', '__name__', '__package__', '__spec__', '_accumulate', '_acos', '_bisect', '_ceil', '_cos', '_e', '_exp', '_floor', '_inst', '_log', '_os', '_pi', '_random', '_repeat', '_sha512', '_sin', '_sqrt', '_test', '_test_generator', '_urandom', '_warn', 'betavariate', 'choice', 'choices', 'expovariate', 'gammavariate', 'gauss', 'getrandbits', 'getstate', 'lognormvariate', 'normalvariate', 'paretovariate', 'randbytes', 'randint', 'random', 'randrange', 'sample', 'seed', 'setstate', 'shuffle', 'triangular', 'uniform', 'vonmisesvariate', 'weibullvariate']\n"
     ]
    }
   ],
   "source": [
    "# show all methods and attributes associated with a module \n",
    "import random\n",
    "print(dir(random))"
   ]
  },
  {
   "cell_type": "markdown",
   "id": "0864c2c0",
   "metadata": {},
   "source": [
    "## Random"
   ]
  },
  {
   "cell_type": "code",
   "execution_count": 6,
   "id": "73f5c204",
   "metadata": {},
   "outputs": [
    {
     "name": "stdout",
     "output_type": "stream",
     "text": [
      "B\n",
      "['C', 'B', 'A']\n",
      "['A', 'C', 'B']\n",
      "TATGTAGGTGACGTATGGTGTCCATCTAAGCTACACTTGATTGCATTGGT\n"
     ]
    }
   ],
   "source": [
    "import random\n",
    "\n",
    "a = ['A', 'B', 'C', 'D']\n",
    "\n",
    "# pick 1 random item from a list\n",
    "print( random.choice(a) )\n",
    "\n",
    "# pick k random items from a list\n",
    "print( random.choices(a, k=3) )\n",
    "\n",
    "# random sample, without repeats\n",
    "print( random.sample(a, k=3) )\n",
    "\n",
    "# create a random string from characters specified in a list\n",
    "DNA_Nucleotides = ['G', 'C', 'A', 'T']\n",
    "randDNAStr = ''.join([random.choice(DNA_Nucleotides) for nuc in range(50)])\n",
    "print(randDNAStr)"
   ]
  },
  {
   "cell_type": "code",
   "execution_count": 1019,
   "id": "739c740a",
   "metadata": {},
   "outputs": [
    {
     "name": "stdout",
     "output_type": "stream",
     "text": [
      "0.9678389625902728\n",
      "2.122952790363834\n",
      "3\n",
      "1\n",
      "-0.06370751824321007\n"
     ]
    }
   ],
   "source": [
    "import random\n",
    "\n",
    "# print random float in range 0-1\n",
    "print( random.random() )\n",
    "\n",
    "# print random float in specific range\n",
    "print( random.uniform(1, 5) )\n",
    "\n",
    "# print random int in specific range\n",
    "print( random.randint(1, 5) )\n",
    "\n",
    "# print random int in specific range, excluding top boundary value\n",
    "print( random.randrange(1, 5) )\n",
    "\n",
    "# pick a random number from normal distribution with mu = 0 (mean), sigma = 0.2 (SD)\n",
    "print( random.normalvariate(0, 0.2) )\n",
    "\n"
   ]
  },
  {
   "cell_type": "code",
   "execution_count": 1,
   "id": "d1aace1c",
   "metadata": {},
   "outputs": [
    {
     "data": {
      "text/plain": [
       "[0.9564729753700943,\n",
       " 0.5655361445168318,\n",
       " 0.4968599765189482,\n",
       " 0.4380866599822968,\n",
       " 0.5695472815897058,\n",
       " 0.02326826892891176,\n",
       " 0.8916127013215458,\n",
       " 0.3511560418867674,\n",
       " 0.9412944810473659,\n",
       " 0.27755419104579315]"
      ]
     },
     "execution_count": 1,
     "metadata": {},
     "output_type": "execute_result"
    }
   ],
   "source": [
    "# Generate N random numbers\n",
    "import random \n",
    "\n",
    "[ random.random() for i in range(0, 10) ]"
   ]
  },
  {
   "cell_type": "code",
   "execution_count": 1020,
   "id": "e16589a8",
   "metadata": {},
   "outputs": [
    {
     "name": "stdout",
     "output_type": "stream",
     "text": [
      "0.23796462709189137\n",
      "0.23796462709189137\n",
      "0.34809532384514186\n"
     ]
    }
   ],
   "source": [
    "import random\n",
    "\n",
    "# random module's numbers are reproducible by option \"seed\"\n",
    "# for true randomness, use 'secrets' module\n",
    "\n",
    "# generate a random number which you can access later in the program\n",
    "random.seed(3)\n",
    "print( random.random() )\n",
    "\n",
    "random.seed(3)\n",
    "print( random.random() )\n",
    "\n",
    "# cancel 'seed' effect\n",
    "random.seed()\n",
    "print( random.random() )\n",
    "\n"
   ]
  },
  {
   "cell_type": "code",
   "execution_count": 1021,
   "id": "5a4c9327",
   "metadata": {},
   "outputs": [
    {
     "name": "stdout",
     "output_type": "stream",
     "text": [
      "3.141592653589793\n",
      "4.0\n",
      "17\n",
      "16\n",
      "1.0\n",
      "\n",
      "2.5\n"
     ]
    }
   ],
   "source": [
    "import math, statistics\n",
    "# from statistics import mean # if we only need one functionality from a module\n",
    "# if we use \"from\" keyword to import a certain functionality, we no longer need to use the module's name\n",
    "# in our code when using functionality\n",
    "# import statistics as stats # modifies the name of the module we import = aliasing\n",
    "\n",
    "print(math.pi)\n",
    "print(math.sqrt(16))\n",
    "print(math.ceil(16.4))\n",
    "print(math.floor(16.8))\n",
    "print(math.sin(math.pi/2))\n",
    "print()\n",
    "\n",
    "\n",
    "scores = [1, 2, 3, 4]\n",
    "print(statistics.mean(scores))\n"
   ]
  },
  {
   "cell_type": "code",
   "execution_count": 1022,
   "id": "10dd54a6",
   "metadata": {},
   "outputs": [
    {
     "name": "stdout",
     "output_type": "stream",
     "text": [
      "['MAXYEAR', 'MINYEAR', '__all__', '__builtins__', '__cached__', '__doc__', '__file__', '__loader__', '__name__', '__package__', '__spec__', 'date', 'datetime', 'datetime_CAPI', 'sys', 'time', 'timedelta', 'timezone', 'tzinfo']\n",
      "c:\\Users\\evgen\\Desktop\\Python\\PYTHON_manual\n",
      "c:\\Users\\evgen\\AppData\\Local\\Programs\\Python\\Python39\\lib\\os.py\n"
     ]
    }
   ],
   "source": [
    "import os, datetime\n",
    "\n",
    "print(dir(datetime)) # print methods associated with the library\n",
    "\n",
    "print(os.getcwd()) # print working dir\n",
    "\n",
    "print(os.__file__) # print dir of standard library\n",
    "\n",
    "#os.chdir('C:/Users/user/') # change working dir\n",
    "\n",
    "#os.makedir('newdirname')"
   ]
  },
  {
   "cell_type": "markdown",
   "id": "eb838001",
   "metadata": {},
   "source": [
    "## Datetime\n",
    "\n",
    "**Naive dates and times** - don't have information to determine stuff like timezones, day savings time, but they are easier to work with;   \n",
    "```datetime.datetime.now()```   \n",
    "**Aware dates and times** - more detailed, but harder to work with.   \n",
    "```datetime.datetime.now(tz=pytz.UTC)```"
   ]
  },
  {
   "cell_type": "code",
   "execution_count": 1023,
   "id": "e995f9b7",
   "metadata": {},
   "outputs": [
    {
     "name": "stdout",
     "output_type": "stream",
     "text": [
      "Today: 2022-06-03\n",
      "       03.06.2022\n",
      " - Day: 3\n",
      " - Month: 6\n"
     ]
    }
   ],
   "source": [
    "import datetime, calendar\n",
    "\n",
    "print(f\"Today: {datetime.date.today()}\")\n",
    "print(f\"       {datetime.date.today().day:02d}.{datetime.date.today().month:02d}.{datetime.date.today().year}\")\n",
    "print(f\" - Day: {datetime.date.today().day}\")\n",
    "print(f\" - Month: {datetime.date.today().month}\")\n"
   ]
  },
  {
   "cell_type": "code",
   "execution_count": 1024,
   "id": "07386a04",
   "metadata": {},
   "outputs": [
    {
     "name": "stdout",
     "output_type": "stream",
     "text": [
      "2022-06-03\n",
      "3\n",
      "4\n",
      "5\n",
      "2016-07-24\n",
      "\n",
      "09:30:45\n",
      "9\n",
      "30\n"
     ]
    }
   ],
   "source": [
    "import datetime\n",
    "\n",
    "# .date method - year, month, day\n",
    "\n",
    "today = datetime.date.today()\n",
    "print(today)\n",
    "print(today.day)\n",
    "print(today.weekday()) # monday 0, sunday 6\n",
    "print(today.isoweekday()) # monday 1, sunday 7\n",
    "print(datetime.date(2016, 7, 24))\n",
    "print()\n",
    "\n",
    "\n",
    "# .time method - working with hours, minutes, seconds\n",
    "\n",
    "print( datetime.time(9, 30, 45) )\n",
    "print( datetime.time(9, 30, 45).hour )\n",
    "print( datetime.time(9, 30, 45).minute )"
   ]
  },
  {
   "cell_type": "code",
   "execution_count": 1025,
   "id": "6047943a",
   "metadata": {},
   "outputs": [
    {
     "name": "stdout",
     "output_type": "stream",
     "text": [
      "2016-07-26 12:30:45\n",
      "2016-07-26\n",
      "12:30:45\n",
      "2016\n",
      "\n",
      "2022-06-03 00:17:13.570508\n",
      "0\n",
      "17\n",
      "13\n",
      "0:17\n",
      "1033\n"
     ]
    }
   ],
   "source": [
    "# .date + .time methods combined\n",
    "dt = datetime.datetime(2016,7,26, 12,30,45)\n",
    "print(dt)\n",
    "print(dt.date())\n",
    "print(dt.time())\n",
    "print(dt.year)\n",
    "print()\n",
    "\n",
    "\n",
    "print( datetime.datetime.now() )\n",
    "print( datetime.datetime.now().hour )\n",
    "print( datetime.datetime.now().minute )\n",
    "print( datetime.datetime.now().second )\n",
    "print( f\"{datetime.datetime.now().hour}:{datetime.datetime.now().minute}\" )\n",
    "\n",
    "now_seconds = datetime.datetime.now().hour *3600 + datetime.datetime.now().minute *60 + datetime.datetime.now().second\n",
    "print(now_seconds)"
   ]
  },
  {
   "cell_type": "code",
   "execution_count": 1026,
   "id": "ee166f72",
   "metadata": {},
   "outputs": [
    {
     "name": "stdout",
     "output_type": "stream",
     "text": [
      "2022-06-03 08:17:13.770962+03:00\n",
      "\n",
      "2022-06-03 00:17:13.770962+03:00\n"
     ]
    }
   ],
   "source": [
    "import datetime, pytz\n",
    "\n",
    "print( \n",
    "    datetime.datetime.now(tz=pytz.UTC).astimezone(pytz.timezone('Europe/Moscow')) \n",
    ")\n",
    "print()\n",
    "\n",
    "# print all timezones:\n",
    "# for tz in pytz.all_timezones:\n",
    "#     print(tz)\n",
    "\n",
    "# from naive to timezone-aware\n",
    "naive = datetime.datetime.now()\n",
    "print( pytz.timezone('Europe/Moscow').localize(naive) )\n",
    "\n"
   ]
  },
  {
   "cell_type": "code",
   "execution_count": 1027,
   "id": "f25832a5",
   "metadata": {},
   "outputs": [
    {
     "name": "stdout",
     "output_type": "stream",
     "text": [
      "2022-06-10\n",
      "2022-06-10 00:17:13.962984\n",
      "-251 days, 0:00:00\n",
      "-251 days, 16:07:47\n",
      "2022-06-03 00:17:13\n"
     ]
    }
   ],
   "source": [
    "import datetime\n",
    "\n",
    "# date 7 days from now\n",
    "print( datetime.date.today() + datetime.timedelta(days = 7) )\n",
    "print( datetime.datetime.today() + datetime.timedelta(days=7) )\n",
    "\n",
    "# Days left to Caro's arrival\n",
    "print( datetime.date(2021,9,25) - datetime.date.today() )\n",
    "\n",
    "# Days and time left to Caro's arrival\n",
    "print( datetime.datetime(2021,9,25, 16,25,0).replace(microsecond=0) - datetime.datetime.today().replace(microsecond=0) )\n",
    "print( datetime.datetime.today().replace(microsecond=0) )\n"
   ]
  },
  {
   "cell_type": "code",
   "execution_count": 1028,
   "id": "50204b79",
   "metadata": {},
   "outputs": [
    {
     "name": "stdout",
     "output_type": "stream",
     "text": [
      "2022-06-02 23:17:14.162964-06:00\n",
      "2022-06-03 00:17:14.162964\n",
      "2022-06-03 00:17:14.162964-06:00\n"
     ]
    }
   ],
   "source": [
    "import datetime\n",
    "import pytz\n",
    "\n",
    "# prints all timezones:\n",
    "# for tz in pytz.all_timezones:\n",
    "#     print(tz)\n",
    "\n",
    "print( datetime.datetime.now().astimezone(pytz.timezone('US/Mountain')) )\n",
    "\n",
    "# local time, not time zone aware\n",
    "dt_mtn = datetime.datetime.now()\n",
    "print(dt_mtn)\n",
    "\n",
    "mtn_tz = pytz.timezone('US/Mountain')\n",
    "dt_mtn = mtn_tz.localize(dt_mtn)\n",
    "print(dt_mtn)"
   ]
  },
  {
   "cell_type": "markdown",
   "id": "ca274394",
   "metadata": {},
   "source": [
    "## Numpy\n",
    "\n",
    "If you have an array, but you need a list, you can make a convertion: `y = x.tolist()`\n",
    "\n",
    "Features: \n",
    "- Numpy is based on C++, so it's faster than Python; "
   ]
  },
  {
   "cell_type": "code",
   "execution_count": 1030,
   "id": "a32df89e",
   "metadata": {},
   "outputs": [
    {
     "data": {
      "text/plain": [
       "False"
      ]
     },
     "execution_count": 1030,
     "metadata": {},
     "output_type": "execute_result"
    }
   ],
   "source": [
    "import numpy as np\n",
    "\n",
    "np.sign(5) == np.sign(-5)"
   ]
  },
  {
   "cell_type": "code",
   "execution_count": 1031,
   "id": "8c8638c7",
   "metadata": {},
   "outputs": [
    {
     "data": {
      "text/plain": [
       "array([2])"
      ]
     },
     "execution_count": 1031,
     "metadata": {},
     "output_type": "execute_result"
    }
   ],
   "source": [
    "import numpy as np\n",
    "\n",
    "# Create array from python list\n",
    "X = [1, 2, 3]\n",
    "X = np.array(X)\n",
    "\n",
    "# Create arrays\n",
    "vector1 = np.array([1, 2, 3, 4], dtype=int)\n",
    "array2d_1 = np.array([[1, 2, 3], [3, 4, 5]])\n",
    "array2d_2 = np.array([[1, 2, 3], [3, 4, 5]])\n",
    "array3d = np.array([\n",
    "\t[\n",
    "\t\t[1, 2, 3],\n",
    "\t\t[4, 5, 6],\n",
    "\t], \n",
    "\t[\n",
    "\t\t[7, 8, 9],\n",
    "\t\t[10, 11, 12],\n",
    "\t]\n",
    "])\n",
    "\n",
    "# Get info\n",
    "array3d.shape\n",
    "array3d.dtype\n",
    "\n",
    "# Access one element \n",
    "array3d[1, 1, 2]\n",
    "# Range > subarray\n",
    "array3d[0, :, :2]\n",
    "# Multi-indexing > numpy array\n",
    "vector1[[0, 3, 2]]\n",
    "\n",
    "# Get only the zero-index elements from a nested array\n",
    "list1 = [['a',1], ['b',2], ['c',3]]\n",
    "print(list1[:, 0])\n",
    "\n",
    "\n",
    "# Compare numpy arrays, output = array of booleans\n",
    "array2d_1 == array2d_2\n",
    "# sum booleans (True=1, False=0)\n",
    "(array2d_1 == array2d_2).sum()\n",
    "\n",
    "\"\"\"\n",
    "Array manipulation functions: \n",
    "np.reshape, np.stack, np.concatenate, np.split\n",
    "\"\"\"\n",
    "\n",
    "# Boolean arrays (masks)\n",
    "a = np.arange(5)\n",
    "# Boolean arrays - a way of select multiindex items\n",
    "a[[True, False, False, True, False]]\n",
    "# Create a boolean mask\n",
    "mask = a < 0\n",
    "a[mask]\n",
    "# Get elements greater than 5\n",
    "a[a > a.mean()]\n",
    "\n",
    "# generate a boolean array from an array\n",
    "a >= 2\n",
    "# same but just choose items which match the criterion\n",
    "a[a >= 2]\n",
    "\n",
    "\n",
    "mask = a[(a == 0) | (a == 1)]\n",
    "a[mask]\n",
    "# or\n",
    "a[ (a==2) | (a==10) ]\n"
   ]
  },
  {
   "cell_type": "code",
   "execution_count": 1032,
   "id": "b4c46ca5",
   "metadata": {},
   "outputs": [
    {
     "name": "stderr",
     "output_type": "stream",
     "text": [
      "C:\\Users\\evgen\\AppData\\Local\\Temp/ipykernel_2888/166412512.py:52: DeprecationWarning: `np.int` is a deprecated alias for the builtin `int`. To silence this warning, use `int` by itself. Doing this will not modify any behavior and is safe. When replacing `np.int`, you may wish to use e.g. `np.int64` or `np.int32` to specify the precision. If you wish to review your current use, check the release note link for additional information.\n",
      "Deprecated in NumPy 1.20; for more details and guidance: https://numpy.org/devdocs/release/1.20.0-notes.html#deprecations\n",
      "  np.zeros(5, dtype=np.int)\n",
      "C:\\Users\\evgen\\AppData\\Local\\Temp/ipykernel_2888/166412512.py:56: DeprecationWarning: `np.int` is a deprecated alias for the builtin `int`. To silence this warning, use `int` by itself. Doing this will not modify any behavior and is safe. When replacing `np.int`, you may wish to use e.g. `np.int64` or `np.int32` to specify the precision. If you wish to review your current use, check the release note link for additional information.\n",
      "Deprecated in NumPy 1.20; for more details and guidance: https://numpy.org/devdocs/release/1.20.0-notes.html#deprecations\n",
      "  np.zeros((3, 2), dtype=np.int)\n"
     ]
    },
    {
     "data": {
      "text/plain": [
       "array([[1, 0, 0],\n",
       "       [0, 1, 0],\n",
       "       [0, 0, 1]])"
      ]
     },
     "execution_count": 1032,
     "metadata": {},
     "output_type": "execute_result"
    }
   ],
   "source": [
    "\"\"\"\n",
    "Useful Numpy functions for creating arrays: \n",
    "random, arange, empty, zeros, linspace, full, eye\n",
    "\"\"\"\n",
    "# Random 1D array, size = N items\n",
    "np.random.random(size=2)\n",
    "# Create 3x3x3 random array\n",
    "np.random.random(size=(3,3,3))\n",
    "\n",
    "# Random 1D array, normal distribution\n",
    "np.random.normal(size=2)\n",
    "\n",
    "# RANDOM floats from uniform distribution, range [0,1)\n",
    "# Random vector\n",
    "np.random.rand(5)\n",
    "# Random matrix with set dimensions\n",
    "np.random.rand(4, 4)\n",
    "\n",
    "# Random array with int values btw 1-10\n",
    "np.random.randint(10, size=3)\n",
    "# Random array with int values btw 10-29\n",
    "np.random.randint(10, 20, size=3)\n",
    "\n",
    "# RANDOM floats from normal distribution\n",
    "np.random.randn(4, 4)\n",
    "\n",
    "# RANDOM floats btw two values\n",
    "np.random.uniform(5, 10, 5)\n",
    "\n",
    "\n",
    "# Array from 0 to 9\n",
    "np.arange(10)\n",
    "# Array from 5 to 9\n",
    "np.arange(5, 10)\n",
    "# Array from 0 to 0.9, with step 0.1\n",
    "np.arange(0, 1, 0.1)\n",
    "# In descending order\n",
    "np.arange(1, 11)[::-1]\n",
    "\n",
    "# Reshape 1D array into set dimensions\n",
    "np.arange(10).reshape(2, 5)\n",
    "# Create a 3x3 numpy matrix filled with values 0-8\n",
    "np.arange(0, 9).reshape(3,3)\n",
    "\n",
    "# Empty\n",
    "np.empty(5)\n",
    "np.empty((2,2))\n",
    "\n",
    "# Zeros\n",
    "## 1D all zeros\n",
    "np.zeros(5)\n",
    "np.zeros(5, dtype=np.int)\n",
    "np\n",
    "## 2D all zeros\n",
    "np.zeros((3, 2))\n",
    "np.zeros((3, 2), dtype=np.int)\n",
    "## 3D all zeros\n",
    "np.zeros((2, 3, 4))\n",
    "\n",
    "# Ones\n",
    "## 2D all ones\n",
    "np.ones((3, 2))\n",
    "np.ones((3, 3), dtype=int)\n",
    "\n",
    "# Linspace\n",
    "# return N=100 evenly-spaced numbers from 0 to 30\n",
    "np.linspace(0, 30, 100)\n",
    "\n",
    "# Create a matrix of 2rows-3columns with value 42\n",
    "np.full([2, 3], 42)\n",
    "\n",
    "# Create an identity matrix\n",
    "np.eye(3)\n",
    "np.identity(3, dtype=int)"
   ]
  },
  {
   "cell_type": "code",
   "execution_count": 1,
   "id": "71fad7f6",
   "metadata": {},
   "outputs": [
    {
     "data": {
      "text/plain": [
       "[<matplotlib.lines.Line2D at 0x2eb1d60de80>]"
      ]
     },
     "execution_count": 1,
     "metadata": {},
     "output_type": "execute_result"
    },
    {
     "data": {
      "image/png": "[encoded data removed]",
      "text/plain": [
       "<Figure size 432x288 with 1 Axes>"
      ]
     },
     "metadata": {
      "needs_background": "light"
     },
     "output_type": "display_data"
    }
   ],
   "source": [
    "import numpy as np, matplotlib.pyplot as plt\n",
    "from scipy.special import factorial\n",
    "\n",
    "# When working with arrays, you need to use scipy to calculate factorial numbers\n",
    "\n",
    "# Plot a graph of combinations without repetitions \"n choose r\"\n",
    "# where in this case 'r' has a fixed value of 2 \n",
    "\n",
    "x = np.arange(3, 11, 1)\n",
    "y = factorial(x) / ( factorial(2) * factorial(x-2) )\n",
    "plt.plot( x, y )"
   ]
  },
  {
   "cell_type": "code",
   "execution_count": 1033,
   "id": "bfe2f02c",
   "metadata": {},
   "outputs": [
    {
     "name": "stdout",
     "output_type": "stream",
     "text": [
      "2329008813904 2328057116592\n"
     ]
    },
    {
     "name": "stderr",
     "output_type": "stream",
     "text": [
      "C:\\Users\\evgen\\AppData\\Local\\Temp/ipykernel_2888/1783876320.py:21: DeprecationWarning: `np.float` is a deprecated alias for the builtin `float`. To silence this warning, use `float` by itself. Doing this will not modify any behavior and is safe. If you specifically wanted the numpy scalar type, use `np.float64` here.\n",
      "Deprecated in NumPy 1.20; for more details and guidance: https://numpy.org/devdocs/release/1.20.0-notes.html#deprecations\n",
      "  Y = np.array(X, np.float)\n"
     ]
    }
   ],
   "source": [
    "\"\"\"\n",
    "Copy matrices\n",
    "\"\"\"\n",
    "import numpy as np\n",
    "\n",
    "X = np.arange(4, dtype=int)\n",
    "\n",
    "# Create a copy with a different ID\n",
    "Y = np.copy(X); print(id(X), id(Y))\n",
    "\n",
    "# Create a copy array with the same dimensions, but filled with 1\n",
    "Y = np.ones_like(X)\n",
    "\n",
    "# Create a copy matrix with same dimensions, but filled with 0\n",
    "Y = np.zeros_like(X)\n",
    "\n",
    "# Create a copy matrix with same dimensions, but filled with fill_value\n",
    "Y = np.full_like(X, fill_value=7)\n",
    "\n",
    "# Convert all values into float\n",
    "Y = np.array(X, np.float)\n"
   ]
  },
  {
   "cell_type": "code",
   "execution_count": 1034,
   "id": "db15d170",
   "metadata": {},
   "outputs": [],
   "source": [
    "\"\"\"\n",
    "Mathematics functions: \n",
    "np.sum, np.exp, np.round\n",
    "\"\"\"\n",
    "vector1 = np.array([1, 2, 3, 4], dtype=int)\n",
    "vector2 = np.array([1, 2, 3, 4], dtype=int)\n",
    "\n",
    "# Element-wise addition\n",
    "vector1 + vector2\n",
    "\n",
    "# Add a scalar\n",
    "vector1 + 10\n",
    "# Inplace\n",
    "vector1 += 10\n",
    "\n"
   ]
  },
  {
   "cell_type": "code",
   "execution_count": 1035,
   "id": "7223ef39",
   "metadata": {},
   "outputs": [
    {
     "data": {
      "text/plain": [
       "12"
      ]
     },
     "execution_count": 1035,
     "metadata": {},
     "output_type": "execute_result"
    }
   ],
   "source": [
    "\"\"\"\n",
    "Statistics functions:\n",
    "np.mean, np.median, np.std, np.max\n",
    "\"\"\"\n",
    "vector1 = np.array([1, 2, 3, 4], dtype=int)\n",
    "vector2 = np.array([1, 2, 3, 4], dtype=int)\n",
    "array2d = np.array([\n",
    "\t[1, 2, 3], \n",
    "\t[4, 5, 6]\n",
    "])\n",
    "array3d = np.array([\n",
    "\t[\n",
    "\t\t[1, 2, 3],\n",
    "\t\t[4, 5, 6],\n",
    "\t], \n",
    "\t[\n",
    "\t\t[7, 8, 9],\n",
    "\t\t[10, 11, 12],\n",
    "\t]\n",
    "])\n",
    "\n",
    "array3d[0, 0].sum()\n",
    "array3d[0, 0].mean()\n",
    "array3d[0, 0].std()\n",
    "\n",
    "array2d.sum() # sum of all elements\n",
    "array2d.sum(axis=0) # sum of columns\n",
    "array2d.sum(axis=1) # sum of rows\n",
    "\n",
    "\n",
    "array3d.max()"
   ]
  },
  {
   "cell_type": "code",
   "execution_count": 1036,
   "id": "e6cb2349",
   "metadata": {},
   "outputs": [
    {
     "data": {
      "text/plain": [
       "array([ 4, 10, 18])"
      ]
     },
     "execution_count": 1036,
     "metadata": {},
     "output_type": "execute_result"
    }
   ],
   "source": [
    "\"\"\"\n",
    "Linear algebra:\n",
    "np.matmul, np.dot, np.transpose, np.eigvals\n",
    "\"\"\"\n",
    "\n",
    "a = np.array([\n",
    "\t[1, 2, 3], \n",
    "\t[4, 5, 6], \n",
    "\t[7, 8, 9]\n",
    "])\n",
    "b = np.random.rand(3, 3)\n",
    "\n",
    "# Dot product\n",
    "a.dot(b)\n",
    "\n",
    "# Vector multiplication\n",
    "vector1 = np.array([1, 2, 3])\n",
    "vector2 = np.array([4, 5, 6])\n",
    "vector1 * vector2\n"
   ]
  },
  {
   "cell_type": "code",
   "execution_count": 1037,
   "id": "93381085",
   "metadata": {},
   "outputs": [
    {
     "name": "stdout",
     "output_type": "stream",
     "text": [
      "Wall time: 34.7 ms\n",
      "Wall time: 0 ns\n"
     ]
    },
    {
     "data": {
      "text/plain": [
       "800"
      ]
     },
     "execution_count": 1037,
     "metadata": {},
     "output_type": "execute_result"
    }
   ],
   "source": [
    "# Size of objects in memory\n",
    "\n",
    "# An integer 1 in Python is 28 bytes\n",
    "import sys\n",
    "sys.getsizeof(1)\n",
    "# Numpy size is much smaller\n",
    "np.dtype(int).itemsize\n",
    "\n",
    "# Lists are larger, e.g. list of one element 1 is 64 bytes\n",
    "sys.getsizeof([1])\n",
    "# An array of one element in numpy = 4 bytes\n",
    "np.array([1]).nbytes\n",
    "\n",
    "# Performance of Python\n",
    "l = list(range(100000))\n",
    "%time sum([x**2 for x in l])\n",
    "# Performance of Numpy\n",
    "a = np.arange(100000)\n",
    "%time np.sum(a**2)\n",
    "\n",
    "\n",
    "# Show memory size in bytes of a Numpy matrix\n",
    "np.zeros((10, 10)).nbytes\n"
   ]
  },
  {
   "cell_type": "code",
   "execution_count": 1038,
   "id": "9fa256bd",
   "metadata": {},
   "outputs": [
    {
     "data": {
      "text/plain": [
       "array([1, 2, 3, 5, 6, 8, 9])"
      ]
     },
     "execution_count": 1038,
     "metadata": {},
     "output_type": "execute_result"
    }
   ],
   "source": [
    "X = np.array([5, 1, 2, 3, 6, 9, 8])\n",
    "X = np.sort(X)\n",
    "X"
   ]
  },
  {
   "cell_type": "markdown",
   "id": "fbf7a09f",
   "metadata": {},
   "source": [
    "## Pandas\n",
    "\n",
    "Logical operators in Pandas: `&`, `|`, `~`. If there are multiple expressions, each one is wrapped inside of parentheses `()` \n",
    "\n",
    "The two main data structures in Pandas are **Series** and **DataFrames**"
   ]
  },
  {
   "cell_type": "markdown",
   "id": "afe7ab54",
   "metadata": {},
   "source": [
    "### Series vs DataFrames"
   ]
  },
  {
   "cell_type": "code",
   "execution_count": 1039,
   "id": "9b3d2bae",
   "metadata": {},
   "outputs": [
    {
     "data": {
      "text/html": [
       "<div>\n",
       "<style scoped>\n",
       "    .dataframe tbody tr th:only-of-type {\n",
       "        vertical-align: middle;\n",
       "    }\n",
       "\n",
       "    .dataframe tbody tr th {\n",
       "        vertical-align: top;\n",
       "    }\n",
       "\n",
       "    .dataframe thead th {\n",
       "        text-align: right;\n",
       "    }\n",
       "</style>\n",
       "<table border=\"1\" class=\"dataframe\">\n",
       "  <thead>\n",
       "    <tr style=\"text-align: right;\">\n",
       "      <th></th>\n",
       "      <th>index</th>\n",
       "      <th>0</th>\n",
       "    </tr>\n",
       "  </thead>\n",
       "  <tbody>\n",
       "    <tr>\n",
       "      <th>0</th>\n",
       "      <td>0</td>\n",
       "      <td>Evgenii</td>\n",
       "    </tr>\n",
       "    <tr>\n",
       "      <th>1</th>\n",
       "      <td>1</td>\n",
       "      <td>Caro</td>\n",
       "    </tr>\n",
       "    <tr>\n",
       "      <th>2</th>\n",
       "      <td>2</td>\n",
       "      <td>Cat</td>\n",
       "    </tr>\n",
       "  </tbody>\n",
       "</table>\n",
       "</div>"
      ],
      "text/plain": [
       "   index        0\n",
       "0      0  Evgenii\n",
       "1      1     Caro\n",
       "2      2      Cat"
      ]
     },
     "execution_count": 1039,
     "metadata": {},
     "output_type": "execute_result"
    }
   ],
   "source": [
    "# Series\n",
    "import pandas as pd\n",
    "\n",
    "# Define one column of values\n",
    "var1 = pd.Series([10, 50, 10, 30, 20])\n",
    "\n",
    "var1.name = 'var1 series name1'\n",
    "\n",
    "# Create column row-by-row using indeces\n",
    "var2 = pd.Series({\n",
    "\t'Row1': 505, \n",
    "\t'Row2': 510, \n",
    "\t'Row3': 516\n",
    "})\n",
    "# or\n",
    "var2 = pd.Series([505, 510, 516], index=['Row1', 'Row2', 'Row3'])\n",
    "var2\n",
    "\n",
    "# boolean array\n",
    "var2 > 510\n",
    "# Series masked with boolean array\n",
    "var2[var2 > 510]\n",
    "\n",
    "# Dataframes \n",
    "# Dataframe column is a Series\n",
    "\n",
    "# Convert series to dataframe\n",
    "\n",
    "# method 1\n",
    "name = pd.Series(['Evgenii', 'Caro', 'Cat'])\n",
    "age = pd.Series([24, 27, 11])\n",
    "df = pd.DataFrame({'name': name, 'age': age})\n",
    "df\n",
    "\n",
    "# method 2\n",
    "df2 = name.to_frame().reset_index()\n",
    "df2"
   ]
  },
  {
   "cell_type": "code",
   "execution_count": 1040,
   "id": "2ae4ef36",
   "metadata": {},
   "outputs": [],
   "source": [
    "# DATAFRAMES\n",
    "\n",
    "# Pandas format is similar to a dictionary of lists, more specifically, \n",
    "# a series data structure (2D data structure)\n",
    "\n",
    "# Option 1\n",
    "people = {\n",
    "\t'name': ['John', 'Steve', 'Stephen', 'Jane'], \n",
    "\t'surname': ['Cramer', 'Buscemi', 'King', 'Foster'], \n",
    "\t'age': [55, 43, 40, 25], \n",
    "}\n",
    "people_df = pd.DataFrame(people)\n",
    "\n",
    "# Option 2\n",
    "people_df = pd.DataFrame({\n",
    "\t'name': ['John', 'Steve', 'Stephen', 'Jane'], \n",
    "\t'surname': ['Cramer', 'Buscemi', 'King', 'Foster'], \n",
    "\t'age': [55, 43, 40, 25], \n",
    "})\n",
    "\n",
    "# Option 3\n",
    "# Create a 5-column, 100-row pandas DataFrame\n",
    "import numpy as np\n",
    "npArray = np.random.random(size=(100, 5))\n",
    "df = pd.DataFrame(npArray, columns=['one', 'two', 'three', 'four', 'five'])\n"
   ]
  },
  {
   "cell_type": "code",
   "execution_count": 1041,
   "id": "b31c0bb1",
   "metadata": {},
   "outputs": [
    {
     "data": {
      "text/html": [
       "<div>\n",
       "<style scoped>\n",
       "    .dataframe tbody tr th:only-of-type {\n",
       "        vertical-align: middle;\n",
       "    }\n",
       "\n",
       "    .dataframe tbody tr th {\n",
       "        vertical-align: top;\n",
       "    }\n",
       "\n",
       "    .dataframe thead th {\n",
       "        text-align: right;\n",
       "    }\n",
       "</style>\n",
       "<table border=\"1\" class=\"dataframe\">\n",
       "  <thead>\n",
       "    <tr style=\"text-align: right;\">\n",
       "      <th></th>\n",
       "      <th>Age</th>\n",
       "      <th>Height</th>\n",
       "      <th>Mark</th>\n",
       "      <th>Sport</th>\n",
       "      <th>Languages</th>\n",
       "    </tr>\n",
       "  </thead>\n",
       "  <tbody>\n",
       "    <tr>\n",
       "      <th>Evgenii</th>\n",
       "      <td>24</td>\n",
       "      <td>186</td>\n",
       "      <td>A</td>\n",
       "      <td>Gym</td>\n",
       "      <td>English</td>\n",
       "    </tr>\n",
       "    <tr>\n",
       "      <th>John</th>\n",
       "      <td>25</td>\n",
       "      <td>186</td>\n",
       "      <td>C</td>\n",
       "      <td>Volleyball</td>\n",
       "      <td>NaN</td>\n",
       "    </tr>\n",
       "    <tr>\n",
       "      <th>Asuka</th>\n",
       "      <td>23</td>\n",
       "      <td>182</td>\n",
       "      <td>A</td>\n",
       "      <td>Baseball</td>\n",
       "      <td>NaN</td>\n",
       "    </tr>\n",
       "    <tr>\n",
       "      <th>Yagami</th>\n",
       "      <td>20</td>\n",
       "      <td>175</td>\n",
       "      <td>B</td>\n",
       "      <td>Cricket</td>\n",
       "      <td>Japanese</td>\n",
       "    </tr>\n",
       "  </tbody>\n",
       "</table>\n",
       "</div>"
      ],
      "text/plain": [
       "         Age  Height Mark       Sport Languages\n",
       "Evgenii   24     186    A         Gym   English\n",
       "John      25     186    C  Volleyball       NaN\n",
       "Asuka     23     182    A    Baseball       NaN\n",
       "Yagami    20     175    B     Cricket  Japanese"
      ]
     },
     "execution_count": 1041,
     "metadata": {},
     "output_type": "execute_result"
    }
   ],
   "source": [
    "# Modify dataframe by a series\n",
    "\n",
    "df1 = pd.DataFrame(\n",
    "    {\n",
    "        \"Age\": [24, 25, 23, 20],\n",
    "        \"Height\": [186, 186, 182, 175],\n",
    "        \"Mark\": [\"A\", \"C\", \"A\", \"B\"],\n",
    "        \"Sport\": [\"Gym\", \"Volleyball\", \"Baseball\", \"Cricket\"],\n",
    "    },\n",
    "    index=['Evgenii', 'John', 'Asuka', 'Yagami'],\n",
    ")\n",
    "\n",
    "series1 = pd.Series(\n",
    "\t['Japanese', 'English'], \n",
    "\tindex=['Yagami', 'Evgenii']\n",
    ")\n",
    "\n",
    "df1['Languages'] = series1\n",
    "df1\n"
   ]
  },
  {
   "cell_type": "code",
   "execution_count": 3,
   "id": "24ee6d11",
   "metadata": {},
   "outputs": [
    {
     "data": {
      "text/html": [
       "<div>\n",
       "<style scoped>\n",
       "    .dataframe tbody tr th:only-of-type {\n",
       "        vertical-align: middle;\n",
       "    }\n",
       "\n",
       "    .dataframe tbody tr th {\n",
       "        vertical-align: top;\n",
       "    }\n",
       "\n",
       "    .dataframe thead th {\n",
       "        text-align: right;\n",
       "    }\n",
       "</style>\n",
       "<table border=\"1\" class=\"dataframe\">\n",
       "  <thead>\n",
       "    <tr style=\"text-align: right;\">\n",
       "      <th></th>\n",
       "      <th>Age</th>\n",
       "      <th>Height</th>\n",
       "      <th>Mark</th>\n",
       "      <th>Sport</th>\n",
       "    </tr>\n",
       "  </thead>\n",
       "  <tbody>\n",
       "    <tr>\n",
       "      <th>Evgenii</th>\n",
       "      <td>24</td>\n",
       "      <td>186</td>\n",
       "      <td>A</td>\n",
       "      <td>Gym</td>\n",
       "    </tr>\n",
       "    <tr>\n",
       "      <th>John</th>\n",
       "      <td>25</td>\n",
       "      <td>186</td>\n",
       "      <td>C</td>\n",
       "      <td>Volleyball</td>\n",
       "    </tr>\n",
       "    <tr>\n",
       "      <th>Asuka</th>\n",
       "      <td>23</td>\n",
       "      <td>182</td>\n",
       "      <td>A</td>\n",
       "      <td>Baseball</td>\n",
       "    </tr>\n",
       "    <tr>\n",
       "      <th>Yagami</th>\n",
       "      <td>20</td>\n",
       "      <td>175</td>\n",
       "      <td>B</td>\n",
       "      <td>Cricket</td>\n",
       "    </tr>\n",
       "  </tbody>\n",
       "</table>\n",
       "</div>"
      ],
      "text/plain": [
       "         Age  Height Mark       Sport\n",
       "Evgenii   24     186    A         Gym\n",
       "John      25     186    C  Volleyball\n",
       "Asuka     23     182    A    Baseball\n",
       "Yagami    20     175    B     Cricket"
      ]
     },
     "execution_count": 3,
     "metadata": {},
     "output_type": "execute_result"
    }
   ],
   "source": [
    "# Create a DataFrame copy\n",
    "\n",
    "import pandas as pd\n",
    "\n",
    "df1 = pd.DataFrame(\n",
    "    {\n",
    "        \"Age\": [24, 25, 23, 20],\n",
    "        \"Height\": [186, 186, 182, 175],\n",
    "        \"Mark\": [\"A\", \"C\", \"A\", \"B\"],\n",
    "        \"Sport\": [\"Gym\", \"Volleyball\", \"Baseball\", \"Cricket\"],\n",
    "    },\n",
    "    index=['Evgenii', 'John', 'Asuka', 'Yagami'],\n",
    ")\n",
    "\n",
    "df2 = df1.copy(deep=True)\n",
    "df2.head()"
   ]
  },
  {
   "cell_type": "markdown",
   "id": "eb6fef6e",
   "metadata": {},
   "source": [
    "### Import / export data\n",
    "```py\n",
    "###########################################################################################\n",
    "#####   Reader   ##########################################################################\n",
    "###########################################################################################\n",
    "\n",
    "# Read from web url\n",
    "df = pd.read_csv('https://raw.githubusercontent.com/datasets/covid-19/master/data/countries-aggregated.csv', parse_dates=['Date'])\n",
    "\n",
    "# File reader\n",
    "varname = pd.read_csv(\n",
    "\t'name.csv', \n",
    "\tsep='\\t', # or delimiter = '\\t'; specify custom data delimiter\n",
    "\theader=None, # if file doesn't have a header\n",
    "\tna_values=['', '?', '-'], # defines values which are recognised as NA/NaN\n",
    "\tusecols=['Column1', 'Column2'], # only import the specified columns\n",
    "\tnames=['Col1', 'Column2'], # pass names of columns\n",
    "\tdtype={'Col1': 'float'}, # parameter to force pandas to use certain dtype for a specified column\n",
    "\tparse_dates=[0], # parse_dates = True; parse_dates = ['Date']\n",
    "\tindex_col=[0], # or index_col = 'Respondent' ; index_col = 0\n",
    "\tdecimal=',', \n",
    "\tdelim_whitespace=True, # as delimiters, whitespace of length 1 or more will be considered\n",
    "\tskiprows=2, # skip reading the first 2 rows from the file\n",
    "\tnrows=10 # number of a file's rows to read\n",
    ")\n",
    "df = pd.read_excel('data.slxs')\n",
    "df = pd.read_json('filename.json')\n",
    "\n",
    "###########################################################################################\n",
    "#####   Writer   ##########################################################################\n",
    "###########################################################################################\n",
    "\n",
    "df.to_csv(\n",
    "\t'filename.tsv', # can be .tsv, just specify parameter 'sep' \n",
    "\tsep='\\t',\n",
    "\tindex=False, # don't output index column\n",
    ")\n",
    "df.to_excel('filename.xlsx')\n",
    "df.to_json('filename.json')\n",
    "\n",
    "\n",
    "# Copy dataframe\n",
    "df2 = df.copy()\n",
    "```\n",
    "\n",
    "---\n",
    "\n",
    "```py\n",
    "\n",
    "# Batch process: read .json files from directory FolderWithJsonFiles, convert them to .tsv, save to current dir\n",
    "import os; import pandas as pd\n",
    "\n",
    "files = os.listdir('json')\n",
    "\n",
    "if not os.path.exists('/tsv'):\n",
    "\tos.mkdir('tsv')\n",
    "for i in files:\n",
    "\tprint(i)\n",
    "\tdf = pd.read_json(f'json/{i}')\n",
    "\tdf = df[df[0] != '\\n']\n",
    "\tname_noextension = i.split('.')[0]\n",
    "\tname_tsvextension = name_noextension + '.tsv'\n",
    "\tdf.to_csv(f\"tsv/{name_tsvextension}\", sep='\\t', index=False, header=False)\n",
    "\tprint(f\"Wrote tsv/{name_tsvextension}!\")\n",
    "\n",
    "```"
   ]
  },
  {
   "cell_type": "code",
   "execution_count": 1042,
   "id": "13b63274",
   "metadata": {},
   "outputs": [
    {
     "name": "stdout",
     "output_type": "stream",
     "text": [
      "[10 20 30 40 50]\n",
      "[[  1  10 100]\n",
      " [  2  20 200]\n",
      " [  3  30 300]\n",
      " [  4  40 400]\n",
      " [  5  50 500]]\n"
     ]
    }
   ],
   "source": [
    "# Convert a dataframe into numpy array\n",
    "\n",
    "df = pd.DataFrame({\n",
    "\t'Col1': [1, 2, 3, 4, 5], \n",
    "\t'Col2': [10, 20, 30, 40, 50], \n",
    "\t'Col3': [100, 200, 300, 400, 500]\n",
    "})\n",
    "\n",
    "# Convert one column\n",
    "print( df['Col2'].to_numpy() )\n",
    "\n",
    "# Convert all columns\n",
    "print( df.to_numpy() )\n"
   ]
  },
  {
   "cell_type": "code",
   "execution_count": 1,
   "id": "00ab066c",
   "metadata": {},
   "outputs": [
    {
     "name": "stdout",
     "output_type": "stream",
     "text": [
      "Earliest date: 2019-05-01 00:00:00\n",
      "Most recent date: 2022-09-01 00:00:00\n"
     ]
    },
    {
     "data": {
      "text/html": [
       "<div>\n",
       "<style scoped>\n",
       "    .dataframe tbody tr th:only-of-type {\n",
       "        vertical-align: middle;\n",
       "    }\n",
       "\n",
       "    .dataframe tbody tr th {\n",
       "        vertical-align: top;\n",
       "    }\n",
       "\n",
       "    .dataframe thead th {\n",
       "        text-align: right;\n",
       "    }\n",
       "</style>\n",
       "<table border=\"1\" class=\"dataframe\">\n",
       "  <thead>\n",
       "    <tr style=\"text-align: right;\">\n",
       "      <th></th>\n",
       "      <th>index</th>\n",
       "      <th>Date</th>\n",
       "      <th>Category</th>\n",
       "      <th>Amount</th>\n",
       "      <th>DDMM</th>\n",
       "      <th>DDMMYY</th>\n",
       "      <th>YYYY</th>\n",
       "      <th>MMYY</th>\n",
       "      <th>M_nam</th>\n",
       "      <th>M_name</th>\n",
       "      <th>Weekday</th>\n",
       "    </tr>\n",
       "  </thead>\n",
       "  <tbody>\n",
       "    <tr>\n",
       "      <th>1</th>\n",
       "      <td>3</td>\n",
       "      <td>2020-09-01</td>\n",
       "      <td>groceries</td>\n",
       "      <td>250</td>\n",
       "      <td>01.09</td>\n",
       "      <td>01/09/20</td>\n",
       "      <td>2020</td>\n",
       "      <td>09.20</td>\n",
       "      <td>Sep</td>\n",
       "      <td>September</td>\n",
       "      <td>Tuesday</td>\n",
       "    </tr>\n",
       "    <tr>\n",
       "      <th>2</th>\n",
       "      <td>4</td>\n",
       "      <td>2021-09-01</td>\n",
       "      <td>transport</td>\n",
       "      <td>500</td>\n",
       "      <td>01.09</td>\n",
       "      <td>01/09/21</td>\n",
       "      <td>2021</td>\n",
       "      <td>09.21</td>\n",
       "      <td>Sep</td>\n",
       "      <td>September</td>\n",
       "      <td>Wednesday</td>\n",
       "    </tr>\n",
       "    <tr>\n",
       "      <th>3</th>\n",
       "      <td>5</td>\n",
       "      <td>2021-10-01</td>\n",
       "      <td>eat out</td>\n",
       "      <td>100</td>\n",
       "      <td>01.10</td>\n",
       "      <td>01/10/21</td>\n",
       "      <td>2021</td>\n",
       "      <td>10.21</td>\n",
       "      <td>Oct</td>\n",
       "      <td>October</td>\n",
       "      <td>Friday</td>\n",
       "    </tr>\n",
       "    <tr>\n",
       "      <th>4</th>\n",
       "      <td>6</td>\n",
       "      <td>2021-11-15</td>\n",
       "      <td>transport</td>\n",
       "      <td>520</td>\n",
       "      <td>15.11</td>\n",
       "      <td>15/11/21</td>\n",
       "      <td>2021</td>\n",
       "      <td>11.21</td>\n",
       "      <td>Nov</td>\n",
       "      <td>November</td>\n",
       "      <td>Monday</td>\n",
       "    </tr>\n",
       "  </tbody>\n",
       "</table>\n",
       "</div>"
      ],
      "text/plain": [
       "   index       Date   Category Amount   DDMM    DDMMYY  YYYY   MMYY M_nam  \\\n",
       "1      3 2020-09-01  groceries    250  01.09  01/09/20  2020  09.20   Sep   \n",
       "2      4 2021-09-01  transport    500  01.09  01/09/21  2021  09.21   Sep   \n",
       "3      5 2021-10-01    eat out    100  01.10  01/10/21  2021  10.21   Oct   \n",
       "4      6 2021-11-15  transport    520  15.11  15/11/21  2021  11.21   Nov   \n",
       "\n",
       "      M_name    Weekday  \n",
       "1  September    Tuesday  \n",
       "2  September  Wednesday  \n",
       "3    October     Friday  \n",
       "4   November     Monday  "
      ]
     },
     "execution_count": 1,
     "metadata": {},
     "output_type": "execute_result"
    }
   ],
   "source": [
    "# DATETIME\n",
    "# If you need to clean data in column 'Date' before parsing\n",
    "import pandas as pd\n",
    "\n",
    "df = pd.DataFrame({\n",
    "\t'Date': ['#', '#', '01.05.2019', '01.09.2020', '01.09.2021', '01.10.2021', '15.11.2021', '01.09.2022'], \n",
    "\t'Category': ['comment here', 'another comment here', 'bills', 'groceries', 'transport', 'eat out', 'transport', 'bills'],\n",
    "\t'Amount': ['', '', 100, 250, 500, 100, 520, 100]\n",
    "})\n",
    "\n",
    "# Get today's date in Pandas\n",
    "pd.to_datetime('today')\n",
    "\n",
    "df1 = df[df['Date'] != '#'].copy()\n",
    "df1['Date'] = pd.to_datetime(df1['Date'], format='%d.%m.%Y')\n",
    "df1.reset_index(inplace=True)\n",
    "\n",
    "df1['DDMM']   = df1['Date'].dt.strftime('%d.%m')\n",
    "df1['DDMMYY'] = df1['Date'].dt.strftime('%d/%m/%y')\n",
    "df1['YYYY']   = df1['Date'].dt.strftime('%Y')\n",
    "df1['MMYY']   = df1['Date'].dt.strftime('%m.%y')\n",
    "df1['M_nam']  = df1['Date'].dt.strftime('%b')\n",
    "df1['M_name'] = df1['Date'].dt.strftime('%B')\n",
    "df1['Weekday']= df1['Date'].dt.day_name()\n",
    "print(f\"Earliest date: {df1['Date'].min()}\")\n",
    "print(f\"Most recent date: {df1['Date'].max()}\")\n",
    "# print(f\"Time delta between max and min: {df['Date'].max() - df['Date'].min()}\")\n",
    "df1\n",
    "\n",
    "df1_filt = df1[ (df1['Date'] >= '2020') & (df1['Date'] < '2022') ]\n",
    "df1_filt\n"
   ]
  },
  {
   "cell_type": "markdown",
   "id": "d4389914",
   "metadata": {},
   "source": [
    "### View data\n",
    "\n",
    "```py\n",
    "\n",
    "pd.set_option('display.max_columns', 2) # See a specified amount of columns\n",
    "df.shape # Shows numbers of rows, columns. Attribute, so no parentheses\n",
    "df.shape[0] # Number of rows\n",
    "df.shape[1] # Number of columns\n",
    "df.columns # Print list with column names\n",
    "df.info() # Shows index, name, and datatype of each column, with count of nonnull values\n",
    "df.describe() \n",
    "df.dtypes # Show data types of variables\n",
    "df.head(10) # See the first 10 rows\n",
    "df[['Col1', 'Col2']].head(5) # Show the first 5 rows of the specified columns\n",
    "df.tail(10) # See the last 10 rows\n",
    "df['Col1'].unique() # Shows unique values in a column\n",
    "\n",
    "df['Col1'][0] # Access a specific value by column name and row index\n",
    "\n",
    "\"\"\" COLUMNS \"\"\"\n",
    "df.columns # List all columns\n",
    "df['Col1'] # Access a column\n",
    "df.Col1\n",
    "df[['Col1', 'Col2']] # Access multiple columns\n",
    "df['Col1'].apply(len) # Check length of each item in column\n",
    "df['Col1'] = df['Col1'].apply(lambda x: x.lower())\n",
    "df.apply(pd.Series.min) # Return the minimum values for each column\n",
    "df.apply(lambda x: x.min())\n",
    "\n",
    "\n",
    "\"\"\" ROWS \"\"\"\n",
    "df.iloc[0] # Access a row by index\n",
    "df.loc[0]\n",
    "df.iloc[[0, 1]] # Access multiple rows\n",
    "df.iloc[1:4]\n",
    "df.loc[[0, 1]]\n",
    "df.iloc[[0, 1], 2] # Access multiple rows in a specific column by INDEX\n",
    "df.loc[[0, 1], 'Col1'] # Access multiple rows in a specific column by LABEL\n",
    "df.loc[[0, 1], ['Col1', 'Col2']]\n",
    "df.loc[0:2, 'Col1':'Col2']\n",
    "\n",
    "# Access all rows containing 'Keyword' in a column:\n",
    "for iter, i in enumerate(df['Col1']):\n",
    "\tif 'Keyword' in i:\n",
    "\t\tprint( df.loc[iter] )\n",
    "\n",
    "```"
   ]
  },
  {
   "cell_type": "code",
   "execution_count": 12,
   "id": "5006c377",
   "metadata": {},
   "outputs": [
    {
     "data": {
      "text/plain": [
       "array([['#', 'comment here', ''],\n",
       "       ['#', 'another comment here', ''],\n",
       "       ['01.05.2019', 'bills', 100],\n",
       "       ['01.09.2020', 'groceries', 250],\n",
       "       ['01.09.2021', 'transport', 500],\n",
       "       ['01.10.2021', 'eat out', 100],\n",
       "       ['15.11.2021', 'transport', 520],\n",
       "       ['01.09.2022', 'bills', 100]], dtype=object)"
      ]
     },
     "execution_count": 12,
     "metadata": {},
     "output_type": "execute_result"
    }
   ],
   "source": [
    "import pandas as pd\n",
    "\n",
    "df = pd.DataFrame({\n",
    "\t'Date': ['#', '#', '01.05.2019', '01.09.2020', '01.09.2021', '01.10.2021', '15.11.2021', '01.09.2022'], \n",
    "\t'Category': ['comment here', 'another comment here', 'bills', 'groceries', 'transport', 'eat out', 'transport', 'bills'],\n",
    "\t'Amount': ['', '', 100, 250, 500, 100, 520, 100]\n",
    "})\n",
    "\n",
    "# Convert into a matrix array (nested)\n",
    "df[['Date', 'Category', 'Amount']].values"
   ]
  },
  {
   "cell_type": "markdown",
   "id": "8217f4f3",
   "metadata": {},
   "source": [
    "### Filtering\n",
    "\n",
    "```py\n",
    "# Boolean array\n",
    "mask = df['Colname'] > 100\n",
    "df[mask]\n",
    "\n",
    "# FILTER COLUMNS\n",
    "df[['Col1', 'Col2']] # Only take specified columns\n",
    "df[df['Col1'].isin(['Name1'])] # Filter: Col1 = Name1\n",
    "df[df['Col1'].str.contains('Name1', na=False)] # Filter: Column contains Name1\n",
    "df[df['Col1'].str.contains('this|that')==False] # Filter rows which DO NOT contain str 'this' or 'that'\n",
    "df[df['Col1'] > 100] # Filter by 1 condition\n",
    "df[ (df['Col1'] > 100) & (df['Col2'] != 5) ] # Filter by two IF conditions\n",
    "df.loc[df['Age'] > 100, 'Age'] = df.loc[df['Age'] > 100, 'Age'] / 10 # In column 'Age', if value is greater than 100, divide it by 10:\n",
    "df[df['Col1'].between(left=4, right=5)] # Filter column btw two values\n",
    "\n",
    "# Only choose one columns\n",
    "df1 = df.drop([\"Survived\"], axis=1)\n",
    "\n",
    "# FILTER ROWS\n",
    "df.loc[ df['Col1'] == 'Value' ] # Filter rows containing 'Value' in 'Col1'\n",
    "\n",
    "# iterate a df row by row\n",
    "for index, row in df.iterrows():\n",
    "\tprint(index, row['Surname'])\n",
    "\tif row['Name'] == 'Jane':\n",
    "\t\tdf['Name'].iloc[index] = 'Found Jane!'\n",
    "\n",
    "```"
   ]
  },
  {
   "cell_type": "markdown",
   "id": "c01e2320",
   "metadata": {},
   "source": [
    "### Data proc\n",
    "\n",
    "```py\n",
    "\n",
    "# COLUMNS EDIT\n",
    "import pandas as pd\n",
    "df = pd.DataFrame({'col1': [1, 2], 'col2': [10, 20], 'col3': ['1', '2'], 'col4': ['10', '20']})\n",
    "df['newCol'] = df['col3'] + ' ' + df['col4'] # Add a new column\n",
    "df['col1'] = df['col1'] + 1000000000 # Add a number to each value in a column\n",
    "# Rearrange column order - put last column as first\n",
    "colNames = list(df.columns.values)\n",
    "df = df[colNames[-1:] + colNames[:-1]]\n",
    "\n",
    "# Split one column into multiple based on a delimiter\n",
    "## No assignment of new column names\n",
    "df = df['col1'].str.split(';', expand=True)\n",
    "## Assign new names to columns\n",
    "df[['col3-1', 'col3-2']] = df['col3'].str.split(';', expand=True)\n",
    "\n",
    "# Extract numbers from a DataFrame column\n",
    "df['column'].str.extract(r'([0-9]+)')\n",
    "\n",
    "\n",
    "df.rename(\n",
    "\tcolumns={'Name1':'Column1', 'Name2':'Column2'}, # Change names of the specified columns\n",
    "\tindex = {'United States': 'USA', 'United Kingdom':'UK'}, # Rename indices if they are set to custom values\n",
    "\tinplace=True\n",
    ") \n",
    "df.columns = ['Item name', 'col1', 'Amount', 'Longevity years'] # Change names of all columns in a df\n",
    "df.columns = [x.upper() for x in df.columns] # Make all column titles upper case\n",
    "df.columns = df.columns.str.replace(' ', '_') # Replace all spaces with underscores\n",
    "df['ITEM_NAME'] = df['ITEM_NAME'].str.lower() # Change all items in a column\n",
    "\n",
    "df.drop(columns=['col1', 'col2'], inplace=True) # Remove columns\n",
    "df['colname'].str.split(' ', expand=True) # Str split one column into multiple columns\n",
    "\n",
    "# Using 'str' with multiple replacements\n",
    "df.str.replace(\"pattern1|pattern2|pattern3\", \",\") # Replace three patterns with a comma\n",
    "# Replace the same pattern in multiple columns: replace all patterns like [1], [10], [a] with nothing\n",
    "df[['col1', 'col2']] = df[['col1', 'col2']].replace(\n",
    "\tto_replace=r\"\\[[0-9a-zA-Z]*\\]\", \n",
    "\tvalue='', \n",
    "\tregex=True\n",
    ")\n",
    "\n",
    "# ROWS EDIT\n",
    "df = df.append({'a': 4, 'b': 400}, ignore_index=True) # Append a new row in an existing dataframe\n",
    "df.loc[2, 'col1'] = 700 # Change one specific item in a specific column\n",
    "df.at[2, 'col1'] = 700 # practically the same as loc\n",
    "df.loc[2, ['col1', 'AMOUNT']] = [650, 15] # Change two specific items in specified columns\n",
    "df = df.append({'col1': 10, 'col2': 20}, ignore_index=True) # Add one row of data\n",
    "df.drop(index=11) # Remove a row by index\n",
    "df.drop(index=df[df['col1'] == 'Name'].index) # By condition\n",
    "df['col1'] = df['col1'].map({'Yes':True, 'No':False}) # In a column, replace all 'Yes' and 'No' with booleans\n",
    "\n",
    "# To quickly process a column, use \"lambda\"\n",
    "def text_clean(text):\n",
    "\ttext = text.lower()\n",
    "\treturn text\n",
    "\n",
    "df['column2'] = df['column1'].apply( lambda x: text_clean(x) )\n",
    "# Create a new column, labelling rows as 0 if below the value, else 1\n",
    "test['mapped'] = test['column1'].apply( lambda x: 1 if x > 0.0125763145 else 0 )\n",
    "```"
   ]
  },
  {
   "cell_type": "code",
   "execution_count": 8,
   "id": "e5348c60",
   "metadata": {},
   "outputs": [
    {
     "data": {
      "text/plain": [
       "array([['Corey', 'Schafer'],\n",
       "       ['Jane', 'Doe'],\n",
       "       ['John', 'Doe'],\n",
       "       ['Chris', 'Schafer'],\n",
       "       [nan, nan],\n",
       "       [None, nan],\n",
       "       ['NA', 'Missing']], dtype=object)"
      ]
     },
     "execution_count": 8,
     "metadata": {},
     "output_type": "execute_result"
    }
   ],
   "source": [
    "import numpy as np, pandas as pd\n",
    "df2 = pd.DataFrame({\n",
    "\t'first': ['Corey', 'Jane', 'John', 'Chris', np.nan, None, 'NA'], \n",
    "\t'last': [\"Schafer\", 'Doe', 'Doe', 'Schafer', np.nan, np.nan, 'Missing'], \n",
    "\t'email': ['CoreyMSchafer@gmail.com', 'JaneDoe@email.com', 'JohnDoe@email.com', None, np.nan, None, 'Missing'], \n",
    "\t'age': ['33', '55', '63', '36', None, None, 'Missing']\n",
    "})\n",
    "\n",
    "df2[['first', 'last']].values"
   ]
  },
  {
   "cell_type": "code",
   "execution_count": 1044,
   "id": "448cb280",
   "metadata": {},
   "outputs": [],
   "source": [
    "# HANDLING MISSING VALUES AND DUPLICATES\n",
    "import numpy as np, pandas as pd\n",
    "df2 = pd.DataFrame({\n",
    "\t'first': ['Corey', 'Jane', 'John', 'Chris', np.nan, None, 'NA'], \n",
    "\t'last': [\"Schafer\", 'Doe', 'Doe', 'Schafer', np.nan, np.nan, 'Missing'], \n",
    "\t'email': ['CoreyMSchafer@gmail.com', 'JaneDoe@email.com', 'JohnDoe@email.com', None, np.nan, None, 'Missing'], \n",
    "\t'age': ['33', '55', '63', '36', None, None, 'Missing']\n",
    "})\n",
    "\n",
    "# Drop missing values\n",
    "df2.dropna(\n",
    "\taxis='index', # drop values when rows are missing values\n",
    "\t# axis='columns', # drop columns if they have missing values\n",
    "\thow='any', # Drop rows with ANY missing values\n",
    "\t# how='all' # Drop rows with ALL missing values\n",
    "\tsubset = ['email'], # drop if NaN values in subset column\n",
    "\tinplace = True, # inplace change\n",
    ")\n",
    "\n",
    "# drop rows in which any null value is present\n",
    "df2.dropna() # by default how='any'\n",
    "# drop columns in which any null value is present\n",
    "df2.dropna(axis=1)\n",
    "# drops rows if all values are null\n",
    "df2.dropna(how='all')\n",
    "# drops rows if null threshold count is exceeded\n",
    "df2.dropna(thresh=3)\n",
    "# drop rows if both of the two chosen columns have NaN values\n",
    "df2.dropna(axis='index', how='all', subset=['last', 'email'])\n",
    "\n",
    "# drop custom missing values\n",
    "df2.replace('NA', np.nan, inplace=True)\n",
    "df2.replace('Missing', np.nan, inplace=True)\n",
    "\n",
    "# check if values are NaN\n",
    "# Return boolean mask\n",
    "df2.isna()\n",
    "df2.isna().sum()\n",
    "df2.isnull()\n",
    "\n",
    "# The opposite - check if values are not null\n",
    "df2.notnull()\n",
    "df2.notna()\n",
    "\n",
    "# replace all NaN values with a specified value\n",
    "df2.fillna(0, inplace=True)\n",
    "df2.fillna(method='ffill') # this argument fills null values with values that are before the null value\n",
    "df2.fillna(method='bfill') # this argument fills null values with values that are AFTER the null value\n",
    "\"\"\"\n",
    "Other arguments: \n",
    "- axis=0: columns (method works vertically)\n",
    "- axis=1: rows (method works horisontally)\n",
    "\"\"\"\n",
    "\n",
    "\n",
    "# Get a list of only those columns which have at least one NaN\n",
    "nan_cols = [i for i in df.columns if df[i].isnull().any()]\n",
    "# How many null values there are in a df - sum of boolean series\n",
    "df2['age'].isna().sum()\n",
    "# How many not null values there are in a df - same\n",
    "df2['age'].notnull().sum()\n",
    "\n",
    "# Show boolean array of values which repeat; \n",
    "df2['first'].duplicated(\n",
    "\tkeep='last', \n",
    "\t# keep=False\n",
    ") \n",
    "\n",
    "df2.drop_duplicates(\n",
    "\tsubset=['first'], # which column to test for replicates\n",
    "\tinplace=True, \n",
    "\tkeep='first', # default; consider first occurrence of the value as non-duplicate\n",
    "\t# keep='last', # consider last occurrence of the value as non-duplicate\n",
    "\t# keep=False, # drops all values which have replicates\n",
    ") \n"
   ]
  },
  {
   "cell_type": "code",
   "execution_count": 1045,
   "id": "6a38053b",
   "metadata": {},
   "outputs": [],
   "source": [
    "\"\"\" INDEX \"\"\"\n",
    "\n",
    "df2.set_index('last', inplace=True) # Set a custom index\n",
    "df2.loc['Doe'] # Access a row through the custom index\n",
    "df2.reset_index(inplace=True) # Reset index\n",
    "df2.sort_index( inplace=True ) # Sort indices alphabetically"
   ]
  },
  {
   "cell_type": "code",
   "execution_count": 1046,
   "id": "ab205533",
   "metadata": {},
   "outputs": [
    {
     "data": {
      "text/html": [
       "<div>\n",
       "<style scoped>\n",
       "    .dataframe tbody tr th:only-of-type {\n",
       "        vertical-align: middle;\n",
       "    }\n",
       "\n",
       "    .dataframe tbody tr th {\n",
       "        vertical-align: top;\n",
       "    }\n",
       "\n",
       "    .dataframe thead th {\n",
       "        text-align: right;\n",
       "    }\n",
       "</style>\n",
       "<table border=\"1\" class=\"dataframe\">\n",
       "  <thead>\n",
       "    <tr style=\"text-align: right;\">\n",
       "      <th></th>\n",
       "      <th>a</th>\n",
       "      <th>b</th>\n",
       "    </tr>\n",
       "  </thead>\n",
       "  <tbody>\n",
       "    <tr>\n",
       "      <th>0</th>\n",
       "      <td>3</td>\n",
       "      <td>so</td>\n",
       "    </tr>\n",
       "    <tr>\n",
       "      <th>1</th>\n",
       "      <td>3</td>\n",
       "      <td>3</td>\n",
       "    </tr>\n",
       "    <tr>\n",
       "      <th>2</th>\n",
       "      <td>cant</td>\n",
       "      <td>call</td>\n",
       "    </tr>\n",
       "  </tbody>\n",
       "</table>\n",
       "</div>"
      ],
      "text/plain": [
       "      a     b\n",
       "0     3    so\n",
       "1     3     3\n",
       "2  cant  call"
      ]
     },
     "execution_count": 1046,
     "metadata": {},
     "output_type": "execute_result"
    }
   ],
   "source": [
    "##########   Casting datatypes   #################################################\n",
    "df = pd.DataFrame({\n",
    "\t'first': ['Corey', 'Jane', 'John', 'Chris'], \n",
    "\t'last': [\"Schafer\", 'Doe', 'Doe', 'Schafer'], \n",
    "\t'email': ['CoreyMSchafer@gmail.com', 'JaneDoe@email.com', 'JohnDoe@email.com', 'Nope@gmail.com'], \n",
    "\t'age': ['33', '55', '63', '36'], \n",
    "\t'age2': [33, 55, 63, 36]\n",
    "})\n",
    "df.dtypes\n",
    "df['age'] = df['age'].astype(\n",
    "\tint\n",
    "\t# float\n",
    ") \n",
    "df['age'].mean()\n",
    "\n",
    "# Alternative way to change scientific notation into int\n",
    "df['age'] = df['age'].map(int)\n",
    "\n",
    "\n",
    "# View unique values in a column\n",
    "df['age'].unique()\n",
    "\n",
    "# REPLACE\n",
    "\n",
    "# in a pandas df, replace all \\n with nothing\n",
    "df.replace('\\n', '', inplace=True)\n",
    "# Replace A with a \n",
    "df['age'].replace('A', 'a', inplace=True)\n",
    "# Replace multiple instances with one\n",
    "df.replace([0, 1, 2, 3, 8], 'replaced')\n",
    "# Replace multiple strings with individual values\n",
    "df['age'].replace({'A': 'a', 'B': 'b'})\n",
    "\n",
    "# Replace all three-letter words starting with c -> 3\n",
    "df2 = pd.DataFrame({'a': ['cat', 'cap', 'cant'],\n",
    "                   'b': ['so', 'car', 'call']})\n",
    "df2.replace(to_replace=r'^c..$', value=3, regex=True, inplace=True)\n",
    "df2\n",
    "\n",
    "\n",
    "# Set float decimal precision\n",
    "df['Value'] = df['Value'].round(4)"
   ]
  },
  {
   "cell_type": "code",
   "execution_count": 1047,
   "id": "da02c5ea",
   "metadata": {},
   "outputs": [
    {
     "data": {
      "text/html": [
       "<div>\n",
       "<style scoped>\n",
       "    .dataframe tbody tr th:only-of-type {\n",
       "        vertical-align: middle;\n",
       "    }\n",
       "\n",
       "    .dataframe tbody tr th {\n",
       "        vertical-align: top;\n",
       "    }\n",
       "\n",
       "    .dataframe thead th {\n",
       "        text-align: right;\n",
       "    }\n",
       "</style>\n",
       "<table border=\"1\" class=\"dataframe\">\n",
       "  <thead>\n",
       "    <tr style=\"text-align: right;\">\n",
       "      <th></th>\n",
       "      <th>first</th>\n",
       "      <th>last</th>\n",
       "      <th>email</th>\n",
       "      <th>age</th>\n",
       "      <th>age2</th>\n",
       "    </tr>\n",
       "  </thead>\n",
       "  <tbody>\n",
       "    <tr>\n",
       "      <th>0</th>\n",
       "      <td>Corey</td>\n",
       "      <td>Schafer</td>\n",
       "      <td>CoreyMSchafer@gmail.com</td>\n",
       "      <td>33</td>\n",
       "      <td>33</td>\n",
       "    </tr>\n",
       "    <tr>\n",
       "      <th>1</th>\n",
       "      <td>Jane</td>\n",
       "      <td>Doe</td>\n",
       "      <td>JaneDoe@email.com</td>\n",
       "      <td>55</td>\n",
       "      <td>55</td>\n",
       "    </tr>\n",
       "    <tr>\n",
       "      <th>2</th>\n",
       "      <td>John</td>\n",
       "      <td>Doe</td>\n",
       "      <td>JohnDoe@email.com</td>\n",
       "      <td>63</td>\n",
       "      <td>63</td>\n",
       "    </tr>\n",
       "    <tr>\n",
       "      <th>3</th>\n",
       "      <td>Chris</td>\n",
       "      <td>Schafer</td>\n",
       "      <td>Nope@gmail.com</td>\n",
       "      <td>36</td>\n",
       "      <td>36</td>\n",
       "    </tr>\n",
       "  </tbody>\n",
       "</table>\n",
       "</div>"
      ],
      "text/plain": [
       "   first     last                    email  age  age2\n",
       "0  Corey  Schafer  CoreyMSchafer@gmail.com   33    33\n",
       "1   Jane      Doe        JaneDoe@email.com   55    55\n",
       "2   John      Doe        JohnDoe@email.com   63    63\n",
       "3  Chris  Schafer           Nope@gmail.com   36    36"
      ]
     },
     "execution_count": 1047,
     "metadata": {},
     "output_type": "execute_result"
    }
   ],
   "source": [
    "# SORT DATA IN COLUMNS \n",
    "\n",
    "# df = pd.read_csv('example_datasets/items.csv')\n",
    "\n",
    "# sorting data - pandas sort\n",
    "df.sort_values(by='age', inplace=True)\n",
    "df.sort_values(by='age', inplace=True, ascending=False)\n",
    "# Sort by 'age', then reverse sort by 'price' \n",
    "df.sort_values(by=['age', 'age2'], ascending=[False, True], inplace=True)\n",
    "df.sort_index()\n"
   ]
  },
  {
   "cell_type": "markdown",
   "id": "e259df30",
   "metadata": {},
   "source": [
    "### Lambda"
   ]
  },
  {
   "cell_type": "code",
   "execution_count": 2,
   "id": "623a2d9b",
   "metadata": {},
   "outputs": [
    {
     "ename": "FileNotFoundError",
     "evalue": "[Errno 2] No such file or directory: 'example_datasets/ML/IMDB_Dataset.csv'",
     "output_type": "error",
     "traceback": [
      "\u001b[1;31m---------------------------------------------------------------------------\u001b[0m",
      "\u001b[1;31mFileNotFoundError\u001b[0m                         Traceback (most recent call last)",
      "\u001b[1;32mc:\\Users\\evgen\\Desktop\\Python-handbook\\PYTHON BASICS 1 (vzem).ipynb Cell 151\u001b[0m in \u001b[0;36m<cell line: 3>\u001b[1;34m()\u001b[0m\n\u001b[0;32m      <a href='vscode-notebook-cell:/c%3A/Users/evgen/Desktop/Python-handbook/PYTHON%20BASICS%201%20%28vzem%29.ipynb#Y343sZmlsZQ%3D%3D?line=0'>1</a>\u001b[0m \u001b[39mimport\u001b[39;00m \u001b[39mpandas\u001b[39;00m \u001b[39mas\u001b[39;00m \u001b[39mpd\u001b[39;00m\n\u001b[1;32m----> <a href='vscode-notebook-cell:/c%3A/Users/evgen/Desktop/Python-handbook/PYTHON%20BASICS%201%20%28vzem%29.ipynb#Y343sZmlsZQ%3D%3D?line=2'>3</a>\u001b[0m df \u001b[39m=\u001b[39m pd\u001b[39m.\u001b[39;49mread_csv(\u001b[39m'\u001b[39;49m\u001b[39mexample_datasets/ML/IMDB_Dataset.csv\u001b[39;49m\u001b[39m'\u001b[39;49m)\n\u001b[0;32m      <a href='vscode-notebook-cell:/c%3A/Users/evgen/Desktop/Python-handbook/PYTHON%20BASICS%201%20%28vzem%29.ipynb#Y343sZmlsZQ%3D%3D?line=4'>5</a>\u001b[0m \u001b[39mdef\u001b[39;00m \u001b[39mtext_clean\u001b[39m(text):\n\u001b[0;32m      <a href='vscode-notebook-cell:/c%3A/Users/evgen/Desktop/Python-handbook/PYTHON%20BASICS%201%20%28vzem%29.ipynb#Y343sZmlsZQ%3D%3D?line=5'>6</a>\u001b[0m \ttext \u001b[39m=\u001b[39m text\u001b[39m.\u001b[39mlower()\n",
      "File \u001b[1;32mc:\\Users\\evgen\\AppData\\Local\\Programs\\Python\\Python310\\lib\\site-packages\\pandas\\util\\_decorators.py:311\u001b[0m, in \u001b[0;36mdeprecate_nonkeyword_arguments.<locals>.decorate.<locals>.wrapper\u001b[1;34m(*args, **kwargs)\u001b[0m\n\u001b[0;32m    305\u001b[0m \u001b[39mif\u001b[39;00m \u001b[39mlen\u001b[39m(args) \u001b[39m>\u001b[39m num_allow_args:\n\u001b[0;32m    306\u001b[0m     warnings\u001b[39m.\u001b[39mwarn(\n\u001b[0;32m    307\u001b[0m         msg\u001b[39m.\u001b[39mformat(arguments\u001b[39m=\u001b[39marguments),\n\u001b[0;32m    308\u001b[0m         \u001b[39mFutureWarning\u001b[39;00m,\n\u001b[0;32m    309\u001b[0m         stacklevel\u001b[39m=\u001b[39mstacklevel,\n\u001b[0;32m    310\u001b[0m     )\n\u001b[1;32m--> 311\u001b[0m \u001b[39mreturn\u001b[39;00m func(\u001b[39m*\u001b[39margs, \u001b[39m*\u001b[39m\u001b[39m*\u001b[39mkwargs)\n",
      "File \u001b[1;32mc:\\Users\\evgen\\AppData\\Local\\Programs\\Python\\Python310\\lib\\site-packages\\pandas\\io\\parsers\\readers.py:680\u001b[0m, in \u001b[0;36mread_csv\u001b[1;34m(filepath_or_buffer, sep, delimiter, header, names, index_col, usecols, squeeze, prefix, mangle_dupe_cols, dtype, engine, converters, true_values, false_values, skipinitialspace, skiprows, skipfooter, nrows, na_values, keep_default_na, na_filter, verbose, skip_blank_lines, parse_dates, infer_datetime_format, keep_date_col, date_parser, dayfirst, cache_dates, iterator, chunksize, compression, thousands, decimal, lineterminator, quotechar, quoting, doublequote, escapechar, comment, encoding, encoding_errors, dialect, error_bad_lines, warn_bad_lines, on_bad_lines, delim_whitespace, low_memory, memory_map, float_precision, storage_options)\u001b[0m\n\u001b[0;32m    665\u001b[0m kwds_defaults \u001b[39m=\u001b[39m _refine_defaults_read(\n\u001b[0;32m    666\u001b[0m     dialect,\n\u001b[0;32m    667\u001b[0m     delimiter,\n\u001b[1;32m   (...)\u001b[0m\n\u001b[0;32m    676\u001b[0m     defaults\u001b[39m=\u001b[39m{\u001b[39m\"\u001b[39m\u001b[39mdelimiter\u001b[39m\u001b[39m\"\u001b[39m: \u001b[39m\"\u001b[39m\u001b[39m,\u001b[39m\u001b[39m\"\u001b[39m},\n\u001b[0;32m    677\u001b[0m )\n\u001b[0;32m    678\u001b[0m kwds\u001b[39m.\u001b[39mupdate(kwds_defaults)\n\u001b[1;32m--> 680\u001b[0m \u001b[39mreturn\u001b[39;00m _read(filepath_or_buffer, kwds)\n",
      "File \u001b[1;32mc:\\Users\\evgen\\AppData\\Local\\Programs\\Python\\Python310\\lib\\site-packages\\pandas\\io\\parsers\\readers.py:575\u001b[0m, in \u001b[0;36m_read\u001b[1;34m(filepath_or_buffer, kwds)\u001b[0m\n\u001b[0;32m    572\u001b[0m _validate_names(kwds\u001b[39m.\u001b[39mget(\u001b[39m\"\u001b[39m\u001b[39mnames\u001b[39m\u001b[39m\"\u001b[39m, \u001b[39mNone\u001b[39;00m))\n\u001b[0;32m    574\u001b[0m \u001b[39m# Create the parser.\u001b[39;00m\n\u001b[1;32m--> 575\u001b[0m parser \u001b[39m=\u001b[39m TextFileReader(filepath_or_buffer, \u001b[39m*\u001b[39m\u001b[39m*\u001b[39mkwds)\n\u001b[0;32m    577\u001b[0m \u001b[39mif\u001b[39;00m chunksize \u001b[39mor\u001b[39;00m iterator:\n\u001b[0;32m    578\u001b[0m     \u001b[39mreturn\u001b[39;00m parser\n",
      "File \u001b[1;32mc:\\Users\\evgen\\AppData\\Local\\Programs\\Python\\Python310\\lib\\site-packages\\pandas\\io\\parsers\\readers.py:934\u001b[0m, in \u001b[0;36mTextFileReader.__init__\u001b[1;34m(self, f, engine, **kwds)\u001b[0m\n\u001b[0;32m    931\u001b[0m     \u001b[39mself\u001b[39m\u001b[39m.\u001b[39moptions[\u001b[39m\"\u001b[39m\u001b[39mhas_index_names\u001b[39m\u001b[39m\"\u001b[39m] \u001b[39m=\u001b[39m kwds[\u001b[39m\"\u001b[39m\u001b[39mhas_index_names\u001b[39m\u001b[39m\"\u001b[39m]\n\u001b[0;32m    933\u001b[0m \u001b[39mself\u001b[39m\u001b[39m.\u001b[39mhandles: IOHandles \u001b[39m|\u001b[39m \u001b[39mNone\u001b[39;00m \u001b[39m=\u001b[39m \u001b[39mNone\u001b[39;00m\n\u001b[1;32m--> 934\u001b[0m \u001b[39mself\u001b[39m\u001b[39m.\u001b[39m_engine \u001b[39m=\u001b[39m \u001b[39mself\u001b[39;49m\u001b[39m.\u001b[39;49m_make_engine(f, \u001b[39mself\u001b[39;49m\u001b[39m.\u001b[39;49mengine)\n",
      "File \u001b[1;32mc:\\Users\\evgen\\AppData\\Local\\Programs\\Python\\Python310\\lib\\site-packages\\pandas\\io\\parsers\\readers.py:1218\u001b[0m, in \u001b[0;36mTextFileReader._make_engine\u001b[1;34m(self, f, engine)\u001b[0m\n\u001b[0;32m   1214\u001b[0m     mode \u001b[39m=\u001b[39m \u001b[39m\"\u001b[39m\u001b[39mrb\u001b[39m\u001b[39m\"\u001b[39m\n\u001b[0;32m   1215\u001b[0m \u001b[39m# error: No overload variant of \"get_handle\" matches argument types\u001b[39;00m\n\u001b[0;32m   1216\u001b[0m \u001b[39m# \"Union[str, PathLike[str], ReadCsvBuffer[bytes], ReadCsvBuffer[str]]\"\u001b[39;00m\n\u001b[0;32m   1217\u001b[0m \u001b[39m# , \"str\", \"bool\", \"Any\", \"Any\", \"Any\", \"Any\", \"Any\"\u001b[39;00m\n\u001b[1;32m-> 1218\u001b[0m \u001b[39mself\u001b[39m\u001b[39m.\u001b[39mhandles \u001b[39m=\u001b[39m get_handle(  \u001b[39m# type: ignore[call-overload]\u001b[39;49;00m\n\u001b[0;32m   1219\u001b[0m     f,\n\u001b[0;32m   1220\u001b[0m     mode,\n\u001b[0;32m   1221\u001b[0m     encoding\u001b[39m=\u001b[39;49m\u001b[39mself\u001b[39;49m\u001b[39m.\u001b[39;49moptions\u001b[39m.\u001b[39;49mget(\u001b[39m\"\u001b[39;49m\u001b[39mencoding\u001b[39;49m\u001b[39m\"\u001b[39;49m, \u001b[39mNone\u001b[39;49;00m),\n\u001b[0;32m   1222\u001b[0m     compression\u001b[39m=\u001b[39;49m\u001b[39mself\u001b[39;49m\u001b[39m.\u001b[39;49moptions\u001b[39m.\u001b[39;49mget(\u001b[39m\"\u001b[39;49m\u001b[39mcompression\u001b[39;49m\u001b[39m\"\u001b[39;49m, \u001b[39mNone\u001b[39;49;00m),\n\u001b[0;32m   1223\u001b[0m     memory_map\u001b[39m=\u001b[39;49m\u001b[39mself\u001b[39;49m\u001b[39m.\u001b[39;49moptions\u001b[39m.\u001b[39;49mget(\u001b[39m\"\u001b[39;49m\u001b[39mmemory_map\u001b[39;49m\u001b[39m\"\u001b[39;49m, \u001b[39mFalse\u001b[39;49;00m),\n\u001b[0;32m   1224\u001b[0m     is_text\u001b[39m=\u001b[39;49mis_text,\n\u001b[0;32m   1225\u001b[0m     errors\u001b[39m=\u001b[39;49m\u001b[39mself\u001b[39;49m\u001b[39m.\u001b[39;49moptions\u001b[39m.\u001b[39;49mget(\u001b[39m\"\u001b[39;49m\u001b[39mencoding_errors\u001b[39;49m\u001b[39m\"\u001b[39;49m, \u001b[39m\"\u001b[39;49m\u001b[39mstrict\u001b[39;49m\u001b[39m\"\u001b[39;49m),\n\u001b[0;32m   1226\u001b[0m     storage_options\u001b[39m=\u001b[39;49m\u001b[39mself\u001b[39;49m\u001b[39m.\u001b[39;49moptions\u001b[39m.\u001b[39;49mget(\u001b[39m\"\u001b[39;49m\u001b[39mstorage_options\u001b[39;49m\u001b[39m\"\u001b[39;49m, \u001b[39mNone\u001b[39;49;00m),\n\u001b[0;32m   1227\u001b[0m )\n\u001b[0;32m   1228\u001b[0m \u001b[39massert\u001b[39;00m \u001b[39mself\u001b[39m\u001b[39m.\u001b[39mhandles \u001b[39mis\u001b[39;00m \u001b[39mnot\u001b[39;00m \u001b[39mNone\u001b[39;00m\n\u001b[0;32m   1229\u001b[0m f \u001b[39m=\u001b[39m \u001b[39mself\u001b[39m\u001b[39m.\u001b[39mhandles\u001b[39m.\u001b[39mhandle\n",
      "File \u001b[1;32mc:\\Users\\evgen\\AppData\\Local\\Programs\\Python\\Python310\\lib\\site-packages\\pandas\\io\\common.py:786\u001b[0m, in \u001b[0;36mget_handle\u001b[1;34m(path_or_buf, mode, encoding, compression, memory_map, is_text, errors, storage_options)\u001b[0m\n\u001b[0;32m    781\u001b[0m \u001b[39melif\u001b[39;00m \u001b[39misinstance\u001b[39m(handle, \u001b[39mstr\u001b[39m):\n\u001b[0;32m    782\u001b[0m     \u001b[39m# Check whether the filename is to be opened in binary mode.\u001b[39;00m\n\u001b[0;32m    783\u001b[0m     \u001b[39m# Binary mode does not support 'encoding' and 'newline'.\u001b[39;00m\n\u001b[0;32m    784\u001b[0m     \u001b[39mif\u001b[39;00m ioargs\u001b[39m.\u001b[39mencoding \u001b[39mand\u001b[39;00m \u001b[39m\"\u001b[39m\u001b[39mb\u001b[39m\u001b[39m\"\u001b[39m \u001b[39mnot\u001b[39;00m \u001b[39min\u001b[39;00m ioargs\u001b[39m.\u001b[39mmode:\n\u001b[0;32m    785\u001b[0m         \u001b[39m# Encoding\u001b[39;00m\n\u001b[1;32m--> 786\u001b[0m         handle \u001b[39m=\u001b[39m \u001b[39mopen\u001b[39;49m(\n\u001b[0;32m    787\u001b[0m             handle,\n\u001b[0;32m    788\u001b[0m             ioargs\u001b[39m.\u001b[39;49mmode,\n\u001b[0;32m    789\u001b[0m             encoding\u001b[39m=\u001b[39;49mioargs\u001b[39m.\u001b[39;49mencoding,\n\u001b[0;32m    790\u001b[0m             errors\u001b[39m=\u001b[39;49merrors,\n\u001b[0;32m    791\u001b[0m             newline\u001b[39m=\u001b[39;49m\u001b[39m\"\u001b[39;49m\u001b[39m\"\u001b[39;49m,\n\u001b[0;32m    792\u001b[0m         )\n\u001b[0;32m    793\u001b[0m     \u001b[39melse\u001b[39;00m:\n\u001b[0;32m    794\u001b[0m         \u001b[39m# Binary mode\u001b[39;00m\n\u001b[0;32m    795\u001b[0m         handle \u001b[39m=\u001b[39m \u001b[39mopen\u001b[39m(handle, ioargs\u001b[39m.\u001b[39mmode)\n",
      "\u001b[1;31mFileNotFoundError\u001b[0m: [Errno 2] No such file or directory: 'example_datasets/ML/IMDB_Dataset.csv'"
     ]
    }
   ],
   "source": [
    "import pandas as pd\n",
    "\n",
    "df = pd.read_csv('example_datasets/ML/IMDB_Dataset.csv')\n",
    "\n",
    "def text_clean(text):\n",
    "\ttext = text.lower()\n",
    "\ttext = re.sub( '[,.?:\\'\"]', '', text )\n",
    "\ttext = re.sub( '<br />', '', text )\n",
    "\treturn text\n",
    "\n",
    "df['proc'] = df['review'].apply( lambda x: text_clean(x) )\n",
    "\n",
    "df"
   ]
  },
  {
   "cell_type": "markdown",
   "id": "3e464eec",
   "metadata": {},
   "source": [
    "### Data Wrangling: melt, concat, merge"
   ]
  },
  {
   "cell_type": "code",
   "execution_count": 1048,
   "id": "4d023003",
   "metadata": {},
   "outputs": [
    {
     "name": "stdout",
     "output_type": "stream",
     "text": [
      "Before 'melt': \n",
      "   Sample_size  Hypercubes  Hyperrectangles\n",
      "0          100           5                7\n",
      "1          200          25               49\n",
      "2          300         125              400\n",
      "-------------------------------------------\n",
      "After 'melt': \n",
      "   Sample_size         variable  value\n",
      "0          100       Hypercubes      5\n",
      "1          200       Hypercubes     25\n",
      "2          300       Hypercubes    125\n",
      "3          100  Hyperrectangles      7\n",
      "4          200  Hyperrectangles     49\n",
      "5          300  Hyperrectangles    400\n"
     ]
    }
   ],
   "source": [
    "## Melt\n",
    "import pandas as pd\n",
    "\n",
    "variable_df = pd.DataFrame({\n",
    "\t'Sample_size': [100, 200, 300], \n",
    "\t'Hypercubes': [5, 25, 125], \n",
    "\t'Hyperrectangles': [7, 49, 400]\n",
    "})\n",
    "print(f\"Before 'melt': \\n{variable_df}\\n-------------------------------------------\")\n",
    "\n",
    "variable_df2 = pd.melt(variable_df, id_vars=['Sample_size'], value_vars=['Hypercubes', 'Hyperrectangles'])\n",
    "print(f\"After 'melt': \\n{variable_df2}\")"
   ]
  },
  {
   "cell_type": "code",
   "execution_count": 1049,
   "id": "b641b01e",
   "metadata": {},
   "outputs": [
    {
     "name": "stdout",
     "output_type": "stream",
     "text": [
      "        Job  Years  Salary (k)\n",
      "0  Engineer      1          20\n",
      "1  Engineer      2          50\n",
      "2  Engineer      3          90\n",
      "3       Bum      1          10\n",
      "4       Bum      2          12\n",
      "5       Bum      3          15\n",
      "###################################\n",
      "Years      1   2   3\n",
      "Job                 \n",
      "Bum       10  12  15\n",
      "Engineer  20  50  90\n",
      "###################################\n",
      "Years       Job   1   2   3\n",
      "0           Bum  10  12  15\n",
      "1      Engineer  20  50  90\n"
     ]
    }
   ],
   "source": [
    "# Pivot\n",
    "\n",
    "df = pd.DataFrame({\n",
    "\t'Job': ['Engineer', 'Engineer', 'Engineer', 'Bum', 'Bum', 'Bum'], \n",
    "\t'Years': [1, 2, 3, 1, 2, 3], \n",
    "\t'Salary (k)': [20, 50, 90, 10, 12, 15]\n",
    "})\n",
    "print(df)\n",
    "print('#'*35)\n",
    "\n",
    "print( df.pivot('Job', 'Years', 'Salary (k)') )\n",
    "print('#'*35)\n",
    "\n",
    "print( df.pivot('Job', 'Years', 'Salary (k)').reset_index() )"
   ]
  },
  {
   "cell_type": "code",
   "execution_count": 1050,
   "id": "a5702150",
   "metadata": {},
   "outputs": [
    {
     "data": {
      "text/html": [
       "<div>\n",
       "<style scoped>\n",
       "    .dataframe tbody tr th:only-of-type {\n",
       "        vertical-align: middle;\n",
       "    }\n",
       "\n",
       "    .dataframe tbody tr th {\n",
       "        vertical-align: top;\n",
       "    }\n",
       "\n",
       "    .dataframe thead th {\n",
       "        text-align: right;\n",
       "    }\n",
       "</style>\n",
       "<table border=\"1\" class=\"dataframe\">\n",
       "  <thead>\n",
       "    <tr style=\"text-align: right;\">\n",
       "      <th>Height</th>\n",
       "      <th>175</th>\n",
       "      <th>182</th>\n",
       "      <th>186</th>\n",
       "    </tr>\n",
       "    <tr>\n",
       "      <th>Age</th>\n",
       "      <th></th>\n",
       "      <th></th>\n",
       "      <th></th>\n",
       "    </tr>\n",
       "  </thead>\n",
       "  <tbody>\n",
       "    <tr>\n",
       "      <th>20</th>\n",
       "      <td>B</td>\n",
       "      <td>NaN</td>\n",
       "      <td>NaN</td>\n",
       "    </tr>\n",
       "    <tr>\n",
       "      <th>23</th>\n",
       "      <td>NaN</td>\n",
       "      <td>A</td>\n",
       "      <td>NaN</td>\n",
       "    </tr>\n",
       "    <tr>\n",
       "      <th>24</th>\n",
       "      <td>NaN</td>\n",
       "      <td>NaN</td>\n",
       "      <td>A</td>\n",
       "    </tr>\n",
       "    <tr>\n",
       "      <th>25</th>\n",
       "      <td>NaN</td>\n",
       "      <td>NaN</td>\n",
       "      <td>C</td>\n",
       "    </tr>\n",
       "  </tbody>\n",
       "</table>\n",
       "</div>"
      ],
      "text/plain": [
       "Height  175  182  186\n",
       "Age                  \n",
       "20        B  NaN  NaN\n",
       "23      NaN    A  NaN\n",
       "24      NaN  NaN    A\n",
       "25      NaN  NaN    C"
      ]
     },
     "execution_count": 1050,
     "metadata": {},
     "output_type": "execute_result"
    }
   ],
   "source": [
    "# Pivot\n",
    "\n",
    "df = pd.DataFrame(\n",
    "    {\n",
    "        \"Age\": [24, 25, 23, 20],\n",
    "        \"Height\": [186, 186, 182, 175],\n",
    "        \"Mark\": [\"A\", \"C\", \"A\", \"B\"],\n",
    "        \"Sport\": [\"Gym\", \"Volleyball\", \"Baseball\", \"Cricket\"],\n",
    "    })\n",
    "df\n",
    "\n",
    "# dataframe with multi-indexed columns\n",
    "df = df.pivot('Age', 'Height', 'Mark')\n",
    "df\n",
    "\n",
    "# Dataframe with dropped multi-indexing\n",
    "# df = df.pivot('Age', 'Height', 'Mark')"
   ]
  },
  {
   "cell_type": "code",
   "execution_count": 1051,
   "id": "03805a75",
   "metadata": {},
   "outputs": [
    {
     "data": {
      "text/html": [
       "<div>\n",
       "<style scoped>\n",
       "    .dataframe tbody tr th:only-of-type {\n",
       "        vertical-align: middle;\n",
       "    }\n",
       "\n",
       "    .dataframe tbody tr th {\n",
       "        vertical-align: top;\n",
       "    }\n",
       "\n",
       "    .dataframe thead th {\n",
       "        text-align: right;\n",
       "    }\n",
       "</style>\n",
       "<table border=\"1\" class=\"dataframe\">\n",
       "  <thead>\n",
       "    <tr style=\"text-align: right;\">\n",
       "      <th></th>\n",
       "      <th>0</th>\n",
       "      <th>1</th>\n",
       "    </tr>\n",
       "  </thead>\n",
       "  <tbody>\n",
       "    <tr>\n",
       "      <th>0</th>\n",
       "      <td>1</td>\n",
       "      <td>10</td>\n",
       "    </tr>\n",
       "    <tr>\n",
       "      <th>1</th>\n",
       "      <td>5</td>\n",
       "      <td>50</td>\n",
       "    </tr>\n",
       "    <tr>\n",
       "      <th>2</th>\n",
       "      <td>1</td>\n",
       "      <td>10</td>\n",
       "    </tr>\n",
       "    <tr>\n",
       "      <th>3</th>\n",
       "      <td>3</td>\n",
       "      <td>30</td>\n",
       "    </tr>\n",
       "    <tr>\n",
       "      <th>4</th>\n",
       "      <td>2</td>\n",
       "      <td>20</td>\n",
       "    </tr>\n",
       "  </tbody>\n",
       "</table>\n",
       "</div>"
      ],
      "text/plain": [
       "   0   1\n",
       "0  1  10\n",
       "1  5  50\n",
       "2  1  10\n",
       "3  3  30\n",
       "4  2  20"
      ]
     },
     "execution_count": 1051,
     "metadata": {},
     "output_type": "execute_result"
    }
   ],
   "source": [
    "# Combine pandas series by using concat function\n",
    "\n",
    "var1 = pd.Series([1,  5,  1,  3,  2])\n",
    "var2 = pd.Series([10, 50, 10, 30, 20])\n",
    "\n",
    "concat_df = pd.concat(\n",
    "\t[var1, var2], \n",
    "\taxis='columns', # concat horisontally\n",
    "\tsort=False\n",
    ")\n",
    "\n",
    "concat_df"
   ]
  },
  {
   "cell_type": "code",
   "execution_count": 1052,
   "metadata": {},
   "outputs": [
    {
     "data": {
      "text/html": [
       "<div>\n",
       "<style scoped>\n",
       "    .dataframe tbody tr th:only-of-type {\n",
       "        vertical-align: middle;\n",
       "    }\n",
       "\n",
       "    .dataframe tbody tr th {\n",
       "        vertical-align: top;\n",
       "    }\n",
       "\n",
       "    .dataframe thead th {\n",
       "        text-align: right;\n",
       "    }\n",
       "</style>\n",
       "<table border=\"1\" class=\"dataframe\">\n",
       "  <thead>\n",
       "    <tr style=\"text-align: right;\">\n",
       "      <th></th>\n",
       "      <th>A</th>\n",
       "      <th>B</th>\n",
       "      <th>C</th>\n",
       "      <th>D</th>\n",
       "    </tr>\n",
       "  </thead>\n",
       "  <tbody>\n",
       "    <tr>\n",
       "      <th>0</th>\n",
       "      <td>A0</td>\n",
       "      <td>B0</td>\n",
       "      <td>C0</td>\n",
       "      <td>D0</td>\n",
       "    </tr>\n",
       "    <tr>\n",
       "      <th>1</th>\n",
       "      <td>A1</td>\n",
       "      <td>B1</td>\n",
       "      <td>C1</td>\n",
       "      <td>D1</td>\n",
       "    </tr>\n",
       "    <tr>\n",
       "      <th>2</th>\n",
       "      <td>A2</td>\n",
       "      <td>B2</td>\n",
       "      <td>C2</td>\n",
       "      <td>D2</td>\n",
       "    </tr>\n",
       "    <tr>\n",
       "      <th>3</th>\n",
       "      <td>A3</td>\n",
       "      <td>B3</td>\n",
       "      <td>C3</td>\n",
       "      <td>D3</td>\n",
       "    </tr>\n",
       "    <tr>\n",
       "      <th>4</th>\n",
       "      <td>A4</td>\n",
       "      <td>B4</td>\n",
       "      <td>C4</td>\n",
       "      <td>D4</td>\n",
       "    </tr>\n",
       "    <tr>\n",
       "      <th>5</th>\n",
       "      <td>A5</td>\n",
       "      <td>B5</td>\n",
       "      <td>C5</td>\n",
       "      <td>D5</td>\n",
       "    </tr>\n",
       "    <tr>\n",
       "      <th>6</th>\n",
       "      <td>A6</td>\n",
       "      <td>B6</td>\n",
       "      <td>C6</td>\n",
       "      <td>D6</td>\n",
       "    </tr>\n",
       "    <tr>\n",
       "      <th>7</th>\n",
       "      <td>A7</td>\n",
       "      <td>B7</td>\n",
       "      <td>C7</td>\n",
       "      <td>D7</td>\n",
       "    </tr>\n",
       "  </tbody>\n",
       "</table>\n",
       "</div>"
      ],
      "text/plain": [
       "    A   B   C   D\n",
       "0  A0  B0  C0  D0\n",
       "1  A1  B1  C1  D1\n",
       "2  A2  B2  C2  D2\n",
       "3  A3  B3  C3  D3\n",
       "4  A4  B4  C4  D4\n",
       "5  A5  B5  C5  D5\n",
       "6  A6  B6  C6  D6\n",
       "7  A7  B7  C7  D7"
      ]
     },
     "execution_count": 1052,
     "metadata": {},
     "output_type": "execute_result"
    }
   ],
   "source": [
    "###################################################################################################################################\n",
    "#####   Concatenate dataframes   ##################################################################################################\n",
    "###################################################################################################################################\n",
    "import pandas as pd\n",
    "\n",
    "df1 = pd.DataFrame(\n",
    "    {\n",
    "        \"A\": [\"A0\", \"A1\", \"A2\", \"A3\"],\n",
    "        \"B\": [\"B0\", \"B1\", \"B2\", \"B3\"],\n",
    "        \"C\": [\"C0\", \"C1\", \"C2\", \"C3\"],\n",
    "        \"D\": [\"D0\", \"D1\", \"D2\", \"D3\"],\n",
    "    },\n",
    "    index=[0, 1, 2, 3],\n",
    ")\n",
    "\n",
    "df2 = pd.DataFrame(\n",
    "    {\n",
    "        \"A\": [\"A4\", \"A5\", \"A6\", \"A7\"],\n",
    "        \"B\": [\"B4\", \"B5\", \"B6\", \"B7\"],\n",
    "        \"C\": [\"C4\", \"C5\", \"C6\", \"C7\"],\n",
    "        \"D\": [\"D4\", \"D5\", \"D6\", \"D7\"],\n",
    "    },\n",
    "    index=[4, 5, 6, 7],\n",
    ")\n",
    "\n",
    "# Concatenate several dataframes into a new one\n",
    "df3 = pd.concat(\n",
    "    [df1, df2], \n",
    "    ignore_index=True # Clear the existing index and reset it in the result\n",
    ")\n",
    "df3\n",
    "\n",
    "# Update the existing dataframe\n",
    "df1 = pd.concat( [df1, df2], ignore_index=True )\n",
    "df1\n"
   ]
  },
  {
   "cell_type": "code",
   "execution_count": 1053,
   "id": "7a00e2bf",
   "metadata": {},
   "outputs": [
    {
     "data": {
      "text/html": [
       "<div>\n",
       "<style scoped>\n",
       "    .dataframe tbody tr th:only-of-type {\n",
       "        vertical-align: middle;\n",
       "    }\n",
       "\n",
       "    .dataframe tbody tr th {\n",
       "        vertical-align: top;\n",
       "    }\n",
       "\n",
       "    .dataframe thead th {\n",
       "        text-align: right;\n",
       "    }\n",
       "</style>\n",
       "<table border=\"1\" class=\"dataframe\">\n",
       "  <thead>\n",
       "    <tr style=\"text-align: right;\">\n",
       "      <th></th>\n",
       "      <th>Name</th>\n",
       "      <th>Surname</th>\n",
       "      <th>Age</th>\n",
       "      <th>Fullname</th>\n",
       "      <th>Details</th>\n",
       "    </tr>\n",
       "  </thead>\n",
       "  <tbody>\n",
       "    <tr>\n",
       "      <th>0</th>\n",
       "      <td>John</td>\n",
       "      <td>Doe</td>\n",
       "      <td>19</td>\n",
       "      <td>John,Doe</td>\n",
       "      <td>John,Doe,19</td>\n",
       "    </tr>\n",
       "    <tr>\n",
       "      <th>1</th>\n",
       "      <td>Jane</td>\n",
       "      <td>Doe</td>\n",
       "      <td>29</td>\n",
       "      <td>Jane,Doe</td>\n",
       "      <td>Jane,Doe,29</td>\n",
       "    </tr>\n",
       "    <tr>\n",
       "      <th>2</th>\n",
       "      <td>Stephen</td>\n",
       "      <td>King</td>\n",
       "      <td>30</td>\n",
       "      <td>Stephen,King</td>\n",
       "      <td>Stephen,King,30</td>\n",
       "    </tr>\n",
       "  </tbody>\n",
       "</table>\n",
       "</div>"
      ],
      "text/plain": [
       "      Name Surname  Age      Fullname          Details\n",
       "0     John     Doe   19      John,Doe      John,Doe,19\n",
       "1     Jane     Doe   29      Jane,Doe      Jane,Doe,29\n",
       "2  Stephen    King   30  Stephen,King  Stephen,King,30"
      ]
     },
     "execution_count": 1053,
     "metadata": {},
     "output_type": "execute_result"
    }
   ],
   "source": [
    "# Concatenate columns into a single column\n",
    "\n",
    "import pandas as pd\n",
    "\n",
    "df = pd.DataFrame({\n",
    "\t'Name': ['John', 'Jane', 'Stephen'], \n",
    "\t'Surname': ['Doe', 'Doe', 'King'], \n",
    "\t'Age': [19, 29, 30]\n",
    "})\n",
    "\n",
    "# Concatenate two columns of the same datatype\n",
    "df['Fullname'] = df['Name'].str.cat(df['Surname'], sep=',')\n",
    "\n",
    "# Concatenate two columns of different datatypes\n",
    "df['Age1'] = df['Age'].astype(str)\n",
    "df['Details'] = df['Name'].str.cat(df[['Surname', 'Age1']], sep=',')\n",
    "df.drop(columns='Age1', inplace=True)\n",
    "df"
   ]
  },
  {
   "cell_type": "code",
   "execution_count": 1054,
   "id": "51330288",
   "metadata": {},
   "outputs": [
    {
     "data": {
      "text/html": [
       "<div>\n",
       "<style scoped>\n",
       "    .dataframe tbody tr th:only-of-type {\n",
       "        vertical-align: middle;\n",
       "    }\n",
       "\n",
       "    .dataframe tbody tr th {\n",
       "        vertical-align: top;\n",
       "    }\n",
       "\n",
       "    .dataframe thead th {\n",
       "        text-align: right;\n",
       "    }\n",
       "</style>\n",
       "<table border=\"1\" class=\"dataframe\">\n",
       "  <thead>\n",
       "    <tr style=\"text-align: right;\">\n",
       "      <th></th>\n",
       "      <th>Name</th>\n",
       "      <th>Age</th>\n",
       "      <th>Height</th>\n",
       "    </tr>\n",
       "  </thead>\n",
       "  <tbody>\n",
       "    <tr>\n",
       "      <th>0</th>\n",
       "      <td>Evgenii</td>\n",
       "      <td>20</td>\n",
       "      <td>186</td>\n",
       "    </tr>\n",
       "    <tr>\n",
       "      <th>1</th>\n",
       "      <td>Ivan</td>\n",
       "      <td>25</td>\n",
       "      <td>190</td>\n",
       "    </tr>\n",
       "    <tr>\n",
       "      <th>2</th>\n",
       "      <td>Marina</td>\n",
       "      <td>12</td>\n",
       "      <td>160</td>\n",
       "    </tr>\n",
       "  </tbody>\n",
       "</table>\n",
       "</div>"
      ],
      "text/plain": [
       "      Name  Age  Height\n",
       "0  Evgenii   20     186\n",
       "1     Ivan   25     190\n",
       "2   Marina   12     160"
      ]
     },
     "execution_count": 1054,
     "metadata": {},
     "output_type": "execute_result"
    }
   ],
   "source": [
    "import pandas as pd\n",
    "\n",
    "df1 = pd.DataFrame({\n",
    "\t'Name': ['Evgenii', 'Ivan', 'Marina'], \n",
    "\t'Age': [20, 25, 12]\n",
    "})\n",
    "\n",
    "df2 = pd.DataFrame({\n",
    "\t'Name': ['Evgenii', 'Ivan', 'Marina'], \n",
    "\t'Height': [186, 190, 160]\n",
    "})\n",
    "\n",
    "df3 = pd.merge(df1, df2, on='Name')\n",
    "df3"
   ]
  },
  {
   "cell_type": "markdown",
   "id": "7a9920a3",
   "metadata": {},
   "source": [
    "### Examples"
   ]
  },
  {
   "cell_type": "code",
   "execution_count": 1055,
   "id": "0402ce0b",
   "metadata": {},
   "outputs": [
    {
     "name": "stderr",
     "output_type": "stream",
     "text": [
      "C:\\Users\\evgen\\AppData\\Local\\Temp/ipykernel_2888/98374026.py:23: SettingWithCopyWarning: \n",
      "A value is trying to be set on a copy of a slice from a DataFrame\n",
      "\n",
      "See the caveats in the documentation: https://pandas.pydata.org/pandas-docs/stable/user_guide/indexing.html#returning-a-view-versus-a-copy\n",
      "  df2['convert'][index2] = df1['Values'][index1]\n",
      "c:\\Users\\evgen\\AppData\\Local\\Programs\\Python\\Python39\\lib\\site-packages\\pandas\\core\\indexing.py:1732: SettingWithCopyWarning: \n",
      "A value is trying to be set on a copy of a slice from a DataFrame\n",
      "\n",
      "See the caveats in the documentation: https://pandas.pydata.org/pandas-docs/stable/user_guide/indexing.html#returning-a-view-versus-a-copy\n",
      "  self._setitem_single_block(indexer, value, name)\n"
     ]
    },
    {
     "data": {
      "text/html": [
       "<div>\n",
       "<style scoped>\n",
       "    .dataframe tbody tr th:only-of-type {\n",
       "        vertical-align: middle;\n",
       "    }\n",
       "\n",
       "    .dataframe tbody tr th {\n",
       "        vertical-align: top;\n",
       "    }\n",
       "\n",
       "    .dataframe thead th {\n",
       "        text-align: right;\n",
       "    }\n",
       "</style>\n",
       "<table border=\"1\" class=\"dataframe\">\n",
       "  <thead>\n",
       "    <tr style=\"text-align: right;\">\n",
       "      <th></th>\n",
       "      <th>Col1</th>\n",
       "      <th>convert</th>\n",
       "    </tr>\n",
       "  </thead>\n",
       "  <tbody>\n",
       "    <tr>\n",
       "      <th>0</th>\n",
       "      <td>G</td>\n",
       "      <td>glycine</td>\n",
       "    </tr>\n",
       "    <tr>\n",
       "      <th>1</th>\n",
       "      <td>G</td>\n",
       "      <td>glycine</td>\n",
       "    </tr>\n",
       "    <tr>\n",
       "      <th>2</th>\n",
       "      <td>A</td>\n",
       "      <td>alanine</td>\n",
       "    </tr>\n",
       "    <tr>\n",
       "      <th>3</th>\n",
       "      <td>L</td>\n",
       "      <td>leucine</td>\n",
       "    </tr>\n",
       "    <tr>\n",
       "      <th>4</th>\n",
       "      <td>A</td>\n",
       "      <td>alanine</td>\n",
       "    </tr>\n",
       "    <tr>\n",
       "      <th>5</th>\n",
       "      <td>K</td>\n",
       "      <td>lysine</td>\n",
       "    </tr>\n",
       "  </tbody>\n",
       "</table>\n",
       "</div>"
      ],
      "text/plain": [
       "  Col1  convert\n",
       "0    G  glycine\n",
       "1    G  glycine\n",
       "2    A  alanine\n",
       "3    L  leucine\n",
       "4    A  alanine\n",
       "5    K   lysine"
      ]
     },
     "execution_count": 1055,
     "metadata": {},
     "output_type": "execute_result"
    }
   ],
   "source": [
    "\"\"\"\n",
    "Have two dataframes - df1 (contains two columns - one with keys and another with their values) and df2 \n",
    "(in which there are keys from df1[keys] but repeated. \n",
    "You want to create a new column in df2 which will contain values from df1[column2] as per the\n",
    "keys if they match btw df1[column] and df2)\n",
    "\"\"\"\n",
    "\n",
    "df1 = pd.DataFrame({\n",
    "\t'Key': ['G', 'A', 'K', 'L'], \n",
    "\t'Values': ['glycine', 'alanine', 'lysine', 'leucine']\n",
    "})\n",
    "\n",
    "df2 = pd.DataFrame({\n",
    "\t'Col1': ['G', 'G', 'A', 'L', 'A', 'K']\n",
    "})\n",
    "\n",
    "df2['convert'], counter = 0, 0\n",
    "\n",
    "for index2, row2 in df2.iterrows():\n",
    "\tfor index1, row1 in df1.iterrows():\n",
    "\t\tif df2['Col1'][index2] == df1['Key'][index1]:\n",
    "\t\t\t# print(df1['Values'][index1])\n",
    "\t\t\tdf2['convert'][index2] = df1['Values'][index1]\n",
    "df2"
   ]
  },
  {
   "cell_type": "code",
   "execution_count": 1056,
   "id": "d5a3e4a4",
   "metadata": {},
   "outputs": [
    {
     "data": {
      "text/html": [
       "<div>\n",
       "<style scoped>\n",
       "    .dataframe tbody tr th:only-of-type {\n",
       "        vertical-align: middle;\n",
       "    }\n",
       "\n",
       "    .dataframe tbody tr th {\n",
       "        vertical-align: top;\n",
       "    }\n",
       "\n",
       "    .dataframe thead th {\n",
       "        text-align: right;\n",
       "    }\n",
       "</style>\n",
       "<table border=\"1\" class=\"dataframe\">\n",
       "  <thead>\n",
       "    <tr style=\"text-align: right;\">\n",
       "      <th></th>\n",
       "      <th>variable</th>\n",
       "    </tr>\n",
       "  </thead>\n",
       "  <tbody>\n",
       "    <tr>\n",
       "      <th>0</th>\n",
       "      <td>HIGH</td>\n",
       "    </tr>\n",
       "    <tr>\n",
       "      <th>1</th>\n",
       "      <td>HIGH</td>\n",
       "    </tr>\n",
       "    <tr>\n",
       "      <th>2</th>\n",
       "      <td>LOW</td>\n",
       "    </tr>\n",
       "    <tr>\n",
       "      <th>3</th>\n",
       "      <td>LOW</td>\n",
       "    </tr>\n",
       "    <tr>\n",
       "      <th>4</th>\n",
       "      <td>MEDIUM</td>\n",
       "    </tr>\n",
       "  </tbody>\n",
       "</table>\n",
       "</div>"
      ],
      "text/plain": [
       "  variable\n",
       "0     HIGH\n",
       "1     HIGH\n",
       "2      LOW\n",
       "3      LOW\n",
       "4   MEDIUM"
      ]
     },
     "execution_count": 1056,
     "metadata": {},
     "output_type": "execute_result"
    }
   ],
   "source": [
    "# in a column consisting of floats: \n",
    "# - if value < -1, change value to string 'LOW'\n",
    "# - if value > 1, change value to string 'HIGH'\n",
    "# - else, label as 'MEDIUM'\n",
    "\n",
    "import pandas as pd\n",
    "df = pd.DataFrame({\n",
    "\t'variable': [1, 2, -1, -2, 0]\n",
    "})\n",
    "\n",
    "for i in range(0, len(df['variable'])):\n",
    "\tif df['variable'].iloc[i] <= -1:\n",
    "\t\tdf['variable'].iloc[i] = 'LOW'\n",
    "\telif df['variable'].iloc[i] >= 1:\n",
    "\t\tdf['variable'].iloc[i] = 'HIGH'\n",
    "\telse:\n",
    "\t\tdf['variable'].iloc[i] = 'MEDIUM'\n",
    "df"
   ]
  },
  {
   "cell_type": "code",
   "execution_count": 1057,
   "id": "8e48df38",
   "metadata": {},
   "outputs": [
    {
     "data": {
      "text/html": [
       "<div>\n",
       "<style scoped>\n",
       "    .dataframe tbody tr th:only-of-type {\n",
       "        vertical-align: middle;\n",
       "    }\n",
       "\n",
       "    .dataframe tbody tr th {\n",
       "        vertical-align: top;\n",
       "    }\n",
       "\n",
       "    .dataframe thead th {\n",
       "        text-align: right;\n",
       "    }\n",
       "</style>\n",
       "<table border=\"1\" class=\"dataframe\">\n",
       "  <thead>\n",
       "    <tr style=\"text-align: right;\">\n",
       "      <th></th>\n",
       "      <th>Name</th>\n",
       "      <th>Surname</th>\n",
       "      <th>Age</th>\n",
       "      <th>name count</th>\n",
       "    </tr>\n",
       "  </thead>\n",
       "  <tbody>\n",
       "    <tr>\n",
       "      <th>0</th>\n",
       "      <td>John</td>\n",
       "      <td>Doe</td>\n",
       "      <td>19</td>\n",
       "      <td>3</td>\n",
       "    </tr>\n",
       "    <tr>\n",
       "      <th>1</th>\n",
       "      <td>Jane</td>\n",
       "      <td>Doe</td>\n",
       "      <td>29</td>\n",
       "      <td>1</td>\n",
       "    </tr>\n",
       "    <tr>\n",
       "      <th>2</th>\n",
       "      <td>Stephen</td>\n",
       "      <td>King</td>\n",
       "      <td>30</td>\n",
       "      <td>1</td>\n",
       "    </tr>\n",
       "  </tbody>\n",
       "</table>\n",
       "</div>"
      ],
      "text/plain": [
       "      Name Surname  Age  name count\n",
       "0     John     Doe   19           3\n",
       "1     Jane     Doe   29           1\n",
       "2  Stephen    King   30           1"
      ]
     },
     "execution_count": 1057,
     "metadata": {},
     "output_type": "execute_result"
    }
   ],
   "source": [
    "# Count occurrence of names in column in another df column\n",
    "\n",
    "import pandas as pd\n",
    "\n",
    "df = pd.DataFrame({\n",
    "\t'Name': ['John', 'Jane', 'Stephen'], \n",
    "\t'Surname': ['Doe', 'Doe', 'King'], \n",
    "\t'Age': [19, 29, 30], \n",
    "\t'name count': [0, 0, 0]\n",
    "})\n",
    "\n",
    "df_namesList = pd.DataFrame({\n",
    "\t'namesList': ['John', 'John', 'John', 'Jane', 'Stephen'] \n",
    "})\n",
    "\n",
    "for index, row in df_namesList.iterrows():\n",
    "\tdf.loc[df['Name'] == row['namesList'], 'name count'] += 1\n",
    "\n",
    "df"
   ]
  },
  {
   "cell_type": "code",
   "execution_count": 1058,
   "id": "355319e7",
   "metadata": {},
   "outputs": [
    {
     "data": {
      "text/plain": [
       "<pandas.core.groupby.generic.DataFrameGroupBy object at 0x0000021E051AAE80>"
      ]
     },
     "execution_count": 1058,
     "metadata": {},
     "output_type": "execute_result"
    }
   ],
   "source": [
    "import pandas as pd\n",
    "\n",
    "df = pd.read_csv('example_datasets/adult-data.csv')\n",
    "\n",
    "# Print unique entries in a column\n",
    "df['marital-status'].value_counts()\n",
    "# How many bachelors are married\n",
    "df2 = df[df['education'] == 'Bachelors']\n",
    "df2['marital-status'].str.contains('Married-civ-spouse').sum()\n",
    "\n",
    "\n",
    "\n",
    "# how many people are 'Never-marrried' per each race\n",
    "df3 = df.groupby(['race'])\n",
    "df3['marital-status'].apply(lambda x: x.str.contains('Never-married').sum())\n",
    "\n",
    "# Choose one group only\n",
    "df.groupby(['race']).get_group('White')\n",
    "\n",
    "# value counts of education in 'White' group only\n",
    "df2 = df.groupby(['race'])\n",
    "df2['education'].value_counts().loc['White']\n",
    "# Median hours-per-week by race\n",
    "df2['hours-per-week'].mean()\n",
    "df2['hours-per-week'].mean().loc['Black'] # for 'Black' only\n",
    "\n",
    "# Check mean, median grouped by country\n",
    "df2['hours-per-week'].agg(['median', 'mean'])\n",
    "df2['hours-per-week'].agg(['median', 'mean']).loc['Black'] # for 'Black' only\n",
    "\n",
    "# Get sum values by group for each group and add it into a new column in df\n",
    "df['hours-per-week-sum'] = df.groupby(['race'])['hours-per-week'].transform('sum')\n",
    "\n",
    "# count number of entries per group (Black, White, etc.) in a column (race)\n",
    "df.groupby(['race'])['race'].count()\n",
    "\n",
    "# Grouping by multiple fields\n",
    "df.groupby(['race', 'sex'], as_index=False)['hours-per-week'].mean()\n",
    "df.groupby(['race', 'sex'], as_index=False)['salary']\n"
   ]
  },
  {
   "cell_type": "code",
   "execution_count": 1059,
   "id": "fd2b16a5",
   "metadata": {},
   "outputs": [
    {
     "data": {
      "text/plain": [
       "Type\n",
       "a    3\n",
       "b    6\n",
       "c    9\n",
       "Name: Size, dtype: int64"
      ]
     },
     "execution_count": 1059,
     "metadata": {},
     "output_type": "execute_result"
    }
   ],
   "source": [
    "import pandas as pd\n",
    "\n",
    "df = pd.DataFrame({\n",
    "\t'Size': [ 1,   2,   1,   3,   1,   2,   3,   3,   2],\n",
    "\t'Type': ['a', 'b', 'a', 'c', 'a', 'b', 'c', 'c', 'b'], \n",
    "\t'Category': ['Cat1' for i in range(9)]\n",
    "})\n",
    "df\n",
    "df2 = df.groupby(['Type'])['Size'].sum()\n",
    "df2"
   ]
  },
  {
   "cell_type": "code",
   "execution_count": 1060,
   "id": "e074e58c",
   "metadata": {},
   "outputs": [
    {
     "data": {
      "text/html": [
       "<div>\n",
       "<style scoped>\n",
       "    .dataframe tbody tr th:only-of-type {\n",
       "        vertical-align: middle;\n",
       "    }\n",
       "\n",
       "    .dataframe tbody tr th {\n",
       "        vertical-align: top;\n",
       "    }\n",
       "\n",
       "    .dataframe thead th {\n",
       "        text-align: right;\n",
       "    }\n",
       "</style>\n",
       "<table border=\"1\" class=\"dataframe\">\n",
       "  <thead>\n",
       "    <tr style=\"text-align: right;\">\n",
       "      <th></th>\n",
       "      <th>Size</th>\n",
       "      <th>Type</th>\n",
       "      <th>count</th>\n",
       "    </tr>\n",
       "  </thead>\n",
       "  <tbody>\n",
       "    <tr>\n",
       "      <th>0</th>\n",
       "      <td>2</td>\n",
       "      <td>a</td>\n",
       "      <td>2</td>\n",
       "    </tr>\n",
       "    <tr>\n",
       "      <th>1</th>\n",
       "      <td>2</td>\n",
       "      <td>b</td>\n",
       "      <td>1</td>\n",
       "    </tr>\n",
       "    <tr>\n",
       "      <th>2</th>\n",
       "      <td>3</td>\n",
       "      <td>a</td>\n",
       "      <td>1</td>\n",
       "    </tr>\n",
       "    <tr>\n",
       "      <th>3</th>\n",
       "      <td>3</td>\n",
       "      <td>b</td>\n",
       "      <td>1</td>\n",
       "    </tr>\n",
       "    <tr>\n",
       "      <th>4</th>\n",
       "      <td>3</td>\n",
       "      <td>c</td>\n",
       "      <td>1</td>\n",
       "    </tr>\n",
       "    <tr>\n",
       "      <th>5</th>\n",
       "      <td>4</td>\n",
       "      <td>c</td>\n",
       "      <td>2</td>\n",
       "    </tr>\n",
       "    <tr>\n",
       "      <th>6</th>\n",
       "      <td>4</td>\n",
       "      <td>b</td>\n",
       "      <td>1</td>\n",
       "    </tr>\n",
       "  </tbody>\n",
       "</table>\n",
       "</div>"
      ],
      "text/plain": [
       "   Size Type  count\n",
       "0     2    a      2\n",
       "1     2    b      1\n",
       "2     3    a      1\n",
       "3     3    b      1\n",
       "4     3    c      1\n",
       "5     4    c      2\n",
       "6     4    b      1"
      ]
     },
     "execution_count": 1060,
     "metadata": {},
     "output_type": "execute_result"
    }
   ],
   "source": [
    "# Groupby into a df object\n",
    "\n",
    "df = pd.DataFrame({\n",
    "\t'Size': [2, 2, 2, 3, 3, 3, 4, 4, 4],\n",
    "\t'Type': ['a', 'b', 'a', 'c', 'a', 'b', 'c', 'c', 'b']\n",
    "})\n",
    "\n",
    "df2 = df.groupby(['Size'])['Type'].value_counts().to_frame(name='count').reset_index()\n",
    "df2"
   ]
  },
  {
   "cell_type": "code",
   "execution_count": 1061,
   "id": "cb2480bc",
   "metadata": {},
   "outputs": [
    {
     "data": {
      "text/html": [
       "<div>\n",
       "<style scoped>\n",
       "    .dataframe tbody tr th:only-of-type {\n",
       "        vertical-align: middle;\n",
       "    }\n",
       "\n",
       "    .dataframe tbody tr th {\n",
       "        vertical-align: top;\n",
       "    }\n",
       "\n",
       "    .dataframe thead th {\n",
       "        text-align: right;\n",
       "    }\n",
       "</style>\n",
       "<table border=\"1\" class=\"dataframe\">\n",
       "  <thead>\n",
       "    <tr style=\"text-align: right;\">\n",
       "      <th></th>\n",
       "      <th>Size</th>\n",
       "      <th>Type</th>\n",
       "      <th>New</th>\n",
       "    </tr>\n",
       "  </thead>\n",
       "  <tbody>\n",
       "    <tr>\n",
       "      <th>0</th>\n",
       "      <td>1</td>\n",
       "      <td>a</td>\n",
       "      <td>0</td>\n",
       "    </tr>\n",
       "    <tr>\n",
       "      <th>1</th>\n",
       "      <td>2</td>\n",
       "      <td>b</td>\n",
       "      <td>0</td>\n",
       "    </tr>\n",
       "    <tr>\n",
       "      <th>2</th>\n",
       "      <td>3</td>\n",
       "      <td>c</td>\n",
       "      <td>0</td>\n",
       "    </tr>\n",
       "  </tbody>\n",
       "</table>\n",
       "</div>"
      ],
      "text/plain": [
       "   Size Type  New\n",
       "0     1    a    0\n",
       "1     2    b    0\n",
       "2     3    c    0"
      ]
     },
     "execution_count": 1061,
     "metadata": {},
     "output_type": "execute_result"
    }
   ],
   "source": [
    "# Check if column exists\n",
    "\n",
    "df = pd.DataFrame({\n",
    "\t'Size': [1, 2, 3], \n",
    "\t'Type': ['a', 'b', 'c']\n",
    "})\n",
    "\n",
    "if 'New' not in df.columns:\n",
    "\tdf['New'] = 0\n",
    "else:\n",
    "\tprint('already exists')\n",
    "df"
   ]
  },
  {
   "cell_type": "markdown",
   "id": "96c2479e",
   "metadata": {},
   "source": [
    "### Statistics"
   ]
  },
  {
   "cell_type": "code",
   "execution_count": 3,
   "id": "672eee64",
   "metadata": {},
   "outputs": [],
   "source": [
    "import numpy as np\n",
    "import seaborn as sns\n",
    "import pandas as pd"
   ]
  },
  {
   "cell_type": "code",
   "execution_count": 6,
   "id": "aa670675",
   "metadata": {},
   "outputs": [
    {
     "data": {
      "text/html": [
       "<div>\n",
       "<style scoped>\n",
       "    .dataframe tbody tr th:only-of-type {\n",
       "        vertical-align: middle;\n",
       "    }\n",
       "\n",
       "    .dataframe tbody tr th {\n",
       "        vertical-align: top;\n",
       "    }\n",
       "\n",
       "    .dataframe thead th {\n",
       "        text-align: right;\n",
       "    }\n",
       "</style>\n",
       "<table border=\"1\" class=\"dataframe\">\n",
       "  <thead>\n",
       "    <tr style=\"text-align: right;\">\n",
       "      <th></th>\n",
       "      <th>species</th>\n",
       "      <th>island</th>\n",
       "      <th>bill_length_mm</th>\n",
       "      <th>bill_depth_mm</th>\n",
       "      <th>flipper_length_mm</th>\n",
       "      <th>body_mass_g</th>\n",
       "      <th>sex</th>\n",
       "    </tr>\n",
       "  </thead>\n",
       "  <tbody>\n",
       "    <tr>\n",
       "      <th>339</th>\n",
       "      <td>Gentoo</td>\n",
       "      <td>Biscoe</td>\n",
       "      <td>NaN</td>\n",
       "      <td>NaN</td>\n",
       "      <td>NaN</td>\n",
       "      <td>NaN</td>\n",
       "      <td>NaN</td>\n",
       "    </tr>\n",
       "    <tr>\n",
       "      <th>340</th>\n",
       "      <td>Gentoo</td>\n",
       "      <td>Biscoe</td>\n",
       "      <td>46.8</td>\n",
       "      <td>14.3</td>\n",
       "      <td>215.0</td>\n",
       "      <td>4850.0</td>\n",
       "      <td>Female</td>\n",
       "    </tr>\n",
       "    <tr>\n",
       "      <th>341</th>\n",
       "      <td>Gentoo</td>\n",
       "      <td>Biscoe</td>\n",
       "      <td>50.4</td>\n",
       "      <td>15.7</td>\n",
       "      <td>222.0</td>\n",
       "      <td>5750.0</td>\n",
       "      <td>Male</td>\n",
       "    </tr>\n",
       "    <tr>\n",
       "      <th>342</th>\n",
       "      <td>Gentoo</td>\n",
       "      <td>Biscoe</td>\n",
       "      <td>45.2</td>\n",
       "      <td>14.8</td>\n",
       "      <td>212.0</td>\n",
       "      <td>5200.0</td>\n",
       "      <td>Female</td>\n",
       "    </tr>\n",
       "    <tr>\n",
       "      <th>343</th>\n",
       "      <td>Gentoo</td>\n",
       "      <td>Biscoe</td>\n",
       "      <td>49.9</td>\n",
       "      <td>16.1</td>\n",
       "      <td>213.0</td>\n",
       "      <td>5400.0</td>\n",
       "      <td>Male</td>\n",
       "    </tr>\n",
       "  </tbody>\n",
       "</table>\n",
       "</div>"
      ],
      "text/plain": [
       "    species  island  bill_length_mm  bill_depth_mm  flipper_length_mm  \\\n",
       "339  Gentoo  Biscoe             NaN            NaN                NaN   \n",
       "340  Gentoo  Biscoe            46.8           14.3              215.0   \n",
       "341  Gentoo  Biscoe            50.4           15.7              222.0   \n",
       "342  Gentoo  Biscoe            45.2           14.8              212.0   \n",
       "343  Gentoo  Biscoe            49.9           16.1              213.0   \n",
       "\n",
       "     body_mass_g     sex  \n",
       "339          NaN     NaN  \n",
       "340       4850.0  Female  \n",
       "341       5750.0    Male  \n",
       "342       5200.0  Female  \n",
       "343       5400.0    Male  "
      ]
     },
     "execution_count": 6,
     "metadata": {},
     "output_type": "execute_result"
    }
   ],
   "source": [
    "import seaborn as sns\n",
    "df = sns.load_dataset('penguins')\n",
    "df.tail()"
   ]
  },
  {
   "cell_type": "code",
   "execution_count": 5,
   "id": "41754c21",
   "metadata": {},
   "outputs": [
    {
     "data": {
      "text/plain": [
       "344"
      ]
     },
     "execution_count": 5,
     "metadata": {},
     "output_type": "execute_result"
    }
   ],
   "source": [
    "len(df)"
   ]
  },
  {
   "cell_type": "code",
   "execution_count": 1,
   "id": "b93c3c1f",
   "metadata": {},
   "outputs": [
    {
     "name": "stdout",
     "output_type": "stream",
     "text": [
      "43.36473482106864\n"
     ]
    },
    {
     "data": {
      "text/plain": [
       "species\n",
       "Adelie       3700.662252\n",
       "Chinstrap    3733.088235\n",
       "Gentoo       5076.016260\n",
       "Name: body_mass_g, dtype: float64"
      ]
     },
     "execution_count": 1,
     "metadata": {},
     "output_type": "execute_result"
    }
   ],
   "source": [
    "len(df) # How many rows are in the dataset\n",
    "df.describe() # describe basic stats of each column: count, mean, std, min, 25-50-75%, max\n",
    "df['body_mass_g'].median()\n",
    "df['body_mass_g'].sum()\n",
    "df['body_mass_g'].count() # total number of values other than NaN\n",
    "df['body_mass_g'].std()\n",
    "print(df['body_mass_g'].sem()) # Standard Error of sampling measurement\n",
    "df['body_mass_g'].value_counts() # count occurrence of each unique value in the column\n",
    "df['body_mass_g'].value_counts(normalize=True) # percentage\n",
    "df['body_mass_g'].value_counts()[6300] # count only this value\n",
    "\n",
    "df['body_mass_g'].nlargest(5) # print weights of 5 largest entries \n",
    "df.nlargest(5, 'body_mass_g') # print rows of 5 largest entries\n",
    "\n",
    "(df['bill_depth_mm'] < df['bill_length_mm']).sum() # Count how many times the condition is met btw two columns\n",
    "\n",
    "# Sample from a dataframe column\n",
    "df['body_mass_g'].sample(5).mean()\n",
    "\n",
    "# Print statistics per group\n",
    "df.groupby('species')['body_mass_g'].mean() # Mean body mass in each species group\n",
    "# .median()\n",
    "# .std()\n",
    "# .quantile(0.25)"
   ]
  },
  {
   "cell_type": "code",
   "execution_count": 9,
   "id": "ec28b0e7",
   "metadata": {},
   "outputs": [
    {
     "data": {
      "text/html": [
       "<div>\n",
       "<style scoped>\n",
       "    .dataframe tbody tr th:only-of-type {\n",
       "        vertical-align: middle;\n",
       "    }\n",
       "\n",
       "    .dataframe tbody tr th {\n",
       "        vertical-align: top;\n",
       "    }\n",
       "\n",
       "    .dataframe thead th {\n",
       "        text-align: right;\n",
       "    }\n",
       "</style>\n",
       "<table border=\"1\" class=\"dataframe\">\n",
       "  <thead>\n",
       "    <tr style=\"text-align: right;\">\n",
       "      <th></th>\n",
       "      <th>species</th>\n",
       "      <th>island</th>\n",
       "      <th>bill_length_mm</th>\n",
       "      <th>bill_depth_mm</th>\n",
       "      <th>flipper_length_mm</th>\n",
       "      <th>body_mass_g</th>\n",
       "      <th>sex</th>\n",
       "    </tr>\n",
       "  </thead>\n",
       "  <tbody>\n",
       "    <tr>\n",
       "      <th>342</th>\n",
       "      <td>Gentoo</td>\n",
       "      <td>Biscoe</td>\n",
       "      <td>45.2</td>\n",
       "      <td>14.8</td>\n",
       "      <td>212.0</td>\n",
       "      <td>5200.0</td>\n",
       "      <td>Female</td>\n",
       "    </tr>\n",
       "    <tr>\n",
       "      <th>218</th>\n",
       "      <td>Chinstrap</td>\n",
       "      <td>Dream</td>\n",
       "      <td>50.8</td>\n",
       "      <td>19.0</td>\n",
       "      <td>210.0</td>\n",
       "      <td>4100.0</td>\n",
       "      <td>Male</td>\n",
       "    </tr>\n",
       "    <tr>\n",
       "      <th>323</th>\n",
       "      <td>Gentoo</td>\n",
       "      <td>Biscoe</td>\n",
       "      <td>49.1</td>\n",
       "      <td>15.0</td>\n",
       "      <td>228.0</td>\n",
       "      <td>5500.0</td>\n",
       "      <td>Male</td>\n",
       "    </tr>\n",
       "  </tbody>\n",
       "</table>\n",
       "</div>"
      ],
      "text/plain": [
       "       species  island  bill_length_mm  bill_depth_mm  flipper_length_mm  \\\n",
       "342     Gentoo  Biscoe            45.2           14.8              212.0   \n",
       "218  Chinstrap   Dream            50.8           19.0              210.0   \n",
       "323     Gentoo  Biscoe            49.1           15.0              228.0   \n",
       "\n",
       "     body_mass_g     sex  \n",
       "342       5200.0  Female  \n",
       "218       4100.0    Male  \n",
       "323       5500.0    Male  "
      ]
     },
     "execution_count": 9,
     "metadata": {},
     "output_type": "execute_result"
    }
   ],
   "source": [
    "df.sample(n=3)"
   ]
  },
  {
   "cell_type": "code",
   "execution_count": 12,
   "id": "2e589343",
   "metadata": {},
   "outputs": [
    {
     "data": {
      "text/html": [
       "<div>\n",
       "<style scoped>\n",
       "    .dataframe tbody tr th:only-of-type {\n",
       "        vertical-align: middle;\n",
       "    }\n",
       "\n",
       "    .dataframe tbody tr th {\n",
       "        vertical-align: top;\n",
       "    }\n",
       "\n",
       "    .dataframe thead th {\n",
       "        text-align: right;\n",
       "    }\n",
       "</style>\n",
       "<table border=\"1\" class=\"dataframe\">\n",
       "  <thead>\n",
       "    <tr style=\"text-align: right;\">\n",
       "      <th></th>\n",
       "      <th>species</th>\n",
       "      <th>island</th>\n",
       "      <th>bill_length_mm</th>\n",
       "      <th>bill_depth_mm</th>\n",
       "      <th>flipper_length_mm</th>\n",
       "      <th>body_mass_g</th>\n",
       "      <th>sex</th>\n",
       "    </tr>\n",
       "  </thead>\n",
       "  <tbody>\n",
       "    <tr>\n",
       "      <th>0</th>\n",
       "      <td>Adelie</td>\n",
       "      <td>Torgersen</td>\n",
       "      <td>39.1</td>\n",
       "      <td>18.7</td>\n",
       "      <td>181.0</td>\n",
       "      <td>3750.0</td>\n",
       "      <td>Male</td>\n",
       "    </tr>\n",
       "    <tr>\n",
       "      <th>1</th>\n",
       "      <td>Adelie</td>\n",
       "      <td>Torgersen</td>\n",
       "      <td>39.5</td>\n",
       "      <td>17.4</td>\n",
       "      <td>186.0</td>\n",
       "      <td>3800.0</td>\n",
       "      <td>Female</td>\n",
       "    </tr>\n",
       "    <tr>\n",
       "      <th>2</th>\n",
       "      <td>Adelie</td>\n",
       "      <td>Torgersen</td>\n",
       "      <td>40.3</td>\n",
       "      <td>18.0</td>\n",
       "      <td>195.0</td>\n",
       "      <td>3250.0</td>\n",
       "      <td>Female</td>\n",
       "    </tr>\n",
       "    <tr>\n",
       "      <th>4</th>\n",
       "      <td>Adelie</td>\n",
       "      <td>Torgersen</td>\n",
       "      <td>36.7</td>\n",
       "      <td>19.3</td>\n",
       "      <td>193.0</td>\n",
       "      <td>3450.0</td>\n",
       "      <td>Female</td>\n",
       "    </tr>\n",
       "    <tr>\n",
       "      <th>5</th>\n",
       "      <td>Adelie</td>\n",
       "      <td>Torgersen</td>\n",
       "      <td>39.3</td>\n",
       "      <td>20.6</td>\n",
       "      <td>190.0</td>\n",
       "      <td>3650.0</td>\n",
       "      <td>Male</td>\n",
       "    </tr>\n",
       "    <tr>\n",
       "      <th>...</th>\n",
       "      <td>...</td>\n",
       "      <td>...</td>\n",
       "      <td>...</td>\n",
       "      <td>...</td>\n",
       "      <td>...</td>\n",
       "      <td>...</td>\n",
       "      <td>...</td>\n",
       "    </tr>\n",
       "    <tr>\n",
       "      <th>338</th>\n",
       "      <td>Gentoo</td>\n",
       "      <td>Biscoe</td>\n",
       "      <td>47.2</td>\n",
       "      <td>13.7</td>\n",
       "      <td>214.0</td>\n",
       "      <td>4925.0</td>\n",
       "      <td>Female</td>\n",
       "    </tr>\n",
       "    <tr>\n",
       "      <th>340</th>\n",
       "      <td>Gentoo</td>\n",
       "      <td>Biscoe</td>\n",
       "      <td>46.8</td>\n",
       "      <td>14.3</td>\n",
       "      <td>215.0</td>\n",
       "      <td>4850.0</td>\n",
       "      <td>Female</td>\n",
       "    </tr>\n",
       "    <tr>\n",
       "      <th>341</th>\n",
       "      <td>Gentoo</td>\n",
       "      <td>Biscoe</td>\n",
       "      <td>50.4</td>\n",
       "      <td>15.7</td>\n",
       "      <td>222.0</td>\n",
       "      <td>5750.0</td>\n",
       "      <td>Male</td>\n",
       "    </tr>\n",
       "    <tr>\n",
       "      <th>342</th>\n",
       "      <td>Gentoo</td>\n",
       "      <td>Biscoe</td>\n",
       "      <td>45.2</td>\n",
       "      <td>14.8</td>\n",
       "      <td>212.0</td>\n",
       "      <td>5200.0</td>\n",
       "      <td>Female</td>\n",
       "    </tr>\n",
       "    <tr>\n",
       "      <th>343</th>\n",
       "      <td>Gentoo</td>\n",
       "      <td>Biscoe</td>\n",
       "      <td>49.9</td>\n",
       "      <td>16.1</td>\n",
       "      <td>213.0</td>\n",
       "      <td>5400.0</td>\n",
       "      <td>Male</td>\n",
       "    </tr>\n",
       "  </tbody>\n",
       "</table>\n",
       "<p>340 rows × 7 columns</p>\n",
       "</div>"
      ],
      "text/plain": [
       "    species     island  bill_length_mm  bill_depth_mm  flipper_length_mm  \\\n",
       "0    Adelie  Torgersen            39.1           18.7              181.0   \n",
       "1    Adelie  Torgersen            39.5           17.4              186.0   \n",
       "2    Adelie  Torgersen            40.3           18.0              195.0   \n",
       "4    Adelie  Torgersen            36.7           19.3              193.0   \n",
       "5    Adelie  Torgersen            39.3           20.6              190.0   \n",
       "..      ...        ...             ...            ...                ...   \n",
       "338  Gentoo     Biscoe            47.2           13.7              214.0   \n",
       "340  Gentoo     Biscoe            46.8           14.3              215.0   \n",
       "341  Gentoo     Biscoe            50.4           15.7              222.0   \n",
       "342  Gentoo     Biscoe            45.2           14.8              212.0   \n",
       "343  Gentoo     Biscoe            49.9           16.1              213.0   \n",
       "\n",
       "     body_mass_g     sex  \n",
       "0         3750.0    Male  \n",
       "1         3800.0  Female  \n",
       "2         3250.0  Female  \n",
       "4         3450.0  Female  \n",
       "5         3650.0    Male  \n",
       "..           ...     ...  \n",
       "338       4925.0  Female  \n",
       "340       4850.0  Female  \n",
       "341       5750.0    Male  \n",
       "342       5200.0  Female  \n",
       "343       5400.0    Male  \n",
       "\n",
       "[340 rows x 7 columns]"
      ]
     },
     "execution_count": 12,
     "metadata": {},
     "output_type": "execute_result"
    }
   ],
   "source": [
    "# Remove outliers per each group\n",
    "# Ouliers: exceed the boundaries set by top bound (Q3 + 1.5*IQR) \n",
    "# and lower bound (Q1 - 1.5*IQR)\n",
    "\n",
    "def is_outlier(s):\n",
    "\t# lower_limit = s.mean() - (s.std() * 3)\n",
    "\t# upper_limit = s.mean() + (s.std() * 3)\n",
    "\tIQR = s.quantile(0.75) - s.quantile(0.25)\n",
    "\tlower_limit = s.quantile(0.25) - 1.5*IQR\n",
    "\tupper_limit = s.quantile(0.75) + 1.5*IQR\n",
    "\treturn s.between(lower_limit, upper_limit)\n",
    "\n",
    "df1 = df[df.groupby('species')['body_mass_g'].apply(is_outlier)]\n",
    "df1"
   ]
  },
  {
   "cell_type": "markdown",
   "id": "0a201f5d",
   "metadata": {},
   "source": [
    "### Quick visualisation"
   ]
  },
  {
   "cell_type": "code",
   "execution_count": 13,
   "id": "fd2e22f8",
   "metadata": {},
   "outputs": [
    {
     "data": {
      "text/plain": [
       "<AxesSubplot:ylabel='Species'>"
      ]
     },
     "execution_count": 13,
     "metadata": {},
     "output_type": "execute_result"
    },
    {
     "data": {
      "image/png": "[encoded data removed]",
      "text/plain": [
       "<Figure size 216x216 with 1 Axes>"
      ]
     },
     "metadata": {
      "needs_background": "light"
     },
     "output_type": "display_data"
    },
    {
     "data": {
      "text/plain": [
       "<Figure size 216x216 with 0 Axes>"
      ]
     },
     "metadata": {},
     "output_type": "display_data"
    },
    {
     "data": {
      "image/png": "[encoded data removed]",
      "text/plain": [
       "<Figure size 216x216 with 1 Axes>"
      ]
     },
     "metadata": {
      "needs_background": "light"
     },
     "output_type": "display_data"
    },
    {
     "data": {
      "image/png": "[encoded data removed]",
      "text/plain": [
       "<Figure size 216x216 with 1 Axes>"
      ]
     },
     "metadata": {
      "needs_background": "light"
     },
     "output_type": "display_data"
    },
    {
     "data": {
      "text/plain": [
       "<Figure size 216x216 with 0 Axes>"
      ]
     },
     "metadata": {},
     "output_type": "display_data"
    },
    {
     "data": {
      "image/png": "[encoded data removed]",
      "text/plain": [
       "<Figure size 216x216 with 1 Axes>"
      ]
     },
     "metadata": {
      "needs_background": "light"
     },
     "output_type": "display_data"
    },
    {
     "data": {
      "image/png": "[encoded data removed]",
      "text/plain": [
       "<Figure size 288x288 with 1 Axes>"
      ]
     },
     "metadata": {},
     "output_type": "display_data"
    }
   ],
   "source": [
    "import pandas as pd\n",
    "import matplotlib.pyplot as plt\n",
    "\n",
    "df = pd.DataFrame({\n",
    "\t'Species': ['Setosa', 'Setosa', 'Virginica', 'Setosa', 'Sepal', 'Virginica'], \n",
    "\t'Sepal_length': [10, 11, 50, 70, 12, 51], \n",
    "\t'Sepal_width': [100, 101, 50, 40, 99, 52]\n",
    "})\n",
    "\n",
    "# The plots can be specified either as:\n",
    "# df.plot.scatter(x, y)\n",
    "# or\n",
    "# df.plot(kind='scatter', x, y)\n",
    "df.plot(kind='scatter', x='Sepal_length', y='Sepal_width', figsize=(3,3))\n",
    "\n",
    "# Histogram\n",
    "plt.figure(figsize=(3,3));\n",
    "df.plot(kind='hist', x='Sepal_length', figsize=(3,3))\n",
    "\n",
    "plt.figure(figsize=(3,3));\n",
    "df['Species'].value_counts().plot(kind='barh')\n",
    "\n",
    "# df['Sepal_length'].hist(bins=20)\n",
    "\n",
    "# Density plot\n",
    "plt.figure(figsize=(3,3));\n",
    "df.plot(kind='density', x='Sepal_length', figsize=(3,3))\n",
    "\n",
    "# Quick pie chart - count of entries\n",
    "plt.figure(figsize=(3,3));\n",
    "df['Species'].value_counts().plot(kind='pie', figsize=(4,4), autopct='%1.0f%%')"
   ]
  },
  {
   "cell_type": "markdown",
   "id": "672393e1",
   "metadata": {},
   "source": [
    "## Timeit"
   ]
  },
  {
   "cell_type": "code",
   "execution_count": 2,
   "id": "6daf2d62",
   "metadata": {},
   "outputs": [
    {
     "name": "stdout",
     "output_type": "stream",
     "text": [
      "[0, 1, 2, 3, 4, 5, 6, 7, 8, 9]\n",
      "0.00028059999749530107\n"
     ]
    }
   ],
   "source": [
    "from timeit import default_timer as timer\n",
    "\n",
    "start = timer()\n",
    "mylist = [i for i in range(0, 10)]; print(mylist)\n",
    "stop = timer()\n",
    "print(stop-start)"
   ]
  },
  {
   "cell_type": "markdown",
   "id": "4dadef03",
   "metadata": {},
   "source": [
    "## Collections"
   ]
  },
  {
   "cell_type": "code",
   "execution_count": 1065,
   "id": "d0690ae1",
   "metadata": {},
   "outputs": [
    {
     "name": "stdout",
     "output_type": "stream",
     "text": [
      "dict_items([('a', 4), ('b', 7), ('c', 2)])\n",
      "dict_keys(['a', 'b', 'c'])\n",
      "dict_values([4, 7, 2])\n",
      "[('b', 7), ('a', 4)]\n"
     ]
    }
   ],
   "source": [
    "from collections import Counter\n",
    "from collections import namedtuple\n",
    "\n",
    "a = \"aaaabbbbbbbcc\"\n",
    "mycounter = Counter(a)\n",
    "print(mycounter.items())\n",
    "\n",
    "print(mycounter.keys())\n",
    "print(mycounter.values())\n",
    "\n",
    "print(mycounter.most_common(2)) # find the two most common elements\n"
   ]
  },
  {
   "cell_type": "markdown",
   "id": "4c706c7c",
   "metadata": {},
   "source": [
    "## OS, SYS\n",
    "\n",
    "'Os' module allows us to interact with the OS and the filesystem: \n",
    "- navigate file system\n",
    "- get file information\n",
    "- look up and change the environment variables\n",
    "- move the files around\n",
    "- etc etc.\n",
    "\n",
    "```py\n",
    "import os\n",
    "\n",
    "# Show all attributes and methods of the module\n",
    "dir(os)\n",
    "# Change workdir\n",
    "os.chdir('example_datasets')\n",
    "# Get current dir\n",
    "os.getcwd()\n",
    "# Create/remove dir (not nested)\n",
    "os.mkdir('newdir')\n",
    "os.rmdir('newdir')\n",
    "# Create/remove nested dir\n",
    "os.makedirs('newdir/newdir2/newdir3')\n",
    "os.removedirs('newdir/newdir2/newdir3')\n",
    "# Traverse a chosen dir, showing all child dirs and files\n",
    "for dirpath, dirnames, filenames in os.walk('/Users/evgen/Desktop'):\n",
    "\tprint('Current path:', dirpath)\n",
    "\tprint('Directories:', dirnames)\n",
    "\tprint('Files:', filenames)\n",
    "\tprint('')\n",
    "# Traverse only one dir\n",
    "for dirpath, dirnames, filenames in os.walk('/Users/evgen/Desktop/'):\n",
    "\tif dirpath == '/Users/evgen/Desktop/':\n",
    "\t\tprint('Current path:', dirpath)\n",
    "\t\tprint('Directories:', dirnames)\n",
    "\t\tprint('Files:', filenames)\n",
    "\t\tprint('')\n",
    "\n",
    "# Check if path exists\n",
    "os.path.exists('/tmp/test.txt')\n",
    "\n",
    "# Get current directory without full path\n",
    "os.path.split(os.getcwd())[1]\n",
    "\n",
    "# Print list of files in current dir or a specified path\n",
    "os.listdir()\n",
    "# Rename file\n",
    "os.rename('old_name.txt', 'new_name.txt')\n",
    "# Also, using 'rename', you can move directories\n",
    "os.rename('file.txt', 'Directory/file.txt')\n",
    "\n",
    "# Check info about file\n",
    "os.stat('new_name.txt')\n",
    "# Check the last modified time\n",
    "from datetime import datetime\n",
    "mod_time = os.stat('Python').st_mtime\n",
    "datetime.fromtimestamp(mod_time)\n",
    "\n",
    "# Check if a given string is name of file or dir\n",
    "os.path.isdir('example_datasets')\n",
    "os.path.isfile('example_datasets')\n",
    "\n",
    "#############################################################################################\n",
    "#####   EXAMPLES   ##########################################################################\n",
    "#############################################################################################\n",
    "\n",
    "# In a specified directory, delete all FILES (only files) not in the specified list of files to keep\n",
    "import os\n",
    "\n",
    "os.chdir('example_datasets')\n",
    "files = os.listdir()\n",
    "\n",
    "for i in files:\n",
    "\tif i not in ['items.csv', 'adult-data.csv', 'ETH_1h.csv', 'Finance.tsv', 'IPDS7_hyperrectangles_2.tsv', 'Hypercuboids_data.csv'] and os.path.isfile(i):\n",
    "\t\tos.remove(i)\n",
    "\n",
    "```"
   ]
  },
  {
   "cell_type": "code",
   "execution_count": 14,
   "id": "21d5bd51",
   "metadata": {},
   "outputs": [
    {
     "name": "stdout",
     "output_type": "stream",
     "text": [
      "win32\n",
      "3.10.6 (tags/v3.10.6:9c7b4bd, Aug  1 2022, 21:53:49) [MSC v.1932 64 bit (AMD64)]\n",
      "['C:\\\\Users\\\\evgen\\\\AppData\\\\Local\\\\Packages\\\\PythonSoftwareFoundation.Python.3.10_qbz5n2kfra8p0\\\\LocalCache\\\\local-packages\\\\Python310\\\\site-packages\\\\ipykernel_launcher.py', '--ip=127.0.0.1', '--stdin=9023', '--control=9021', '--hb=9020', '--Session.signature_scheme=\"hmac-sha256\"', '--Session.key=b\"9d705cd3-378b-46a8-8bc5-6262725f96fb\"', '--shell=9022', '--transport=\"tcp\"', '--iopub=9024', '--f=c:\\\\Users\\\\evgen\\\\AppData\\\\Roaming\\\\jupyter\\\\runtime\\\\kernel-v2-4808DSDZcDihFViZ.json']\n",
      "C:\\Users\\evgen\\AppData\\Local\\Microsoft\\WindowsApps\\PythonSoftwareFoundation.Python.3.10_qbz5n2kfra8p0\\python.exe\n"
     ]
    }
   ],
   "source": [
    "import sys\n",
    "\n",
    "# Print string containing a platform identifier\n",
    "print( sys.platform ) # aix, linux, win32, cygwin, darwin (MacOS)\n",
    "\n",
    "# Print a str containing the version number of the python interpreter\n",
    "print( sys.version )\n",
    "\n",
    "# Print a list of command line arguments passed to a python script\n",
    "print( sys.argv )\n",
    "\n",
    "# Print a str which tells you in which file in your file system your python interpreter lies\n",
    "print( sys.executable )\n"
   ]
  },
  {
   "cell_type": "markdown",
   "id": "b2ea3f36",
   "metadata": {},
   "source": [
    "# Frameworks\n",
    "\n",
    "**Framework** is a collection of packages / modules which help in writing web applications in Web Development. \n",
    "\n",
    "<u>Web Dev frameworks</u>:\n",
    "| Name | Description | Features |\n",
    "| - | - | - |\n",
    "| Django | Full-stack fw. | DBs: PostgreSQL, mySQL, SQLite, Oracle |\n",
    "| Flask | Lightweight minimalist micro-fw for small-scale projects. | DBs: SQLAlchemy, MongoAlchemy |\n",
    "| CherryPy | Minimalist | |\n",
    "| web2py | full-stack | doesn't support python2 |\n",
    "| Bottle | Micro-fw | |\n"
   ]
  }
 ],
 "metadata": {
  "kernelspec": {
   "display_name": "Python 3.10.6 64-bit",
   "language": "python",
   "name": "python3"
  },
  "language_info": {
   "codemirror_mode": {
    "name": "ipython",
    "version": 3
   },
   "file_extension": ".py",
   "mimetype": "text/x-python",
   "name": "python",
   "nbconvert_exporter": "python",
   "pygments_lexer": "ipython3",
   "version": "3.10.6"
  },
  "toc-showtags": false,
  "vscode": {
   "interpreter": {
    "hash": "ddfef2dff3b289ad6149ca203ea5c3e5eaf5f756391d68f0c5d6060d3fe964ec"
   }
  }
 },
 "nbformat": 4,
 "nbformat_minor": 5
}
